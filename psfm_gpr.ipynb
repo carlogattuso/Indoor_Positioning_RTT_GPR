{
  "nbformat": 4,
  "nbformat_minor": 0,
  "metadata": {
    "language_info": {
      "codemirror_mode": {
        "name": "ipython",
        "version": 3
      },
      "file_extension": ".py",
      "mimetype": "text/x-python",
      "name": "python",
      "nbconvert_exporter": "python",
      "pygments_lexer": "ipython3",
      "version": "3.8.5"
    },
    "orig_nbformat": 2,
    "kernelspec": {
      "name": "python385jvsc74a57bd0f98536cc3956597c064b43c1952e16cffec84e1e93d3fbaf24310225b0d26010",
      "display_name": "Python 3.8.5 64-bit ('base': conda)"
    },
    "colab": {
      "name": "psfm_gpr.ipynb",
      "provenance": [],
      "toc_visible": true,
      "include_colab_link": true
    }
  },
  "cells": [
    {
      "cell_type": "markdown",
      "metadata": {
        "id": "view-in-github",
        "colab_type": "text"
      },
      "source": [
        "<a href=\"https://colab.research.google.com/github/carlogattuso/Indoor_Positioning_RTT_GPR/blob/master/psfm_gpr.ipynb\" target=\"_parent\"><img src=\"https://colab.research.google.com/assets/colab-badge.svg\" alt=\"Open In Colab\"/></a>"
      ]
    },
    {
      "cell_type": "code",
      "metadata": {
        "id": "m-I0nmWJZghG"
      },
      "source": [
        "################ Library imports ################\n",
        "import numpy as np\n",
        "import math as math\n",
        "from mpl_toolkits.mplot3d import Axes3D\n",
        "import matplotlib.pyplot as plt\n",
        "import scipy.linalg\n",
        "import seaborn as sns\n",
        "import time\n",
        "import glob\n",
        "import pandas as pd\n",
        "\n",
        "import itertools\n",
        "\n",
        "from sklearn.gaussian_process import GaussianProcessRegressor\n",
        "from sklearn.gaussian_process.kernels import RBF, ConstantKernel, WhiteKernel\n",
        "\n",
        "from sklearn.metrics import mean_squared_error, mean_absolute_error\n",
        " \n",
        "from scipy.optimize import curve_fit\n",
        "\n",
        "from IPython.display import display, Markdown, clear_output\n",
        "import ipywidgets as widgets"
      ],
      "execution_count": null,
      "outputs": []
    },
    {
      "cell_type": "code",
      "metadata": {
        "colab": {
          "base_uri": "https://localhost:8080/"
        },
        "id": "xSun_s80ZpwC",
        "outputId": "1f491979-aeb2-4e04-9769-df798cae9104"
      },
      "source": [
        "from google.colab import drive\n",
        "drive.mount('/content/drive')"
      ],
      "execution_count": 8,
      "outputs": [
        {
          "output_type": "stream",
          "text": [
            "Drive already mounted at /content/drive; to attempt to forcibly remount, call drive.mount(\"/content/drive\", force_remount=True).\n"
          ],
          "name": "stdout"
        }
      ]
    },
    {
      "cell_type": "code",
      "metadata": {
        "tags": [],
        "colab": {
          "base_uri": "https://localhost:8080/",
          "height": 511
        },
        "id": "0KNwADj4ZghJ",
        "outputId": "93073fc9-3ed4-47e5-da45-54e3f1dee24a"
      },
      "source": [
        "\"\"\"\n",
        "File reading\n",
        "\"\"\"\n",
        "df = pd.read_csv(\"https://drive.google.com/file/d/19gwdO1uiBRxF73U4ymTpy2T7VsCx6U65/view?usp=sharing\", sep = \",\", index_col=False)"
      ],
      "execution_count": null,
      "outputs": [
        {
          "output_type": "error",
          "ename": "ParserError",
          "evalue": "ignored",
          "traceback": [
            "\u001b[0;31m---------------------------------------------------------------------------\u001b[0m",
            "\u001b[0;31mParserError\u001b[0m                               Traceback (most recent call last)",
            "\u001b[0;32m<ipython-input-7-16cd40dc3fd8>\u001b[0m in \u001b[0;36m<module>\u001b[0;34m()\u001b[0m\n\u001b[1;32m      2\u001b[0m \u001b[0mFile\u001b[0m \u001b[0mreading\u001b[0m\u001b[0;34m\u001b[0m\u001b[0;34m\u001b[0m\u001b[0m\n\u001b[1;32m      3\u001b[0m \"\"\"\n\u001b[0;32m----> 4\u001b[0;31m \u001b[0mdf\u001b[0m \u001b[0;34m=\u001b[0m \u001b[0mpd\u001b[0m\u001b[0;34m.\u001b[0m\u001b[0mread_csv\u001b[0m\u001b[0;34m(\u001b[0m\u001b[0;34m\"https://drive.google.com/file/d/19gwdO1uiBRxF73U4ymTpy2T7VsCx6U65/view?usp=sharing\"\u001b[0m\u001b[0;34m,\u001b[0m \u001b[0msep\u001b[0m \u001b[0;34m=\u001b[0m \u001b[0;34m\",\"\u001b[0m\u001b[0;34m,\u001b[0m \u001b[0mindex_col\u001b[0m\u001b[0;34m=\u001b[0m\u001b[0;32mFalse\u001b[0m\u001b[0;34m)\u001b[0m\u001b[0;34m\u001b[0m\u001b[0;34m\u001b[0m\u001b[0m\n\u001b[0m",
            "\u001b[0;32m/usr/local/lib/python3.7/dist-packages/pandas/io/parsers.py\u001b[0m in \u001b[0;36mread_csv\u001b[0;34m(filepath_or_buffer, sep, delimiter, header, names, index_col, usecols, squeeze, prefix, mangle_dupe_cols, dtype, engine, converters, true_values, false_values, skipinitialspace, skiprows, skipfooter, nrows, na_values, keep_default_na, na_filter, verbose, skip_blank_lines, parse_dates, infer_datetime_format, keep_date_col, date_parser, dayfirst, cache_dates, iterator, chunksize, compression, thousands, decimal, lineterminator, quotechar, quoting, doublequote, escapechar, comment, encoding, dialect, error_bad_lines, warn_bad_lines, delim_whitespace, low_memory, memory_map, float_precision)\u001b[0m\n\u001b[1;32m    686\u001b[0m     )\n\u001b[1;32m    687\u001b[0m \u001b[0;34m\u001b[0m\u001b[0m\n\u001b[0;32m--> 688\u001b[0;31m     \u001b[0;32mreturn\u001b[0m \u001b[0m_read\u001b[0m\u001b[0;34m(\u001b[0m\u001b[0mfilepath_or_buffer\u001b[0m\u001b[0;34m,\u001b[0m \u001b[0mkwds\u001b[0m\u001b[0;34m)\u001b[0m\u001b[0;34m\u001b[0m\u001b[0;34m\u001b[0m\u001b[0m\n\u001b[0m\u001b[1;32m    689\u001b[0m \u001b[0;34m\u001b[0m\u001b[0m\n\u001b[1;32m    690\u001b[0m \u001b[0;34m\u001b[0m\u001b[0m\n",
            "\u001b[0;32m/usr/local/lib/python3.7/dist-packages/pandas/io/parsers.py\u001b[0m in \u001b[0;36m_read\u001b[0;34m(filepath_or_buffer, kwds)\u001b[0m\n\u001b[1;32m    458\u001b[0m \u001b[0;34m\u001b[0m\u001b[0m\n\u001b[1;32m    459\u001b[0m     \u001b[0;32mtry\u001b[0m\u001b[0;34m:\u001b[0m\u001b[0;34m\u001b[0m\u001b[0;34m\u001b[0m\u001b[0m\n\u001b[0;32m--> 460\u001b[0;31m         \u001b[0mdata\u001b[0m \u001b[0;34m=\u001b[0m \u001b[0mparser\u001b[0m\u001b[0;34m.\u001b[0m\u001b[0mread\u001b[0m\u001b[0;34m(\u001b[0m\u001b[0mnrows\u001b[0m\u001b[0;34m)\u001b[0m\u001b[0;34m\u001b[0m\u001b[0;34m\u001b[0m\u001b[0m\n\u001b[0m\u001b[1;32m    461\u001b[0m     \u001b[0;32mfinally\u001b[0m\u001b[0;34m:\u001b[0m\u001b[0;34m\u001b[0m\u001b[0;34m\u001b[0m\u001b[0m\n\u001b[1;32m    462\u001b[0m         \u001b[0mparser\u001b[0m\u001b[0;34m.\u001b[0m\u001b[0mclose\u001b[0m\u001b[0;34m(\u001b[0m\u001b[0;34m)\u001b[0m\u001b[0;34m\u001b[0m\u001b[0;34m\u001b[0m\u001b[0m\n",
            "\u001b[0;32m/usr/local/lib/python3.7/dist-packages/pandas/io/parsers.py\u001b[0m in \u001b[0;36mread\u001b[0;34m(self, nrows)\u001b[0m\n\u001b[1;32m   1196\u001b[0m     \u001b[0;32mdef\u001b[0m \u001b[0mread\u001b[0m\u001b[0;34m(\u001b[0m\u001b[0mself\u001b[0m\u001b[0;34m,\u001b[0m \u001b[0mnrows\u001b[0m\u001b[0;34m=\u001b[0m\u001b[0;32mNone\u001b[0m\u001b[0;34m)\u001b[0m\u001b[0;34m:\u001b[0m\u001b[0;34m\u001b[0m\u001b[0;34m\u001b[0m\u001b[0m\n\u001b[1;32m   1197\u001b[0m         \u001b[0mnrows\u001b[0m \u001b[0;34m=\u001b[0m \u001b[0m_validate_integer\u001b[0m\u001b[0;34m(\u001b[0m\u001b[0;34m\"nrows\"\u001b[0m\u001b[0;34m,\u001b[0m \u001b[0mnrows\u001b[0m\u001b[0;34m)\u001b[0m\u001b[0;34m\u001b[0m\u001b[0;34m\u001b[0m\u001b[0m\n\u001b[0;32m-> 1198\u001b[0;31m         \u001b[0mret\u001b[0m \u001b[0;34m=\u001b[0m \u001b[0mself\u001b[0m\u001b[0;34m.\u001b[0m\u001b[0m_engine\u001b[0m\u001b[0;34m.\u001b[0m\u001b[0mread\u001b[0m\u001b[0;34m(\u001b[0m\u001b[0mnrows\u001b[0m\u001b[0;34m)\u001b[0m\u001b[0;34m\u001b[0m\u001b[0;34m\u001b[0m\u001b[0m\n\u001b[0m\u001b[1;32m   1199\u001b[0m \u001b[0;34m\u001b[0m\u001b[0m\n\u001b[1;32m   1200\u001b[0m         \u001b[0;31m# May alter columns / col_dict\u001b[0m\u001b[0;34m\u001b[0m\u001b[0;34m\u001b[0m\u001b[0;34m\u001b[0m\u001b[0m\n",
            "\u001b[0;32m/usr/local/lib/python3.7/dist-packages/pandas/io/parsers.py\u001b[0m in \u001b[0;36mread\u001b[0;34m(self, nrows)\u001b[0m\n\u001b[1;32m   2155\u001b[0m     \u001b[0;32mdef\u001b[0m \u001b[0mread\u001b[0m\u001b[0;34m(\u001b[0m\u001b[0mself\u001b[0m\u001b[0;34m,\u001b[0m \u001b[0mnrows\u001b[0m\u001b[0;34m=\u001b[0m\u001b[0;32mNone\u001b[0m\u001b[0;34m)\u001b[0m\u001b[0;34m:\u001b[0m\u001b[0;34m\u001b[0m\u001b[0;34m\u001b[0m\u001b[0m\n\u001b[1;32m   2156\u001b[0m         \u001b[0;32mtry\u001b[0m\u001b[0;34m:\u001b[0m\u001b[0;34m\u001b[0m\u001b[0;34m\u001b[0m\u001b[0m\n\u001b[0;32m-> 2157\u001b[0;31m             \u001b[0mdata\u001b[0m \u001b[0;34m=\u001b[0m \u001b[0mself\u001b[0m\u001b[0;34m.\u001b[0m\u001b[0m_reader\u001b[0m\u001b[0;34m.\u001b[0m\u001b[0mread\u001b[0m\u001b[0;34m(\u001b[0m\u001b[0mnrows\u001b[0m\u001b[0;34m)\u001b[0m\u001b[0;34m\u001b[0m\u001b[0;34m\u001b[0m\u001b[0m\n\u001b[0m\u001b[1;32m   2158\u001b[0m         \u001b[0;32mexcept\u001b[0m \u001b[0mStopIteration\u001b[0m\u001b[0;34m:\u001b[0m\u001b[0;34m\u001b[0m\u001b[0;34m\u001b[0m\u001b[0m\n\u001b[1;32m   2159\u001b[0m             \u001b[0;32mif\u001b[0m \u001b[0mself\u001b[0m\u001b[0;34m.\u001b[0m\u001b[0m_first_chunk\u001b[0m\u001b[0;34m:\u001b[0m\u001b[0;34m\u001b[0m\u001b[0;34m\u001b[0m\u001b[0m\n",
            "\u001b[0;32mpandas/_libs/parsers.pyx\u001b[0m in \u001b[0;36mpandas._libs.parsers.TextReader.read\u001b[0;34m()\u001b[0m\n",
            "\u001b[0;32mpandas/_libs/parsers.pyx\u001b[0m in \u001b[0;36mpandas._libs.parsers.TextReader._read_low_memory\u001b[0;34m()\u001b[0m\n",
            "\u001b[0;32mpandas/_libs/parsers.pyx\u001b[0m in \u001b[0;36mpandas._libs.parsers.TextReader._read_rows\u001b[0;34m()\u001b[0m\n",
            "\u001b[0;32mpandas/_libs/parsers.pyx\u001b[0m in \u001b[0;36mpandas._libs.parsers.TextReader._tokenize_rows\u001b[0;34m()\u001b[0m\n",
            "\u001b[0;32mpandas/_libs/parsers.pyx\u001b[0m in \u001b[0;36mpandas._libs.parsers.raise_parser_error\u001b[0;34m()\u001b[0m\n",
            "\u001b[0;31mParserError\u001b[0m: Error tokenizing data. C error: Expected 1 fields in line 6, saw 2\n"
          ]
        }
      ]
    },
    {
      "cell_type": "code",
      "metadata": {
        "id": "kXwGiC1iZghK"
      },
      "source": [
        "\"\"\"\n",
        "Dataset split\n",
        "    - ap_obs --> RTT observations between APs\n",
        "    - vrp_meas --> M \n",
        "\"\"\"\n",
        "ap_obs = df.loc[df['x'].isin(L_ap[:,0]) & df['y'].isin(L_ap[:,1])]\n",
        "print(ap_obs.shape)\n",
        "vrp_meas = df.loc[df['x'].isin(L_vrp[:,0]) & df['y'].isin(L_vrp[:,1])]\n",
        "print(ap_obs.shape)"
      ],
      "execution_count": null,
      "outputs": []
    },
    {
      "cell_type": "code",
      "metadata": {
        "id": "2d3komwBZghL"
      },
      "source": [
        "print(ap_obs.loc[(df['x'] == 0) & (df['y'] == 0)].shape)\n",
        "print(ap_obs.loc[(df['x'] == 4) & (df['y'] == 0)].shape)\n",
        "print(ap_obs.loc[(df['x'] == 8) & (df['y'] == 0)].shape)\n",
        "print(ap_obs.loc[(df['x'] == 0) & (df['y'] == 9.6)].shape)\n",
        "print(ap_obs.loc[(df['x'] == 0) & (df['y'] == 19.2)].shape)\n",
        "print(ap_obs.loc[(df['x'] == 4) & (df['y'] == 19.2)].shape)\n",
        "print(ap_obs.loc[(df['x'] == 8) & (df['y'] == 19.2)].shape)"
      ],
      "execution_count": null,
      "outputs": []
    },
    {
      "cell_type": "code",
      "metadata": {
        "id": "QHAttVdlZghL"
      },
      "source": [
        "print(L_ap[:,0])\n",
        "print(L_ap[:,1])\n",
        "print(L_ap[:,0].shape)\n",
        "print(L_ap[:,1].shape)\n",
        "print(L_vrp[:,0])\n",
        "print(L_vrp[:,1])\n",
        "print(L_vrp[:,0].shape)\n",
        "print(L_vrp[:,1].shape)"
      ],
      "execution_count": null,
      "outputs": []
    },
    {
      "cell_type": "code",
      "metadata": {
        "id": "n7c7p_B-ZghM"
      },
      "source": [
        "ap_obs = df.loc[df['x'].isin(L_ap[:,0])]\n",
        "ap_obs = ap_obs.loc[df['y'].isin(L_ap[:,1])]\n",
        "print(ap_obs.shape)"
      ],
      "execution_count": null,
      "outputs": []
    },
    {
      "cell_type": "code",
      "metadata": {
        "id": "U567qn5BZghM"
      },
      "source": [
        "\"\"\"\n",
        "Scenario definition\n",
        "\"\"\"\n",
        "n_ap = 7\n",
        "\n",
        "height = 8\n",
        "width = 19.2\n",
        "\n",
        "ap_x = 5\n",
        "ap_y = 5\n",
        "\n",
        "locations = np.array(np.meshgrid(np.linspace(0, width, ap_x).round(2), np.linspace(0, height, ap_y).round(2))).T.reshape(-1,2)\n",
        "locations[:, [1, 0]] = locations[:, [0, 1]]\n",
        "\n",
        "# ----------------------------------------------------------------------\n",
        "#  AP locations\n",
        "L_ap = locations[[0,2,4,10,20,22,24],:]\n",
        "print(L_ap)\n",
        "# ----------------------------------------------------------------------\n",
        "#  VRP locations\n",
        "L_vrp = np.delete(locations, [0,2,4,10,20,22,24], 0)\n",
        "\n",
        "# ----------------------------------------------------------------------\n",
        "#  AP Labels & Indexes\n",
        "ap_labels = { '0':'Google Blanco' , '1':'Linksys 1' , '2':'Google Azul' , '3':'Linksys 2' , '4':'Google Rojo' , '5':'Linksys 3',\n",
        "'6':'Google Verde' }\n",
        "ap_indexes = { 'Google Blanco':'0' , 'Linksys 1':'1' , 'Google Azul':'2' , 'Linksys 2':'3' , 'Google Rojo':'4' , 'Linksys 3':'5',\n",
        "'Google Verde':'6' }"
      ],
      "execution_count": null,
      "outputs": []
    },
    {
      "cell_type": "code",
      "metadata": {
        "id": "wPDETSHhZghN"
      },
      "source": [
        "\"\"\"\n",
        "Plot coordinates\n",
        "\"\"\"\n",
        "coordinates = np.array(np.meshgrid(np.linspace(0, 4, 5), np.linspace(0, 4, 5))).T.reshape(-1,2)\n",
        "coordinates[:, [1, 0]] = coordinates[:, [0, 1]]\n",
        "\n",
        "coordinates_ap = coordinates[[0,2,4,10,20,22,24],:]\n",
        "\n",
        "coordinates_vrp = np.delete(coordinates, [0,2,4,10,20,22,24], 0)"
      ],
      "execution_count": null,
      "outputs": []
    },
    {
      "cell_type": "code",
      "metadata": {
        "id": "vk3BoZheZghN"
      },
      "source": [
        "\"\"\"\n",
        "Locations plot\n",
        "\"\"\"\n",
        "\n",
        "plt.figure(figsize=(8,6))\n",
        "\n",
        "plt.scatter(coordinates_ap[:,0], coordinates_ap[:,1], c='b')\n",
        "plt.scatter(coordinates_vrp[:,0], coordinates_vrp[:,1], c='r')\n",
        "\n",
        "plt.legend(labels=['AP','VRP'],loc=\"upper right\",borderaxespad=-5)\n",
        "plt.title('Scenario',pad=20)\n",
        "plt.axis('off')\n",
        "\n",
        "for x,y,z in zip(coordinates[:,0],coordinates[:,1], np.linspace(0, 24, 25).astype(int)):\n",
        "    label = f\"({locations[z,0]},{locations[z,1]})\"\n",
        "\n",
        "    plt.annotate(label, # this is the text\n",
        "                 (x,y), # this is the point to label\n",
        "                 textcoords=\"offset points\", # how to position the text\n",
        "                 xytext=(0,-20), # distance from text to points (x,y)\n",
        "                 ha='center') # horizontal alignment can be left, right or center\n",
        "\n",
        "for x,y,z in zip(coordinates_ap[:,0],coordinates_ap[:,1], np.linspace(0, 6, 7).astype(int)):\n",
        "    label = f\"{ap_labels[str(z)]}\"\n",
        "\n",
        "    plt.annotate(label, # this is the text\n",
        "                 (x,y), # this is the point to label\n",
        "                 textcoords=\"offset points\", # how to position the text\n",
        "                 xytext=(0,10), # distance from text to points (x,y)\n",
        "                 ha='center', # horizontal alignment can be left, right or center\n",
        "                 weight='bold')"
      ],
      "execution_count": null,
      "outputs": []
    },
    {
      "cell_type": "code",
      "metadata": {
        "id": "2LnHO4l-ZghO"
      },
      "source": [
        "\"\"\"\n",
        "Compute Euclidean distance between APs\n",
        "    \n",
        "    array --> Array of AP/VRP locations\n",
        "\"\"\"\n",
        "def compute_euclidean_distance(array):\n",
        "    n = array.shape[0]\n",
        "\n",
        "    d_mat = [np.linalg.norm(i - j) for (i,j) in itertools.product(array, array)]\n",
        "    d_mat = np.array(d_mat).reshape((n, n), order='F')\n",
        "\n",
        "    return d_mat"
      ],
      "execution_count": null,
      "outputs": []
    },
    {
      "cell_type": "code",
      "metadata": {
        "id": "DcMYdFD9ZghO"
      },
      "source": [
        "\"\"\"\n",
        "Target AP to compute algorithm: AP[0,0]\n",
        "\n",
        "Let's assume an euclidean distance as RTT distance observations\n",
        "\"\"\" \n",
        "d_RTT = compute_euclidean_distance(L_ap)"
      ],
      "execution_count": null,
      "outputs": []
    },
    {
      "cell_type": "markdown",
      "metadata": {
        "id": "H_wcEFR5ZghO"
      },
      "source": [
        "##Select one AP to plot RTT distance observations"
      ]
    },
    {
      "cell_type": "code",
      "metadata": {
        "id": "-rSDUgkmZghP"
      },
      "source": [
        "menu = widgets.Dropdown(\n",
        "       options=['Google Blanco', 'Linksys 1', 'Google Azul', 'Linksys 2', 'Google Rojo', 'Linksys 3', 'Google Verde'],\n",
        "       value='Google Blanco',\n",
        "       description='AP:')\n",
        "menu"
      ],
      "execution_count": null,
      "outputs": []
    },
    {
      "cell_type": "code",
      "metadata": {
        "id": "z7LZWoieZghP"
      },
      "source": [
        "plt.figure(figsize=(8,4))\n",
        "\n",
        "plt.scatter(coordinates_ap[:,0], coordinates_ap[:,1], c='b')\n",
        "\n",
        "plt.legend(labels=['AP'],loc=\"upper right\",borderaxespad=-5)\n",
        "plt.title('RTT observations between target AP '+menu.value+' and the others',pad=30)\n",
        "plt.axis('off')\n",
        "\n",
        "for x,y,z in zip(coordinates_ap[:,0], coordinates_ap[:,1], d_RTT[:,int(ap_indexes[menu.value])]):\n",
        "    label = f\"{z.round(2)} m\"\n",
        "\n",
        "    plt.annotate(label, # this is the text\n",
        "                 (x,y), # this is the point to label\n",
        "                 textcoords=\"offset points\", # how to position the text\n",
        "                 xytext=(0,-20), # distance from text to points (x,y)\n",
        "                 ha='center') # horizontal alignment can be left, right or center\n",
        "\n",
        "for x,y,z in zip(coordinates_ap[:,0],coordinates_ap[:,1], np.linspace(0, 7, 8).astype(int)):\n",
        "\n",
        "    label = f\"{ap_labels[str(z)]}\"\n",
        "\n",
        "    plt.annotate(label, # this is the text\n",
        "                 (x,y), # this is the point to label\n",
        "                 textcoords=\"offset points\", # how to position the text\n",
        "                 xytext=(0,10), # distance from text to points (x,y)\n",
        "                 ha='center', # horizontal alignment can be left, right or center\n",
        "                 weight='bold')\n",
        "\n",
        "for x,y,z in zip(coordinates_ap[:,0],coordinates_ap[:,1], np.linspace(0, 6, 7).astype(int)):\n",
        "    label = f\"({L_ap[z,0]},{L_ap[z,1]})\"\n",
        "\n",
        "    plt.annotate(label, # this is the text\n",
        "                 (x,y), # this is the point to label\n",
        "                 textcoords=\"offset points\", # how to position the text\n",
        "                 xytext=(0,-40), # distance from text to points (x,y)\n",
        "                 ha='center',\n",
        "                 weight='bold') # horizontal alignment can be left, right or center"
      ],
      "execution_count": null,
      "outputs": []
    },
    {
      "cell_type": "code",
      "metadata": {
        "id": "594fW_VvZghT"
      },
      "source": [
        "\"\"\"\n",
        "Polynomial Surface model fitting\n",
        "    \n",
        "    loc --> X,Y tuple array of AP locations\n",
        "    d --> AP RTT distance observations\n",
        "    order --> Polinomial order\n",
        "\"\"\"\n",
        "def surface_fit(loc, d, order=1):\n",
        "    if order == 1:\n",
        "        A = np.c_[loc[:,0], loc[:,1], np.ones(loc.shape[0])]\n",
        "        C,_,_,_ = scipy.linalg.lstsq(A, d)\n",
        "    else:\n",
        "        A = np.c_[np.ones(loc.shape[0]), loc[:,:2], np.prod(loc[:,:2], axis=1), loc[:,:2]**2]\n",
        "        C,_,_,_ = scipy.linalg.lstsq(A, d)\n",
        "    return C"
      ],
      "execution_count": null,
      "outputs": []
    },
    {
      "cell_type": "code",
      "metadata": {
        "id": "3g9D2342ZghT"
      },
      "source": [
        "\"\"\"\n",
        "RTT distance estimation\n",
        "    \n",
        "    x --> AP's x locations\n",
        "    y --> AP's y locations\n",
        "    C --> Model coefficients\n",
        "\"\"\"\n",
        "def sample_distance(x, y, C):\n",
        "    \n",
        "    XX = x.flatten()\n",
        "    YY = y.flatten()\n",
        "    \n",
        "    if C.shape[0] == 3:\n",
        "        fit = np.dot(np.c_[XX, YY, np.ones(XX.shape)], C).reshape(x.shape)\n",
        "    else:\n",
        "        fit = np.dot(np.c_[np.ones(XX.shape), XX, YY, XX*YY, XX**2, YY**2], C).reshape(x.shape)\n",
        "    return fit"
      ],
      "execution_count": null,
      "outputs": []
    },
    {
      "cell_type": "code",
      "metadata": {
        "id": "DWosLZ1gZghT"
      },
      "source": [
        "\"\"\"\n",
        "Surface fitting models\n",
        "\"\"\"\n",
        "\n",
        "# Plot domain\n",
        "X,Y = np.meshgrid(np.arange(0.0, 10, 2), np.arange(0.0, 24, 4.8))\n",
        "\n",
        "#Models fitting and surface estimation\n",
        "models_1 = np.array([surface_fit(L_ap, d_RTT[:,i]) for (i) in np.linspace(0, 6, 7).astype(int)])\n",
        "models_2 = np.array([surface_fit(L_ap, d_RTT[:,i],2) for (i) in np.linspace(0, 6, 7).astype(int)])\n",
        "\n",
        "Z_1 = np.array([sample_distance(X, Y, models_1[i]) for (i) in np.linspace(0, 6, 7).astype(int)])\n",
        "Z_2 = np.array([sample_distance(X, Y, models_2[i]) for (i) in np.linspace(0, 6, 7).astype(int)])"
      ],
      "execution_count": null,
      "outputs": []
    },
    {
      "cell_type": "markdown",
      "metadata": {
        "id": "re-bzJ2bZghT"
      },
      "source": [
        "##Select one AP to plot fitting model"
      ]
    },
    {
      "cell_type": "code",
      "metadata": {
        "id": "gNUOftm4ZghU"
      },
      "source": [
        "menu_2 = widgets.Dropdown(\n",
        "       options=['Google Blanco', 'Linksys 1', 'Google Azul', 'Linksys 2', 'Google Rojo', 'Linksys 3', 'Google Verde'],\n",
        "       value='Google Blanco',\n",
        "       description='AP:')\n",
        "menu_2"
      ],
      "execution_count": null,
      "outputs": []
    },
    {
      "cell_type": "code",
      "metadata": {
        "id": "Aasv-J7qZghU"
      },
      "source": [
        "\"\"\"\n",
        "Surface fitting plot\n",
        "\"\"\"\n",
        "fig = plt.figure(figsize=(12,8))\n",
        "\n",
        "ax = fig.gca(projection='3d')\n",
        "\n",
        "l1 = ax.plot_surface(X, Y, Z_1[int(ap_indexes[menu_2.value]),:,:], rstride=1, cstride=1, alpha=0.5, label='linear', color='g')\n",
        "l2 = ax.plot_surface(X, Y, Z_2[int(ap_indexes[menu_2.value]),:,:], rstride=1, cstride=1, alpha=0.5, label='quadratic', color='b')\n",
        "\n",
        "ax.scatter(L_ap[:,0], L_ap[:,1], d_RTT[:,int(ap_indexes[menu_2.value])], c='r', s=50)\n",
        "\n",
        "plt.xlabel('X')\n",
        "plt.ylabel('Y')\n",
        "ax.set_zlabel('m')\n",
        "ax.axis('auto')\n",
        "\n",
        "line_labels = [\"AP locations\",\"Linear\", \"Quadratic\"]\n",
        "\n",
        "ax.plot([0], [0], d_RTT[:,int(ap_indexes[menu_2.value])][0], color=\"red\", marker='o', linewidth=0)[0]\n",
        "ax.plot([0], [0], color=\"green\")[0]\n",
        "ax.plot([0], [0], color=\"blue\")[0]\n",
        "\n",
        "fig.legend(labels=line_labels,loc=\"upper right\",borderaxespad=4)\n",
        "\n",
        "plt.title('AP RTT distance models')\n",
        "plt.show()"
      ],
      "execution_count": null,
      "outputs": []
    },
    {
      "cell_type": "code",
      "metadata": {
        "tags": [],
        "id": "21ZADkuHZghV"
      },
      "source": [
        "\"\"\"\n",
        "Mean RTT distance values at VRPs\n",
        "    _1 --> Order 1 surface fit\n",
        "    _2 --> Order 2 surface fit\n",
        "\"\"\"\n",
        "\n",
        "fit_1 = np.reshape(Z_1, (n_ap, 25, 1))\n",
        "fit_2 = np.reshape(Z_2, (n_ap, 25, 1))\n",
        "\n",
        "# ----------------------------------------------------------------------\n",
        "#  Mean RTT observations between target AP and the rest\n",
        "m_ap_1 = fit_1[:,[0,2,4,10,20,22,24],:]\n",
        "m_ap_2 = fit_2[:,[0,2,4,10,20,22,24], :]\n",
        "vrp_pts = np.delete(np.linspace(0, 24, 25).astype(int), [0,2,4,10,20,22,24], 0)\n",
        "\n",
        "# ----------------------------------------------------------------------\n",
        "#  Mean RTT observations between target AP and VRPs\n",
        "m_vrp_1 = fit_1[:,vrp_pts,:]\n",
        "m_vrp_2 = fit_2[:,vrp_pts,:]"
      ],
      "execution_count": null,
      "outputs": []
    },
    {
      "cell_type": "markdown",
      "metadata": {
        "id": "yF4CQ2nRZghV"
      },
      "source": [
        "##Select one AP to plot RTT Mean distances"
      ]
    },
    {
      "cell_type": "code",
      "metadata": {
        "id": "wudVQ06fZghV"
      },
      "source": [
        "menu_3 = widgets.Dropdown(\n",
        "       options=['Google Blanco', 'Linksys 1', 'Google Azul', 'Linksys 2', 'Google Rojo', 'Linksys 3', 'Google Verde'],\n",
        "       value='Google Blanco',\n",
        "       description='AP:')\n",
        "menu_3"
      ],
      "execution_count": null,
      "outputs": []
    },
    {
      "cell_type": "code",
      "metadata": {
        "id": "QZYKzNGXZghV"
      },
      "source": [
        "\"\"\"\n",
        "Order 1 RTT Mean distance plot\n",
        "\"\"\"\n",
        "plt.figure(figsize=(8,6))\n",
        "\n",
        "plt.scatter(coordinates_ap[:,0], coordinates_ap[:,1], c='b')\n",
        "plt.scatter(coordinates_vrp[:,0], coordinates_vrp[:,1], c='r')\n",
        "\n",
        "plt.legend(labels=['AP','VRP'],loc=\"upper right\",borderaxespad=-8)\n",
        "plt.title('AP '+menu_3.value+': Order 1 Fitting mean RTT distance values',pad=60)\n",
        "plt.axis('off')\n",
        "\n",
        "for x,y,z in zip(coordinates[:,0], coordinates[:,1], np.linspace(0, 24, 25).astype(int)):\n",
        "    label = f\"{sample_distance(locations[z,0], locations[z,1], models_1[int(ap_indexes[menu_3.value])]).round(2)} m\"\n",
        "\n",
        "    plt.annotate(label, # this is the text\n",
        "                 (x,y), # this is the point to label\n",
        "                 textcoords=\"offset points\", # how to position the text\n",
        "                 xytext=(0,-20), # distance from text to points (x,y)\n",
        "                 ha='center') # horizontal alignment can be left, right or center\n",
        "\n",
        "for x,y,z in zip(coordinates[:,0],coordinates[:,1], np.linspace(0, 24, 25).astype(int)):\n",
        "    label = f\"({locations[z,0]},{locations[z,1]})\"\n",
        "\n",
        "    plt.annotate(label, # this is the text\n",
        "                 (x,y), # this is the point to label\n",
        "                 textcoords=\"offset points\", # how to position the text\n",
        "                 xytext=(0,10), # distance from text to points (x,y)\n",
        "                 ha='center',\n",
        "                 weight='bold') # horizontal alignment can be left, right or center\n",
        "\n",
        "for x,y,z in zip(coordinates_ap[:,0],coordinates_ap[:,1], np.linspace(0, 7, 8).astype(int)):\n",
        "\n",
        "    label = f\"{ap_labels[str(z)]}\"\n",
        "\n",
        "    plt.annotate(label, # this is the text\n",
        "                 (x,y), # this is the point to label\n",
        "                 textcoords=\"offset points\", # how to position the text\n",
        "                 xytext=(0,30), # distance from text to points (x,y)\n",
        "                 ha='center', # horizontal alignment can be left, right or center\n",
        "                 weight='bold')"
      ],
      "execution_count": null,
      "outputs": []
    },
    {
      "cell_type": "code",
      "metadata": {
        "id": "rKAbuIt0ZghW"
      },
      "source": [
        "\"\"\"\n",
        "Order 2 RTT Mean distance plot\n",
        "\"\"\"\n",
        "plt.figure(figsize=(8,6))\n",
        "\n",
        "plt.scatter(coordinates_ap[:,0], coordinates_ap[:,1], c='b')\n",
        "plt.scatter(coordinates_vrp[:,0], coordinates_vrp[:,1], c='r')\n",
        "\n",
        "plt.legend(labels=['AP','VRP'],loc=\"upper right\",borderaxespad=-8)\n",
        "plt.title('AP '+menu_3.value+': Order 2 Fitting mean RTT distance values',pad=60)\n",
        "plt.axis('off')\n",
        "\n",
        "for x,y,z in zip(coordinates[:,0], coordinates[:,1], np.linspace(0, 24, 25).astype(int)):\n",
        "    label = f\"{sample_distance(locations[z,0], locations[z,1], models_2[int(ap_indexes[menu_3.value])]).round(2)} m\"\n",
        "\n",
        "    plt.annotate(label, # this is the text\n",
        "                 (x,y), # this is the point to label\n",
        "                 textcoords=\"offset points\", # how to position the text\n",
        "                 xytext=(0,-20), # distance from text to points (x,y)\n",
        "                 ha='center') # horizontal alignment can be left, right or center\n",
        "\n",
        "for x,y,z in zip(coordinates[:,0],coordinates[:,1], np.linspace(0, 24, 25).astype(int)):\n",
        "    label = f\"({locations[z,0]},{locations[z,1]})\"\n",
        "\n",
        "    plt.annotate(label, # this is the text\n",
        "                 (x,y), # this is the point to label\n",
        "                 textcoords=\"offset points\", # how to position the text\n",
        "                 xytext=(0,10), # distance from text to points (x,y)\n",
        "                 ha='center',\n",
        "                 weight='bold') # horizontal alignment can be left, right or center\n",
        "\n",
        "for x,y,z in zip(coordinates_ap[:,0],coordinates_ap[:,1], np.linspace(0, 7, 8).astype(int)):\n",
        "\n",
        "    label = f\"{ap_labels[str(z)]}\"\n",
        "\n",
        "    plt.annotate(label, # this is the text\n",
        "                 (x,y), # this is the point to label\n",
        "                 textcoords=\"offset points\", # how to position the text\n",
        "                 xytext=(0,30), # distance from text to points (x,y)\n",
        "                 ha='center', # horizontal alignment can be left, right or center\n",
        "                 weight='bold')"
      ],
      "execution_count": null,
      "outputs": []
    },
    {
      "cell_type": "code",
      "metadata": {
        "id": "QXhFUU39ZghW"
      },
      "source": [
        "\"\"\"\n",
        "Gaussian Process Kernel definition\n",
        "\n",
        "Kernel parameters:\n",
        "    - L --> Length Scale\n",
        "    - sigma_f --> Constant Kernel Amplitude\n",
        "\"\"\"\n",
        "\n",
        "def kernel_function(x, y, sigma_f=1, l=1):\n",
        "\n",
        "    \"\"\" Squared Exponential kernel function \"\"\"\n",
        "    kernel = sigma_f * np.exp(- (np.linalg.norm(x - y)**2) / (2 * l**2))\n",
        "    return kernel"
      ],
      "execution_count": null,
      "outputs": []
    },
    {
      "cell_type": "code",
      "metadata": {
        "id": "NfFnbKL6ZghW"
      },
      "source": [
        "\"\"\"\n",
        "Hyperparameter optimization of sigma_f and length-scale\n",
        "\n",
        "    loc --> AP locations\n",
        "    mean --> RTT distance observations between APs\n",
        "\"\"\"\n",
        "def gp_fit(loc, mean):\n",
        "    \n",
        "    gp.fit(loc, mean)\n",
        "\n",
        "    l = gp.kernel_.get_params().get('k2__length_scale')\n",
        "    sigma_f = gp.kernel_.get_params().get('k1__constant_value')\n",
        "    return l, sigma_f"
      ],
      "execution_count": null,
      "outputs": []
    },
    {
      "cell_type": "code",
      "metadata": {
        "id": "4hyARn-3ZghX"
      },
      "source": [
        "\"\"\"\n",
        "Gaussian Process Fit using scikit-learn GPR\n",
        "\"\"\"\n",
        "sigma_n = 0.0\n",
        "\n",
        "kernel = ConstantKernel(constant_value=100.0,constant_value_bounds=(1e-3, 1e3)) \\\n",
        "            * RBF(length_scale=10.0, length_scale_bounds=(1e-3, 1e3))\n",
        "\n",
        "gp = GaussianProcessRegressor(kernel=kernel, alpha=sigma_n**2, n_restarts_optimizer=0)\n",
        "\n",
        "hyper_params = np.array([gp_fit(L_ap, d_RTT[:,i]) for (i) in np.linspace(0, 6, 7).astype(int)])\n",
        "print(hyper_params[1])"
      ],
      "execution_count": null,
      "outputs": []
    },
    {
      "cell_type": "code",
      "metadata": {
        "id": "YggLk2YZZghX"
      },
      "source": [
        "def compute_cov_matrices(L_ap, L_vrp, sigma_f=1, l=1):\n",
        "    \"\"\"\n",
        "    Compute components of the covariance matrix of the joint distribution.\n",
        "    \n",
        "    We follow the notation:\n",
        "    \n",
        "        - K = K(L, L) \n",
        "        - K_star = K(L^*, L)\n",
        "        - K_star2 = K(L^*, L^*)\n",
        "    \"\"\"\n",
        "    n = L_ap.shape[0]\n",
        "    n_star = L_vrp.shape[0]\n",
        "\n",
        "    K = [kernel_function(i, j, sigma_f=sigma_f, l=l) for (i, j) in itertools.product(L_ap, L_ap)]\n",
        "\n",
        "    K = np.array(K).reshape(n, n)\n",
        "    \n",
        "    K_star2 = [kernel_function(i, j, sigma_f=sigma_f, l=l) for (i, j) in itertools.product(L_vrp, L_vrp)]\n",
        "\n",
        "    K_star2 = np.array(K_star2).reshape(n_star, n_star)\n",
        "    \n",
        "    K_star = [kernel_function(i, j, sigma_f=sigma_f, l=l) for (i, j) in itertools.product(L_vrp, L_ap)]\n",
        "\n",
        "    K_star = np.array(K_star).reshape(n_star, n)\n",
        "    \n",
        "    return (K, K_star2, K_star)"
      ],
      "execution_count": null,
      "outputs": []
    },
    {
      "cell_type": "code",
      "metadata": {
        "id": "Jqmk2JKaZghX"
      },
      "source": [
        "class Regressor:\n",
        "    '''\n",
        "    Handles the required structures to compute GPR interpolation\n",
        "\n",
        "            Parameters:\n",
        "                    K (ndarray): Covariance matrix between AP locations\n",
        "                    K_star2 (ndarray): Covariance matrix between VRP locations\n",
        "                    K_star (ndarray): Covariance matrix between each AP location and each VRP location\n",
        "                    m_ap (ndarray): Mean RTT distance values at AP locations from fitting model\n",
        "                    m_vrp (ndarray): Mean RTT distance values at VRP locations from fitting model\n",
        "    '''\n",
        "    def __init__(self, _K, _K_star2, _K_star, _m_ap, _m_vrp, _m_ap2, _m_vrp2):\n",
        "        self.K = _K\n",
        "        self.K_star2 = _K_star2\n",
        "        self.K_star = _K_star\n",
        "        self.m_ap = _m_ap\n",
        "        self.m_vrp = _m_vrp\n",
        "        self.m_ap2 = _m_ap2\n",
        "        self.m_vrp2 = _m_vrp2\n"
      ],
      "execution_count": null,
      "outputs": []
    },
    {
      "cell_type": "code",
      "metadata": {
        "id": "ppMwnl6wZghY"
      },
      "source": [
        "\"\"\"\n",
        "Gaussian Process Regressor definition:\n",
        "\n",
        "    - Covariance matrices: K, K_star, K_star2\n",
        "    - Mean distance values: m_ap, m_vrp \n",
        "\"\"\"\n",
        "\n",
        "list = []\n",
        "\n",
        "for i in np.linspace(0, 6, 7).astype(int):\n",
        "    a, b, c = compute_cov_matrices(L_ap, L_vrp, sigma_f=hyper_params[i][1], l=hyper_params[i][0])\n",
        "    gpr = Regressor(a,b,c,m_ap_1[i],m_vrp_1[i],m_ap_2[i],m_vrp_2[i])\n",
        "    list.append(gpr)"
      ],
      "execution_count": null,
      "outputs": []
    },
    {
      "cell_type": "markdown",
      "metadata": {
        "id": "Aj8BYQIlZghY"
      },
      "source": [
        "##Select one AP to view Covariance Matrices"
      ]
    },
    {
      "cell_type": "code",
      "metadata": {
        "id": "hsmgNQ_rZghY"
      },
      "source": [
        "menu_4 = widgets.Dropdown(\n",
        "       options=['Google Blanco', 'Linksys 1', 'Google Azul', 'Linksys 2', 'Google Rojo', 'Linksys 3', 'Google Verde'],\n",
        "       value='Google Blanco',\n",
        "       description='AP:')\n",
        "menu_4"
      ],
      "execution_count": null,
      "outputs": []
    },
    {
      "cell_type": "code",
      "metadata": {
        "id": "b9gYzKuWZghY"
      },
      "source": [
        "\"\"\"\n",
        "Multivariate Joint Distribution: G matrix\n",
        "\"\"\"\n",
        "\n",
        "n = L_ap.shape[0]\n",
        "n_star = L_vrp.shape[0]\n",
        "\n",
        "a = np.concatenate((list[int(ap_indexes[menu_4.value])].K + (sigma_n**2)*np.eye(n), list[int(ap_indexes[menu_4.value])].K_star), axis=0)\n",
        "print(a.shape)\n",
        "b = np.concatenate((list[int(ap_indexes[menu_4.value])].K_star.T, list[int(ap_indexes[menu_4.value])].K_star2), axis=0)\n",
        "print(b.shape)\n",
        "G = np.concatenate((a, b), axis=1)\n",
        "print(G.shape)\n",
        "G.shape == (n + n_star, n + n_star)"
      ],
      "execution_count": null,
      "outputs": []
    },
    {
      "cell_type": "code",
      "metadata": {
        "id": "WqXW8RmUZghZ"
      },
      "source": [
        "\"\"\"\n",
        "Kernel Covariance Matrix K(L,L)\n",
        "\"\"\"\n",
        "fig, ax = plt.subplots(figsize=(10, 8))\n",
        "sns.heatmap(data=list[int(ap_indexes[menu_4.value])].K, cmap='Blues', ax=ax)\n",
        "ax.set(title='AP '+menu_4.value+' : Components of the Kernel Covariance Matrix K(L,L)')"
      ],
      "execution_count": null,
      "outputs": []
    },
    {
      "cell_type": "code",
      "metadata": {
        "id": "PW3VU7wHZghZ"
      },
      "source": [
        "\"\"\"\n",
        "Kernel Covariance Matrix K(L*,L*)\n",
        "\"\"\"\n",
        "fig, ax = plt.subplots(figsize=(10, 8))\n",
        "sns.heatmap(data=list[int(ap_indexes[menu_4.value])].K_star2, cmap='Blues', ax=ax)\n",
        "ax.set(title='AP '+menu_4.value+' : Components of the Kernel Covariance Matrix K(L*,L*)')"
      ],
      "execution_count": null,
      "outputs": []
    },
    {
      "cell_type": "code",
      "metadata": {
        "id": "OQdjGBalZghZ"
      },
      "source": [
        "\"\"\"\n",
        "Kernel Covariance Matrix K(L*,L)\n",
        "\"\"\"\n",
        "fig, ax = plt.subplots(figsize=(10, 8))\n",
        "sns.heatmap(data=list[int(ap_indexes[menu_4.value])].K_star, cmap='Blues', ax=ax)\n",
        "ax.set(title='AP '+menu_4.value+' : Components of the Kernel Covariance Matrix K(L*,L)')"
      ],
      "execution_count": null,
      "outputs": []
    },
    {
      "cell_type": "code",
      "metadata": {
        "id": "c3XAwkGtZghZ"
      },
      "source": [
        "def psfm_gpr_parameters(m, m_star, d, K, K_star2, K_star, sigma_n):\n",
        "    \n",
        "    \"\"\"Compute gaussian regression parameters.\"\"\"\n",
        "\n",
        "    n = K.shape[0]\n",
        "    n_star = K_star.shape[0]\n",
        "    \n",
        "    # Mean.\n",
        "    s_bar_star = (m_star.reshape([n_star, 1]) \n",
        "        + np.dot(K_star, np.dot(np.linalg.inv(K + (sigma_n**2)*np.eye(n)), d.reshape([n, 1]) - m.reshape([n, 1]))))\n",
        "    # Covariance.\n",
        "    cov_s_star = K_star2 - np.dot(K_star, np.dot(np.linalg.inv(K + (sigma_n**2)*np.eye(n)), K_star.T))\n",
        "    \n",
        "    return (s_bar_star.reshape(n_star), cov_s_star)"
      ],
      "execution_count": null,
      "outputs": []
    },
    {
      "cell_type": "code",
      "metadata": {
        "id": "53RpUrnhZgha"
      },
      "source": [
        "def zero_mean_gpr_parameters(d, K, K_star2, K_star, sigma_n):\n",
        "    \n",
        "    \"\"\"Compute gaussian regression parameters.\"\"\"\n",
        "\n",
        "    n = K.shape[0]\n",
        "    n_star = K_star.shape[0]\n",
        "\n",
        "    # Mean.\n",
        "    s_bar_star = np.dot(K_star, np.dot(np.linalg.inv(K + (sigma_n**2)*np.eye(n)), d.reshape([n, 1])))\n",
        "    # Covariance.\n",
        "    cov_s_star = K_star2 - np.dot(K_star, np.dot(np.linalg.inv(K + (sigma_n**2)*np.eye(n)), K_star.T))\n",
        "    \n",
        "    return (s_bar_star.reshape(n_star), cov_s_star)"
      ],
      "execution_count": null,
      "outputs": []
    },
    {
      "cell_type": "code",
      "metadata": {
        "id": "2rF2TDRwZgha"
      },
      "source": [
        "\"\"\"\n",
        "Zero-Mean Gaussian Process interpolations\n",
        "\"\"\"\n",
        "n = L_ap.shape[0]\n",
        "n_star = L_vrp.shape[0]\n",
        "\n",
        "means = np.empty((n, n_star, 1))\n",
        "variances = np.empty((n, n_star, 1))\n",
        "\n",
        "for i in np.linspace(0, 6, 7).astype(int):\n",
        "\n",
        "    s_bar_star, cov_s_star = zero_mean_gpr_parameters(d_RTT[:,i], list[i].K, list[i].K_star2, list[i].K_star, sigma_n)\n",
        "    var_s_star = np.diag(cov_s_star)\n",
        "\n",
        "    means[i,:,:] = s_bar_star.reshape(n_star,1)\n",
        "    variances[i,:,:] = var_s_star.reshape(n_star,1)"
      ],
      "execution_count": null,
      "outputs": []
    },
    {
      "cell_type": "code",
      "metadata": {
        "id": "_UlR4uNbZgha"
      },
      "source": [
        "\"\"\"\n",
        "Order 1 PSFM Gaussian Process interpolations\n",
        "\"\"\"\n",
        "means_psfm = np.empty((n, n_star, 1))\n",
        "\n",
        "for i in np.linspace(0, 6, 7).astype(int):\n",
        "    s_bar_star, cov_s_star = psfm_gpr_parameters(list[i].m_ap,list[i].m_vrp, d_RTT[:,i], list[i].K, list[i].K_star2, list[i].K_star, sigma_n)\n",
        "    means_psfm[i,:,:] = s_bar_star.reshape(n_star,1)"
      ],
      "execution_count": null,
      "outputs": []
    },
    {
      "cell_type": "code",
      "metadata": {
        "id": "7ldsijZxZgha"
      },
      "source": [
        "\"\"\"\n",
        "Order 2 PSFM Gaussian Process interpolations\n",
        "\"\"\"\n",
        "means_psfm2 = np.empty((n, n_star, 1))\n",
        "\n",
        "for i in np.linspace(0, 6, 7).astype(int):\n",
        "    s_bar_star, cov_s_star = psfm_gpr_parameters(list[i].m_ap2,list[i].m_vrp2, d_RTT[:,i], list[i].K, list[i].K_star2, list[i].K_star, sigma_n)\n",
        "    means_psfm2[i,:,:] = s_bar_star.reshape(n_star,1)"
      ],
      "execution_count": null,
      "outputs": []
    },
    {
      "cell_type": "markdown",
      "metadata": {
        "id": "--YfNHMQZgha"
      },
      "source": [
        "##Select one AP to plot Gaussian Process Interpolations"
      ]
    },
    {
      "cell_type": "code",
      "metadata": {
        "id": "EPi0v1RCZghb"
      },
      "source": [
        "menu_5 = widgets.Dropdown(\n",
        "       options=['Google Blanco', 'Linksys 1', 'Google Azul', 'Linksys 2', 'Google Rojo', 'Linksys 3', 'Google Verde'],\n",
        "       value='Google Blanco',\n",
        "       description='AP:')\n",
        "menu_5"
      ],
      "execution_count": null,
      "outputs": []
    },
    {
      "cell_type": "code",
      "metadata": {
        "id": "OZDtEH6HZghb"
      },
      "source": [
        "\"\"\"\n",
        "Zero Mean Gaussian Process interpolation:\n",
        "    \n",
        "    s_bar_star --> Mean estimated value for each VRP\n",
        "    cov_s_star --> Posterior covariance matrix\n",
        "    var_s_star --> VRP estimation variance\n",
        "\"\"\"\n",
        "\n",
        "plt.figure(figsize=(9,6))\n",
        "\n",
        "plt.scatter(coordinates_ap[:,0], coordinates_ap[:,1], c='b')\n",
        "plt.scatter(coordinates_vrp[:,0], coordinates_vrp[:,1], c='r')\n",
        "\n",
        "plt.legend(labels=['AP','VRP'],loc=\"upper right\",borderaxespad=-8)\n",
        "plt.title('AP '+menu_5.value+' : Zero Mean Gaussian Process interpolation',pad=60)\n",
        "plt.axis('off')\n",
        "\n",
        "for x,y,z in zip(coordinates_ap[:,0], coordinates_ap[:,1], d_RTT[:,int(ap_indexes[menu_5.value])]):\n",
        "    label = f\"{z.round(2)} m\"\n",
        "\n",
        "    plt.annotate(label, # this is the text\n",
        "                 (x,y), # this is the point to label\n",
        "                 textcoords=\"offset points\", # how to position the text\n",
        "                 xytext=(0,-20), # distance from text to points (x,y)\n",
        "                 ha='center') # horizontal alignment can be left, right or center\n",
        "\n",
        "for x in range(len(means[int(ap_indexes[menu_5.value])])):\n",
        "    label = f\"{means[int(ap_indexes[menu_5.value])][x,0].round(5)} +- {variances[int(ap_indexes[menu_5.value])][x,0].round(3)} m\"\n",
        "\n",
        "    plt.annotate(label, # this is the text\n",
        "                 (coordinates_vrp[x,0],coordinates_vrp[x,1]), # this is the point to label\n",
        "                 textcoords=\"offset points\", # how to position the text\n",
        "                 xytext=(0,-20), # distance from text to points (x,y)\n",
        "                 ha='center') # horizontal alignment can be left, right or center\n",
        "\n",
        "for x,y,z in zip(coordinates_ap[:,0],coordinates_ap[:,1], np.linspace(0, 7, 8).astype(int)):\n",
        "\n",
        "    label = f\"{ap_labels[str(z)]}\"\n",
        "\n",
        "    plt.annotate(label, # this is the text\n",
        "                 (x,y), # this is the point to label\n",
        "                 textcoords=\"offset points\", # how to position the text\n",
        "                 xytext=(0,30), # distance from text to points (x,y)\n",
        "                 ha='center', # horizontal alignment can be left, right or center\n",
        "                 weight='bold')\n",
        "\n",
        "for x,y,z in zip(coordinates[:,0],coordinates[:,1], np.linspace(0, 24, 25).astype(int)):\n",
        "    label = f\"({locations[z,0]},{locations[z,1]})\"\n",
        "\n",
        "    plt.annotate(label, # this is the text\n",
        "                 (x,y), # this is the point to label\n",
        "                 textcoords=\"offset points\", # how to position the text\n",
        "                 xytext=(0,10), # distance from text to points (x,y)\n",
        "                 ha='center',\n",
        "                 weight='bold') # horizontal alignment can be left, right or center"
      ],
      "execution_count": null,
      "outputs": []
    },
    {
      "cell_type": "code",
      "metadata": {
        "id": "hy3TtsrvZghb"
      },
      "source": [
        "\"\"\"\n",
        "First Order PSFM Gaussian Process interpolation:\n",
        "    \n",
        "    s_bar_star --> Mean estimated value for each VRP\n",
        "    cov_s_star --> Posterior covariance matrix\n",
        "    var_s_star --> VRP estimation variance\n",
        "\"\"\"\n",
        "\n",
        "plt.figure(figsize=(9,6))\n",
        "\n",
        "plt.scatter(coordinates_ap[:,0], coordinates_ap[:,1], c='b')\n",
        "plt.scatter(coordinates_vrp[:,0], coordinates_vrp[:,1], c='r')\n",
        "\n",
        "plt.legend(labels=['AP','VRP'],loc=\"upper right\",borderaxespad=-8)\n",
        "plt.title('AP '+menu_5.value+' : First Order PSFM Gaussian Process interpolation',pad=60)\n",
        "plt.axis('off')\n",
        "\n",
        "for x,y,z in zip(coordinates_ap[:,0], coordinates_ap[:,1], d_RTT[:,int(ap_indexes[menu_5.value])]):\n",
        "    label = f\"{z.round(2)} m\"\n",
        "\n",
        "    plt.annotate(label, # this is the text\n",
        "                 (x,y), # this is the point to label\n",
        "                 textcoords=\"offset points\", # how to position the text\n",
        "                 xytext=(0,-20), # distance from text to points (x,y)\n",
        "                 ha='center') # horizontal alignment can be left, right or center\n",
        "\n",
        "for x in range(len(means_psfm[int(ap_indexes[menu_5.value])])):\n",
        "    label = f\"{means_psfm[int(ap_indexes[menu_5.value])][x,0].round(5)} +- {variances[int(ap_indexes[menu_5.value])][x,0].round(3)} m\"\n",
        "\n",
        "    plt.annotate(label, # this is the text\n",
        "                 (coordinates_vrp[x,0],coordinates_vrp[x,1]), # this is the point to label\n",
        "                 textcoords=\"offset points\", # how to position the text\n",
        "                 xytext=(0,-20), # distance from text to points (x,y)\n",
        "                 ha='center') # horizontal alignment can be left, right or center\n",
        "\n",
        "for x,y,z in zip(coordinates_ap[:,0],coordinates_ap[:,1], np.linspace(0, 7, 8).astype(int)):\n",
        "\n",
        "    label = f\"{ap_labels[str(z)]}\"\n",
        "\n",
        "    plt.annotate(label, # this is the text\n",
        "                 (x,y), # this is the point to label\n",
        "                 textcoords=\"offset points\", # how to position the text\n",
        "                 xytext=(0,30), # distance from text to points (x,y)\n",
        "                 ha='center', # horizontal alignment can be left, right or center\n",
        "                 weight='bold')\n",
        "\n",
        "for x,y,z in zip(coordinates[:,0],coordinates[:,1], np.linspace(0, 24, 25).astype(int)):\n",
        "    label = f\"({locations[z,0]},{locations[z,1]})\"\n",
        "\n",
        "    plt.annotate(label, # this is the text\n",
        "                 (x,y), # this is the point to label\n",
        "                 textcoords=\"offset points\", # how to position the text\n",
        "                 xytext=(0,10), # distance from text to points (x,y)\n",
        "                 ha='center',\n",
        "                 weight='bold') # horizontal alignment can be left, right or center"
      ],
      "execution_count": null,
      "outputs": []
    },
    {
      "cell_type": "code",
      "metadata": {
        "id": "-r46O6HfZghb"
      },
      "source": [
        "\"\"\"\n",
        "Second Order PSFM Gaussian Process interpolation:\n",
        "    \n",
        "    s_bar_star --> Mean estimated value for each VRP\n",
        "    cov_s_star --> Posterior covariance matrix\n",
        "    var_s_star --> VRP estimation variance\n",
        "\"\"\"\n",
        "\n",
        "plt.figure(figsize=(9,6))\n",
        "\n",
        "plt.scatter(coordinates_ap[:,0], coordinates_ap[:,1], c='b')\n",
        "plt.scatter(coordinates_vrp[:,0], coordinates_vrp[:,1], c='r')\n",
        "\n",
        "plt.legend(labels=['AP','VRP'],loc=\"upper right\",borderaxespad=-8)\n",
        "plt.title('AP '+menu_5.value+' : Second Order PSFM Gaussian Process interpolation',pad=60)\n",
        "plt.axis('off')\n",
        "\n",
        "for x,y,z in zip(coordinates_ap[:,0], coordinates_ap[:,1], d_RTT[:,int(ap_indexes[menu_5.value])]):\n",
        "    label = f\"{z.round(2)} m\"\n",
        "\n",
        "    plt.annotate(label, # this is the text\n",
        "                 (x,y), # this is the point to label\n",
        "                 textcoords=\"offset points\", # how to position the text\n",
        "                 xytext=(0,-20), # distance from text to points (x,y)\n",
        "                 ha='center') # horizontal alignment can be left, right or center\n",
        "\n",
        "for x in range(len(means_psfm2[int(ap_indexes[menu_5.value])])):\n",
        "    label = f\"{means_psfm2[int(ap_indexes[menu_5.value])][x,0].round(5)} +- {variances[int(ap_indexes[menu_5.value])][x,0].round(3)} m\"\n",
        "\n",
        "    plt.annotate(label, # this is the text\n",
        "                 (coordinates_vrp[x,0],coordinates_vrp[x,1]), # this is the point to label\n",
        "                 textcoords=\"offset points\", # how to position the text\n",
        "                 xytext=(0,-20), # distance from text to points (x,y)\n",
        "                 ha='center') # horizontal alignment can be left, right or center\n",
        "\n",
        "for x,y,z in zip(coordinates_ap[:,0],coordinates_ap[:,1], np.linspace(0, 7, 8).astype(int)):\n",
        "\n",
        "    label = f\"{ap_labels[str(z)]}\"\n",
        "\n",
        "    plt.annotate(label, # this is the text\n",
        "                 (x,y), # this is the point to label\n",
        "                 textcoords=\"offset points\", # how to position the text\n",
        "                 xytext=(0,30), # distance from text to points (x,y)\n",
        "                 ha='center', # horizontal alignment can be left, right or center\n",
        "                 weight='bold')\n",
        "\n",
        "for x,y,z in zip(coordinates[:,0],coordinates[:,1], np.linspace(0, 24, 25).astype(int)):\n",
        "    label = f\"({locations[z,0]},{locations[z,1]})\"\n",
        "\n",
        "    plt.annotate(label, # this is the text\n",
        "                 (x,y), # this is the point to label\n",
        "                 textcoords=\"offset points\", # how to position the text\n",
        "                 xytext=(0,10), # distance from text to points (x,y)\n",
        "                 ha='center',\n",
        "                 weight='bold') # horizontal alignment can be left, right or center"
      ],
      "execution_count": null,
      "outputs": []
    },
    {
      "cell_type": "code",
      "metadata": {
        "id": "ymx1N8PWZghc"
      },
      "source": [
        "\"\"\"\n",
        "Zero Mean GPR Fingerprinting Database plot\n",
        "\"\"\"\n",
        "\n",
        "plt.figure(figsize=(12,16))\n",
        "\n",
        "plt.scatter(coordinates_ap[:,0], coordinates_ap[:,1], c='b')\n",
        "plt.scatter(coordinates_vrp[:,0], coordinates_vrp[:,1], c='r')\n",
        "\n",
        "plt.legend(labels=['AP','VRP'],loc=\"upper right\",borderaxespad=-8)\n",
        "plt.title('Zero Mean GPR Fingerprinting Database plot',pad=60)\n",
        "plt.axis('off')\n",
        "\n",
        "for x in range(len(d_RTT[:,0])):\n",
        "    for y in range(len(d_RTT[:,0])):\n",
        "        label = f\"AP {y}: {d_RTT[x,y].round(3)} m\"\n",
        "\n",
        "        plt.annotate(label, # this is the text\n",
        "                    (coordinates_ap[x,0],coordinates_ap[x,1]), # this is the point to label\n",
        "                    textcoords=\"offset points\", # how to position the text\n",
        "                    xytext=(0,-20-y*20), # distance from text to points (x,y)\n",
        "                    ha='center') # horizontal alignment can be left, right or center\n",
        "\n",
        "for x in range(len(means[0])):\n",
        "    for y in range(len(d_RTT[:,0])):\n",
        "        label = f\"AP {y}: {means[:,x,:][y,0].round(3)} +- {variances[:,x,:][y,0].round(3)} m\"\n",
        "\n",
        "        plt.annotate(label, # this is the text\n",
        "                    (coordinates_vrp[x,0],coordinates_vrp[x,1]), # this is the point to label\n",
        "                    textcoords=\"offset points\", # how to position the text\n",
        "                    xytext=(0,-20-y*20), # distance from text to points (x,y)\n",
        "                    ha='center') # horizontal alignment can be left, right or center\n",
        "\n",
        "\n",
        "for x,y,z in zip(coordinates_ap[:,0],coordinates_ap[:,1], np.linspace(0, 7, 8).astype(int)):\n",
        "\n",
        "    label = f\"{ap_labels[str(z)]}\"\n",
        "\n",
        "    plt.annotate(label, # this is the text\n",
        "                 (x,y), # this is the point to label\n",
        "                 textcoords=\"offset points\", # how to position the text\n",
        "                 xytext=(0,30), # distance from text to points (x,y)\n",
        "                 ha='center', # horizontal alignment can be left, right or center\n",
        "                 weight='bold')\n",
        "\n",
        "\n",
        "for x,y,z in zip(coordinates[:,0],coordinates[:,1], np.linspace(0, 24, 25).astype(int)):\n",
        "    label = f\"({locations[z,0]},{locations[z,1]})\"\n",
        "\n",
        "    plt.annotate(label, # this is the text\n",
        "                 (x,y), # this is the point to label\n",
        "                 textcoords=\"offset points\", # how to position the text\n",
        "                 xytext=(0,10), # distance from text to points (x,y)\n",
        "                 ha='center',\n",
        "                 weight='bold') # horizontal alignment can be left, right or center"
      ],
      "execution_count": null,
      "outputs": []
    },
    {
      "cell_type": "code",
      "metadata": {
        "id": "UFnYD3RnZghc"
      },
      "source": [
        "\"\"\"\n",
        "Order 1 PSFM GPR Fingerprinting Database plot\n",
        "\"\"\"\n",
        "\n",
        "plt.figure(figsize=(12,16))\n",
        "\n",
        "plt.scatter(coordinates_ap[:,0], coordinates_ap[:,1], c='b')\n",
        "plt.scatter(coordinates_vrp[:,0], coordinates_vrp[:,1], c='r')\n",
        "\n",
        "plt.legend(labels=['AP','VRP'],loc=\"upper right\",borderaxespad=-8)\n",
        "plt.title('Order 1 PSFM GPR Fingerprinting Database plot',pad=60)\n",
        "plt.axis('off')\n",
        "\n",
        "for x in range(len(d_RTT[:,0])):\n",
        "    for y in range(len(d_RTT[:,0])):\n",
        "        label = f\"AP {y}: {d_RTT[x,y].round(3)} m\"\n",
        "\n",
        "        plt.annotate(label, # this is the text\n",
        "                    (coordinates_ap[x,0],coordinates_ap[x,1]), # this is the point to label\n",
        "                    textcoords=\"offset points\", # how to position the text\n",
        "                    xytext=(0,-20-y*20), # distance from text to points (x,y)\n",
        "                    ha='center') # horizontal alignment can be left, right or center\n",
        "\n",
        "for x in range(len(means_psfm[0])):\n",
        "    for y in range(len(d_RTT[:,0])):\n",
        "        label = f\"AP {y}: {means_psfm[:,x,:][y,0].round(3)} +- {variances[:,x,:][y,0].round(3)} m\"\n",
        "\n",
        "        plt.annotate(label, # this is the text\n",
        "                    (coordinates_vrp[x,0],coordinates_vrp[x,1]), # this is the point to label\n",
        "                    textcoords=\"offset points\", # how to position the text\n",
        "                    xytext=(0,-20-y*20), # distance from text to points (x,y)\n",
        "                    ha='center') # horizontal alignment can be left, right or center\n",
        "\n",
        "for x,y,z in zip(coordinates_ap[:,0],coordinates_ap[:,1], np.linspace(0, 7, 8).astype(int)):\n",
        "\n",
        "    label = f\"{ap_labels[str(z)]}\"\n",
        "\n",
        "    plt.annotate(label, # this is the text\n",
        "                 (x,y), # this is the point to label\n",
        "                 textcoords=\"offset points\", # how to position the text\n",
        "                 xytext=(0,30), # distance from text to points (x,y)\n",
        "                 ha='center', # horizontal alignment can be left, right or center\n",
        "                 weight='bold')\n",
        "\n",
        "for x,y,z in zip(coordinates[:,0],coordinates[:,1], np.linspace(0, 24, 25).astype(int)):\n",
        "    label = f\"({locations[z,0]},{locations[z,1]})\"\n",
        "\n",
        "    plt.annotate(label, # this is the text\n",
        "                 (x,y), # this is the point to label\n",
        "                 textcoords=\"offset points\", # how to position the text\n",
        "                 xytext=(0,10), # distance from text to points (x,y)\n",
        "                 ha='center',\n",
        "                 weight='bold') # horizontal alignment can be left, right or center"
      ],
      "execution_count": null,
      "outputs": []
    },
    {
      "cell_type": "code",
      "metadata": {
        "id": "TqaW_O_dZghd"
      },
      "source": [
        "\"\"\"\n",
        "Order 2 PSFM GPR Fingerprinting Database plot\n",
        "\"\"\"\n",
        "\n",
        "plt.figure(figsize=(12,16))\n",
        "\n",
        "plt.scatter(coordinates_ap[:,0], coordinates_ap[:,1], c='b')\n",
        "plt.scatter(coordinates_vrp[:,0], coordinates_vrp[:,1], c='r')\n",
        "\n",
        "plt.legend(labels=['AP','VRP'],loc=\"upper right\",borderaxespad=-8)\n",
        "plt.title('Order 2 PSFM GPR Fingerprinting Database plot',pad=60)\n",
        "plt.axis('off')\n",
        "\n",
        "for x in range(len(d_RTT[:,0])):\n",
        "    for y in range(len(d_RTT[:,0])):\n",
        "        label = f\"AP {y}: {d_RTT[x,y].round(3)} m\"\n",
        "\n",
        "        plt.annotate(label, # this is the text\n",
        "                    (coordinates_ap[x,0],coordinates_ap[x,1]), # this is the point to label\n",
        "                    textcoords=\"offset points\", # how to position the text\n",
        "                    xytext=(0,-20-y*20), # distance from text to points (x,y)\n",
        "                    ha='center') # horizontal alignment can be left, right or center\n",
        "\n",
        "for x in range(len(means_psfm[0])):\n",
        "    for y in range(len(d_RTT[:,0])):\n",
        "        label = f\"AP {y}: {means_psfm[:,x,:][y,0].round(3)} +- {variances[:,x,:][y,0].round(3)} m\"\n",
        "\n",
        "        plt.annotate(label, # this is the text\n",
        "                    (coordinates_vrp[x,0],coordinates_vrp[x,1]), # this is the point to label\n",
        "                    textcoords=\"offset points\", # how to position the text\n",
        "                    xytext=(0,-20-y*20), # distance from text to points (x,y)\n",
        "                    ha='center') # horizontal alignment can be left, right or center\n",
        "\n",
        "for x,y,z in zip(coordinates_ap[:,0],coordinates_ap[:,1], np.linspace(0, 7, 8).astype(int)):\n",
        "\n",
        "    label = f\"{ap_labels[str(z)]}\"\n",
        "\n",
        "    plt.annotate(label, # this is the text\n",
        "                 (x,y), # this is the point to label\n",
        "                 textcoords=\"offset points\", # how to position the text\n",
        "                 xytext=(0,30), # distance from text to points (x,y)\n",
        "                 ha='center', # horizontal alignment can be left, right or center\n",
        "                 weight='bold')\n",
        "\n",
        "for x,y,z in zip(coordinates[:,0],coordinates[:,1], np.linspace(0, 24, 25).astype(int)):\n",
        "    label = f\"({locations[z,0]},{locations[z,1]})\"\n",
        "\n",
        "    plt.annotate(label, # this is the text\n",
        "                 (x,y), # this is the point to label\n",
        "                 textcoords=\"offset points\", # how to position the text\n",
        "                 xytext=(0,10), # distance from text to points (x,y)\n",
        "                 ha='center',\n",
        "                 weight='bold') # horizontal alignment can be left, right or center"
      ],
      "execution_count": null,
      "outputs": []
    }
  ]
}