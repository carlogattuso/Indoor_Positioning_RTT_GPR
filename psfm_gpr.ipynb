{
  "nbformat": 4,
  "nbformat_minor": 0,
  "metadata": {
    "language_info": {
      "codemirror_mode": {
        "name": "ipython",
        "version": 3
      },
      "file_extension": ".py",
      "mimetype": "text/x-python",
      "name": "python",
      "nbconvert_exporter": "python",
      "pygments_lexer": "ipython3",
      "version": "3.8.5"
    },
    "orig_nbformat": 2,
    "kernelspec": {
      "name": "python385jvsc74a57bd0f98536cc3956597c064b43c1952e16cffec84e1e93d3fbaf24310225b0d26010",
      "display_name": "Python 3.8.5 64-bit ('base': conda)"
    },
    "colab": {
      "name": "psfm_gpr.ipynb",
      "provenance": [],
      "collapsed_sections": [
        "Rpib8BYUevWb",
        "m7YUvbpjm8XI",
        "AZ4vLMC6nb2i",
        "ycVR51XD-SRo",
        "7gaNqfQCmW4P",
        "SQvSbCAJwpZ4",
        "7TxsAYnNWoEL",
        "LEXo59pJbLaQ",
        "Aj8BYQIlZghY",
        "--YfNHMQZgha"
      ],
      "toc_visible": true,
      "include_colab_link": true
    }
  },
  "cells": [
    {
      "cell_type": "markdown",
      "metadata": {
        "id": "view-in-github",
        "colab_type": "text"
      },
      "source": [
        "<a href=\"https://colab.research.google.com/github/carlogattuso/Indoor_Positioning_RTT_GPR/blob/master/psfm_gpr.ipynb\" target=\"_parent\"><img src=\"https://colab.research.google.com/assets/colab-badge.svg\" alt=\"Open In Colab\"/></a>"
      ]
    },
    {
      "cell_type": "code",
      "metadata": {
        "id": "m-I0nmWJZghG"
      },
      "source": [
        "################ Library imports ################\n",
        "import numpy as np\n",
        "import math as math\n",
        "from mpl_toolkits.mplot3d import Axes3D\n",
        "import matplotlib.pyplot as plt\n",
        "import scipy.linalg\n",
        "import seaborn as sns\n",
        "import time\n",
        "import glob\n",
        "import pandas as pd\n",
        "\n",
        "import itertools\n",
        "\n",
        "from sklearn.gaussian_process import GaussianProcessRegressor\n",
        "from sklearn.gaussian_process.kernels import RBF, ConstantKernel, WhiteKernel\n",
        "\n",
        "from sklearn.metrics import mean_squared_error, mean_absolute_error\n",
        " \n",
        "from scipy.optimize import curve_fit\n",
        "\n",
        "from IPython.display import display, Markdown, clear_output\n",
        "import ipywidgets as widgets"
      ],
      "execution_count": 238,
      "outputs": []
    },
    {
      "cell_type": "code",
      "metadata": {
        "colab": {
          "base_uri": "https://localhost:8080/"
        },
        "id": "xSun_s80ZpwC",
        "outputId": "d09c7f6b-10a7-478c-bdc2-383a6d5d4c87"
      },
      "source": [
        "from google.colab import drive\n",
        "drive.mount('/content/drive', force_remount=True)"
      ],
      "execution_count": 239,
      "outputs": [
        {
          "output_type": "stream",
          "text": [
            "Mounted at /content/drive\n"
          ],
          "name": "stdout"
        }
      ]
    },
    {
      "cell_type": "code",
      "metadata": {
        "tags": [],
        "id": "0KNwADj4ZghJ"
      },
      "source": [
        "\"\"\"\n",
        "File reading\n",
        "\"\"\"\n",
        "df = pd.read_csv('/content/drive/MyDrive/GPR/data/Meas_Sala_Actos/SalaActos_todosRPandAPs.csv', sep = \",\", index_col=False)"
      ],
      "execution_count": 240,
      "outputs": []
    },
    {
      "cell_type": "markdown",
      "metadata": {
        "id": "Rpib8BYUevWb"
      },
      "source": [
        "#Scenario definition"
      ]
    },
    {
      "cell_type": "markdown",
      "metadata": {
        "id": "m7YUvbpjm8XI"
      },
      "source": [
        "##AP class definition\n",
        "\n",
        "### Handles the required parameters for each AP\n",
        "\n",
        "####Parameters:\n",
        "\n",
        "*   name (string)\n",
        "*   x (number)\n",
        "*   y (number)\n",
        "*   point (number)\n"
      ]
    },
    {
      "cell_type": "code",
      "metadata": {
        "id": "1dO9s7oummKv"
      },
      "source": [
        "class AP:\n",
        "    '''\n",
        " \n",
        "    '''\n",
        "    def __init__(self, _name, _x, _y, _point):\n",
        "        self.name = _name\n",
        "        self.x = _x\n",
        "        self.y = _y\n",
        "        self.point = _point"
      ],
      "execution_count": 241,
      "outputs": []
    },
    {
      "cell_type": "markdown",
      "metadata": {
        "id": "AZ4vLMC6nb2i"
      },
      "source": [
        "##Access Points of the scenario"
      ]
    },
    {
      "cell_type": "markdown",
      "metadata": {
        "id": "-PxIy1tK-OmL"
      },
      "source": [
        "###Create APs"
      ]
    },
    {
      "cell_type": "code",
      "metadata": {
        "id": "7uHb2WZZlyk1"
      },
      "source": [
        "ap_list = []\n",
        "\n",
        "ap_list.append(AP('Google Rojo', 0, 19.2, 20))\n",
        "\n",
        "ap_list.append(AP('Google Blanco', 0, 0, 0))\n",
        "\n",
        "ap_list.append(AP('Linksys 1', 4, 0, 2))\n",
        "\n",
        "ap_list.append(AP('Google Azul', 8, 0, 4))\n",
        "\n",
        "ap_list.append(AP('Linksys 2', 0, 9.6, 10))\n",
        "\n",
        "ap_list.append(AP('Google Verde', 8, 19.2, 24))\n",
        "\n",
        "ap_list.append(AP('Linksys 3', 4, 19.2, 22))"
      ],
      "execution_count": 242,
      "outputs": []
    },
    {
      "cell_type": "markdown",
      "metadata": {
        "id": "ycVR51XD-SRo"
      },
      "source": [
        "###Sort APs by location"
      ]
    },
    {
      "cell_type": "code",
      "metadata": {
        "colab": {
          "base_uri": "https://localhost:8080/"
        },
        "id": "sQ2-YH6j-Lu3",
        "outputId": "fa4841b8-82a0-4b8c-b6f3-8b0a1b62c9ea"
      },
      "source": [
        "ap_labels = {}\n",
        "ap_indexes = {}\n",
        "\n",
        "\"\"\"\n",
        "Sorting AP list\n",
        "\"\"\"\n",
        "ap_list.sort(key=lambda x: x.point)\n",
        "\n",
        "print(\"List of Access Points: \\n\\n\")\n",
        "points = []\n",
        "for i in range(len(ap_list)):\n",
        "  points.append(ap_list[i].point)\n",
        "  ap_labels[i]=ap_list[i].name\n",
        "  ap_indexes[str(ap_list[i].name)]=i\n",
        "  print(ap_list[i].name,'-->',' x: ',ap_list[i].x,' y: ', \n",
        "        ap_list[i].y, ' point: ', ap_list[i].point, '\\n')\n",
        "\n",
        "print('\\033[1m',\"AP Points: \", points)"
      ],
      "execution_count": 243,
      "outputs": [
        {
          "output_type": "stream",
          "text": [
            "List of Access Points: \n",
            "\n",
            "\n",
            "Google Blanco -->  x:  0  y:  0  point:  0 \n",
            "\n",
            "Linksys 1 -->  x:  4  y:  0  point:  2 \n",
            "\n",
            "Google Azul -->  x:  8  y:  0  point:  4 \n",
            "\n",
            "Linksys 2 -->  x:  0  y:  9.6  point:  10 \n",
            "\n",
            "Google Rojo -->  x:  0  y:  19.2  point:  20 \n",
            "\n",
            "Linksys 3 -->  x:  4  y:  19.2  point:  22 \n",
            "\n",
            "Google Verde -->  x:  8  y:  19.2  point:  24 \n",
            "\n",
            "\u001b[1m AP Points:  [0, 2, 4, 10, 20, 22, 24]\n"
          ],
          "name": "stdout"
        }
      ]
    },
    {
      "cell_type": "markdown",
      "metadata": {
        "id": "GxcBemK0nsg3"
      },
      "source": [
        "##Scenario locations "
      ]
    },
    {
      "cell_type": "code",
      "metadata": {
        "id": "U567qn5BZghM"
      },
      "source": [
        "n_ap = len(ap_list)\n",
        "n_points = len(locations)\n",
        "\n",
        "\"\"\"\n",
        "Scenario size\n",
        "\"\"\"\n",
        "width = 8\n",
        "height = 19.2\n",
        "\n",
        "points_x = 5\n",
        "points_y = 5\n",
        "\n",
        "\"\"\"\n",
        "Locations grid\n",
        "\"\"\"\n",
        "locations = np.array(np.meshgrid(np.linspace(0, height, points_y).round(2), np.linspace(0, width, points_x).round(2))).T.reshape(-1,2)\n",
        "locations[:, [1, 0]] = locations[:, [0, 1]]\n",
        "\n",
        "\"\"\"\n",
        "AP locations\n",
        "\"\"\"\n",
        "L_ap = locations[points,:]\n",
        "\n",
        "\"\"\"\n",
        "VRP locations\n",
        "\"\"\"\n",
        "L_vrp = np.delete(locations, points, 0)\n",
        "\n",
        "\"\"\"\n",
        "Plot coordinates\n",
        "\"\"\"\n",
        "coordinates = np.array(np.meshgrid(np.linspace(0, points_x - 1, points_x), np.linspace(0, points_y - 1, points_y))).T.reshape(-1,2)\n",
        "coordinates[:, [1, 0]] = coordinates[:, [0, 1]]\n",
        "\n",
        "coordinates_ap = coordinates[points,:]\n",
        "\n",
        "coordinates_vrp = np.delete(coordinates, points, 0)"
      ],
      "execution_count": 244,
      "outputs": []
    },
    {
      "cell_type": "code",
      "metadata": {
        "colab": {
          "base_uri": "https://localhost:8080/",
          "height": 0
        },
        "cellView": "form",
        "id": "WvwqqNlzoS_n",
        "outputId": "8aa57506-c4cc-4257-8f25-81ff684f3a06"
      },
      "source": [
        "#@title ##Locations plot\n",
        "plt.figure(figsize=(8,6))\n",
        "\n",
        "plt.scatter(coordinates_ap[:,0], coordinates_ap[:,1], c='b')\n",
        "plt.scatter(coordinates_vrp[:,0], coordinates_vrp[:,1], c='r')\n",
        "\n",
        "plt.legend(labels=['AP','VRP'],loc=\"upper right\",borderaxespad=-5)\n",
        "plt.title('Scenario',pad=20)\n",
        "plt.axis('off')\n",
        "\n",
        "for x,y,z in zip(coordinates[:,0],coordinates[:,1], np.linspace(0, n_points - 1, n_points).astype(int)):\n",
        "    label = f\"({locations[z,0]},{locations[z,1]})\"\n",
        "\n",
        "    plt.annotate(label, # this is the text\n",
        "                 (x,y), # this is the point to label\n",
        "                 textcoords=\"offset points\", # how to position the text\n",
        "                 xytext=(0,-20), # distance from text to points (x,y)\n",
        "                 ha='center') # horizontal alignment can be left, right or center\n",
        "\n",
        "    label = f\"{z}\"\n",
        "\n",
        "    plt.annotate(label, # this is the text\n",
        "                  (x,y), # this is the point to label\n",
        "                  textcoords=\"offset points\", # how to position the text\n",
        "                  xytext=(0,-40), # distance from text to points (x,y)\n",
        "                  ha='center',\n",
        "                  weight='bold') # horizontal alignment can be left, right or center\n",
        "\n",
        "for x,y,z in zip(coordinates_ap[:,0],coordinates_ap[:,1], np.linspace(0, n_ap - 1, n_ap).astype(int)):\n",
        "    label = f\"{ap_labels[z]}\"\n",
        "\n",
        "    plt.annotate(label, # this is the text\n",
        "                 (x,y), # this is the point to label\n",
        "                 textcoords=\"offset points\", # how to position the text\n",
        "                 xytext=(0,10), # distance from text to points (x,y)\n",
        "                 ha='center', # horizontal alignment can be left, right or center\n",
        "                 weight='bold')"
      ],
      "execution_count": 245,
      "outputs": [
        {
          "output_type": "display_data",
          "data": {
            "image/png": "[encoded data removed]",
            "text/plain": [
              "<Figure size 576x432 with 1 Axes>"
            ]
          },
          "metadata": {
            "tags": [],
            "needs_background": "light"
          }
        }
      ]
    },
    {
      "cell_type": "markdown",
      "metadata": {
        "id": "7gaNqfQCmW4P"
      },
      "source": [
        "#RTT Observations among APs"
      ]
    },
    {
      "cell_type": "code",
      "metadata": {
        "id": "2LnHO4l-ZghO"
      },
      "source": [
        "\"\"\"\n",
        "Compute Euclidean distance between APs\n",
        "    \n",
        "    array --> Array of AP/VRP locations\n",
        "\"\"\"\n",
        "def compute_euclidean_distance(array):\n",
        "    n = array.shape[0]\n",
        "\n",
        "    d_mat = [np.linalg.norm(i - j) for (i,j) in itertools.product(array, array)]\n",
        "    d_mat = np.array(d_mat).reshape((n, n), order='F')\n",
        "\n",
        "    return d_mat"
      ],
      "execution_count": 246,
      "outputs": []
    },
    {
      "cell_type": "code",
      "metadata": {
        "id": "DcMYdFD9ZghO"
      },
      "source": [
        "\"\"\"\n",
        "Target AP to compute algorithm: AP[0,0]\n",
        "\n",
        "Let's assume an euclidean distance as RTT distance observations\n",
        "\"\"\" \n",
        "d_RTT = compute_euclidean_distance(L_ap)"
      ],
      "execution_count": 247,
      "outputs": []
    },
    {
      "cell_type": "code",
      "metadata": {
        "colab": {
          "base_uri": "https://localhost:8080/",
          "height": 0
        },
        "cellView": "form",
        "id": "Ald6Ms2lun9A",
        "outputId": "616c34ee-db4d-4323-9f98-9fc2f8ff930c"
      },
      "source": [
        "#@title ##Observations plot \n",
        "ap_selected = \"Google Rojo\"  #@param ['Google Blanco', 'Linksys 1', 'Google Azul', 'Linksys 2', 'Google Rojo', 'Linksys 3', 'Google Verde']\n",
        "\n",
        "try:\n",
        "  ap_indexes[ap_selected]\n",
        "except:\n",
        "  ap_selected = ap_labels[0]\n",
        "  \n",
        "plt.figure(figsize=(8,4))\n",
        "\n",
        "plt.scatter(coordinates_ap[:,0], coordinates_ap[:,1], c='b')\n",
        "\n",
        "plt.legend(labels=['AP'],loc=\"upper right\",borderaxespad=-5)\n",
        "plt.title('RTT observations between target AP '+ap_selected+' and the others',pad=30)\n",
        "plt.axis('off')\n",
        "\n",
        "for x,y,z in zip(coordinates_ap[:,0], coordinates_ap[:,1], d_RTT[:,int(ap_indexes[ap_selected])]):\n",
        "    label = f\"{z.round(2)} m\"\n",
        "\n",
        "    plt.annotate(label, # this is the text\n",
        "                 (x,y), # this is the point to label\n",
        "                 textcoords=\"offset points\", # how to position the text\n",
        "                 xytext=(0,-20), # distance from text to points (x,y)\n",
        "                 ha='center') # horizontal alignment can be left, right or center\n",
        "\n",
        "for x,y,z in zip(coordinates_ap[:,0],coordinates_ap[:,1], np.linspace(0, 7, 8).astype(int)):\n",
        "\n",
        "    label = f\"{ap_labels[z]}\"\n",
        "\n",
        "    plt.annotate(label, # this is the text\n",
        "                 (x,y), # this is the point to label\n",
        "                 textcoords=\"offset points\", # how to position the text\n",
        "                 xytext=(0,10), # distance from text to points (x,y)\n",
        "                 ha='center', # horizontal alignment can be left, right or center\n",
        "                 weight='bold')\n",
        "\n",
        "for x,y,z in zip(coordinates_ap[:,0],coordinates_ap[:,1], np.linspace(0, 6, 7).astype(int)):\n",
        "    label = f\"({L_ap[z,0]},{L_ap[z,1]})\"\n",
        "\n",
        "    plt.annotate(label, # this is the text\n",
        "                 (x,y), # this is the point to label\n",
        "                 textcoords=\"offset points\", # how to position the text\n",
        "                 xytext=(0,-40), # distance from text to points (x,y)\n",
        "                 ha='center',\n",
        "                 weight='bold') # horizontal alignment can be left, right or center"
      ],
      "execution_count": 248,
      "outputs": [
        {
          "output_type": "display_data",
          "data": {
            "image/png": "[encoded data removed]",
            "text/plain": [
              "<Figure size 576x288 with 1 Axes>"
            ]
          },
          "metadata": {
            "tags": [],
            "needs_background": "light"
          }
        }
      ]
    },
    {
      "cell_type": "markdown",
      "metadata": {
        "id": "SQvSbCAJwpZ4"
      },
      "source": [
        "#Polynomial Surface Fitting"
      ]
    },
    {
      "cell_type": "code",
      "metadata": {
        "id": "594fW_VvZghT"
      },
      "source": [
        "\"\"\"\n",
        "Polynomial Surface model fitting\n",
        "    \n",
        "    loc --> X,Y tuple array of AP locations\n",
        "    d --> AP RTT distance observations\n",
        "    order --> Polinomial order\n",
        "\"\"\"\n",
        "def surface_fit(loc, d, order=1):\n",
        "    if order == 1:\n",
        "        A = np.c_[loc[:,0], loc[:,1], np.ones(loc.shape[0])]\n",
        "        C,_,_,_ = scipy.linalg.lstsq(A, d)\n",
        "    else:\n",
        "        A = np.c_[np.ones(loc.shape[0]), loc[:,:2], np.prod(loc[:,:2], axis=1), loc[:,:2]**2]\n",
        "        C,_,_,_ = scipy.linalg.lstsq(A, d)\n",
        "    return C"
      ],
      "execution_count": 249,
      "outputs": []
    },
    {
      "cell_type": "code",
      "metadata": {
        "id": "3g9D2342ZghT"
      },
      "source": [
        "\"\"\"\n",
        "RTT distance estimation\n",
        "    \n",
        "    x --> AP's x locations\n",
        "    y --> AP's y locations\n",
        "    C --> Model coefficients\n",
        "\"\"\"\n",
        "def sample_distance(x, y, C):\n",
        "    \n",
        "    XX = x.flatten()\n",
        "    YY = y.flatten()\n",
        "    \n",
        "    if C.shape[0] == 3:\n",
        "        fit = np.dot(np.c_[XX, YY, np.ones(XX.shape)], C).reshape(x.shape)\n",
        "    else:\n",
        "        fit = np.dot(np.c_[np.ones(XX.shape), XX, YY, XX*YY, XX**2, YY**2], C).reshape(x.shape)\n",
        "    return fit"
      ],
      "execution_count": 250,
      "outputs": []
    },
    {
      "cell_type": "code",
      "metadata": {
        "id": "DWosLZ1gZghT"
      },
      "source": [
        "\"\"\"\n",
        "Surface fitting models\n",
        "\"\"\"\n",
        "\n",
        "\"\"\"\n",
        "Plot domain\n",
        "\"\"\"\n",
        "X,Y = np.meshgrid(np.linspace(0, width, points_x).round(2), np.linspace(0, height, points_y).round(2))\n",
        "\n",
        "\"\"\"\n",
        "Models fitting and surface estimation\n",
        "\"\"\"\n",
        "models_1 = np.array([surface_fit(L_ap, d_RTT[:,i]) for (i) in np.linspace(0, n_ap - 1, n_ap).astype(int)])\n",
        "models_2 = np.array([surface_fit(L_ap, d_RTT[:,i],2) for (i) in np.linspace(0, n_ap - 1, n_ap).astype(int)])\n",
        "\n",
        "Z_1 = np.array([sample_distance(X, Y, models_1[i]) for (i) in np.linspace(0, n_ap - 1, n_ap).astype(int)])\n",
        "Z_2 = np.array([sample_distance(X, Y, models_2[i]) for (i) in np.linspace(0, n_ap - 1, n_ap).astype(int)])"
      ],
      "execution_count": 251,
      "outputs": []
    },
    {
      "cell_type": "code",
      "metadata": {
        "colab": {
          "base_uri": "https://localhost:8080/",
          "height": 495
        },
        "cellView": "form",
        "id": "gBqbE-LSTATw",
        "outputId": "40f7bfe6-4097-45bb-cbc9-9b855f4f08b3"
      },
      "source": [
        "#@title ##Surface Fitting Models Plot\n",
        "ap_selected = \"Google Blanco\"  #@param ['Google Blanco', 'Linksys 1', 'Google Azul', 'Linksys 2', 'Google Rojo', 'Linksys 3', 'Google Verde']\n",
        "\n",
        "try:\n",
        "  ap_indexes[ap_selected]\n",
        "except:\n",
        "  ap_selected = ap_labels[0]\n",
        "\n",
        "fig = plt.figure(figsize=(12,8))\n",
        "\n",
        "ax = fig.gca(projection='3d')\n",
        "\n",
        "l1 = ax.plot_surface(X, Y, Z_1[int(ap_indexes[ap_selected]),:,:], rstride=1, cstride=1, alpha=0.5, label='linear', color='g')\n",
        "l2 = ax.plot_surface(X, Y, Z_2[int(ap_indexes[ap_selected]),:,:], rstride=1, cstride=1, alpha=0.5, label='quadratic', color='b')\n",
        "\n",
        "ax.scatter(L_ap[:,0], L_ap[:,1], d_RTT[:,int(ap_indexes[ap_selected])], c='r', s=50)\n",
        "\n",
        "plt.xlabel('X')\n",
        "plt.ylabel('Y')\n",
        "ax.set_zlabel('m')\n",
        "ax.axis('auto')\n",
        "\n",
        "line_labels = [\"AP locations\",\"Linear\", \"Quadratic\"]\n",
        "\n",
        "ax.plot([0], [0], d_RTT[:,int(ap_indexes[ap_selected])][0], color=\"red\", marker='o', linewidth=0)[0]\n",
        "ax.plot([0], [0], color=\"green\")[0]\n",
        "ax.plot([0], [0], color=\"blue\")[0]\n",
        "\n",
        "fig.legend(labels=line_labels,loc=\"upper right\",borderaxespad=4)\n",
        "\n",
        "plt.title('AP RTT distance models', pad=40)\n",
        "plt.show()"
      ],
      "execution_count": 252,
      "outputs": [
        {
          "output_type": "display_data",
          "data": {
            "image/png": "[encoded data removed]",
            "text/plain": [
              "<Figure size 864x576 with 1 Axes>"
            ]
          },
          "metadata": {
            "tags": [],
            "needs_background": "light"
          }
        }
      ]
    },
    {
      "cell_type": "markdown",
      "metadata": {
        "id": "7TxsAYnNWoEL"
      },
      "source": [
        "##Mean RTT Distance vectors"
      ]
    },
    {
      "cell_type": "code",
      "metadata": {
        "tags": [],
        "id": "21ZADkuHZghV"
      },
      "source": [
        "\"\"\"\n",
        "Mean RTT distance values at VRPs\n",
        "    _1 --> Order 1 surface fit\n",
        "    _2 --> Order 2 surface fit\n",
        "\"\"\"\n",
        "\n",
        "fit_1 = np.reshape(Z_1, (n_ap, n_points, 1))\n",
        "fit_2 = np.reshape(Z_2, (n_ap, n_points, 1))\n",
        "\n",
        "\"\"\"\n",
        "  Mean RTT observations between target AP and the rest\n",
        "\"\"\"\n",
        "m_ap_1 = fit_1[:,points,:]\n",
        "m_ap_2 = fit_2[:,points, :]\n",
        "vrp_pts = np.delete(np.linspace(0, n_points - 1, n_points).astype(int), points, 0)\n",
        "\n",
        "\"\"\"\n",
        "Mean RTT observations between target AP and VRPs\n",
        "\"\"\"\n",
        "m_vrp_1 = fit_1[:,vrp_pts,:]\n",
        "m_vrp_2 = fit_2[:,vrp_pts,:]"
      ],
      "execution_count": 253,
      "outputs": []
    },
    {
      "cell_type": "code",
      "metadata": {
        "colab": {
          "base_uri": "https://localhost:8080/",
          "height": 568
        },
        "cellView": "form",
        "id": "PDmt0S7KXAuf",
        "outputId": "749670df-f784-4604-ab0b-d508408fe753"
      },
      "source": [
        "#@title ##Order 1 PSFM Mean RTT Distance Plot\n",
        "ap_selected = \"Google Blanco\"  #@param ['Google Blanco', 'Linksys 1', 'Google Azul', 'Linksys 2', 'Google Rojo', 'Linksys 3', 'Google Verde']\n",
        "\n",
        "try:\n",
        "  ap_indexes[ap_selected]\n",
        "except:\n",
        "  ap_selected = ap_labels[0]\n",
        "\n",
        "plt.figure(figsize=(8,8))\n",
        "\n",
        "plt.scatter(coordinates_ap[:,0], coordinates_ap[:,1], c='b')\n",
        "plt.scatter(coordinates_vrp[:,0], coordinates_vrp[:,1], c='r')\n",
        "\n",
        "plt.legend(labels=['AP','VRP'],loc=\"upper right\",borderaxespad=-8)\n",
        "plt.title('AP '+ap_selected+': Order 1 PSFM Mean RTT Distance values',pad=60)\n",
        "plt.axis('off')\n",
        "\n",
        "for x,y,z in zip(coordinates[:,0], coordinates[:,1], np.linspace(0, n_points - 1, n_points).astype(int)):\n",
        "    label = f\"{sample_distance(locations[z,0], locations[z,1], models_1[int(ap_indexes[ap_selected])]).round(2)} m\"\n",
        "\n",
        "    plt.annotate(label, # this is the text\n",
        "                 (x,y), # this is the point to label\n",
        "                 textcoords=\"offset points\", # how to position the text\n",
        "                 xytext=(0,-20), # distance from text to points (x,y)\n",
        "                 ha='center') # horizontal alignment can be left, right or center\n",
        "\n",
        "for x,y,z in zip(coordinates[:,0],coordinates[:,1], np.linspace(0, n_points - 1, n_points).astype(int)):\n",
        "    label = f\"({locations[z,0]},{locations[z,1]})\"\n",
        "\n",
        "    plt.annotate(label, # this is the text\n",
        "                 (x,y), # this is the point to label\n",
        "                 textcoords=\"offset points\", # how to position the text\n",
        "                 xytext=(0,10), # distance from text to points (x,y)\n",
        "                 ha='center',\n",
        "                 weight='bold') # horizontal alignment can be left, right or center\n",
        "\n",
        "    label = f\"{z}\"\n",
        "\n",
        "    plt.annotate(label, # this is the text\n",
        "                  (x,y), # this is the point to label\n",
        "                  textcoords=\"offset points\", # how to position the text\n",
        "                  xytext=(0,-40), # distance from text to points (x,y)\n",
        "                  ha='center',\n",
        "                  weight='bold') # horizontal alignment can be left, right or center\n",
        "\n",
        "for x,y,z in zip(coordinates_ap[:,0],coordinates_ap[:,1], np.linspace(0, n_ap - 1, n_ap).astype(int)):\n",
        "\n",
        "    label = f\"{ap_labels[z]}\"\n",
        "\n",
        "    plt.annotate(label, # this is the text\n",
        "                 (x,y), # this is the point to label\n",
        "                 textcoords=\"offset points\", # how to position the text\n",
        "                 xytext=(0,30), # distance from text to points (x,y)\n",
        "                 ha='center', # horizontal alignment can be left, right or center\n",
        "                 weight='bold')"
      ],
      "execution_count": 260,
      "outputs": [
        {
          "output_type": "display_data",
          "data": {
            "image/png": "[encoded data removed]",
            "text/plain": [
              "<Figure size 576x576 with 1 Axes>"
            ]
          },
          "metadata": {
            "tags": [],
            "needs_background": "light"
          }
        }
      ]
    },
    {
      "cell_type": "code",
      "metadata": {
        "id": "rKAbuIt0ZghW",
        "colab": {
          "base_uri": "https://localhost:8080/",
          "height": 568
        },
        "cellView": "form",
        "outputId": "76246b72-f5ad-4b49-f41a-c74e329a4c7c"
      },
      "source": [
        "#@title ##Order 2 PSFM Mean RTT Distance Plot\n",
        "ap_selected = \"Google Blanco\"  #@param ['Google Blanco', 'Linksys 1', 'Google Azul', 'Linksys 2', 'Google Rojo', 'Linksys 3', 'Google Verde']\n",
        "\n",
        "try:\n",
        "  ap_indexes[ap_selected]\n",
        "except:\n",
        "  ap_selected = ap_labels[0]\n",
        "\n",
        "plt.figure(figsize=(8,8))\n",
        "\n",
        "plt.scatter(coordinates_ap[:,0], coordinates_ap[:,1], c='b')\n",
        "plt.scatter(coordinates_vrp[:,0], coordinates_vrp[:,1], c='r')\n",
        "\n",
        "plt.legend(labels=['AP','VRP'],loc=\"upper right\",borderaxespad=-8)\n",
        "plt.title('AP '+ap_selected+': Order 2 PSFM Mean RTT Distance values',pad=60)\n",
        "plt.axis('off')\n",
        "\n",
        "for x,y,z in zip(coordinates[:,0], coordinates[:,1], np.linspace(0, n_points - 1, n_points).astype(int)):\n",
        "    label = f\"{sample_distance(locations[z,0], locations[z,1], models_2[int(ap_indexes[ap_selected])]).round(2)} m\"\n",
        "\n",
        "    plt.annotate(label, # this is the text\n",
        "                 (x,y), # this is the point to label\n",
        "                 textcoords=\"offset points\", # how to position the text\n",
        "                 xytext=(0,-20), # distance from text to points (x,y)\n",
        "                 ha='center') # horizontal alignment can be left, right or center\n",
        "\n",
        "for x,y,z in zip(coordinates[:,0],coordinates[:,1], np.linspace(0, n_points - 1, n_points).astype(int)):\n",
        "    label = f\"({locations[z,0]},{locations[z,1]})\"\n",
        "\n",
        "    plt.annotate(label, # this is the text\n",
        "                 (x,y), # this is the point to label\n",
        "                 textcoords=\"offset points\", # how to position the text\n",
        "                 xytext=(0,10), # distance from text to points (x,y)\n",
        "                 ha='center',\n",
        "                 weight='bold') # horizontal alignment can be left, right or center\n",
        "\n",
        "    label = f\"{z}\"\n",
        "\n",
        "    plt.annotate(label, # this is the text\n",
        "                  (x,y), # this is the point to label\n",
        "                  textcoords=\"offset points\", # how to position the text\n",
        "                  xytext=(0,-40), # distance from text to points (x,y)\n",
        "                  ha='center',\n",
        "                  weight='bold') # horizontal alignment can be left, right or center\n",
        "\n",
        "for x,y,z in zip(coordinates_ap[:,0],coordinates_ap[:,1], np.linspace(0, n_ap - 1, n_ap).astype(int)):\n",
        "\n",
        "    label = f\"{ap_labels[z]}\"\n",
        "\n",
        "    plt.annotate(label, # this is the text\n",
        "                 (x,y), # this is the point to label\n",
        "                 textcoords=\"offset points\", # how to position the text\n",
        "                 xytext=(0,30), # distance from text to points (x,y)\n",
        "                 ha='center', # horizontal alignment can be left, right or center\n",
        "                 weight='bold')"
      ],
      "execution_count": 261,
      "outputs": [
        {
          "output_type": "display_data",
          "data": {
            "image/png": "[encoded data removed]",
            "text/plain": [
              "<Figure size 576x576 with 1 Axes>"
            ]
          },
          "metadata": {
            "tags": [],
            "needs_background": "light"
          }
        }
      ]
    },
    {
      "cell_type": "markdown",
      "metadata": {
        "id": "LEXo59pJbLaQ"
      },
      "source": [
        "#Gaussian Process Regression"
      ]
    },
    {
      "cell_type": "code",
      "metadata": {
        "id": "QXhFUU39ZghW"
      },
      "source": [
        "\"\"\"\n",
        "Gaussian Process Kernel definition\n",
        "\n",
        "Kernel parameters:\n",
        "    - L --> Length Scale\n",
        "    - sigma_f --> Constant Kernel Amplitude\n",
        "\"\"\"\n",
        "\n",
        "def kernel_function(x, y, sigma_f=1, l=1):\n",
        "\n",
        "    \"\"\" Squared Exponential kernel function \"\"\"\n",
        "    kernel = sigma_f * np.exp(- (np.linalg.norm(x - y)**2) / (2 * l**2))\n",
        "    return kernel"
      ],
      "execution_count": 262,
      "outputs": []
    },
    {
      "cell_type": "code",
      "metadata": {
        "id": "NfFnbKL6ZghW"
      },
      "source": [
        "\"\"\"\n",
        "Hyperparameter optimization of sigma_f and length-scale\n",
        "\n",
        "    loc --> AP locations\n",
        "    mean --> RTT distance observations between APs\n",
        "\"\"\"\n",
        "def gp_fit(loc, mean):\n",
        "    \n",
        "    gp.fit(loc, mean)\n",
        "\n",
        "    l = gp.kernel_.get_params().get('k2__length_scale')\n",
        "    sigma_f = gp.kernel_.get_params().get('k1__constant_value')\n",
        "    return l, sigma_f"
      ],
      "execution_count": 264,
      "outputs": []
    },
    {
      "cell_type": "code",
      "metadata": {
        "id": "4hyARn-3ZghX"
      },
      "source": [
        "\"\"\"\n",
        "Gaussian Process Fit using scikit-learn GPR\n",
        "\"\"\"\n",
        "sigma_n = 0.0\n",
        "\n",
        "kernel = ConstantKernel(constant_value=100.0,constant_value_bounds=(1e-3, 1e3)) \\\n",
        "            * RBF(length_scale=10.0, length_scale_bounds=(1e-3, 1e3))\n",
        "\n",
        "gp = GaussianProcessRegressor(kernel=kernel, alpha=sigma_n**2, n_restarts_optimizer=0)\n",
        "\n",
        "hyper_params = np.array([gp_fit(L_ap, d_RTT[:,i]) for (i) in np.linspace(0, n_ap - 1, n_ap).astype(int)])"
      ],
      "execution_count": 267,
      "outputs": []
    },
    {
      "cell_type": "code",
      "metadata": {
        "id": "YggLk2YZZghX"
      },
      "source": [
        "def compute_cov_matrices(L_ap, L_vrp, sigma_f=1, l=1):\n",
        "    \"\"\"\n",
        "    Compute components of the covariance matrix of the joint distribution.\n",
        "    \n",
        "    We follow the notation:\n",
        "    \n",
        "        - K = K(L, L) \n",
        "        - K_star = K(L^*, L)\n",
        "        - K_star2 = K(L^*, L^*)\n",
        "    \"\"\"\n",
        "    n = L_ap.shape[0]\n",
        "    n_star = L_vrp.shape[0]\n",
        "\n",
        "    K = [kernel_function(i, j, sigma_f=sigma_f, l=l) for (i, j) in itertools.product(L_ap, L_ap)]\n",
        "\n",
        "    K = np.array(K).reshape(n, n)\n",
        "    \n",
        "    K_star2 = [kernel_function(i, j, sigma_f=sigma_f, l=l) for (i, j) in itertools.product(L_vrp, L_vrp)]\n",
        "\n",
        "    K_star2 = np.array(K_star2).reshape(n_star, n_star)\n",
        "    \n",
        "    K_star = [kernel_function(i, j, sigma_f=sigma_f, l=l) for (i, j) in itertools.product(L_vrp, L_ap)]\n",
        "\n",
        "    K_star = np.array(K_star).reshape(n_star, n)\n",
        "    \n",
        "    return (K, K_star2, K_star)"
      ],
      "execution_count": 268,
      "outputs": []
    },
    {
      "cell_type": "code",
      "metadata": {
        "id": "Jqmk2JKaZghX"
      },
      "source": [
        "class Regressor:\n",
        "    '''\n",
        "    Handles the required structures to compute GPR interpolation\n",
        "\n",
        "            Parameters:\n",
        "                    K (ndarray): Covariance matrix between AP locations\n",
        "                    K_star2 (ndarray): Covariance matrix between VRP locations\n",
        "                    K_star (ndarray): Covariance matrix between each AP location and each VRP location\n",
        "                    m_ap (ndarray): Mean RTT distance values at AP locations from fitting model\n",
        "                    m_vrp (ndarray): Mean RTT distance values at VRP locations from fitting model\n",
        "    '''\n",
        "    def __init__(self, _K, _K_star2, _K_star, _m_ap, _m_vrp, _m_ap2, _m_vrp2):\n",
        "        self.K = _K\n",
        "        self.K_star2 = _K_star2\n",
        "        self.K_star = _K_star\n",
        "        self.m_ap = _m_ap\n",
        "        self.m_vrp = _m_vrp\n",
        "        self.m_ap2 = _m_ap2\n",
        "        self.m_vrp2 = _m_vrp2\n"
      ],
      "execution_count": 269,
      "outputs": []
    },
    {
      "cell_type": "code",
      "metadata": {
        "id": "ppMwnl6wZghY"
      },
      "source": [
        "\"\"\"\n",
        "Gaussian Process Regressor definition:\n",
        "\n",
        "    - Covariance matrices: K, K_star, K_star2\n",
        "    - Mean distance values: m_ap, m_vrp \n",
        "\"\"\"\n",
        "\n",
        "list = []\n",
        "\n",
        "for i in np.linspace(0, n_ap - 1, n_ap).astype(int):\n",
        "    a, b, c = compute_cov_matrices(L_ap, L_vrp, sigma_f=hyper_params[i][1], l=hyper_params[i][0])\n",
        "    gpr = Regressor(a,b,c,m_ap_1[i],m_vrp_1[i],m_ap_2[i],m_vrp_2[i])\n",
        "    list.append(gpr)"
      ],
      "execution_count": 270,
      "outputs": []
    },
    {
      "cell_type": "markdown",
      "metadata": {
        "id": "Aj8BYQIlZghY"
      },
      "source": [
        "##Select one AP to view Covariance Matrices"
      ]
    },
    {
      "cell_type": "code",
      "metadata": {
        "id": "hsmgNQ_rZghY"
      },
      "source": [
        "menu_4 = widgets.Dropdown(\n",
        "       options=['Google Blanco', 'Linksys 1', 'Google Azul', 'Linksys 2', 'Google Rojo', 'Linksys 3', 'Google Verde'],\n",
        "       value='Google Blanco',\n",
        "       description='AP:')\n",
        "menu_4"
      ],
      "execution_count": null,
      "outputs": []
    },
    {
      "cell_type": "code",
      "metadata": {
        "id": "b9gYzKuWZghY"
      },
      "source": [
        "\"\"\"\n",
        "Multivariate Joint Distribution: G matrix\n",
        "\"\"\"\n",
        "\n",
        "n = L_ap.shape[0]\n",
        "n_star = L_vrp.shape[0]\n",
        "\n",
        "a = np.concatenate((list[int(ap_indexes[menu_4.value])].K + (sigma_n**2)*np.eye(n), list[int(ap_indexes[menu_4.value])].K_star), axis=0)\n",
        "print(a.shape)\n",
        "b = np.concatenate((list[int(ap_indexes[menu_4.value])].K_star.T, list[int(ap_indexes[menu_4.value])].K_star2), axis=0)\n",
        "print(b.shape)\n",
        "G = np.concatenate((a, b), axis=1)\n",
        "print(G.shape)\n",
        "G.shape == (n + n_star, n + n_star)"
      ],
      "execution_count": null,
      "outputs": []
    },
    {
      "cell_type": "code",
      "metadata": {
        "id": "WqXW8RmUZghZ"
      },
      "source": [
        "\"\"\"\n",
        "Kernel Covariance Matrix K(L,L)\n",
        "\"\"\"\n",
        "fig, ax = plt.subplots(figsize=(10, 8))\n",
        "sns.heatmap(data=list[int(ap_indexes[menu_4.value])].K, cmap='Blues', ax=ax)\n",
        "ax.set(title='AP '+menu_4.value+' : Components of the Kernel Covariance Matrix K(L,L)')"
      ],
      "execution_count": null,
      "outputs": []
    },
    {
      "cell_type": "code",
      "metadata": {
        "id": "PW3VU7wHZghZ"
      },
      "source": [
        "\"\"\"\n",
        "Kernel Covariance Matrix K(L*,L*)\n",
        "\"\"\"\n",
        "fig, ax = plt.subplots(figsize=(10, 8))\n",
        "sns.heatmap(data=list[int(ap_indexes[menu_4.value])].K_star2, cmap='Blues', ax=ax)\n",
        "ax.set(title='AP '+menu_4.value+' : Components of the Kernel Covariance Matrix K(L*,L*)')"
      ],
      "execution_count": null,
      "outputs": []
    },
    {
      "cell_type": "code",
      "metadata": {
        "id": "OQdjGBalZghZ"
      },
      "source": [
        "\"\"\"\n",
        "Kernel Covariance Matrix K(L*,L)\n",
        "\"\"\"\n",
        "fig, ax = plt.subplots(figsize=(10, 8))\n",
        "sns.heatmap(data=list[int(ap_indexes[menu_4.value])].K_star, cmap='Blues', ax=ax)\n",
        "ax.set(title='AP '+menu_4.value+' : Components of the Kernel Covariance Matrix K(L*,L)')"
      ],
      "execution_count": null,
      "outputs": []
    },
    {
      "cell_type": "code",
      "metadata": {
        "id": "c3XAwkGtZghZ"
      },
      "source": [
        "def psfm_gpr_parameters(m, m_star, d, K, K_star2, K_star, sigma_n):\n",
        "    \n",
        "    \"\"\"Compute gaussian regression parameters.\"\"\"\n",
        "\n",
        "    n = K.shape[0]\n",
        "    n_star = K_star.shape[0]\n",
        "    \n",
        "    # Mean.\n",
        "    s_bar_star = (m_star.reshape([n_star, 1]) \n",
        "        + np.dot(K_star, np.dot(np.linalg.inv(K + (sigma_n**2)*np.eye(n)), d.reshape([n, 1]) - m.reshape([n, 1]))))\n",
        "    # Covariance.\n",
        "    cov_s_star = K_star2 - np.dot(K_star, np.dot(np.linalg.inv(K + (sigma_n**2)*np.eye(n)), K_star.T))\n",
        "    \n",
        "    return (s_bar_star.reshape(n_star), cov_s_star)"
      ],
      "execution_count": null,
      "outputs": []
    },
    {
      "cell_type": "code",
      "metadata": {
        "id": "53RpUrnhZgha"
      },
      "source": [
        "def zero_mean_gpr_parameters(d, K, K_star2, K_star, sigma_n):\n",
        "    \n",
        "    \"\"\"Compute gaussian regression parameters.\"\"\"\n",
        "\n",
        "    n = K.shape[0]\n",
        "    n_star = K_star.shape[0]\n",
        "\n",
        "    # Mean.\n",
        "    s_bar_star = np.dot(K_star, np.dot(np.linalg.inv(K + (sigma_n**2)*np.eye(n)), d.reshape([n, 1])))\n",
        "    # Covariance.\n",
        "    cov_s_star = K_star2 - np.dot(K_star, np.dot(np.linalg.inv(K + (sigma_n**2)*np.eye(n)), K_star.T))\n",
        "    \n",
        "    return (s_bar_star.reshape(n_star), cov_s_star)"
      ],
      "execution_count": null,
      "outputs": []
    },
    {
      "cell_type": "code",
      "metadata": {
        "id": "2rF2TDRwZgha"
      },
      "source": [
        "\"\"\"\n",
        "Zero-Mean Gaussian Process interpolations\n",
        "\"\"\"\n",
        "n = L_ap.shape[0]\n",
        "n_star = L_vrp.shape[0]\n",
        "\n",
        "means = np.empty((n, n_star, 1))\n",
        "variances = np.empty((n, n_star, 1))\n",
        "\n",
        "for i in np.linspace(0, 6, 7).astype(int):\n",
        "\n",
        "    s_bar_star, cov_s_star = zero_mean_gpr_parameters(d_RTT[:,i], list[i].K, list[i].K_star2, list[i].K_star, sigma_n)\n",
        "    var_s_star = np.diag(cov_s_star)\n",
        "\n",
        "    means[i,:,:] = s_bar_star.reshape(n_star,1)\n",
        "    variances[i,:,:] = var_s_star.reshape(n_star,1)"
      ],
      "execution_count": null,
      "outputs": []
    },
    {
      "cell_type": "code",
      "metadata": {
        "id": "_UlR4uNbZgha"
      },
      "source": [
        "\"\"\"\n",
        "Order 1 PSFM Gaussian Process interpolations\n",
        "\"\"\"\n",
        "means_psfm = np.empty((n, n_star, 1))\n",
        "\n",
        "for i in np.linspace(0, 6, 7).astype(int):\n",
        "    s_bar_star, cov_s_star = psfm_gpr_parameters(list[i].m_ap,list[i].m_vrp, d_RTT[:,i], list[i].K, list[i].K_star2, list[i].K_star, sigma_n)\n",
        "    means_psfm[i,:,:] = s_bar_star.reshape(n_star,1)"
      ],
      "execution_count": null,
      "outputs": []
    },
    {
      "cell_type": "code",
      "metadata": {
        "id": "7ldsijZxZgha"
      },
      "source": [
        "\"\"\"\n",
        "Order 2 PSFM Gaussian Process interpolations\n",
        "\"\"\"\n",
        "means_psfm2 = np.empty((n, n_star, 1))\n",
        "\n",
        "for i in np.linspace(0, 6, 7).astype(int):\n",
        "    s_bar_star, cov_s_star = psfm_gpr_parameters(list[i].m_ap2,list[i].m_vrp2, d_RTT[:,i], list[i].K, list[i].K_star2, list[i].K_star, sigma_n)\n",
        "    means_psfm2[i,:,:] = s_bar_star.reshape(n_star,1)"
      ],
      "execution_count": null,
      "outputs": []
    },
    {
      "cell_type": "markdown",
      "metadata": {
        "id": "--YfNHMQZgha"
      },
      "source": [
        "##Select one AP to plot Gaussian Process Interpolations"
      ]
    },
    {
      "cell_type": "code",
      "metadata": {
        "id": "EPi0v1RCZghb"
      },
      "source": [
        "menu_5 = widgets.Dropdown(\n",
        "       options=['Google Blanco', 'Linksys 1', 'Google Azul', 'Linksys 2', 'Google Rojo', 'Linksys 3', 'Google Verde'],\n",
        "       value='Google Blanco',\n",
        "       description='AP:')\n",
        "menu_5"
      ],
      "execution_count": null,
      "outputs": []
    },
    {
      "cell_type": "code",
      "metadata": {
        "id": "OZDtEH6HZghb"
      },
      "source": [
        "\"\"\"\n",
        "Zero Mean Gaussian Process interpolation:\n",
        "    \n",
        "    s_bar_star --> Mean estimated value for each VRP\n",
        "    cov_s_star --> Posterior covariance matrix\n",
        "    var_s_star --> VRP estimation variance\n",
        "\"\"\"\n",
        "\n",
        "plt.figure(figsize=(9,6))\n",
        "\n",
        "plt.scatter(coordinates_ap[:,0], coordinates_ap[:,1], c='b')\n",
        "plt.scatter(coordinates_vrp[:,0], coordinates_vrp[:,1], c='r')\n",
        "\n",
        "plt.legend(labels=['AP','VRP'],loc=\"upper right\",borderaxespad=-8)\n",
        "plt.title('AP '+menu_5.value+' : Zero Mean Gaussian Process interpolation',pad=60)\n",
        "plt.axis('off')\n",
        "\n",
        "for x,y,z in zip(coordinates_ap[:,0], coordinates_ap[:,1], d_RTT[:,int(ap_indexes[menu_5.value])]):\n",
        "    label = f\"{z.round(2)} m\"\n",
        "\n",
        "    plt.annotate(label, # this is the text\n",
        "                 (x,y), # this is the point to label\n",
        "                 textcoords=\"offset points\", # how to position the text\n",
        "                 xytext=(0,-20), # distance from text to points (x,y)\n",
        "                 ha='center') # horizontal alignment can be left, right or center\n",
        "\n",
        "for x in range(len(means[int(ap_indexes[menu_5.value])])):\n",
        "    label = f\"{means[int(ap_indexes[menu_5.value])][x,0].round(5)} +- {variances[int(ap_indexes[menu_5.value])][x,0].round(3)} m\"\n",
        "\n",
        "    plt.annotate(label, # this is the text\n",
        "                 (coordinates_vrp[x,0],coordinates_vrp[x,1]), # this is the point to label\n",
        "                 textcoords=\"offset points\", # how to position the text\n",
        "                 xytext=(0,-20), # distance from text to points (x,y)\n",
        "                 ha='center') # horizontal alignment can be left, right or center\n",
        "\n",
        "for x,y,z in zip(coordinates_ap[:,0],coordinates_ap[:,1], np.linspace(0, 7, 8).astype(int)):\n",
        "\n",
        "    label = f\"{ap_labels[str(z)]}\"\n",
        "\n",
        "    plt.annotate(label, # this is the text\n",
        "                 (x,y), # this is the point to label\n",
        "                 textcoords=\"offset points\", # how to position the text\n",
        "                 xytext=(0,30), # distance from text to points (x,y)\n",
        "                 ha='center', # horizontal alignment can be left, right or center\n",
        "                 weight='bold')\n",
        "\n",
        "for x,y,z in zip(coordinates[:,0],coordinates[:,1], np.linspace(0, 24, 25).astype(int)):\n",
        "    label = f\"({locations[z,0]},{locations[z,1]})\"\n",
        "\n",
        "    plt.annotate(label, # this is the text\n",
        "                 (x,y), # this is the point to label\n",
        "                 textcoords=\"offset points\", # how to position the text\n",
        "                 xytext=(0,10), # distance from text to points (x,y)\n",
        "                 ha='center',\n",
        "                 weight='bold') # horizontal alignment can be left, right or center"
      ],
      "execution_count": null,
      "outputs": []
    },
    {
      "cell_type": "code",
      "metadata": {
        "id": "hy3TtsrvZghb"
      },
      "source": [
        "\"\"\"\n",
        "First Order PSFM Gaussian Process interpolation:\n",
        "    \n",
        "    s_bar_star --> Mean estimated value for each VRP\n",
        "    cov_s_star --> Posterior covariance matrix\n",
        "    var_s_star --> VRP estimation variance\n",
        "\"\"\"\n",
        "\n",
        "plt.figure(figsize=(9,6))\n",
        "\n",
        "plt.scatter(coordinates_ap[:,0], coordinates_ap[:,1], c='b')\n",
        "plt.scatter(coordinates_vrp[:,0], coordinates_vrp[:,1], c='r')\n",
        "\n",
        "plt.legend(labels=['AP','VRP'],loc=\"upper right\",borderaxespad=-8)\n",
        "plt.title('AP '+menu_5.value+' : First Order PSFM Gaussian Process interpolation',pad=60)\n",
        "plt.axis('off')\n",
        "\n",
        "for x,y,z in zip(coordinates_ap[:,0], coordinates_ap[:,1], d_RTT[:,int(ap_indexes[menu_5.value])]):\n",
        "    label = f\"{z.round(2)} m\"\n",
        "\n",
        "    plt.annotate(label, # this is the text\n",
        "                 (x,y), # this is the point to label\n",
        "                 textcoords=\"offset points\", # how to position the text\n",
        "                 xytext=(0,-20), # distance from text to points (x,y)\n",
        "                 ha='center') # horizontal alignment can be left, right or center\n",
        "\n",
        "for x in range(len(means_psfm[int(ap_indexes[menu_5.value])])):\n",
        "    label = f\"{means_psfm[int(ap_indexes[menu_5.value])][x,0].round(5)} +- {variances[int(ap_indexes[menu_5.value])][x,0].round(3)} m\"\n",
        "\n",
        "    plt.annotate(label, # this is the text\n",
        "                 (coordinates_vrp[x,0],coordinates_vrp[x,1]), # this is the point to label\n",
        "                 textcoords=\"offset points\", # how to position the text\n",
        "                 xytext=(0,-20), # distance from text to points (x,y)\n",
        "                 ha='center') # horizontal alignment can be left, right or center\n",
        "\n",
        "for x,y,z in zip(coordinates_ap[:,0],coordinates_ap[:,1], np.linspace(0, 7, 8).astype(int)):\n",
        "\n",
        "    label = f\"{ap_labels[str(z)]}\"\n",
        "\n",
        "    plt.annotate(label, # this is the text\n",
        "                 (x,y), # this is the point to label\n",
        "                 textcoords=\"offset points\", # how to position the text\n",
        "                 xytext=(0,30), # distance from text to points (x,y)\n",
        "                 ha='center', # horizontal alignment can be left, right or center\n",
        "                 weight='bold')\n",
        "\n",
        "for x,y,z in zip(coordinates[:,0],coordinates[:,1], np.linspace(0, 24, 25).astype(int)):\n",
        "    label = f\"({locations[z,0]},{locations[z,1]})\"\n",
        "\n",
        "    plt.annotate(label, # this is the text\n",
        "                 (x,y), # this is the point to label\n",
        "                 textcoords=\"offset points\", # how to position the text\n",
        "                 xytext=(0,10), # distance from text to points (x,y)\n",
        "                 ha='center',\n",
        "                 weight='bold') # horizontal alignment can be left, right or center"
      ],
      "execution_count": null,
      "outputs": []
    },
    {
      "cell_type": "code",
      "metadata": {
        "id": "-r46O6HfZghb"
      },
      "source": [
        "\"\"\"\n",
        "Second Order PSFM Gaussian Process interpolation:\n",
        "    \n",
        "    s_bar_star --> Mean estimated value for each VRP\n",
        "    cov_s_star --> Posterior covariance matrix\n",
        "    var_s_star --> VRP estimation variance\n",
        "\"\"\"\n",
        "\n",
        "plt.figure(figsize=(9,6))\n",
        "\n",
        "plt.scatter(coordinates_ap[:,0], coordinates_ap[:,1], c='b')\n",
        "plt.scatter(coordinates_vrp[:,0], coordinates_vrp[:,1], c='r')\n",
        "\n",
        "plt.legend(labels=['AP','VRP'],loc=\"upper right\",borderaxespad=-8)\n",
        "plt.title('AP '+menu_5.value+' : Second Order PSFM Gaussian Process interpolation',pad=60)\n",
        "plt.axis('off')\n",
        "\n",
        "for x,y,z in zip(coordinates_ap[:,0], coordinates_ap[:,1], d_RTT[:,int(ap_indexes[menu_5.value])]):\n",
        "    label = f\"{z.round(2)} m\"\n",
        "\n",
        "    plt.annotate(label, # this is the text\n",
        "                 (x,y), # this is the point to label\n",
        "                 textcoords=\"offset points\", # how to position the text\n",
        "                 xytext=(0,-20), # distance from text to points (x,y)\n",
        "                 ha='center') # horizontal alignment can be left, right or center\n",
        "\n",
        "for x in range(len(means_psfm2[int(ap_indexes[menu_5.value])])):\n",
        "    label = f\"{means_psfm2[int(ap_indexes[menu_5.value])][x,0].round(5)} +- {variances[int(ap_indexes[menu_5.value])][x,0].round(3)} m\"\n",
        "\n",
        "    plt.annotate(label, # this is the text\n",
        "                 (coordinates_vrp[x,0],coordinates_vrp[x,1]), # this is the point to label\n",
        "                 textcoords=\"offset points\", # how to position the text\n",
        "                 xytext=(0,-20), # distance from text to points (x,y)\n",
        "                 ha='center') # horizontal alignment can be left, right or center\n",
        "\n",
        "for x,y,z in zip(coordinates_ap[:,0],coordinates_ap[:,1], np.linspace(0, 7, 8).astype(int)):\n",
        "\n",
        "    label = f\"{ap_labels[str(z)]}\"\n",
        "\n",
        "    plt.annotate(label, # this is the text\n",
        "                 (x,y), # this is the point to label\n",
        "                 textcoords=\"offset points\", # how to position the text\n",
        "                 xytext=(0,30), # distance from text to points (x,y)\n",
        "                 ha='center', # horizontal alignment can be left, right or center\n",
        "                 weight='bold')\n",
        "\n",
        "for x,y,z in zip(coordinates[:,0],coordinates[:,1], np.linspace(0, 24, 25).astype(int)):\n",
        "    label = f\"({locations[z,0]},{locations[z,1]})\"\n",
        "\n",
        "    plt.annotate(label, # this is the text\n",
        "                 (x,y), # this is the point to label\n",
        "                 textcoords=\"offset points\", # how to position the text\n",
        "                 xytext=(0,10), # distance from text to points (x,y)\n",
        "                 ha='center',\n",
        "                 weight='bold') # horizontal alignment can be left, right or center"
      ],
      "execution_count": null,
      "outputs": []
    },
    {
      "cell_type": "code",
      "metadata": {
        "id": "ymx1N8PWZghc"
      },
      "source": [
        "\"\"\"\n",
        "Zero Mean GPR Fingerprinting Database plot\n",
        "\"\"\"\n",
        "\n",
        "plt.figure(figsize=(12,16))\n",
        "\n",
        "plt.scatter(coordinates_ap[:,0], coordinates_ap[:,1], c='b')\n",
        "plt.scatter(coordinates_vrp[:,0], coordinates_vrp[:,1], c='r')\n",
        "\n",
        "plt.legend(labels=['AP','VRP'],loc=\"upper right\",borderaxespad=-8)\n",
        "plt.title('Zero Mean GPR Fingerprinting Database plot',pad=60)\n",
        "plt.axis('off')\n",
        "\n",
        "for x in range(len(d_RTT[:,0])):\n",
        "    for y in range(len(d_RTT[:,0])):\n",
        "        label = f\"AP {y}: {d_RTT[x,y].round(3)} m\"\n",
        "\n",
        "        plt.annotate(label, # this is the text\n",
        "                    (coordinates_ap[x,0],coordinates_ap[x,1]), # this is the point to label\n",
        "                    textcoords=\"offset points\", # how to position the text\n",
        "                    xytext=(0,-20-y*20), # distance from text to points (x,y)\n",
        "                    ha='center') # horizontal alignment can be left, right or center\n",
        "\n",
        "for x in range(len(means[0])):\n",
        "    for y in range(len(d_RTT[:,0])):\n",
        "        label = f\"AP {y}: {means[:,x,:][y,0].round(3)} +- {variances[:,x,:][y,0].round(3)} m\"\n",
        "\n",
        "        plt.annotate(label, # this is the text\n",
        "                    (coordinates_vrp[x,0],coordinates_vrp[x,1]), # this is the point to label\n",
        "                    textcoords=\"offset points\", # how to position the text\n",
        "                    xytext=(0,-20-y*20), # distance from text to points (x,y)\n",
        "                    ha='center') # horizontal alignment can be left, right or center\n",
        "\n",
        "\n",
        "for x,y,z in zip(coordinates_ap[:,0],coordinates_ap[:,1], np.linspace(0, 7, 8).astype(int)):\n",
        "\n",
        "    label = f\"{ap_labels[str(z)]}\"\n",
        "\n",
        "    plt.annotate(label, # this is the text\n",
        "                 (x,y), # this is the point to label\n",
        "                 textcoords=\"offset points\", # how to position the text\n",
        "                 xytext=(0,30), # distance from text to points (x,y)\n",
        "                 ha='center', # horizontal alignment can be left, right or center\n",
        "                 weight='bold')\n",
        "\n",
        "\n",
        "for x,y,z in zip(coordinates[:,0],coordinates[:,1], np.linspace(0, 24, 25).astype(int)):\n",
        "    label = f\"({locations[z,0]},{locations[z,1]})\"\n",
        "\n",
        "    plt.annotate(label, # this is the text\n",
        "                 (x,y), # this is the point to label\n",
        "                 textcoords=\"offset points\", # how to position the text\n",
        "                 xytext=(0,10), # distance from text to points (x,y)\n",
        "                 ha='center',\n",
        "                 weight='bold') # horizontal alignment can be left, right or center"
      ],
      "execution_count": null,
      "outputs": []
    },
    {
      "cell_type": "code",
      "metadata": {
        "id": "UFnYD3RnZghc"
      },
      "source": [
        "\"\"\"\n",
        "Order 1 PSFM GPR Fingerprinting Database plot\n",
        "\"\"\"\n",
        "\n",
        "plt.figure(figsize=(12,16))\n",
        "\n",
        "plt.scatter(coordinates_ap[:,0], coordinates_ap[:,1], c='b')\n",
        "plt.scatter(coordinates_vrp[:,0], coordinates_vrp[:,1], c='r')\n",
        "\n",
        "plt.legend(labels=['AP','VRP'],loc=\"upper right\",borderaxespad=-8)\n",
        "plt.title('Order 1 PSFM GPR Fingerprinting Database plot',pad=60)\n",
        "plt.axis('off')\n",
        "\n",
        "for x in range(len(d_RTT[:,0])):\n",
        "    for y in range(len(d_RTT[:,0])):\n",
        "        label = f\"AP {y}: {d_RTT[x,y].round(3)} m\"\n",
        "\n",
        "        plt.annotate(label, # this is the text\n",
        "                    (coordinates_ap[x,0],coordinates_ap[x,1]), # this is the point to label\n",
        "                    textcoords=\"offset points\", # how to position the text\n",
        "                    xytext=(0,-20-y*20), # distance from text to points (x,y)\n",
        "                    ha='center') # horizontal alignment can be left, right or center\n",
        "\n",
        "for x in range(len(means_psfm[0])):\n",
        "    for y in range(len(d_RTT[:,0])):\n",
        "        label = f\"AP {y}: {means_psfm[:,x,:][y,0].round(3)} +- {variances[:,x,:][y,0].round(3)} m\"\n",
        "\n",
        "        plt.annotate(label, # this is the text\n",
        "                    (coordinates_vrp[x,0],coordinates_vrp[x,1]), # this is the point to label\n",
        "                    textcoords=\"offset points\", # how to position the text\n",
        "                    xytext=(0,-20-y*20), # distance from text to points (x,y)\n",
        "                    ha='center') # horizontal alignment can be left, right or center\n",
        "\n",
        "for x,y,z in zip(coordinates_ap[:,0],coordinates_ap[:,1], np.linspace(0, 7, 8).astype(int)):\n",
        "\n",
        "    label = f\"{ap_labels[str(z)]}\"\n",
        "\n",
        "    plt.annotate(label, # this is the text\n",
        "                 (x,y), # this is the point to label\n",
        "                 textcoords=\"offset points\", # how to position the text\n",
        "                 xytext=(0,30), # distance from text to points (x,y)\n",
        "                 ha='center', # horizontal alignment can be left, right or center\n",
        "                 weight='bold')\n",
        "\n",
        "for x,y,z in zip(coordinates[:,0],coordinates[:,1], np.linspace(0, 24, 25).astype(int)):\n",
        "    label = f\"({locations[z,0]},{locations[z,1]})\"\n",
        "\n",
        "    plt.annotate(label, # this is the text\n",
        "                 (x,y), # this is the point to label\n",
        "                 textcoords=\"offset points\", # how to position the text\n",
        "                 xytext=(0,10), # distance from text to points (x,y)\n",
        "                 ha='center',\n",
        "                 weight='bold') # horizontal alignment can be left, right or center"
      ],
      "execution_count": null,
      "outputs": []
    },
    {
      "cell_type": "code",
      "metadata": {
        "id": "TqaW_O_dZghd"
      },
      "source": [
        "\"\"\"\n",
        "Order 2 PSFM GPR Fingerprinting Database plot\n",
        "\"\"\"\n",
        "\n",
        "plt.figure(figsize=(12,16))\n",
        "\n",
        "plt.scatter(coordinates_ap[:,0], coordinates_ap[:,1], c='b')\n",
        "plt.scatter(coordinates_vrp[:,0], coordinates_vrp[:,1], c='r')\n",
        "\n",
        "plt.legend(labels=['AP','VRP'],loc=\"upper right\",borderaxespad=-8)\n",
        "plt.title('Order 2 PSFM GPR Fingerprinting Database plot',pad=60)\n",
        "plt.axis('off')\n",
        "\n",
        "for x in range(len(d_RTT[:,0])):\n",
        "    for y in range(len(d_RTT[:,0])):\n",
        "        label = f\"AP {y}: {d_RTT[x,y].round(3)} m\"\n",
        "\n",
        "        plt.annotate(label, # this is the text\n",
        "                    (coordinates_ap[x,0],coordinates_ap[x,1]), # this is the point to label\n",
        "                    textcoords=\"offset points\", # how to position the text\n",
        "                    xytext=(0,-20-y*20), # distance from text to points (x,y)\n",
        "                    ha='center') # horizontal alignment can be left, right or center\n",
        "\n",
        "for x in range(len(means_psfm[0])):\n",
        "    for y in range(len(d_RTT[:,0])):\n",
        "        label = f\"AP {y}: {means_psfm[:,x,:][y,0].round(3)} +- {variances[:,x,:][y,0].round(3)} m\"\n",
        "\n",
        "        plt.annotate(label, # this is the text\n",
        "                    (coordinates_vrp[x,0],coordinates_vrp[x,1]), # this is the point to label\n",
        "                    textcoords=\"offset points\", # how to position the text\n",
        "                    xytext=(0,-20-y*20), # distance from text to points (x,y)\n",
        "                    ha='center') # horizontal alignment can be left, right or center\n",
        "\n",
        "for x,y,z in zip(coordinates_ap[:,0],coordinates_ap[:,1], np.linspace(0, 7, 8).astype(int)):\n",
        "\n",
        "    label = f\"{ap_labels[str(z)]}\"\n",
        "\n",
        "    plt.annotate(label, # this is the text\n",
        "                 (x,y), # this is the point to label\n",
        "                 textcoords=\"offset points\", # how to position the text\n",
        "                 xytext=(0,30), # distance from text to points (x,y)\n",
        "                 ha='center', # horizontal alignment can be left, right or center\n",
        "                 weight='bold')\n",
        "\n",
        "for x,y,z in zip(coordinates[:,0],coordinates[:,1], np.linspace(0, 24, 25).astype(int)):\n",
        "    label = f\"({locations[z,0]},{locations[z,1]})\"\n",
        "\n",
        "    plt.annotate(label, # this is the text\n",
        "                 (x,y), # this is the point to label\n",
        "                 textcoords=\"offset points\", # how to position the text\n",
        "                 xytext=(0,10), # distance from text to points (x,y)\n",
        "                 ha='center',\n",
        "                 weight='bold') # horizontal alignment can be left, right or center"
      ],
      "execution_count": null,
      "outputs": []
    }
  ]
}