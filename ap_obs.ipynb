{
  "nbformat": 4,
  "nbformat_minor": 0,
  "metadata": {
    "colab": {
      "name": "ap_obs.ipynb",
      "provenance": [],
      "collapsed_sections": [
        "fBgf1HzaTlmg",
        "K3NtyLh-pI_n",
        "dDQp4i1CpI_z",
        "LqS1CJ--pI_0",
        "C4K6hzo8pI_0",
        "7gaNqfQCmW4P",
        "SQvSbCAJwpZ4",
        "7TxsAYnNWoEL",
        "2DQ4hnRV8LGQ",
        "LGlq_3lrbOqz"
      ],
      "include_colab_link": true
    },
    "kernelspec": {
      "display_name": "Python 3.8.5 64-bit ('base': conda)",
      "name": "python385jvsc74a57bd0f98536cc3956597c064b43c1952e16cffec84e1e93d3fbaf24310225b0d26010"
    },
    "language_info": {
      "codemirror_mode": {
        "name": "ipython",
        "version": 3
      },
      "file_extension": ".py",
      "mimetype": "text/x-python",
      "name": "python",
      "nbconvert_exporter": "python",
      "pygments_lexer": "ipython3",
      "version": "3.8.5"
    }
  },
  "cells": [
    {
      "cell_type": "markdown",
      "metadata": {
        "id": "view-in-github",
        "colab_type": "text"
      },
      "source": [
        "<a href=\"https://colab.research.google.com/github/carlogattuso/Indoor_Positioning_RTT_GPR/blob/master/ap_obs.ipynb\" target=\"_parent\"><img src=\"https://colab.research.google.com/assets/colab-badge.svg\" alt=\"Open In Colab\"/></a>"
      ]
    },
    {
      "cell_type": "code",
      "metadata": {
        "id": "m-I0nmWJZghG"
      },
      "source": [
        "################ Library imports ################\n",
        "import numpy as np\n",
        "import math as math\n",
        "from mpl_toolkits.mplot3d import Axes3D\n",
        "import matplotlib.pyplot as plt\n",
        "import scipy.linalg\n",
        "import seaborn as sns\n",
        "import time\n",
        "import glob\n",
        "import pandas as pd\n",
        "\n",
        "import itertools\n",
        "\n",
        "from sklearn.gaussian_process import GaussianProcessRegressor\n",
        "from sklearn.gaussian_process.kernels import RBF, ConstantKernel, WhiteKernel\n",
        "\n",
        "from sklearn.metrics import mean_squared_error, mean_absolute_error\n",
        " \n",
        "from scipy.optimize import curve_fit\n",
        "\n",
        "from IPython.display import display, Markdown, clear_output\n",
        "import ipywidgets as widgets"
      ],
      "execution_count": 97,
      "outputs": []
    },
    {
      "cell_type": "code",
      "metadata": {
        "colab": {
          "base_uri": "https://localhost:8080/"
        },
        "id": "xSun_s80ZpwC",
        "outputId": "b8fd3208-cbb0-4544-a050-240136e649c9"
      },
      "source": [
        "from google.colab import drive\n",
        "drive.mount('/content/drive', force_remount=True)"
      ],
      "execution_count": 98,
      "outputs": [
        {
          "output_type": "stream",
          "name": "stdout",
          "text": [
            "Mounted at /content/drive\n"
          ]
        }
      ]
    },
    {
      "cell_type": "markdown",
      "metadata": {
        "id": "huOCHiP15t1n"
      },
      "source": [
        "#Utils"
      ]
    },
    {
      "cell_type": "code",
      "metadata": {
        "id": "Zut9PBab5sZD"
      },
      "source": [
        "def get_location(loc, value):\n",
        "    print(loc)\n",
        "    print(value)\n",
        "    return np.where((loc[:,0] == value[0])&(loc[:,1] == value[1]))[0][0]"
      ],
      "execution_count": 99,
      "outputs": []
    },
    {
      "cell_type": "markdown",
      "metadata": {
        "id": "fBgf1HzaTlmg"
      },
      "source": [
        "#Dataset Reading"
      ]
    },
    {
      "cell_type": "code",
      "metadata": {
        "colab": {
          "base_uri": "https://localhost:8080/",
          "height": 0
        },
        "id": "0KNwADj4ZghJ",
        "outputId": "3dcf8cb1-2c48-4b8b-ea3a-a491c31af459"
      },
      "source": [
        "\"\"\"\n",
        "File reading\n",
        "\"\"\"\n",
        "training = pd.read_csv('/content/drive/MyDrive/GPR/data/Meas_Sala_Actos/SalaActos_New_Large_Todos.csv', sep = \",\", index_col=False, encoding='latin-1')\n",
        "validation = pd.read_csv('/content/drive/MyDrive/GPR/data/Meas_Sala_Actos/SalaActos_New_Todos.csv', sep = \",\", index_col=False, encoding='latin-1')\n",
        "df = pd.concat([training, validation])\n",
        "df = df.replace(to_replace = -100, value = np.nan)\n",
        "df.head()"
      ],
      "execution_count": 100,
      "outputs": [
        {
          "output_type": "execute_result",
          "data": {
            "text/html": [
              "<div>\n",
              "<style scoped>\n",
              "    .dataframe tbody tr th:only-of-type {\n",
              "        vertical-align: middle;\n",
              "    }\n",
              "\n",
              "    .dataframe tbody tr th {\n",
              "        vertical-align: top;\n",
              "    }\n",
              "\n",
              "    .dataframe thead th {\n",
              "        text-align: right;\n",
              "    }\n",
              "</style>\n",
              "<table border=\"1\" class=\"dataframe\">\n",
              "  <thead>\n",
              "    <tr style=\"text-align: right;\">\n",
              "      <th></th>\n",
              "      <th>batch</th>\n",
              "      <th>x</th>\n",
              "      <th>y</th>\n",
              "      <th>z</th>\n",
              "      <th>brand</th>\n",
              "      <th>model</th>\n",
              "      <th>angle</th>\n",
              "      <th>sampleNumber</th>\n",
              "      <th>30:23:03:87:17:80#1</th>\n",
              "      <th>30:23:03:87:17:81#1</th>\n",
              "      <th>30:23:03:87:17:82#1</th>\n",
              "      <th>30:23:03:87:17:98#1</th>\n",
              "      <th>30:23:03:87:17:99#1</th>\n",
              "      <th>30:23:03:87:17:9a#1</th>\n",
              "      <th>30:23:03:87:19:6c#1</th>\n",
              "      <th>30:23:03:87:19:6d#1</th>\n",
              "      <th>30:23:03:87:19:6e#1</th>\n",
              "      <th>36:23:03:87:17:80#1</th>\n",
              "      <th>36:23:03:87:17:98#1</th>\n",
              "      <th>36:23:03:87:19:6c#1</th>\n",
              "      <th>58:cb:52:d7:b4:d9#1</th>\n",
              "      <th>58:cb:52:d7:b5:31#1</th>\n",
              "      <th>58:cb:52:d7:b5:5d#1</th>\n",
              "      <th>58:cb:52:d7:bb:61#1</th>\n",
              "      <th>c4:41:1e:fa:08:88#1</th>\n",
              "      <th>c4:41:1e:fa:08:89#1</th>\n",
              "      <th>c4:41:1e:fa:08:8a#1</th>\n",
              "      <th>ca:41:1e:fa:08:88#1</th>\n",
              "    </tr>\n",
              "  </thead>\n",
              "  <tbody>\n",
              "    <tr>\n",
              "      <th>0</th>\n",
              "      <td>03c6987c93bc9a98235fa5af2ccd5bb7</td>\n",
              "      <td>0.0</td>\n",
              "      <td>8.0</td>\n",
              "      <td>0.0</td>\n",
              "      <td>google</td>\n",
              "      <td>Pixel 3a</td>\n",
              "      <td>0.0</td>\n",
              "      <td>11</td>\n",
              "      <td>16.020</td>\n",
              "      <td>2.979</td>\n",
              "      <td>2.904</td>\n",
              "      <td>23.520</td>\n",
              "      <td>9.641</td>\n",
              "      <td>8.920</td>\n",
              "      <td>36.523</td>\n",
              "      <td>20.278</td>\n",
              "      <td>17.767</td>\n",
              "      <td>NaN</td>\n",
              "      <td>NaN</td>\n",
              "      <td>NaN</td>\n",
              "      <td>17.233</td>\n",
              "      <td>7.286</td>\n",
              "      <td>-0.570</td>\n",
              "      <td>16.989</td>\n",
              "      <td>24.326</td>\n",
              "      <td>6.644</td>\n",
              "      <td>5.204</td>\n",
              "      <td>NaN</td>\n",
              "    </tr>\n",
              "    <tr>\n",
              "      <th>1</th>\n",
              "      <td>03c6987c93bc9a98235fa5af2ccd5bb7</td>\n",
              "      <td>0.0</td>\n",
              "      <td>8.0</td>\n",
              "      <td>0.0</td>\n",
              "      <td>google</td>\n",
              "      <td>Pixel 3a</td>\n",
              "      <td>0.0</td>\n",
              "      <td>12</td>\n",
              "      <td>17.257</td>\n",
              "      <td>2.694</td>\n",
              "      <td>2.728</td>\n",
              "      <td>23.344</td>\n",
              "      <td>9.804</td>\n",
              "      <td>8.803</td>\n",
              "      <td>35.107</td>\n",
              "      <td>20.276</td>\n",
              "      <td>17.865</td>\n",
              "      <td>NaN</td>\n",
              "      <td>NaN</td>\n",
              "      <td>NaN</td>\n",
              "      <td>17.229</td>\n",
              "      <td>7.301</td>\n",
              "      <td>-0.588</td>\n",
              "      <td>17.026</td>\n",
              "      <td>24.223</td>\n",
              "      <td>6.626</td>\n",
              "      <td>5.145</td>\n",
              "      <td>NaN</td>\n",
              "    </tr>\n",
              "    <tr>\n",
              "      <th>2</th>\n",
              "      <td>03c6987c93bc9a98235fa5af2ccd5bb7</td>\n",
              "      <td>0.0</td>\n",
              "      <td>8.0</td>\n",
              "      <td>0.0</td>\n",
              "      <td>google</td>\n",
              "      <td>Pixel 3a</td>\n",
              "      <td>0.0</td>\n",
              "      <td>13</td>\n",
              "      <td>16.488</td>\n",
              "      <td>2.857</td>\n",
              "      <td>2.650</td>\n",
              "      <td>23.398</td>\n",
              "      <td>9.729</td>\n",
              "      <td>8.607</td>\n",
              "      <td>35.382</td>\n",
              "      <td>20.362</td>\n",
              "      <td>17.806</td>\n",
              "      <td>NaN</td>\n",
              "      <td>NaN</td>\n",
              "      <td>NaN</td>\n",
              "      <td>17.423</td>\n",
              "      <td>7.220</td>\n",
              "      <td>-0.551</td>\n",
              "      <td>16.989</td>\n",
              "      <td>23.866</td>\n",
              "      <td>6.566</td>\n",
              "      <td>5.145</td>\n",
              "      <td>NaN</td>\n",
              "    </tr>\n",
              "    <tr>\n",
              "      <th>3</th>\n",
              "      <td>03c6987c93bc9a98235fa5af2ccd5bb7</td>\n",
              "      <td>0.0</td>\n",
              "      <td>8.0</td>\n",
              "      <td>0.0</td>\n",
              "      <td>google</td>\n",
              "      <td>Pixel 3a</td>\n",
              "      <td>0.0</td>\n",
              "      <td>14</td>\n",
              "      <td>14.445</td>\n",
              "      <td>2.651</td>\n",
              "      <td>2.846</td>\n",
              "      <td>23.041</td>\n",
              "      <td>9.854</td>\n",
              "      <td>8.842</td>\n",
              "      <td>35.694</td>\n",
              "      <td>20.395</td>\n",
              "      <td>17.767</td>\n",
              "      <td>NaN</td>\n",
              "      <td>NaN</td>\n",
              "      <td>NaN</td>\n",
              "      <td>17.342</td>\n",
              "      <td>7.223</td>\n",
              "      <td>-0.513</td>\n",
              "      <td>17.167</td>\n",
              "      <td>23.623</td>\n",
              "      <td>6.526</td>\n",
              "      <td>5.072</td>\n",
              "      <td>NaN</td>\n",
              "    </tr>\n",
              "    <tr>\n",
              "      <th>4</th>\n",
              "      <td>03c6987c93bc9a98235fa5af2ccd5bb7</td>\n",
              "      <td>0.0</td>\n",
              "      <td>8.0</td>\n",
              "      <td>0.0</td>\n",
              "      <td>google</td>\n",
              "      <td>Pixel 3a</td>\n",
              "      <td>0.0</td>\n",
              "      <td>15</td>\n",
              "      <td>12.882</td>\n",
              "      <td>2.970</td>\n",
              "      <td>2.982</td>\n",
              "      <td>23.970</td>\n",
              "      <td>9.929</td>\n",
              "      <td>8.646</td>\n",
              "      <td>36.157</td>\n",
              "      <td>20.367</td>\n",
              "      <td>17.982</td>\n",
              "      <td>NaN</td>\n",
              "      <td>NaN</td>\n",
              "      <td>NaN</td>\n",
              "      <td>17.583</td>\n",
              "      <td>6.969</td>\n",
              "      <td>-0.321</td>\n",
              "      <td>16.914</td>\n",
              "      <td>23.970</td>\n",
              "      <td>6.644</td>\n",
              "      <td>5.189</td>\n",
              "      <td>24.57</td>\n",
              "    </tr>\n",
              "  </tbody>\n",
              "</table>\n",
              "</div>"
            ],
            "text/plain": [
              "                              batch  ...  ca:41:1e:fa:08:88#1\n",
              "0  03c6987c93bc9a98235fa5af2ccd5bb7  ...                  NaN\n",
              "1  03c6987c93bc9a98235fa5af2ccd5bb7  ...                  NaN\n",
              "2  03c6987c93bc9a98235fa5af2ccd5bb7  ...                  NaN\n",
              "3  03c6987c93bc9a98235fa5af2ccd5bb7  ...                  NaN\n",
              "4  03c6987c93bc9a98235fa5af2ccd5bb7  ...                24.57\n",
              "\n",
              "[5 rows x 28 columns]"
            ]
          },
          "metadata": {},
          "execution_count": 100
        }
      ]
    },
    {
      "cell_type": "markdown",
      "metadata": {
        "id": "K3NtyLh-pI_n"
      },
      "source": [
        "#Radio-map definition"
      ]
    },
    {
      "cell_type": "code",
      "metadata": {
        "id": "brnLVQPilNlZ",
        "colab": {
          "base_uri": "https://localhost:8080/",
          "height": 0
        },
        "cellView": "form",
        "outputId": "1de4053e-495c-4db9-e4c5-d02bfd194751"
      },
      "source": [
        "#@markdown ##Size\n",
        "width =  8#@param {type:\"number\"}\n",
        "height = 19.2 #@param {type:\"number\"}\n",
        "\n",
        "#@markdown ##Granularity (meters)\n",
        "granularity_x =  2#@param {type:\"number\"}\n",
        "granularity_y =  4.6#@param {type:\"number\"}\n",
        "\n",
        "points_x = int(width/granularity_x +1)\n",
        "points_y = int(height/granularity_y +1)\n",
        "\n",
        "n_points = points_x * points_y\n",
        "\n",
        "\"\"\"\n",
        "Locations grid\n",
        "\"\"\"\n",
        "locations = np.array(np.meshgrid(np.linspace(0, height, points_y).round(3), np.linspace(0, width, points_x).round(3))).T.reshape(-1,2)\n",
        "locations[:, [1, 0]] = locations[:, [0, 1]]\n",
        "\n",
        "\"\"\"\n",
        "Plot coordinates\n",
        "\"\"\"\n",
        "coordinates = np.array(np.meshgrid(np.linspace(0, points_y - 1, points_y), np.linspace(0, points_x - 1, points_x))).T.reshape(-1,2)\n",
        "coordinates[:, [1, 0]] = coordinates[:, [0, 1]]\n",
        "\n",
        "plt.figure(figsize=(points_x*1.5, points_y*1.5))\n",
        "\n",
        "plt.scatter(coordinates[:,0], coordinates[:,1], c='y')\n",
        "\n",
        "plt.legend(labels=['AP','VRP'],loc=\"upper right\",borderaxespad=-5)\n",
        "plt.title('Radio-map',pad=20)\n",
        "plt.axis('off')\n",
        "\n",
        "for x,y,z in zip(coordinates[:,0],coordinates[:,1], np.linspace(0, n_points - 1, n_points).astype(int)):\n",
        "    label = f\"({locations[z,0]},{locations[z,1]})\"\n",
        "\n",
        "    plt.annotate(label, # this is the text\n",
        "                 (x,y), # this is the point to label\n",
        "                 textcoords=\"offset points\", # how to position the text\n",
        "                 xytext=(0,-20), # distance from text to points (x,y)\n",
        "                 ha='center') # horizontal alignment can be left, right or center\n",
        "\n",
        "    label = f\"{z}\"\n",
        "\n",
        "    plt.annotate(label, # this is the text\n",
        "                  (x,y), # this is the point to label\n",
        "                  textcoords=\"offset points\", # how to position the text\n",
        "                  xytext=(0,-40), # distance from text to points (x,y)\n",
        "                  ha='center',\n",
        "                  weight='bold') # horizontal alignment can be left, right or center"
      ],
      "execution_count": 101,
      "outputs": [
        {
          "output_type": "display_data",
          "data": {
            "image/png": "[encoded data removed]",
            "text/plain": [
              "<Figure size 540x540 with 1 Axes>"
            ]
          },
          "metadata": {
            "needs_background": "light"
          }
        }
      ]
    },
    {
      "cell_type": "markdown",
      "metadata": {
        "id": "BgLql95AvARj"
      },
      "source": [
        "#AP definition"
      ]
    },
    {
      "cell_type": "markdown",
      "metadata": {
        "id": "dDQp4i1CpI_z"
      },
      "source": [
        "##AP class\n",
        "\n",
        "### Handles the required parameters for each AP\n",
        "\n",
        "####Parameters:\n",
        "\n",
        "*   name (string)\n",
        "*   x (number)\n",
        "*   y (number)\n",
        "*   point (number)\n"
      ]
    },
    {
      "cell_type": "code",
      "metadata": {
        "id": "gFAZXEVQpI_z"
      },
      "source": [
        "class AP:\n",
        "    '''\n",
        " \n",
        "    '''\n",
        "    def __init__(self, _name, _x, _y, _point, _mac):\n",
        "        self.name = _name\n",
        "        self.x = _x\n",
        "        self.y = _y\n",
        "        self.point = _point\n",
        "        self.mac = _mac"
      ],
      "execution_count": 102,
      "outputs": []
    },
    {
      "cell_type": "markdown",
      "metadata": {
        "id": "a8SH_0K8pI_0"
      },
      "source": [
        "##Create APs"
      ]
    },
    {
      "cell_type": "code",
      "metadata": {
        "id": "eFeMrEo3pI_0"
      },
      "source": [
        "ap_list = []\n",
        "\n",
        "ap_list.append(AP('Google Blanco', 0, 19.2, 20, '58:cb:52:d7:b4:d9#1'))\n",
        "\n",
        "ap_list.append(AP('Google Azul', 0, 0, 0, '58:cb:52:d7:b5:31#1'))\n",
        "\n",
        "#ap_list.append(AP('Linksys 1', 4, 0, 2, '30:23:03:87:17:80#1'))\n",
        "\n",
        "ap_list.append(AP('Google Verde', 8, 0, 4, '58:cb:52:d7:b5:5d#1'))\n",
        "\n",
        "#ap_list.append(AP('Linksys 2', 0, 9.6, 10, '30:23:03:87:17:98#1'))\n",
        "\n",
        "ap_list.append(AP('Google Rojo', 8.0, 19.2, 24, '58:cb:52:d7:bb:61#1'))\n",
        "\n",
        "#ap_list.append(AP('Linksys 3', 4, 19.2, 22, '30:23:03:87:19:6c#1'))\n",
        "\n",
        "#ap_list.append(AP('Linksys 4', 8, 9.6, 14, 'c4:41:1e:fa:08:88#1'))"
      ],
      "execution_count": 103,
      "outputs": []
    },
    {
      "cell_type": "markdown",
      "metadata": {
        "id": "LqS1CJ--pI_0"
      },
      "source": [
        "##Sort APs by location"
      ]
    },
    {
      "cell_type": "code",
      "metadata": {
        "colab": {
          "base_uri": "https://localhost:8080/"
        },
        "id": "76keG6UzpI_0",
        "outputId": "59e2120c-9445-4a19-857a-f909b3e6973c"
      },
      "source": [
        "ap_labels = {}\n",
        "ap_indexes = {}\n",
        "ap_mac = []\n",
        "\n",
        "\"\"\"\n",
        "Sorting AP list\n",
        "\"\"\"\n",
        "ap_list.sort(key=lambda x: x.point)\n",
        "\n",
        "print(\"List of Access Points: \\n\\n\")\n",
        "points = []\n",
        "for i in range(len(ap_list)):\n",
        "  points.append(ap_list[i].point)\n",
        "  ap_labels[i]=ap_list[i].name\n",
        "  ap_indexes[str(ap_list[i].name)]=i\n",
        "  ap_mac.append(ap_list[i].mac)\n",
        "  print(ap_list[i].name,'-->',' x: ',ap_list[i].x,' y: ', \n",
        "        ap_list[i].y, ' point: ', ap_list[i].point, '\\n')\n",
        "\n",
        "print('\\nAP Points: ', points, '\\n\\n')\n",
        "print(\"MAC Address List: \\n\\n\")\n",
        "print(ap_mac)"
      ],
      "execution_count": 104,
      "outputs": [
        {
          "output_type": "stream",
          "name": "stdout",
          "text": [
            "List of Access Points: \n",
            "\n",
            "\n",
            "Google Azul -->  x:  0  y:  0  point:  0 \n",
            "\n",
            "Google Verde -->  x:  8  y:  0  point:  4 \n",
            "\n",
            "Google Blanco -->  x:  0  y:  19.2  point:  20 \n",
            "\n",
            "Google Rojo -->  x:  8.0  y:  19.2  point:  24 \n",
            "\n",
            "\n",
            "AP Points:  [0, 4, 20, 24] \n",
            "\n",
            "\n",
            "MAC Address List: \n",
            "\n",
            "\n",
            "['58:cb:52:d7:b5:31#1', '58:cb:52:d7:b5:5d#1', '58:cb:52:d7:b4:d9#1', '58:cb:52:d7:bb:61#1']\n"
          ]
        }
      ]
    },
    {
      "cell_type": "markdown",
      "metadata": {
        "id": "C4K6hzo8pI_0"
      },
      "source": [
        "##Final Scenario "
      ]
    },
    {
      "cell_type": "code",
      "metadata": {
        "id": "ngh6tCUnpI_0"
      },
      "source": [
        "\"\"\"\n",
        "AP locations\n",
        "\"\"\"\n",
        "L_ap = locations[points,:]\n",
        "\n",
        "\"\"\"\n",
        "VRP locations\n",
        "\"\"\"\n",
        "L_vrp = np.delete(locations, points, 0)\n",
        "\n",
        "n_ap = len(ap_list)\n",
        "n_vrp = n_points - n_ap\n",
        "\n",
        "\"\"\"\n",
        "Locations split\n",
        "\"\"\"\n",
        "coordinates_ap = coordinates[points,:]\n",
        "coordinates_vrp = np.delete(coordinates, points, 0)"
      ],
      "execution_count": 105,
      "outputs": []
    },
    {
      "cell_type": "code",
      "metadata": {
        "colab": {
          "base_uri": "https://localhost:8080/",
          "height": 0
        },
        "id": "nGK9-S2bpI_0",
        "cellView": "form",
        "outputId": "2b6cb86d-b5ad-4012-9477-20dc2204da80"
      },
      "source": [
        "#@title ##Scenario Plot\n",
        "plt.figure(figsize=(points_x*1.5, points_y*1.5))\n",
        "\n",
        "plt.scatter(coordinates_ap[:,0], coordinates_ap[:,1], c='b')\n",
        "plt.scatter(coordinates_vrp[:,0], coordinates_vrp[:,1], c='r')\n",
        "\n",
        "plt.legend(labels=['AP','VRP'],loc=\"upper right\",borderaxespad=-5)\n",
        "plt.title('Radio-Map',pad=20)\n",
        "plt.axis('off')\n",
        "\n",
        "for x,y,z in zip(coordinates[:,0],coordinates[:,1], np.linspace(0, n_points - 1, n_points).astype(int)):\n",
        "    label = f\"({locations[z,0]},{locations[z,1]})\"\n",
        "\n",
        "    plt.annotate(label, # this is the text\n",
        "                 (x,y), # this is the point to label\n",
        "                 textcoords=\"offset points\", # how to position the text\n",
        "                 xytext=(0,-20), # distance from text to points (x,y)\n",
        "                 ha='center') # horizontal alignment can be left, right or center\n",
        "\n",
        "    label = f\"{z}\"\n",
        "\n",
        "    plt.annotate(label, # this is the text\n",
        "                  (x,y), # this is the point to label\n",
        "                  textcoords=\"offset points\", # how to position the text\n",
        "                  xytext=(0,-40), # distance from text to points (x,y)\n",
        "                  ha='center',\n",
        "                  weight='bold') # horizontal alignment can be left, right or center\n",
        "\n",
        "for x,y,z in zip(coordinates_ap[:,0],coordinates_ap[:,1], np.linspace(0, n_ap - 1, n_ap).astype(int)):\n",
        "    label = f\"{ap_labels[z]}\"\n",
        "\n",
        "    plt.annotate(label, # this is the text\n",
        "                 (x,y), # this is the point to label\n",
        "                 textcoords=\"offset points\", # how to position the text\n",
        "                 xytext=(0,10), # distance from text to points (x,y)\n",
        "                 ha='center', # horizontal alignment can be left, right or center\n",
        "                 weight='bold')"
      ],
      "execution_count": 106,
      "outputs": [
        {
          "output_type": "display_data",
          "data": {
            "image/png": "[encoded data removed]",
            "text/plain": [
              "<Figure size 540x540 with 1 Axes>"
            ]
          },
          "metadata": {
            "needs_background": "light"
          }
        }
      ]
    },
    {
      "cell_type": "markdown",
      "metadata": {
        "id": "7gaNqfQCmW4P"
      },
      "source": [
        "#RTT Observations among APs"
      ]
    },
    {
      "cell_type": "code",
      "metadata": {
        "id": "mjb1nfo-Nv_b"
      },
      "source": [
        "def split_df(row, index):\n",
        "  '''\n",
        "  Special distances correction\n",
        "  '''\n",
        "  if row[0] == 8.0 and row[1] == 19.2:\n",
        "    row[0] = 8.1\n",
        "\n",
        "  aux = df.loc[(df['y'] == row[0]) & (df['x'] == row[1])]\n",
        "  aux = aux[ap_mac].values\n",
        "  aux = aux.T\n",
        "  \n",
        "  return aux"
      ],
      "execution_count": 107,
      "outputs": []
    },
    {
      "cell_type": "code",
      "metadata": {
        "id": "O3au2qfETNjH"
      },
      "source": [
        "\"\"\"\n",
        "Dataset split\n",
        "    - ap_obs --> RTT observations between APs\n",
        "\n",
        "We are getting RTT observations from dataset, splitting AP and VRP samples\n",
        "\n",
        "ap_obs(target AP, reference AP, sample)\n",
        "\"\"\"\n",
        "\n",
        "ap_obs = np.array([split_df(L_ap[i], i) for (i) in np.linspace(0, n_ap - 1, n_ap).astype(int)])\n",
        "n_samples = ap_obs.shape[2]"
      ],
      "execution_count": 108,
      "outputs": []
    },
    {
      "cell_type": "code",
      "metadata": {
        "id": "U9KEOL3NWdqu"
      },
      "source": [
        "'''\n",
        "Simulating nan values only for test\n",
        "'''\n",
        "ap_obs[0,1,8] = math.nan\n",
        "ap_obs[3,1,8] = math.nan"
      ],
      "execution_count": 109,
      "outputs": []
    },
    {
      "cell_type": "code",
      "metadata": {
        "id": "Ald6Ms2lun9A",
        "colab": {
          "base_uri": "https://localhost:8080/",
          "height": 532
        },
        "cellView": "form",
        "outputId": "7760ca6b-9c1a-47c1-adcd-6ecf6c6e6cf6"
      },
      "source": [
        "#@title ##Observations plot\n",
        "ap_selected = \"Google Verde\"  #@param ['Google Blanco', 'Linksys 1', 'Google Azul', 'Linksys 2', 'Google Rojo', 'Linksys 3', 'Google Verde']\n",
        "sample = 8 #@param {type:\"slider\", min:0, max:100, step:1}\n",
        "\n",
        "try:\n",
        "  ap_indexes[ap_selected]\n",
        "except:\n",
        "  ap_selected = ap_labels[0]\n",
        "  \n",
        "plt.figure(figsize=(points_x*1.5, points_y*1.5))\n",
        "\n",
        "plt.scatter(coordinates_ap[:,0], coordinates_ap[:,1], c='b')\n",
        "\n",
        "plt.legend(labels=['AP'],loc=\"upper right\",borderaxespad=-7)\n",
        "plt.title('RTT observations between target AP '+ap_selected+' and the others',pad=30)\n",
        "plt.axis('off')\n",
        "\n",
        "for x,y,z in zip(coordinates_ap[:,0], coordinates_ap[:,1], ap_obs[:,int(ap_indexes[ap_selected]),sample]):\n",
        "    label = f\"{z.round(3)} m\"\n",
        "\n",
        "    plt.annotate(label, # this is the text\n",
        "                 (x,y), # this is the point to label\n",
        "                 textcoords=\"offset points\", # how to position the text\n",
        "                 xytext=(0,-20), # distance from text to points (x,y)\n",
        "                 ha='center') # horizontal alignment can be left, right or center\n",
        "\n",
        "for x,y,z in zip(coordinates_ap[:,0],coordinates_ap[:,1], np.linspace(0, n_ap - 1, n_ap).astype(int)):\n",
        "\n",
        "    label = f\"{ap_labels[z]}\"\n",
        "\n",
        "    plt.annotate(label, # this is the text\n",
        "                 (x,y), # this is the point to label\n",
        "                 textcoords=\"offset points\", # how to position the text\n",
        "                 xytext=(0,10), # distance from text to points (x,y)\n",
        "                 ha='center', # horizontal alignment can be left, right or center\n",
        "                 weight='bold')\n",
        "\n",
        "for x,y,z in zip(coordinates_ap[:,0],coordinates_ap[:,1], np.linspace(0, n_ap - 1, n_ap).astype(int)):\n",
        "    label = f\"({L_ap[z,0]},{L_ap[z,1]})\"\n",
        "\n",
        "    plt.annotate(label, # this is the text\n",
        "                 (x,y), # this is the point to label\n",
        "                 textcoords=\"offset points\", # how to position the text\n",
        "                 xytext=(0,-40), # distance from text to points (x,y)\n",
        "                 ha='center',\n",
        "                 weight='bold') # horizontal alignment can be left, right or center"
      ],
      "execution_count": 110,
      "outputs": [
        {
          "output_type": "display_data",
          "data": {
            "image/png": "[encoded data removed]",
            "text/plain": [
              "<Figure size 540x540 with 1 Axes>"
            ]
          },
          "metadata": {
            "needs_background": "light"
          }
        }
      ]
    },
    {
      "cell_type": "markdown",
      "metadata": {
        "id": "SQvSbCAJwpZ4"
      },
      "source": [
        "#Polynomial Surface Fitting"
      ]
    },
    {
      "cell_type": "code",
      "metadata": {
        "id": "594fW_VvZghT"
      },
      "source": [
        "\"\"\"\n",
        "Polynomial Surface model fitting\n",
        "    \n",
        "    loc --> X,Y tuple array of AP locations\n",
        "    d --> AP RTT distance observations\n",
        "    order --> Polinomial order\n",
        "\"\"\"\n",
        "def surface_fit(loc, d, order=1):\n",
        "    '''\n",
        "    Clear nan values\n",
        "    '''\n",
        "    idx = np.argwhere(np.isnan(d)).T[0]\n",
        "    loc = np.delete(loc, idx, 0)\n",
        "    d = np.delete(d, idx)\n",
        "\n",
        "    '''\n",
        "    Computing polynomial surface coefficients\n",
        "    '''\n",
        "    if order == 1:\n",
        "        A = np.c_[loc[:,0], loc[:,1], np.ones(loc.shape[0])]\n",
        "        C,_,_,_ = scipy.linalg.lstsq(A, d)\n",
        "    else:\n",
        "        A = np.c_[np.ones(loc.shape[0]), loc[:,:2], np.prod(loc[:,:2], axis=1), loc[:,:2]**2]\n",
        "        C,_,_,_ = scipy.linalg.lstsq(A, d)\n",
        "    return C"
      ],
      "execution_count": 111,
      "outputs": []
    },
    {
      "cell_type": "code",
      "metadata": {
        "id": "3g9D2342ZghT"
      },
      "source": [
        "\"\"\"\n",
        "Mean RTT distance estimation\n",
        "    \n",
        "    x --> AP's x locations\n",
        "    y --> AP's y locations\n",
        "    C --> Model coefficients\n",
        "\"\"\"\n",
        "def sample_distance(x, y, C):\n",
        "    XX = x.flatten()\n",
        "    YY = y.flatten()\n",
        "    \n",
        "    if C.shape[0] == 3:\n",
        "        fit = np.dot(np.c_[XX, YY, np.ones(XX.shape)], C).reshape(x.shape)\n",
        "    else:\n",
        "        fit = np.dot(np.c_[np.ones(XX.shape), XX, YY, XX*YY, XX**2, YY**2], C).reshape(x.shape)\n",
        "    return fit"
      ],
      "execution_count": 112,
      "outputs": []
    },
    {
      "cell_type": "code",
      "metadata": {
        "id": "DWosLZ1gZghT"
      },
      "source": [
        "\"\"\"\n",
        "Surface fitting models\n",
        "\"\"\"\n",
        "\n",
        "\"\"\"\n",
        "Plot domain\n",
        "\"\"\"\n",
        "X,Y = np.meshgrid(np.linspace(0, width, points_x).round(3), np.linspace(0, height, points_y).round(3))\n",
        "\n",
        "\"\"\"\n",
        "Models fitting and surface estimation\n",
        "\"\"\"\n",
        "models_1 = np.array([np.array([surface_fit(L_ap, ap_obs[:,j,i]) \n",
        "                      for (i) in np.linspace(0, n_samples - 1, n_samples).astype(int)]) \n",
        "                      for (j) in np.linspace(0, n_ap - 1, n_ap).astype(int)]) \n",
        "\n",
        "models_2 = np.array([np.array([surface_fit(L_ap, ap_obs[:,j,i],2) \n",
        "                      for (i) in np.linspace(0, n_samples - 1, n_samples).astype(int)]) \n",
        "                      for (j) in np.linspace(0, n_ap - 1, n_ap).astype(int)])\n",
        "\n",
        "Z_1 = np.array([np.array([sample_distance(X, Y, models_1[j,i,:]) \n",
        "                      for (i) in np.linspace(0, n_samples - 1, n_samples).astype(int)]) \n",
        "                      for (j) in np.linspace(0, n_ap - 1, n_ap).astype(int)])\n",
        "\n",
        "Z_2 = np.array([np.array([sample_distance(X, Y, models_2[j,i,:]) \n",
        "                      for (i) in np.linspace(0, n_samples - 1, n_samples).astype(int)]) \n",
        "                      for (j) in np.linspace(0, n_ap - 1, n_ap).astype(int)])"
      ],
      "execution_count": 113,
      "outputs": []
    },
    {
      "cell_type": "code",
      "metadata": {
        "id": "gBqbE-LSTATw",
        "colab": {
          "base_uri": "https://localhost:8080/",
          "height": 0
        },
        "cellView": "form",
        "outputId": "bd29ea4e-551c-4d67-a0bc-5fa20f768df0"
      },
      "source": [
        "#@title ##Surface Fitting Models Plot\n",
        "ap_selected = \"Google Verde\"  #@param ['Google Blanco', 'Linksys 1', 'Google Azul', 'Linksys 2', 'Google Rojo', 'Linksys 3', 'Google Verde']\n",
        "sample = 8 #@param {type:\"slider\", min:0, max:100, step:1}\n",
        "\n",
        "try:\n",
        "  ap_indexes[ap_selected]\n",
        "except:\n",
        "  ap_selected = ap_labels[0]\n",
        "\n",
        "fig = plt.figure(figsize=(12,8))\n",
        "\n",
        "ax = fig.gca(projection='3d')\n",
        "\n",
        "l1 = ax.plot_surface(X, Y, Z_1[int(ap_indexes[ap_selected]),sample], rstride=1, cstride=1, alpha=0.5, label='linear', color='g')\n",
        "l2 = ax.plot_surface(X, Y, Z_2[int(ap_indexes[ap_selected]),sample], rstride=1, cstride=1, alpha=0.5, label='quadratic', color='b')\n",
        "\n",
        "ax.scatter(L_ap[:,0], L_ap[:,1], ap_obs[:,int(ap_indexes[ap_selected]),sample], c='r', s=50)\n",
        "\n",
        "plt.xlabel('X')\n",
        "plt.ylabel('Y')\n",
        "ax.set_zlabel('m')\n",
        "ax.axis('auto')\n",
        "\n",
        "plt.title('AP RTT distance models', pad=40)\n",
        "plt.show()"
      ],
      "execution_count": 114,
      "outputs": [
        {
          "output_type": "display_data",
          "data": {
            "image/png": "[encoded data removed]",
            "text/plain": [
              "<Figure size 864x576 with 1 Axes>"
            ]
          },
          "metadata": {
            "needs_background": "light"
          }
        }
      ]
    },
    {
      "cell_type": "markdown",
      "metadata": {
        "id": "7TxsAYnNWoEL"
      },
      "source": [
        "##Mean RTT Distance vectors"
      ]
    },
    {
      "cell_type": "code",
      "metadata": {
        "id": "21ZADkuHZghV"
      },
      "source": [
        "\"\"\"\n",
        "Mean RTT distance values at VRPs\n",
        "    _1 --> Order 1 surface fit\n",
        "    _2 --> Order 2 surface fit\n",
        "\"\"\"\n",
        "\n",
        "fit_1 = np.reshape(Z_1, (n_ap, n_samples, n_points, 1))\n",
        "fit_2 = np.reshape(Z_2, (n_ap, n_samples, n_points, 1))\n",
        "\n",
        "\"\"\"\n",
        "Mean RTT observations between target AP and the rest\n",
        "\"\"\"\n",
        "m_ap_1 = np.array([fit_1[:, i, points, :] for (i) in np.linspace(0, n_samples - 1, n_samples).astype(int)])\n",
        "m_ap_2 = np.array([fit_2[:, i, points, :] for (i) in np.linspace(0, n_samples - 1, n_samples).astype(int)])\n",
        "\n",
        "\"\"\"\n",
        "Reference points vector\n",
        "\"\"\"\n",
        "vrp_pts = np.delete(np.linspace(0, n_points - 1, n_points).astype(int), points, 0)\n",
        "\n",
        "\"\"\"\n",
        "Mean RTT observations between target AP and VRPs\n",
        "\"\"\"\n",
        "m_vrp_1 = np.array([fit_1[:, i, vrp_pts, :] for (i) in np.linspace(0, n_samples - 1, n_samples).astype(int)])\n",
        "m_vrp_2 = np.array([fit_2[:, i, vrp_pts, :] for (i) in np.linspace(0, n_samples - 1, n_samples).astype(int)])"
      ],
      "execution_count": 115,
      "outputs": []
    },
    {
      "cell_type": "code",
      "metadata": {
        "id": "PDmt0S7KXAuf",
        "colab": {
          "base_uri": "https://localhost:8080/",
          "height": 0
        },
        "cellView": "form",
        "outputId": "d90618e3-f75b-4b9d-b9bb-8f0d4bd51455"
      },
      "source": [
        "#@title ##Order 1 PSFM Mean RTT Distance Plot\n",
        "ap_selected = \"Google Verde\"  #@param ['Google Blanco', 'Linksys 1', 'Google Azul', 'Linksys 2', 'Google Rojo', 'Linksys 3', 'Google Verde']\n",
        "sample = 8 #@param {type:\"slider\", min:0, max:100, step:1}\n",
        "\n",
        "try:\n",
        "  ap_indexes[ap_selected]\n",
        "except:\n",
        "  ap_selected = ap_labels[0]\n",
        "\n",
        "plt.figure(figsize=(points_x*1.5, points_y*1.8))\n",
        "\n",
        "plt.scatter(coordinates_ap[:,0], coordinates_ap[:,1], c='b')\n",
        "plt.scatter(coordinates_vrp[:,0], coordinates_vrp[:,1], c='r')\n",
        "\n",
        "plt.legend(labels=['AP','VRP'],loc=\"upper right\",borderaxespad=-8)\n",
        "plt.title('AP '+ap_selected+': Order 1 PSFM Mean RTT Distance values',pad=60)\n",
        "plt.axis('off')\n",
        "\n",
        "for x,y,z in zip(coordinates[:,0], coordinates[:,1], np.linspace(0, n_points - 1, n_points).astype(int)):\n",
        "    label = f\"{fit_1[int(ap_indexes[ap_selected]),sample,z][0].round(3)} m\"\n",
        "\n",
        "    plt.annotate(label, # this is the text\n",
        "                 (x,y), # this is the point to label\n",
        "                 textcoords=\"offset points\", # how to position the text\n",
        "                 xytext=(0,-20), # distance from text to points (x,y)\n",
        "                 ha='center') # horizontal alignment can be left, right or center\n",
        "\n",
        "for x,y,z in zip(coordinates[:,0],coordinates[:,1], np.linspace(0, n_points - 1, n_points).astype(int)):\n",
        "    label = f\"({locations[z,0]},{locations[z,1]})\"\n",
        "\n",
        "    plt.annotate(label, # this is the text\n",
        "                 (x,y), # this is the point to label\n",
        "                 textcoords=\"offset points\", # how to position the text\n",
        "                 xytext=(0,10), # distance from text to points (x,y)\n",
        "                 ha='center',\n",
        "                 weight='bold') # horizontal alignment can be left, right or center\n",
        "\n",
        "    label = f\"{z}\"\n",
        "\n",
        "    plt.annotate(label, # this is the text\n",
        "                  (x,y), # this is the point to label\n",
        "                  textcoords=\"offset points\", # how to position the text\n",
        "                  xytext=(0,-40), # distance from text to points (x,y)\n",
        "                  ha='center',\n",
        "                  weight='bold') # horizontal alignment can be left, right or center\n",
        "\n",
        "for x,y,z in zip(coordinates_ap[:,0],coordinates_ap[:,1], np.linspace(0, n_ap - 1, n_ap).astype(int)):\n",
        "\n",
        "    label = f\"{ap_labels[z]}\"\n",
        "\n",
        "    plt.annotate(label, # this is the text\n",
        "                 (x,y), # this is the point to label\n",
        "                 textcoords=\"offset points\", # how to position the text\n",
        "                 xytext=(0,30), # distance from text to points (x,y)\n",
        "                 ha='center', # horizontal alignment can be left, right or center\n",
        "                 weight='bold')"
      ],
      "execution_count": 116,
      "outputs": [
        {
          "output_type": "display_data",
          "data": {
            "image/png": "[encoded data removed]",
            "text/plain": [
              "<Figure size 540x648 with 1 Axes>"
            ]
          },
          "metadata": {
            "needs_background": "light"
          }
        }
      ]
    },
    {
      "cell_type": "code",
      "metadata": {
        "id": "rKAbuIt0ZghW",
        "colab": {
          "base_uri": "https://localhost:8080/",
          "height": 0
        },
        "cellView": "form",
        "outputId": "b872871f-f114-40ff-df1b-e404094376e9"
      },
      "source": [
        "#@title ##Order 2 PSFM Mean RTT Distance Plot\n",
        "ap_selected = \"Google Verde\"  #@param ['Google Blanco', 'Linksys 1', 'Google Azul', 'Linksys 2', 'Google Rojo', 'Linksys 3', 'Google Verde']\n",
        "sample = 8 #@param {type:\"slider\", min:0, max:100, step:1}\n",
        "\n",
        "try:\n",
        "  ap_indexes[ap_selected]\n",
        "except:\n",
        "  ap_selected = ap_labels[0]\n",
        "\n",
        "plt.figure(figsize=(points_x*1.5, points_y*1.8))\n",
        "\n",
        "plt.scatter(coordinates_ap[:,0], coordinates_ap[:,1], c='b')\n",
        "plt.scatter(coordinates_vrp[:,0], coordinates_vrp[:,1], c='r')\n",
        "\n",
        "plt.legend(labels=['AP','VRP'],loc=\"upper right\",borderaxespad=-8)\n",
        "plt.title('AP '+ap_selected+': Order 2 PSFM Mean RTT Distance values',pad=60)\n",
        "plt.axis('off')\n",
        "\n",
        "for x,y,z in zip(coordinates[:,0], coordinates[:,1], np.linspace(0, n_points - 1, n_points).astype(int)):\n",
        "    label = f\"{fit_2[int(ap_indexes[ap_selected]),sample,z][0].round(3)} m\"\n",
        "\n",
        "    plt.annotate(label, # this is the text\n",
        "                 (x,y), # this is the point to label\n",
        "                 textcoords=\"offset points\", # how to position the text\n",
        "                 xytext=(0,-20), # distance from text to points (x,y)\n",
        "                 ha='center') # horizontal alignment can be left, right or center\n",
        "\n",
        "for x,y,z in zip(coordinates[:,0],coordinates[:,1], np.linspace(0, n_points - 1, n_points).astype(int)):\n",
        "    label = f\"({locations[z,0]},{locations[z,1]})\"\n",
        "\n",
        "    plt.annotate(label, # this is the text\n",
        "                 (x,y), # this is the point to label\n",
        "                 textcoords=\"offset points\", # how to position the text\n",
        "                 xytext=(0,10), # distance from text to points (x,y)\n",
        "                 ha='center',\n",
        "                 weight='bold') # horizontal alignment can be left, right or center\n",
        "\n",
        "    label = f\"{z}\"\n",
        "\n",
        "    plt.annotate(label, # this is the text\n",
        "                  (x,y), # this is the point to label\n",
        "                  textcoords=\"offset points\", # how to position the text\n",
        "                  xytext=(0,-40), # distance from text to points (x,y)\n",
        "                  ha='center',\n",
        "                  weight='bold') # horizontal alignment can be left, right or center\n",
        "\n",
        "for x,y,z in zip(coordinates_ap[:,0],coordinates_ap[:,1], np.linspace(0, n_ap - 1, n_ap).astype(int)):\n",
        "\n",
        "    label = f\"{ap_labels[z]}\"\n",
        "\n",
        "    plt.annotate(label, # this is the text\n",
        "                 (x,y), # this is the point to label\n",
        "                 textcoords=\"offset points\", # how to position the text\n",
        "                 xytext=(0,30), # distance from text to points (x,y)\n",
        "                 ha='center', # horizontal alignment can be left, right or center\n",
        "                 weight='bold')"
      ],
      "execution_count": 117,
      "outputs": [
        {
          "output_type": "display_data",
          "data": {
            "image/png": "[encoded data removed]",
            "text/plain": [
              "<Figure size 540x648 with 1 Axes>"
            ]
          },
          "metadata": {
            "needs_background": "light"
          }
        }
      ]
    },
    {
      "cell_type": "markdown",
      "metadata": {
        "id": "LEXo59pJbLaQ"
      },
      "source": [
        "#Gaussian Process Regression"
      ]
    },
    {
      "cell_type": "markdown",
      "metadata": {
        "id": "41XzYLgh3Y0b"
      },
      "source": [
        "##Kernel definition"
      ]
    },
    {
      "cell_type": "code",
      "metadata": {
        "id": "QXhFUU39ZghW"
      },
      "source": [
        "\"\"\"\n",
        "Gaussian Process Kernel definition\n",
        "\n",
        "Kernel parameters:\n",
        "    - L --> Length Scale\n",
        "    - sigma_f --> Constant Kernel Amplitude\n",
        "\"\"\"\n",
        "\n",
        "def kernel_function(x, y, sigma_f=1, l=1):\n",
        "\n",
        "    \"\"\" Squared Exponential kernel function \"\"\"\n",
        "    kernel = sigma_f * np.exp(- (np.linalg.norm(x - y)**2) / (2 * l**2))\n",
        "    return kernel"
      ],
      "execution_count": 118,
      "outputs": []
    },
    {
      "cell_type": "markdown",
      "metadata": {
        "id": "DTBndfBs3bpx"
      },
      "source": [
        "##Hyperparameter optimization"
      ]
    },
    {
      "cell_type": "code",
      "metadata": {
        "id": "NfFnbKL6ZghW"
      },
      "source": [
        "\"\"\"\n",
        "Hyperparameter optimization of sigma_f and length-scale\n",
        "\n",
        "    loc --> AP locations\n",
        "    mean --> RTT distance observations between APs\n",
        "\"\"\"\n",
        "def gp_fit(loc, mean):\n",
        "    '''\n",
        "    Clear nan values\n",
        "    '''\n",
        "    idx = np.argwhere(np.isnan(mean)).T[0]\n",
        "    loc = np.delete(loc, idx, 0)\n",
        "    mean = np.delete(mean, idx)\n",
        "\n",
        "    gp.fit(loc, mean)\n",
        "\n",
        "    l = gp.kernel_.get_params().get('k2__length_scale')\n",
        "    sigma_f = gp.kernel_.get_params().get('k1__constant_value')\n",
        "    return l, sigma_f"
      ],
      "execution_count": 119,
      "outputs": []
    },
    {
      "cell_type": "code",
      "metadata": {
        "id": "4hyARn-3ZghX"
      },
      "source": [
        "\"\"\"\n",
        "Gaussian Process Fit using scikit-learn GPR\n",
        "\"\"\"\n",
        "sigma_n = 0.0\n",
        "\n",
        "kernel = ConstantKernel(constant_value=100.0,constant_value_bounds=(1e-3, 1e3)) \\\n",
        "            * RBF(length_scale=10.0, length_scale_bounds=(1e-3, 1e3))\n",
        "\n",
        "gp = GaussianProcessRegressor(kernel=kernel, alpha=sigma_n**2, n_restarts_optimizer=0)\n",
        "\n",
        "hyper_params = np.array([np.array([gp_fit(L_ap, ap_obs[:,j,i]) \n",
        "                      for (i) in np.linspace(0, n_samples - 1, n_samples).astype(int)]) \n",
        "                      for (j) in np.linspace(0, n_ap - 1, n_ap).astype(int)])"
      ],
      "execution_count": 120,
      "outputs": []
    },
    {
      "cell_type": "markdown",
      "metadata": {
        "id": "2DQ4hnRV8LGQ"
      },
      "source": [
        "##GPR definition\n",
        "\n",
        "### Handles the required parameters for each GPR interpolation\n",
        "\n",
        "####Parameters:\n",
        "\n",
        "*   **K (ndarray):** Covariance matrix between AP locations\n",
        "*   **K_star2 (ndarray):** Covariance matrix between VRP locations\n",
        "*   **K_star (ndarray):** Covariance matrix between each AP location and each VRP location\n",
        "*   **m_ap (ndarray):** Mean RTT distance values at AP locations from fitting model\n",
        "*   **m_vrp (ndarray):** Mean RTT distance values at VRP locations from fitting model"
      ]
    },
    {
      "cell_type": "code",
      "metadata": {
        "id": "vtzBj_sYLzo4"
      },
      "source": [
        "def compute_k_matrix(loc, obs, sigma_f=1, l=1):\n",
        "    '''\n",
        "    Clear nan values\n",
        "    '''\n",
        "    idx = np.argwhere(np.isnan(obs)).T[0]\n",
        "    loc = np.delete(loc, idx, 0)\n",
        "\n",
        "    \"\"\"\n",
        "    Compute components of the covariance matrix of the joint distribution.\n",
        "    \n",
        "    We follow the notation:\n",
        "        - K = K(L, L)\n",
        "    \"\"\"\n",
        "    \n",
        "    K = [kernel_function(i, j, sigma_f=sigma_f, l=l) for (i, j) in itertools.product(loc, loc)]\n",
        "    K = np.array(K).reshape(loc.shape[0], loc.shape[0])\n",
        "\n",
        "    return K"
      ],
      "execution_count": 121,
      "outputs": []
    },
    {
      "cell_type": "code",
      "metadata": {
        "id": "shcgqa6-OPV6"
      },
      "source": [
        "def compute_k_star_matrix(loc, ref, obs, sigma_f=1, l=1):\n",
        "    '''\n",
        "    Clear nan values\n",
        "    '''\n",
        "    idx = np.argwhere(np.isnan(obs)).T[0]\n",
        "    loc = np.delete(loc, idx, 0)\n",
        "\n",
        "    \"\"\"\n",
        "    Compute components of the covariance matrix of the joint distribution.\n",
        "    \n",
        "    We follow the notation:\n",
        "        - K_star = K(L^*, L)\n",
        "    \"\"\"\n",
        "    K_star = [kernel_function(i, j, sigma_f=sigma_f, l=l) for (i, j) in itertools.product(ref, loc)]\n",
        "    K_star = np.array(K_star).reshape(ref.shape[0], loc.shape[0])\n",
        "\n",
        "    return K_star"
      ],
      "execution_count": 122,
      "outputs": []
    },
    {
      "cell_type": "code",
      "metadata": {
        "id": "mwvTn7M5PN9v"
      },
      "source": [
        "def compute_k_star2_matrix(ref, sigma_f=1, l=1):\n",
        "    \"\"\"\n",
        "    Compute components of the covariance matrix of the joint distribution.\n",
        "    \n",
        "    We follow the notation:\n",
        "        - K_star2 = K(L^*, L^*)\n",
        "    \"\"\"\n",
        "\n",
        "    K_star2 = [kernel_function(i, j, sigma_f=sigma_f, l=l) for (i, j) in itertools.product(ref, ref)]\n",
        "    K_star2 = np.array(K_star2).reshape(ref.shape[0], ref.shape[0])\n",
        "    \n",
        "    return K_star2"
      ],
      "execution_count": 130,
      "outputs": []
    },
    {
      "cell_type": "markdown",
      "metadata": {
        "id": "UBKyxcdDSlwe"
      },
      "source": [
        "#PSFM GPR Interpolation"
      ]
    },
    {
      "cell_type": "markdown",
      "metadata": {
        "id": "Ge0LR5qPWMVt"
      },
      "source": [
        "##Interpolation Computing"
      ]
    },
    {
      "cell_type": "code",
      "metadata": {
        "id": "VI9KlyLuYrMz"
      },
      "source": [
        "def psfm_gpr_mean(m, m_star, d, K, K_star, sigma_n):\n",
        "\n",
        "    \"\"\"Compute gaussian regression parameters.\"\"\"\n",
        "    s_bar_star = (m_star.reshape([n_vrp, 1]) \n",
        "        + np.dot(K_star, np.dot(np.linalg.inv(K + (sigma_n**2)*np.eye(n_ap)), d.reshape([n_ap, 1]) - m.reshape([n_ap, 1]))))\n",
        "    \n",
        "    return s_bar_star.reshape(n_vrp)"
      ],
      "execution_count": null,
      "outputs": []
    },
    {
      "cell_type": "code",
      "metadata": {
        "id": "LnYubJuRZ9U2"
      },
      "source": [
        "def zero_mean_gpr_mean(d, K, K_star, sigma_n):\n",
        "    \n",
        "    \"\"\"Compute gaussian regression parameters.\"\"\"\n",
        "    s_bar_star = np.dot(K_star, np.dot(np.linalg.inv(K + (sigma_n**2)*np.eye(n_ap)), d.reshape([n_ap, 1])))\n",
        "    \n",
        "    return s_bar_star.reshape(n_vrp)"
      ],
      "execution_count": null,
      "outputs": []
    },
    {
      "cell_type": "code",
      "metadata": {
        "id": "e0Ik2sWQaMLD"
      },
      "source": [
        "def zero_mean_gpr_cov(K, K_star2, K_star, sigma_n):\n",
        "  \n",
        "    \"\"\"Compute gaussian regression parameters.\"\"\"\n",
        "    cov_s_star = K_star2 - np.dot(K_star, np.dot(np.linalg.inv(K + (sigma_n**2)*np.eye(n_ap)), K_star.T))\n",
        "    \n",
        "    return cov_s_star"
      ],
      "execution_count": null,
      "outputs": []
    },
    {
      "cell_type": "code",
      "metadata": {
        "id": "2rF2TDRwZgha"
      },
      "source": [
        "\"\"\"\n",
        "Zero-Mean Gaussian Process interpolations\n",
        "\"\"\"\n",
        "mean_array = np.array([np.array([zero_mean_gpr_mean(ap_obs[:,j,i], k_array[j,i], k_star_array[j,i], sigma_n).reshape(n_vrp,1)\n",
        "                                  for (i) in np.linspace(0, 100 - 1, 100).astype(int)])\n",
        "                                  for (j) in np.linspace(0, n_ap - 1, n_ap).astype(int)])\n",
        "\n",
        "var_array = np.array([np.array([np.diag(zero_mean_gpr_cov(k_array[j,i], k_star2_array[j,i], k_star_array[j,i], sigma_n)).reshape(n_vrp,1)\n",
        "                                  for (i) in np.linspace(0, 100 - 1, 100).astype(int)])\n",
        "                                  for (j) in np.linspace(0, n_ap - 1, n_ap).astype(int)])\n",
        "\n",
        "\"\"\"\n",
        "Order 1 PSFM Gaussian Process interpolations\n",
        "\"\"\"\n",
        "mean_psfm_array = np.array([np.array([psfm_gpr_mean(m_ap_1[i,j], \n",
        "                                                    m_vrp_1[i,j], \n",
        "                                                    ap_obs[:,j,i], \n",
        "                                                    k_array[j,i], \n",
        "                                                    k_star_array[j,i], \n",
        "                                                    sigma_n).reshape(n_vrp,1)\n",
        "                                  for (i) in np.linspace(0, 100 - 1, 100).astype(int)])\n",
        "                                  for (j) in np.linspace(0, n_ap - 1, n_ap).astype(int)])\n",
        "\n",
        "\"\"\"\n",
        "Order 2 PSFM Gaussian Process interpolations\n",
        "\"\"\"\n",
        "mean_psfm2_array = np.array([np.array([psfm_gpr_mean(m_ap_2[i,j], \n",
        "                                                     m_vrp_2[i,j], \n",
        "                                                     ap_obs[:,j,i], \n",
        "                                                     k_array[j,i], \n",
        "                                                     k_star_array[j,i], \n",
        "                                                     sigma_n).reshape(n_vrp,1)\n",
        "                                  for (i) in np.linspace(0, 100 - 1, 100).astype(int)])\n",
        "                                  for (j) in np.linspace(0, n_ap - 1, n_ap).astype(int)])"
      ],
      "execution_count": null,
      "outputs": []
    },
    {
      "cell_type": "code",
      "metadata": {
        "id": "GxHPJg8XJ_Yz"
      },
      "source": [
        "print(mean_array)"
      ],
      "execution_count": null,
      "outputs": []
    },
    {
      "cell_type": "markdown",
      "metadata": {
        "id": "--YfNHMQZgha"
      },
      "source": [
        "##Interpolation Plots"
      ]
    },
    {
      "cell_type": "code",
      "metadata": {
        "id": "OZDtEH6HZghb",
        "cellView": "form"
      },
      "source": [
        "#@title ##Zero-Mean GPR\n",
        "ap_selected = \"Google Rojo\"  #@param ['Google Blanco', 'Linksys 1', 'Google Azul', 'Linksys 2', 'Google Rojo', 'Linksys 3', 'Google Verde']\n",
        "sample = 12 #@param {type:\"slider\", min:0, max:100, step:1}\n",
        "\n",
        "try:\n",
        "  ap_indexes[ap_selected]\n",
        "except:\n",
        "  ap_selected = ap_labels[0]\n",
        "  \n",
        "\"\"\"\n",
        "Zero Mean Gaussian Process interpolation:\n",
        "    \n",
        "    s_bar_star --> Mean estimated value for each VRP\n",
        "    cov_s_star --> Posterior covariance matrix\n",
        "    var_s_star --> VRP estimation variance\n",
        "\"\"\"\n",
        "\n",
        "plt.figure(figsize=(points_y*2, points_x*1.5))\n",
        "\n",
        "plt.scatter(coordinates_ap[:,0], coordinates_ap[:,1], c='b')\n",
        "plt.scatter(coordinates_vrp[:,0], coordinates_vrp[:,1], c='r')\n",
        "\n",
        "plt.legend(labels=['AP','VRP'],loc=\"upper right\",borderaxespad=-8)\n",
        "plt.title('AP '+ap_selected+' : Zero Mean Gaussian Process interpolation',pad=60)\n",
        "plt.axis('off')\n",
        "\n",
        "for x,y,z in zip(coordinates_ap[:,0], coordinates_ap[:,1], ap_obs[:,int(ap_indexes[ap_selected]),sample]):\n",
        "    label = f\"{z.round(3)} m\"\n",
        "\n",
        "    plt.annotate(label, # this is the text\n",
        "                 (x,y), # this is the point to label\n",
        "                 textcoords=\"offset points\", # how to position the text\n",
        "                 xytext=(0,-20), # distance from text to points (x,y)\n",
        "                 ha='center') # horizontal alignment can be left, right or center\n",
        "\n",
        "for x in range(len(mean_array[int(ap_indexes[ap_selected]),sample])):\n",
        "    label = f\"{mean_array[int(ap_indexes[ap_selected]),sample][x,0].round(3)} +- {var_array[int(ap_indexes[ap_selected]),sample][x,0].round(3)} m\"\n",
        "\n",
        "    plt.annotate(label, # this is the text\n",
        "                 (coordinates_vrp[x,0],coordinates_vrp[x,1]), # this is the point to label\n",
        "                 textcoords=\"offset points\", # how to position the text\n",
        "                 xytext=(0,-20), # distance from text to points (x,y)\n",
        "                 ha='center') # horizontal alignment can be left, right or center\n",
        "\n",
        "for x,y,z in zip(coordinates_ap[:,0],coordinates_ap[:,1], np.linspace(0, n_ap - 1, n_ap).astype(int)):\n",
        "\n",
        "    label = f\"{ap_labels[z]}\"\n",
        "\n",
        "    plt.annotate(label, # this is the text\n",
        "                 (x,y), # this is the point to label\n",
        "                 textcoords=\"offset points\", # how to position the text\n",
        "                 xytext=(0,30), # distance from text to points (x,y)\n",
        "                 ha='center', # horizontal alignment can be left, right or center\n",
        "                 weight='bold')\n",
        "\n",
        "for x,y,z in zip(coordinates[:,0],coordinates[:,1], np.linspace(0, n_points - 1, n_points).astype(int)):\n",
        "    label = f\"({locations[z,0]},{locations[z,1]})\"\n",
        "\n",
        "    plt.annotate(label, # this is the text\n",
        "                 (x,y), # this is the point to label\n",
        "                 textcoords=\"offset points\", # how to position the text\n",
        "                 xytext=(0,10), # distance from text to points (x,y)\n",
        "                 ha='center',\n",
        "                 weight='bold') # horizontal alignment can be left, right or center"
      ],
      "execution_count": null,
      "outputs": []
    },
    {
      "cell_type": "code",
      "metadata": {
        "id": "hy3TtsrvZghb",
        "cellView": "form"
      },
      "source": [
        "#@title ##First Order PSFM GPR\n",
        "ap_selected = \"Google Rojo\"  #@param ['Google Blanco', 'Linksys 1', 'Google Azul', 'Linksys 2', 'Google Rojo', 'Linksys 3', 'Google Verde']\n",
        "sample = 12 #@param {type:\"slider\", min:0, max:100, step:1}\n",
        "\n",
        "try:\n",
        "  ap_indexes[ap_selected]\n",
        "except:\n",
        "  ap_selected = ap_labels[0]\n",
        "\n",
        "\"\"\"\n",
        "First Order PSFM Gaussian Process interpolation:\n",
        "    \n",
        "    s_bar_star --> Mean estimated value for each VRP\n",
        "    cov_s_star --> Posterior covariance matrix\n",
        "    var_s_star --> VRP estimation variance\n",
        "\"\"\"\n",
        "\n",
        "plt.figure(figsize=(points_y*2, points_x*1.5))\n",
        "\n",
        "plt.scatter(coordinates_ap[:,0], coordinates_ap[:,1], c='b')\n",
        "plt.scatter(coordinates_vrp[:,0], coordinates_vrp[:,1], c='r')\n",
        "\n",
        "plt.legend(labels=['AP','VRP'],loc=\"upper right\",borderaxespad=-8)\n",
        "plt.title('AP '+ap_selected+' : Zero Mean Gaussian Process interpolation',pad=60)\n",
        "plt.axis('off')\n",
        "\n",
        "for x,y,z in zip(coordinates_ap[:,0], coordinates_ap[:,1], ap_obs[:,int(ap_indexes[ap_selected]),sample]):\n",
        "    label = f\"{z.round(3)} m\"\n",
        "\n",
        "    plt.annotate(label, # this is the text\n",
        "                 (x,y), # this is the point to label\n",
        "                 textcoords=\"offset points\", # how to position the text\n",
        "                 xytext=(0,-20), # distance from text to points (x,y)\n",
        "                 ha='center') # horizontal alignment can be left, right or center\n",
        "\n",
        "for x in range(len(mean_array[int(ap_indexes[ap_selected]),sample])):\n",
        "    label = f\"{mean_psfm_array[int(ap_indexes[ap_selected]),sample][x,0].round(3)} +- {var_array[int(ap_indexes[ap_selected]),sample][x,0].round(3)} m\"\n",
        "\n",
        "    plt.annotate(label, # this is the text\n",
        "                 (coordinates_vrp[x,0],coordinates_vrp[x,1]), # this is the point to label\n",
        "                 textcoords=\"offset points\", # how to position the text\n",
        "                 xytext=(0,-20), # distance from text to points (x,y)\n",
        "                 ha='center') # horizontal alignment can be left, right or center\n",
        "\n",
        "for x,y,z in zip(coordinates_ap[:,0],coordinates_ap[:,1], np.linspace(0, n_ap - 1, n_ap).astype(int)):\n",
        "\n",
        "    label = f\"{ap_labels[z]}\"\n",
        "\n",
        "    plt.annotate(label, # this is the text\n",
        "                 (x,y), # this is the point to label\n",
        "                 textcoords=\"offset points\", # how to position the text\n",
        "                 xytext=(0,30), # distance from text to points (x,y)\n",
        "                 ha='center', # horizontal alignment can be left, right or center\n",
        "                 weight='bold')\n",
        "\n",
        "for x,y,z in zip(coordinates[:,0],coordinates[:,1], np.linspace(0, n_points - 1, n_points).astype(int)):\n",
        "    label = f\"({locations[z,0]},{locations[z,1]})\"\n",
        "\n",
        "    plt.annotate(label, # this is the text\n",
        "                 (x,y), # this is the point to label\n",
        "                 textcoords=\"offset points\", # how to position the text\n",
        "                 xytext=(0,10), # distance from text to points (x,y)\n",
        "                 ha='center',\n",
        "                 weight='bold') # horizontal alignment can be left, right or center"
      ],
      "execution_count": null,
      "outputs": []
    },
    {
      "cell_type": "code",
      "metadata": {
        "id": "-r46O6HfZghb",
        "cellView": "form"
      },
      "source": [
        "#@title ##Second Order PSFM GPR\n",
        "ap_selected = \"Google Azul\"  #@param ['Google Blanco', 'Linksys 1', 'Google Azul', 'Linksys 2', 'Google Rojo', 'Linksys 3', 'Google Verde']\n",
        "sample = 8 #@param {type:\"slider\", min:0, max:100, step:1}\n",
        "\n",
        "try:\n",
        "  ap_indexes[ap_selected]\n",
        "except:\n",
        "  ap_selected = ap_labels[0]\n",
        "\n",
        "\"\"\"\n",
        "Second Order PSFM Gaussian Process interpolation:\n",
        "    \n",
        "    s_bar_star --> Mean estimated value for each VRP\n",
        "    cov_s_star --> Posterior covariance matrix\n",
        "    var_s_star --> VRP estimation variance\n",
        "\"\"\"\n",
        "\n",
        "plt.figure(figsize=(points_y*2, points_x*1.5))\n",
        "\n",
        "plt.scatter(coordinates_ap[:,0], coordinates_ap[:,1], c='b')\n",
        "plt.scatter(coordinates_vrp[:,0], coordinates_vrp[:,1], c='r')\n",
        "\n",
        "plt.legend(labels=['AP','VRP'],loc=\"upper right\",borderaxespad=-8)\n",
        "plt.title('AP '+ap_selected+' : Zero Mean Gaussian Process interpolation',pad=60)\n",
        "plt.axis('off')\n",
        "\n",
        "for x,y,z in zip(coordinates_ap[:,0], coordinates_ap[:,1], ap_obs[:,int(ap_indexes[ap_selected]),sample]):\n",
        "    label = f\"{z.round(3)} m\"\n",
        "\n",
        "    plt.annotate(label, # this is the text\n",
        "                 (x,y), # this is the point to label\n",
        "                 textcoords=\"offset points\", # how to position the text\n",
        "                 xytext=(0,-20), # distance from text to points (x,y)\n",
        "                 ha='center') # horizontal alignment can be left, right or center\n",
        "\n",
        "for x in range(len(mean_psfm2_array[int(ap_indexes[ap_selected]),sample])):\n",
        "    label = f\"{mean_psfm2_array[int(ap_indexes[ap_selected]),sample][x,0].round(3)} +- {var_array[int(ap_indexes[ap_selected]),sample][x,0].round(3)} m\"\n",
        "\n",
        "    plt.annotate(label, # this is the text\n",
        "                 (coordinates_vrp[x,0],coordinates_vrp[x,1]), # this is the point to label\n",
        "                 textcoords=\"offset points\", # how to position the text\n",
        "                 xytext=(0,-20), # distance from text to points (x,y)\n",
        "                 ha='center') # horizontal alignment can be left, right or center\n",
        "\n",
        "for x,y,z in zip(coordinates_ap[:,0],coordinates_ap[:,1], np.linspace(0, n_ap - 1, n_ap).astype(int)):\n",
        "\n",
        "    label = f\"{ap_labels[z]}\"\n",
        "\n",
        "    plt.annotate(label, # this is the text\n",
        "                 (x,y), # this is the point to label\n",
        "                 textcoords=\"offset points\", # how to position the text\n",
        "                 xytext=(0,30), # distance from text to points (x,y)\n",
        "                 ha='center', # horizontal alignment can be left, right or center\n",
        "                 weight='bold')\n",
        "\n",
        "for x,y,z in zip(coordinates[:,0],coordinates[:,1], np.linspace(0, n_points - 1, n_points).astype(int)):\n",
        "    label = f\"({locations[z,0]},{locations[z,1]})\"\n",
        "\n",
        "    plt.annotate(label, # this is the text\n",
        "                 (x,y), # this is the point to label\n",
        "                 textcoords=\"offset points\", # how to position the text\n",
        "                 xytext=(0,10), # distance from text to points (x,y)\n",
        "                 ha='center',\n",
        "                 weight='bold') # horizontal alignment can be left, right or center"
      ],
      "execution_count": null,
      "outputs": []
    }
  ]
}