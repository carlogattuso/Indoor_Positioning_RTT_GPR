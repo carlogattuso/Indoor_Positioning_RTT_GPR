{
  "nbformat": 4,
  "nbformat_minor": 0,
  "metadata": {
    "colab": {
      "name": "ap_obs.ipynb",
      "provenance": [],
      "collapsed_sections": [
        "fBgf1HzaTlmg",
        "K3NtyLh-pI_n",
        "dDQp4i1CpI_z",
        "LqS1CJ--pI_0",
        "C4K6hzo8pI_0",
        "7gaNqfQCmW4P",
        "SQvSbCAJwpZ4",
        "7TxsAYnNWoEL",
        "UBKyxcdDSlwe",
        "Ge0LR5qPWMVt",
        "LGlq_3lrbOqz"
      ],
      "include_colab_link": true
    },
    "kernelspec": {
      "display_name": "Python 3.8.5 64-bit ('base': conda)",
      "name": "python385jvsc74a57bd0f98536cc3956597c064b43c1952e16cffec84e1e93d3fbaf24310225b0d26010"
    },
    "language_info": {
      "codemirror_mode": {
        "name": "ipython",
        "version": 3
      },
      "file_extension": ".py",
      "mimetype": "text/x-python",
      "name": "python",
      "nbconvert_exporter": "python",
      "pygments_lexer": "ipython3",
      "version": "3.8.5"
    }
  },
  "cells": [
    {
      "cell_type": "markdown",
      "metadata": {
        "id": "view-in-github",
        "colab_type": "text"
      },
      "source": [
        "<a href=\"https://colab.research.google.com/github/carlogattuso/Indoor_Positioning_RTT_GPR/blob/master/ap_obs.ipynb\" target=\"_parent\"><img src=\"https://colab.research.google.com/assets/colab-badge.svg\" alt=\"Open In Colab\"/></a>"
      ]
    },
    {
      "cell_type": "code",
      "metadata": {
        "id": "m-I0nmWJZghG"
      },
      "source": [
        "################ Library imports ################\n",
        "import numpy as np\n",
        "import math as math\n",
        "from mpl_toolkits.mplot3d import Axes3D\n",
        "import matplotlib.pyplot as plt\n",
        "import scipy.linalg\n",
        "import seaborn as sns\n",
        "import time\n",
        "import glob\n",
        "import pandas as pd\n",
        "\n",
        "import itertools\n",
        "\n",
        "from sklearn.gaussian_process import GaussianProcessRegressor\n",
        "from sklearn.gaussian_process.kernels import RBF, ConstantKernel, WhiteKernel\n",
        "\n",
        "from sklearn.metrics import mean_squared_error, mean_absolute_error\n",
        " \n",
        "from scipy.optimize import curve_fit\n",
        "\n",
        "from IPython.display import display, Markdown, clear_output\n",
        "import ipywidgets as widgets"
      ],
      "execution_count": 27,
      "outputs": []
    },
    {
      "cell_type": "code",
      "metadata": {
        "colab": {
          "base_uri": "https://localhost:8080/"
        },
        "id": "xSun_s80ZpwC",
        "outputId": "91f8c205-ce9d-4d2b-f252-abecf19443d4"
      },
      "source": [
        "from google.colab import drive\n",
        "drive.mount('/content/drive', force_remount=True)"
      ],
      "execution_count": 28,
      "outputs": [
        {
          "output_type": "stream",
          "name": "stdout",
          "text": [
            "Mounted at /content/drive\n"
          ]
        }
      ]
    },
    {
      "cell_type": "markdown",
      "metadata": {
        "id": "fBgf1HzaTlmg"
      },
      "source": [
        "#Dataset Reading"
      ]
    },
    {
      "cell_type": "code",
      "metadata": {
        "colab": {
          "base_uri": "https://localhost:8080/",
          "height": 309
        },
        "id": "0KNwADj4ZghJ",
        "outputId": "82ee6fff-08c9-4855-995e-1242159072b5"
      },
      "source": [
        "\"\"\"\n",
        "File reading\n",
        "\"\"\"\n",
        "training = pd.read_csv('/content/drive/MyDrive/GPR/data/Meas_Sala_Actos/SalaActos_New_Large_Todos.csv', sep = \",\", index_col=False, encoding='latin-1')\n",
        "validation = pd.read_csv('/content/drive/MyDrive/GPR/data/Meas_Sala_Actos/SalaActos_New_Todos.csv', sep = \",\", index_col=False, encoding='latin-1')\n",
        "df = pd.concat([training, validation])\n",
        "df = df.replace(to_replace = -100, value = np.nan)\n",
        "df.head()"
      ],
      "execution_count": 29,
      "outputs": [
        {
          "output_type": "execute_result",
          "data": {
            "text/html": [
              "<div>\n",
              "<style scoped>\n",
              "    .dataframe tbody tr th:only-of-type {\n",
              "        vertical-align: middle;\n",
              "    }\n",
              "\n",
              "    .dataframe tbody tr th {\n",
              "        vertical-align: top;\n",
              "    }\n",
              "\n",
              "    .dataframe thead th {\n",
              "        text-align: right;\n",
              "    }\n",
              "</style>\n",
              "<table border=\"1\" class=\"dataframe\">\n",
              "  <thead>\n",
              "    <tr style=\"text-align: right;\">\n",
              "      <th></th>\n",
              "      <th>batch</th>\n",
              "      <th>x</th>\n",
              "      <th>y</th>\n",
              "      <th>z</th>\n",
              "      <th>brand</th>\n",
              "      <th>model</th>\n",
              "      <th>angle</th>\n",
              "      <th>sampleNumber</th>\n",
              "      <th>30:23:03:87:17:80#1</th>\n",
              "      <th>30:23:03:87:17:81#1</th>\n",
              "      <th>30:23:03:87:17:82#1</th>\n",
              "      <th>30:23:03:87:17:98#1</th>\n",
              "      <th>30:23:03:87:17:99#1</th>\n",
              "      <th>30:23:03:87:17:9a#1</th>\n",
              "      <th>30:23:03:87:19:6c#1</th>\n",
              "      <th>30:23:03:87:19:6d#1</th>\n",
              "      <th>30:23:03:87:19:6e#1</th>\n",
              "      <th>36:23:03:87:17:80#1</th>\n",
              "      <th>36:23:03:87:17:98#1</th>\n",
              "      <th>36:23:03:87:19:6c#1</th>\n",
              "      <th>58:cb:52:d7:b4:d9#1</th>\n",
              "      <th>58:cb:52:d7:b5:31#1</th>\n",
              "      <th>58:cb:52:d7:b5:5d#1</th>\n",
              "      <th>58:cb:52:d7:bb:61#1</th>\n",
              "      <th>c4:41:1e:fa:08:88#1</th>\n",
              "      <th>c4:41:1e:fa:08:89#1</th>\n",
              "      <th>c4:41:1e:fa:08:8a#1</th>\n",
              "      <th>ca:41:1e:fa:08:88#1</th>\n",
              "    </tr>\n",
              "  </thead>\n",
              "  <tbody>\n",
              "    <tr>\n",
              "      <th>0</th>\n",
              "      <td>03c6987c93bc9a98235fa5af2ccd5bb7</td>\n",
              "      <td>0.0</td>\n",
              "      <td>8.0</td>\n",
              "      <td>0.0</td>\n",
              "      <td>google</td>\n",
              "      <td>Pixel 3a</td>\n",
              "      <td>0.0</td>\n",
              "      <td>11</td>\n",
              "      <td>16.020</td>\n",
              "      <td>2.979</td>\n",
              "      <td>2.904</td>\n",
              "      <td>23.520</td>\n",
              "      <td>9.641</td>\n",
              "      <td>8.920</td>\n",
              "      <td>36.523</td>\n",
              "      <td>20.278</td>\n",
              "      <td>17.767</td>\n",
              "      <td>NaN</td>\n",
              "      <td>NaN</td>\n",
              "      <td>NaN</td>\n",
              "      <td>17.233</td>\n",
              "      <td>7.286</td>\n",
              "      <td>-0.570</td>\n",
              "      <td>16.989</td>\n",
              "      <td>24.326</td>\n",
              "      <td>6.644</td>\n",
              "      <td>5.204</td>\n",
              "      <td>NaN</td>\n",
              "    </tr>\n",
              "    <tr>\n",
              "      <th>1</th>\n",
              "      <td>03c6987c93bc9a98235fa5af2ccd5bb7</td>\n",
              "      <td>0.0</td>\n",
              "      <td>8.0</td>\n",
              "      <td>0.0</td>\n",
              "      <td>google</td>\n",
              "      <td>Pixel 3a</td>\n",
              "      <td>0.0</td>\n",
              "      <td>12</td>\n",
              "      <td>17.257</td>\n",
              "      <td>2.694</td>\n",
              "      <td>2.728</td>\n",
              "      <td>23.344</td>\n",
              "      <td>9.804</td>\n",
              "      <td>8.803</td>\n",
              "      <td>35.107</td>\n",
              "      <td>20.276</td>\n",
              "      <td>17.865</td>\n",
              "      <td>NaN</td>\n",
              "      <td>NaN</td>\n",
              "      <td>NaN</td>\n",
              "      <td>17.229</td>\n",
              "      <td>7.301</td>\n",
              "      <td>-0.588</td>\n",
              "      <td>17.026</td>\n",
              "      <td>24.223</td>\n",
              "      <td>6.626</td>\n",
              "      <td>5.145</td>\n",
              "      <td>NaN</td>\n",
              "    </tr>\n",
              "    <tr>\n",
              "      <th>2</th>\n",
              "      <td>03c6987c93bc9a98235fa5af2ccd5bb7</td>\n",
              "      <td>0.0</td>\n",
              "      <td>8.0</td>\n",
              "      <td>0.0</td>\n",
              "      <td>google</td>\n",
              "      <td>Pixel 3a</td>\n",
              "      <td>0.0</td>\n",
              "      <td>13</td>\n",
              "      <td>16.488</td>\n",
              "      <td>2.857</td>\n",
              "      <td>2.650</td>\n",
              "      <td>23.398</td>\n",
              "      <td>9.729</td>\n",
              "      <td>8.607</td>\n",
              "      <td>35.382</td>\n",
              "      <td>20.362</td>\n",
              "      <td>17.806</td>\n",
              "      <td>NaN</td>\n",
              "      <td>NaN</td>\n",
              "      <td>NaN</td>\n",
              "      <td>17.423</td>\n",
              "      <td>7.220</td>\n",
              "      <td>-0.551</td>\n",
              "      <td>16.989</td>\n",
              "      <td>23.866</td>\n",
              "      <td>6.566</td>\n",
              "      <td>5.145</td>\n",
              "      <td>NaN</td>\n",
              "    </tr>\n",
              "    <tr>\n",
              "      <th>3</th>\n",
              "      <td>03c6987c93bc9a98235fa5af2ccd5bb7</td>\n",
              "      <td>0.0</td>\n",
              "      <td>8.0</td>\n",
              "      <td>0.0</td>\n",
              "      <td>google</td>\n",
              "      <td>Pixel 3a</td>\n",
              "      <td>0.0</td>\n",
              "      <td>14</td>\n",
              "      <td>14.445</td>\n",
              "      <td>2.651</td>\n",
              "      <td>2.846</td>\n",
              "      <td>23.041</td>\n",
              "      <td>9.854</td>\n",
              "      <td>8.842</td>\n",
              "      <td>35.694</td>\n",
              "      <td>20.395</td>\n",
              "      <td>17.767</td>\n",
              "      <td>NaN</td>\n",
              "      <td>NaN</td>\n",
              "      <td>NaN</td>\n",
              "      <td>17.342</td>\n",
              "      <td>7.223</td>\n",
              "      <td>-0.513</td>\n",
              "      <td>17.167</td>\n",
              "      <td>23.623</td>\n",
              "      <td>6.526</td>\n",
              "      <td>5.072</td>\n",
              "      <td>NaN</td>\n",
              "    </tr>\n",
              "    <tr>\n",
              "      <th>4</th>\n",
              "      <td>03c6987c93bc9a98235fa5af2ccd5bb7</td>\n",
              "      <td>0.0</td>\n",
              "      <td>8.0</td>\n",
              "      <td>0.0</td>\n",
              "      <td>google</td>\n",
              "      <td>Pixel 3a</td>\n",
              "      <td>0.0</td>\n",
              "      <td>15</td>\n",
              "      <td>12.882</td>\n",
              "      <td>2.970</td>\n",
              "      <td>2.982</td>\n",
              "      <td>23.970</td>\n",
              "      <td>9.929</td>\n",
              "      <td>8.646</td>\n",
              "      <td>36.157</td>\n",
              "      <td>20.367</td>\n",
              "      <td>17.982</td>\n",
              "      <td>NaN</td>\n",
              "      <td>NaN</td>\n",
              "      <td>NaN</td>\n",
              "      <td>17.583</td>\n",
              "      <td>6.969</td>\n",
              "      <td>-0.321</td>\n",
              "      <td>16.914</td>\n",
              "      <td>23.970</td>\n",
              "      <td>6.644</td>\n",
              "      <td>5.189</td>\n",
              "      <td>24.57</td>\n",
              "    </tr>\n",
              "  </tbody>\n",
              "</table>\n",
              "</div>"
            ],
            "text/plain": [
              "                              batch  ...  ca:41:1e:fa:08:88#1\n",
              "0  03c6987c93bc9a98235fa5af2ccd5bb7  ...                  NaN\n",
              "1  03c6987c93bc9a98235fa5af2ccd5bb7  ...                  NaN\n",
              "2  03c6987c93bc9a98235fa5af2ccd5bb7  ...                  NaN\n",
              "3  03c6987c93bc9a98235fa5af2ccd5bb7  ...                  NaN\n",
              "4  03c6987c93bc9a98235fa5af2ccd5bb7  ...                24.57\n",
              "\n",
              "[5 rows x 28 columns]"
            ]
          },
          "metadata": {},
          "execution_count": 29
        }
      ]
    },
    {
      "cell_type": "markdown",
      "metadata": {
        "id": "K3NtyLh-pI_n"
      },
      "source": [
        "#Radio-map definition"
      ]
    },
    {
      "cell_type": "code",
      "metadata": {
        "id": "brnLVQPilNlZ"
      },
      "source": [
        "\"\"\"\n",
        "Scenario size\n",
        "\"\"\"\n",
        "width = 8\n",
        "height = 19.2\n",
        "\n",
        "points_x = 5\n",
        "points_y = 5\n",
        "\n",
        "n_points = points_x * points_y\n",
        "\n",
        "\"\"\"\n",
        "Locations grid\n",
        "\"\"\"\n",
        "locations = np.array(np.meshgrid(np.linspace(0, height, points_y).round(3), np.linspace(0, width, points_x).round(3))).T.reshape(-1,2)\n",
        "locations[:, [1, 0]] = locations[:, [0, 1]]\n",
        "\n",
        "\"\"\"\n",
        "Plot coordinates\n",
        "\"\"\"\n",
        "coordinates = np.array(np.meshgrid(np.linspace(0, points_x - 1, points_x), np.linspace(0, points_y - 1, points_y))).T.reshape(-1,2)\n",
        "coordinates[:, [1, 0]] = coordinates[:, [0, 1]]"
      ],
      "execution_count": 30,
      "outputs": []
    },
    {
      "cell_type": "code",
      "metadata": {
        "colab": {
          "base_uri": "https://localhost:8080/",
          "height": 512
        },
        "cellView": "form",
        "id": "HJQsShXRlsyM",
        "outputId": "621b9400-fe7a-4473-f68e-652f2444dfd4"
      },
      "source": [
        "#@title ##Radio-map plot\n",
        "plt.figure(figsize=(points_y*1.5, points_x*1.5))\n",
        "\n",
        "plt.scatter(coordinates[:,0], coordinates[:,1], c='y')\n",
        "\n",
        "plt.legend(labels=['AP','VRP'],loc=\"upper right\",borderaxespad=-5)\n",
        "plt.title('Radio-map',pad=20)\n",
        "plt.axis('off')\n",
        "\n",
        "for x,y,z in zip(coordinates[:,0],coordinates[:,1], np.linspace(0, n_points - 1, n_points).astype(int)):\n",
        "    label = f\"({locations[z,0]},{locations[z,1]})\"\n",
        "\n",
        "    plt.annotate(label, # this is the text\n",
        "                 (x,y), # this is the point to label\n",
        "                 textcoords=\"offset points\", # how to position the text\n",
        "                 xytext=(0,-20), # distance from text to points (x,y)\n",
        "                 ha='center') # horizontal alignment can be left, right or center\n",
        "\n",
        "    label = f\"{z}\"\n",
        "\n",
        "    plt.annotate(label, # this is the text\n",
        "                  (x,y), # this is the point to label\n",
        "                  textcoords=\"offset points\", # how to position the text\n",
        "                  xytext=(0,-40), # distance from text to points (x,y)\n",
        "                  ha='center',\n",
        "                  weight='bold') # horizontal alignment can be left, right or center"
      ],
      "execution_count": 31,
      "outputs": [
        {
          "output_type": "display_data",
          "data": {
            "image/png": "[encoded data removed]",
            "text/plain": [
              "<Figure size 540x540 with 1 Axes>"
            ]
          },
          "metadata": {
            "needs_background": "light"
          }
        }
      ]
    },
    {
      "cell_type": "markdown",
      "metadata": {
        "id": "BgLql95AvARj"
      },
      "source": [
        "#AP definition"
      ]
    },
    {
      "cell_type": "markdown",
      "metadata": {
        "id": "dDQp4i1CpI_z"
      },
      "source": [
        "##AP class\n",
        "\n",
        "### Handles the required parameters for each AP\n",
        "\n",
        "####Parameters:\n",
        "\n",
        "*   name (string)\n",
        "*   x (number)\n",
        "*   y (number)\n",
        "*   point (number)\n"
      ]
    },
    {
      "cell_type": "code",
      "metadata": {
        "id": "gFAZXEVQpI_z"
      },
      "source": [
        "class AP:\n",
        "    '''\n",
        " \n",
        "    '''\n",
        "    def __init__(self, _name, _x, _y, _point, _mac):\n",
        "        self.name = _name\n",
        "        self.x = _x\n",
        "        self.y = _y\n",
        "        self.point = _point\n",
        "        self.mac = _mac"
      ],
      "execution_count": 32,
      "outputs": []
    },
    {
      "cell_type": "markdown",
      "metadata": {
        "id": "a8SH_0K8pI_0"
      },
      "source": [
        "##Create APs"
      ]
    },
    {
      "cell_type": "code",
      "metadata": {
        "id": "eFeMrEo3pI_0"
      },
      "source": [
        "ap_list = []\n",
        "\n",
        "ap_list.append(AP('Google Blanco', 0, 19.2, 20, '58:cb:52:d7:b4:d9#1'))\n",
        "\n",
        "ap_list.append(AP('Google Azul', 0, 0, 0, '58:cb:52:d7:b5:31#1'))\n",
        "\n",
        "#ap_list.append(AP('Linksys 1', 4, 0, 2, '30:23:03:87:17:80#1'))\n",
        "\n",
        "ap_list.append(AP('Google Verde', 8, 0, 4, '58:cb:52:d7:b5:5d#1'))\n",
        "\n",
        "#ap_list.append(AP('Linksys 2', 0, 9.6, 10, '30:23:03:87:17:98#1'))\n",
        "\n",
        "ap_list.append(AP('Google Rojo', 8.0, 19.2, 24, '58:cb:52:d7:bb:61#1'))\n",
        "\n",
        "#ap_list.append(AP('Linksys 3', 4, 19.2, 22, '30:23:03:87:19:6c#1'))\n",
        "\n",
        "#ap_list.append(AP('Linksys 4', 8, 9.6, 14, 'c4:41:1e:fa:08:88#1'))"
      ],
      "execution_count": 33,
      "outputs": []
    },
    {
      "cell_type": "markdown",
      "metadata": {
        "id": "LqS1CJ--pI_0"
      },
      "source": [
        "##Sort APs by location"
      ]
    },
    {
      "cell_type": "code",
      "metadata": {
        "colab": {
          "base_uri": "https://localhost:8080/"
        },
        "id": "76keG6UzpI_0",
        "outputId": "40efe68b-9a58-4e43-a32e-5a9872e74720"
      },
      "source": [
        "ap_labels = {}\n",
        "ap_indexes = {}\n",
        "ap_mac = []\n",
        "\n",
        "\"\"\"\n",
        "Sorting AP list\n",
        "\"\"\"\n",
        "ap_list.sort(key=lambda x: x.point)\n",
        "\n",
        "print(\"List of Access Points: \\n\\n\")\n",
        "points = []\n",
        "for i in range(len(ap_list)):\n",
        "  points.append(ap_list[i].point)\n",
        "  ap_labels[i]=ap_list[i].name\n",
        "  ap_indexes[str(ap_list[i].name)]=i\n",
        "  ap_mac.append(ap_list[i].mac)\n",
        "  print(ap_list[i].name,'-->',' x: ',ap_list[i].x,' y: ', \n",
        "        ap_list[i].y, ' point: ', ap_list[i].point, '\\n')\n",
        "\n",
        "print('\\nAP Points: ', points, '\\n\\n')\n",
        "print(\"MAC Address List: \\n\\n\")\n",
        "print(ap_mac)"
      ],
      "execution_count": 34,
      "outputs": [
        {
          "output_type": "stream",
          "name": "stdout",
          "text": [
            "List of Access Points: \n",
            "\n",
            "\n",
            "Google Azul -->  x:  0  y:  0  point:  0 \n",
            "\n",
            "Google Verde -->  x:  8  y:  0  point:  4 \n",
            "\n",
            "Google Blanco -->  x:  0  y:  19.2  point:  20 \n",
            "\n",
            "Google Rojo -->  x:  8.0  y:  19.2  point:  24 \n",
            "\n",
            "\n",
            "AP Points:  [0, 4, 20, 24] \n",
            "\n",
            "\n",
            "MAC Address List: \n",
            "\n",
            "\n",
            "['58:cb:52:d7:b5:31#1', '58:cb:52:d7:b5:5d#1', '58:cb:52:d7:b4:d9#1', '58:cb:52:d7:bb:61#1']\n"
          ]
        }
      ]
    },
    {
      "cell_type": "markdown",
      "metadata": {
        "id": "C4K6hzo8pI_0"
      },
      "source": [
        "##Final Scenario "
      ]
    },
    {
      "cell_type": "code",
      "metadata": {
        "id": "ngh6tCUnpI_0"
      },
      "source": [
        "\"\"\"\n",
        "AP locations\n",
        "\"\"\"\n",
        "L_ap = locations[points,:]\n",
        "\n",
        "\"\"\"\n",
        "VRP locations\n",
        "\"\"\"\n",
        "L_vrp = np.delete(locations, points, 0)\n",
        "\n",
        "n_ap = len(ap_list)\n",
        "n_vrp = n_points - n_ap\n",
        "\n",
        "\"\"\"\n",
        "Plot coordinates\n",
        "\"\"\"\n",
        "coordinates = np.array(np.meshgrid(np.linspace(0, points_x - 1, points_x), np.linspace(0, points_y - 1, points_y))).T.reshape(-1,2)\n",
        "coordinates[:, [1, 0]] = coordinates[:, [0, 1]]\n",
        "\n",
        "coordinates_ap = coordinates[points,:]\n",
        "\n",
        "coordinates_vrp = np.delete(coordinates, points, 0)"
      ],
      "execution_count": 35,
      "outputs": []
    },
    {
      "cell_type": "code",
      "metadata": {
        "colab": {
          "base_uri": "https://localhost:8080/",
          "height": 512
        },
        "cellView": "form",
        "id": "nGK9-S2bpI_0",
        "outputId": "4637b438-ee67-4386-f02f-14b6b933d676"
      },
      "source": [
        "#@title ##Scenario Plot\n",
        "plt.figure(figsize=(points_y*1.5, points_x*1.5))\n",
        "\n",
        "plt.scatter(coordinates_ap[:,0], coordinates_ap[:,1], c='b')\n",
        "plt.scatter(coordinates_vrp[:,0], coordinates_vrp[:,1], c='r')\n",
        "\n",
        "plt.legend(labels=['AP','VRP'],loc=\"upper right\",borderaxespad=-5)\n",
        "plt.title('Radio-Map',pad=20)\n",
        "plt.axis('off')\n",
        "\n",
        "for x,y,z in zip(coordinates[:,0],coordinates[:,1], np.linspace(0, n_points - 1, n_points).astype(int)):\n",
        "    label = f\"({locations[z,0]},{locations[z,1]})\"\n",
        "\n",
        "    plt.annotate(label, # this is the text\n",
        "                 (x,y), # this is the point to label\n",
        "                 textcoords=\"offset points\", # how to position the text\n",
        "                 xytext=(0,-20), # distance from text to points (x,y)\n",
        "                 ha='center') # horizontal alignment can be left, right or center\n",
        "\n",
        "    label = f\"{z}\"\n",
        "\n",
        "    plt.annotate(label, # this is the text\n",
        "                  (x,y), # this is the point to label\n",
        "                  textcoords=\"offset points\", # how to position the text\n",
        "                  xytext=(0,-40), # distance from text to points (x,y)\n",
        "                  ha='center',\n",
        "                  weight='bold') # horizontal alignment can be left, right or center\n",
        "\n",
        "for x,y,z in zip(coordinates_ap[:,0],coordinates_ap[:,1], np.linspace(0, n_ap - 1, n_ap).astype(int)):\n",
        "    label = f\"{ap_labels[z]}\"\n",
        "\n",
        "    plt.annotate(label, # this is the text\n",
        "                 (x,y), # this is the point to label\n",
        "                 textcoords=\"offset points\", # how to position the text\n",
        "                 xytext=(0,10), # distance from text to points (x,y)\n",
        "                 ha='center', # horizontal alignment can be left, right or center\n",
        "                 weight='bold')"
      ],
      "execution_count": 36,
      "outputs": [
        {
          "output_type": "display_data",
          "data": {
            "image/png": "[encoded data removed]",
            "text/plain": [
              "<Figure size 540x540 with 1 Axes>"
            ]
          },
          "metadata": {
            "needs_background": "light"
          }
        }
      ]
    },
    {
      "cell_type": "markdown",
      "metadata": {
        "id": "7gaNqfQCmW4P"
      },
      "source": [
        "#RTT Observations among APs"
      ]
    },
    {
      "cell_type": "code",
      "metadata": {
        "id": "O3au2qfETNjH"
      },
      "source": [
        "\"\"\"\n",
        "Dataset split\n",
        "    - ap_obs --> RTT observations between APs\n",
        "\n",
        "We are getting RTT observations from dataset, splitting AP and VRP samples\n",
        "\"\"\"\n",
        "ap_obs = np.empty((n_ap, n_ap, 100))\n",
        "\n",
        "df.sort_values(ap_mac)\n",
        "for count, row in enumerate(L_ap):\n",
        "  if row[0] == 8.0 and row[1] == 19.2:\n",
        "    row[0] = 8.1\n",
        "  aux = df.loc[(df['y'] == row[0]) & (df['x'] == row[1])]\n",
        "  aux = aux[ap_mac].values\n",
        "  aux = aux.T\n",
        "  ap_obs[count,:,:] = aux"
      ],
      "execution_count": 37,
      "outputs": []
    },
    {
      "cell_type": "code",
      "metadata": {
        "id": "Ald6Ms2lun9A",
        "colab": {
          "base_uri": "https://localhost:8080/",
          "height": 330
        },
        "cellView": "form",
        "outputId": "9de53d2e-5d3c-4d05-9a72-f549d648e51b"
      },
      "source": [
        "#@title ##Observations plot\n",
        "ap_selected = \"Google Blanco\"  #@param ['Google Blanco', 'Linksys 1', 'Google Azul', 'Linksys 2', 'Google Rojo', 'Linksys 3', 'Google Verde']\n",
        "sample = 0 #@param {type:\"slider\", min:0, max:100, step:1}\n",
        "\n",
        "try:\n",
        "  ap_indexes[ap_selected]\n",
        "except:\n",
        "  ap_selected = ap_labels[0]\n",
        "  \n",
        "plt.figure(figsize=(8,4))\n",
        "\n",
        "plt.scatter(coordinates_ap[:,0], coordinates_ap[:,1], c='b')\n",
        "\n",
        "plt.legend(labels=['AP'],loc=\"upper right\",borderaxespad=-5)\n",
        "plt.title('RTT observations between target AP '+ap_selected+' and the others',pad=30)\n",
        "plt.axis('off')\n",
        "\n",
        "for x,y,z in zip(coordinates_ap[:,0], coordinates_ap[:,1], ap_obs[:,int(ap_indexes[ap_selected]),sample]):\n",
        "    label = f\"{z.round(3)} m\"\n",
        "\n",
        "    plt.annotate(label, # this is the text\n",
        "                 (x,y), # this is the point to label\n",
        "                 textcoords=\"offset points\", # how to position the text\n",
        "                 xytext=(0,-20), # distance from text to points (x,y)\n",
        "                 ha='center') # horizontal alignment can be left, right or center\n",
        "\n",
        "for x,y,z in zip(coordinates_ap[:,0],coordinates_ap[:,1], np.linspace(0, n_ap - 1, n_ap).astype(int)):\n",
        "\n",
        "    label = f\"{ap_labels[z]}\"\n",
        "\n",
        "    plt.annotate(label, # this is the text\n",
        "                 (x,y), # this is the point to label\n",
        "                 textcoords=\"offset points\", # how to position the text\n",
        "                 xytext=(0,10), # distance from text to points (x,y)\n",
        "                 ha='center', # horizontal alignment can be left, right or center\n",
        "                 weight='bold')\n",
        "\n",
        "for x,y,z in zip(coordinates_ap[:,0],coordinates_ap[:,1], np.linspace(0, n_ap - 1, n_ap).astype(int)):\n",
        "    label = f\"({L_ap[z,0]},{L_ap[z,1]})\"\n",
        "\n",
        "    plt.annotate(label, # this is the text\n",
        "                 (x,y), # this is the point to label\n",
        "                 textcoords=\"offset points\", # how to position the text\n",
        "                 xytext=(0,-40), # distance from text to points (x,y)\n",
        "                 ha='center',\n",
        "                 weight='bold') # horizontal alignment can be left, right or center"
      ],
      "execution_count": 38,
      "outputs": [
        {
          "output_type": "display_data",
          "data": {
            "image/png": "[encoded data removed]",
            "text/plain": [
              "<Figure size 576x288 with 1 Axes>"
            ]
          },
          "metadata": {
            "needs_background": "light"
          }
        }
      ]
    },
    {
      "cell_type": "markdown",
      "metadata": {
        "id": "SQvSbCAJwpZ4"
      },
      "source": [
        "#Polynomial Surface Fitting"
      ]
    },
    {
      "cell_type": "code",
      "metadata": {
        "id": "594fW_VvZghT"
      },
      "source": [
        "\"\"\"\n",
        "Polynomial Surface model fitting\n",
        "    \n",
        "    loc --> X,Y tuple array of AP locations\n",
        "    d --> AP RTT distance observations\n",
        "    order --> Polinomial order\n",
        "\"\"\"\n",
        "def surface_fit(loc, d, order=1):\n",
        "    '''\n",
        "    Clear nan values\n",
        "    '''\n",
        "    for index, pos in enumerate(d):\n",
        "      if math.isnan(pos):\n",
        "        loc = np.delete(loc, index, 0)\n",
        "        d = np.delete(d,index)\n",
        "\n",
        "    '''\n",
        "    Computing polynomial surface coefficients\n",
        "    '''\n",
        "    if order == 1:\n",
        "        A = np.c_[loc[:,0], loc[:,1], np.ones(loc.shape[0])]\n",
        "        C,_,_,_ = scipy.linalg.lstsq(A, d)\n",
        "    else:\n",
        "        A = np.c_[np.ones(loc.shape[0]), loc[:,:2], np.prod(loc[:,:2], axis=1), loc[:,:2]**2]\n",
        "        C,_,_,_ = scipy.linalg.lstsq(A, d)\n",
        "    return C"
      ],
      "execution_count": 39,
      "outputs": []
    },
    {
      "cell_type": "code",
      "metadata": {
        "id": "3g9D2342ZghT"
      },
      "source": [
        "\"\"\"\n",
        "Mean RTT distance estimation\n",
        "    \n",
        "    x --> AP's x locations\n",
        "    y --> AP's y locations\n",
        "    C --> Model coefficients\n",
        "\"\"\"\n",
        "def sample_distance(x, y, C):\n",
        "    XX = x.flatten()\n",
        "    YY = y.flatten()\n",
        "    \n",
        "    if C.shape[0] == 3:\n",
        "        fit = np.dot(np.c_[XX, YY, np.ones(XX.shape)], C).reshape(x.shape)\n",
        "    else:\n",
        "        fit = np.dot(np.c_[np.ones(XX.shape), XX, YY, XX*YY, XX**2, YY**2], C).reshape(x.shape)\n",
        "    return fit"
      ],
      "execution_count": 40,
      "outputs": []
    },
    {
      "cell_type": "code",
      "metadata": {
        "id": "DWosLZ1gZghT"
      },
      "source": [
        "\"\"\"\n",
        "Surface fitting models\n",
        "\"\"\"\n",
        "\n",
        "\"\"\"\n",
        "Plot domain\n",
        "\"\"\"\n",
        "X,Y = np.meshgrid(np.linspace(0, width, points_x).round(3), np.linspace(0, height, points_y).round(3))\n",
        "\n",
        "\"\"\"\n",
        "Models fitting and surface estimation\n",
        "\"\"\"\n",
        "models_1 = np.array([np.array([surface_fit(L_ap, ap_obs[:,j,i]) \n",
        "                      for (i) in np.linspace(0, 100 - 1, 100).astype(int)]) \n",
        "                      for (j) in np.linspace(0, n_ap - 1, n_ap).astype(int)]) \n",
        "\n",
        "models_2 = np.array([np.array([surface_fit(L_ap, ap_obs[:,j,i],2) \n",
        "                      for (i) in np.linspace(0, 100 - 1, 100).astype(int)]) \n",
        "                      for (j) in np.linspace(0, n_ap - 1, n_ap).astype(int)])\n",
        "\n",
        "Z_1 = np.array([np.array([sample_distance(X, Y, models_1[j,i,:]) \n",
        "                      for (i) in np.linspace(0, 100 - 1, 100).astype(int)]) \n",
        "                      for (j) in np.linspace(0, n_ap - 1, n_ap).astype(int)])\n",
        "\n",
        "Z_2 = np.array([np.array([sample_distance(X, Y, models_2[j,i,:]) \n",
        "                      for (i) in np.linspace(0, 100 - 1, 100).astype(int)]) \n",
        "                      for (j) in np.linspace(0, n_ap - 1, n_ap).astype(int)])"
      ],
      "execution_count": 41,
      "outputs": []
    },
    {
      "cell_type": "code",
      "metadata": {
        "id": "gBqbE-LSTATw",
        "colab": {
          "base_uri": "https://localhost:8080/",
          "height": 481
        },
        "cellView": "form",
        "outputId": "33e12c6b-1cde-4a04-de71-13fb50a0b08a"
      },
      "source": [
        "#@title ##Surface Fitting Models Plot\n",
        "ap_selected = \"Google Azul\"  #@param ['Google Blanco', 'Linksys 1', 'Google Azul', 'Linksys 2', 'Google Rojo', 'Linksys 3', 'Google Verde']\n",
        "sample = 8 #@param {type:\"slider\", min:0, max:100, step:1}\n",
        "\n",
        "try:\n",
        "  ap_indexes[ap_selected]\n",
        "except:\n",
        "  ap_selected = ap_labels[0]\n",
        "\n",
        "fig = plt.figure(figsize=(12,8))\n",
        "\n",
        "ax = fig.gca(projection='3d')\n",
        "\n",
        "l1 = ax.plot_surface(X, Y, Z_1[int(ap_indexes[ap_selected]),sample], rstride=1, cstride=1, alpha=0.5, label='linear', color='g')\n",
        "l2 = ax.plot_surface(X, Y, Z_2[int(ap_indexes[ap_selected]),sample], rstride=1, cstride=1, alpha=0.5, label='quadratic', color='b')\n",
        "\n",
        "ax.scatter(L_ap[:,0], L_ap[:,1], ap_obs[:,int(ap_indexes[ap_selected]),sample], c='r', s=50)\n",
        "\n",
        "plt.xlabel('X')\n",
        "plt.ylabel('Y')\n",
        "ax.set_zlabel('m')\n",
        "ax.axis('auto')\n",
        "\n",
        "line_labels = [\"AP locations\",\"Linear\", \"Quadratic\"]\n",
        "\n",
        "#ax.plot([0], [0], d_RTT[:,int(ap_indexes[ap_selected])][0], color=\"red\", marker='o', linewidth=0)[0]\n",
        "#ax.plot([0], [0], color=\"green\")[0]\n",
        "#ax.plot([0], [0], color=\"blue\")[0]\n",
        "\n",
        "#fig.legend(labels=line_labels,loc=\"upper right\",borderaxespad=4)\n",
        "\n",
        "plt.title('AP RTT distance models', pad=40)\n",
        "plt.show()"
      ],
      "execution_count": 42,
      "outputs": [
        {
          "output_type": "display_data",
          "data": {
            "image/png": "[encoded data removed]",
            "text/plain": [
              "<Figure size 864x576 with 1 Axes>"
            ]
          },
          "metadata": {
            "needs_background": "light"
          }
        }
      ]
    },
    {
      "cell_type": "markdown",
      "metadata": {
        "id": "7TxsAYnNWoEL"
      },
      "source": [
        "##Mean RTT Distance vectors"
      ]
    },
    {
      "cell_type": "code",
      "metadata": {
        "id": "21ZADkuHZghV"
      },
      "source": [
        "\"\"\"\n",
        "Mean RTT distance values at VRPs\n",
        "    _1 --> Order 1 surface fit\n",
        "    _2 --> Order 2 surface fit\n",
        "\"\"\"\n",
        "\n",
        "fit_1 = np.reshape(Z_1, (n_ap, 100, n_points, 1))\n",
        "fit_2 = np.reshape(Z_2, (n_ap, 100, n_points, 1))\n",
        "\n",
        "\"\"\"\n",
        "Mean RTT observations between target AP and the rest\n",
        "\"\"\"\n",
        "m_ap_1 = np.array([fit_1[:, i, points, :] for (i) in np.linspace(0, 100 - 1, 100).astype(int)])\n",
        "m_ap_2 = np.array([fit_2[:, i, points, :] for (i) in np.linspace(0, 100 - 1, 100).astype(int)])\n",
        "\n",
        "\"\"\"\n",
        "Reference points vector\n",
        "\"\"\"\n",
        "vrp_pts = np.delete(np.linspace(0, n_points - 1, n_points).astype(int), points, 0)\n",
        "\n",
        "\"\"\"\n",
        "Mean RTT observations between target AP and VRPs\n",
        "\"\"\"\n",
        "m_vrp_1 = np.array([fit_1[:, i, vrp_pts, :] for (i) in np.linspace(0, 100 - 1, 100).astype(int)])\n",
        "m_vrp_2 = np.array([fit_2[:, i, vrp_pts, :] for (i) in np.linspace(0, 100 - 1, 100).astype(int)])"
      ],
      "execution_count": 43,
      "outputs": []
    },
    {
      "cell_type": "code",
      "metadata": {
        "id": "PDmt0S7KXAuf",
        "colab": {
          "base_uri": "https://localhost:8080/",
          "height": 568
        },
        "cellView": "form",
        "outputId": "2012d043-3e91-4cad-aea3-63a3f054b11e"
      },
      "source": [
        "#@title ##Order 1 PSFM Mean RTT Distance Plot\n",
        "ap_selected = \"Google Azul\"  #@param ['Google Blanco', 'Linksys 1', 'Google Azul', 'Linksys 2', 'Google Rojo', 'Linksys 3', 'Google Verde']\n",
        "sample = 8 #@param {type:\"slider\", min:0, max:100, step:1}\n",
        "\n",
        "try:\n",
        "  ap_indexes[ap_selected]\n",
        "except:\n",
        "  ap_selected = ap_labels[0]\n",
        "\n",
        "plt.figure(figsize=(8,8))\n",
        "\n",
        "plt.scatter(coordinates_ap[:,0], coordinates_ap[:,1], c='b')\n",
        "plt.scatter(coordinates_vrp[:,0], coordinates_vrp[:,1], c='r')\n",
        "\n",
        "plt.legend(labels=['AP','VRP'],loc=\"upper right\",borderaxespad=-8)\n",
        "plt.title('AP '+ap_selected+': Order 1 PSFM Mean RTT Distance values',pad=60)\n",
        "plt.axis('off')\n",
        "\n",
        "for x,y,z in zip(coordinates[:,0], coordinates[:,1], np.linspace(0, n_points - 1, n_points).astype(int)):\n",
        "    label = f\"{fit_1[int(ap_indexes[ap_selected]),sample,z][0].round(3)} m\"\n",
        "\n",
        "    plt.annotate(label, # this is the text\n",
        "                 (x,y), # this is the point to label\n",
        "                 textcoords=\"offset points\", # how to position the text\n",
        "                 xytext=(0,-20), # distance from text to points (x,y)\n",
        "                 ha='center') # horizontal alignment can be left, right or center\n",
        "\n",
        "for x,y,z in zip(coordinates[:,0],coordinates[:,1], np.linspace(0, n_points - 1, n_points).astype(int)):\n",
        "    label = f\"({locations[z,0]},{locations[z,1]})\"\n",
        "\n",
        "    plt.annotate(label, # this is the text\n",
        "                 (x,y), # this is the point to label\n",
        "                 textcoords=\"offset points\", # how to position the text\n",
        "                 xytext=(0,10), # distance from text to points (x,y)\n",
        "                 ha='center',\n",
        "                 weight='bold') # horizontal alignment can be left, right or center\n",
        "\n",
        "    label = f\"{z}\"\n",
        "\n",
        "    plt.annotate(label, # this is the text\n",
        "                  (x,y), # this is the point to label\n",
        "                  textcoords=\"offset points\", # how to position the text\n",
        "                  xytext=(0,-40), # distance from text to points (x,y)\n",
        "                  ha='center',\n",
        "                  weight='bold') # horizontal alignment can be left, right or center\n",
        "\n",
        "for x,y,z in zip(coordinates_ap[:,0],coordinates_ap[:,1], np.linspace(0, n_ap - 1, n_ap).astype(int)):\n",
        "\n",
        "    label = f\"{ap_labels[z]}\"\n",
        "\n",
        "    plt.annotate(label, # this is the text\n",
        "                 (x,y), # this is the point to label\n",
        "                 textcoords=\"offset points\", # how to position the text\n",
        "                 xytext=(0,30), # distance from text to points (x,y)\n",
        "                 ha='center', # horizontal alignment can be left, right or center\n",
        "                 weight='bold')"
      ],
      "execution_count": 44,
      "outputs": [
        {
          "output_type": "display_data",
          "data": {
            "image/png": "[encoded data removed]",
            "text/plain": [
              "<Figure size 576x576 with 1 Axes>"
            ]
          },
          "metadata": {
            "needs_background": "light"
          }
        }
      ]
    },
    {
      "cell_type": "code",
      "metadata": {
        "id": "rKAbuIt0ZghW",
        "colab": {
          "base_uri": "https://localhost:8080/",
          "height": 568
        },
        "cellView": "form",
        "outputId": "6cb9de5b-7b25-49f6-b17b-ebb0f50a4791"
      },
      "source": [
        "#@title ##Order 2 PSFM Mean RTT Distance Plot\n",
        "ap_selected = \"Google Azul\"  #@param ['Google Blanco', 'Linksys 1', 'Google Azul', 'Linksys 2', 'Google Rojo', 'Linksys 3', 'Google Verde']\n",
        "sample = 8 #@param {type:\"slider\", min:0, max:100, step:1}\n",
        "\n",
        "try:\n",
        "  ap_indexes[ap_selected]\n",
        "except:\n",
        "  ap_selected = ap_labels[0]\n",
        "\n",
        "plt.figure(figsize=(8,8))\n",
        "\n",
        "plt.scatter(coordinates_ap[:,0], coordinates_ap[:,1], c='b')\n",
        "plt.scatter(coordinates_vrp[:,0], coordinates_vrp[:,1], c='r')\n",
        "\n",
        "plt.legend(labels=['AP','VRP'],loc=\"upper right\",borderaxespad=-8)\n",
        "plt.title('AP '+ap_selected+': Order 2 PSFM Mean RTT Distance values',pad=60)\n",
        "plt.axis('off')\n",
        "\n",
        "for x,y,z in zip(coordinates[:,0], coordinates[:,1], np.linspace(0, n_points - 1, n_points).astype(int)):\n",
        "    label = f\"{fit_2[int(ap_indexes[ap_selected]),sample,z][0].round(3)} m\"\n",
        "\n",
        "    plt.annotate(label, # this is the text\n",
        "                 (x,y), # this is the point to label\n",
        "                 textcoords=\"offset points\", # how to position the text\n",
        "                 xytext=(0,-20), # distance from text to points (x,y)\n",
        "                 ha='center') # horizontal alignment can be left, right or center\n",
        "\n",
        "for x,y,z in zip(coordinates[:,0],coordinates[:,1], np.linspace(0, n_points - 1, n_points).astype(int)):\n",
        "    label = f\"({locations[z,0]},{locations[z,1]})\"\n",
        "\n",
        "    plt.annotate(label, # this is the text\n",
        "                 (x,y), # this is the point to label\n",
        "                 textcoords=\"offset points\", # how to position the text\n",
        "                 xytext=(0,10), # distance from text to points (x,y)\n",
        "                 ha='center',\n",
        "                 weight='bold') # horizontal alignment can be left, right or center\n",
        "\n",
        "    label = f\"{z}\"\n",
        "\n",
        "    plt.annotate(label, # this is the text\n",
        "                  (x,y), # this is the point to label\n",
        "                  textcoords=\"offset points\", # how to position the text\n",
        "                  xytext=(0,-40), # distance from text to points (x,y)\n",
        "                  ha='center',\n",
        "                  weight='bold') # horizontal alignment can be left, right or center\n",
        "\n",
        "for x,y,z in zip(coordinates_ap[:,0],coordinates_ap[:,1], np.linspace(0, n_ap - 1, n_ap).astype(int)):\n",
        "\n",
        "    label = f\"{ap_labels[z]}\"\n",
        "\n",
        "    plt.annotate(label, # this is the text\n",
        "                 (x,y), # this is the point to label\n",
        "                 textcoords=\"offset points\", # how to position the text\n",
        "                 xytext=(0,30), # distance from text to points (x,y)\n",
        "                 ha='center', # horizontal alignment can be left, right or center\n",
        "                 weight='bold')"
      ],
      "execution_count": 45,
      "outputs": [
        {
          "output_type": "display_data",
          "data": {
            "image/png": "[encoded data removed]",
            "text/plain": [
              "<Figure size 576x576 with 1 Axes>"
            ]
          },
          "metadata": {
            "needs_background": "light"
          }
        }
      ]
    },
    {
      "cell_type": "markdown",
      "metadata": {
        "id": "LEXo59pJbLaQ"
      },
      "source": [
        "#Gaussian Process Regression"
      ]
    },
    {
      "cell_type": "markdown",
      "metadata": {
        "id": "41XzYLgh3Y0b"
      },
      "source": [
        "##Kernel definition"
      ]
    },
    {
      "cell_type": "code",
      "metadata": {
        "id": "QXhFUU39ZghW"
      },
      "source": [
        "\"\"\"\n",
        "Gaussian Process Kernel definition\n",
        "\n",
        "Kernel parameters:\n",
        "    - L --> Length Scale\n",
        "    - sigma_f --> Constant Kernel Amplitude\n",
        "\"\"\"\n",
        "\n",
        "def kernel_function(x, y, sigma_f=1, l=1):\n",
        "\n",
        "    \"\"\" Squared Exponential kernel function \"\"\"\n",
        "    kernel = sigma_f * np.exp(- (np.linalg.norm(x - y)**2) / (2 * l**2))\n",
        "    return kernel"
      ],
      "execution_count": 46,
      "outputs": []
    },
    {
      "cell_type": "markdown",
      "metadata": {
        "id": "DTBndfBs3bpx"
      },
      "source": [
        "##Hyperparameter optimization"
      ]
    },
    {
      "cell_type": "code",
      "metadata": {
        "id": "NfFnbKL6ZghW"
      },
      "source": [
        "\"\"\"\n",
        "Hyperparameter optimization of sigma_f and length-scale\n",
        "\n",
        "    loc --> AP locations\n",
        "    mean --> RTT distance observations between APs\n",
        "\"\"\"\n",
        "def gp_fit(loc, mean):\n",
        "    '''\n",
        "    Clear nan values\n",
        "    '''\n",
        "    for index, pos in enumerate(mean):\n",
        "      if math.isnan(pos):\n",
        "        loc = np.delete(loc, index, 0)\n",
        "        mean = np.delete(mean,index)\n",
        "\n",
        "    gp.fit(loc, mean)\n",
        "\n",
        "    l = gp.kernel_.get_params().get('k2__length_scale')\n",
        "    sigma_f = gp.kernel_.get_params().get('k1__constant_value')\n",
        "    return l, sigma_f"
      ],
      "execution_count": 47,
      "outputs": []
    },
    {
      "cell_type": "code",
      "metadata": {
        "id": "4hyARn-3ZghX"
      },
      "source": [
        "\"\"\"\n",
        "Gaussian Process Fit using scikit-learn GPR\n",
        "\"\"\"\n",
        "sigma_n = 0.0\n",
        "\n",
        "kernel = ConstantKernel(constant_value=100.0,constant_value_bounds=(1e-3, 1e3)) \\\n",
        "            * RBF(length_scale=10.0, length_scale_bounds=(1e-3, 1e3))\n",
        "\n",
        "gp = GaussianProcessRegressor(kernel=kernel, alpha=sigma_n**2, n_restarts_optimizer=10)\n",
        "\n",
        "#hyper_params = np.array([gp_fit(L_ap, ap_obs[:,i,8]) for (i) in np.linspace(0, n_ap - 1, n_ap).astype(int)])\n",
        "hyper_params = np.array([np.array([gp_fit(L_ap, ap_obs[:,j,i]) \n",
        "                      for (i) in np.linspace(0, 100 - 1, 100).astype(int)]) \n",
        "                      for (j) in np.linspace(0, n_ap - 1, n_ap).astype(int)]) "
      ],
      "execution_count": 48,
      "outputs": []
    },
    {
      "cell_type": "code",
      "metadata": {
        "colab": {
          "base_uri": "https://localhost:8080/"
        },
        "id": "v7MDgoNKPtEH",
        "outputId": "86c397f9-fcdc-4e13-e0af-0e0ee0ea63f0"
      },
      "source": [
        "print(hyper_params[:,8])"
      ],
      "execution_count": 49,
      "outputs": [
        {
          "output_type": "stream",
          "name": "stdout",
          "text": [
            "[[ 14.93914749 166.47957829]\n",
            " [ 14.7025477  153.7432269 ]\n",
            " [ 14.66415885 148.84504862]\n",
            " [ 13.56630026 173.416707  ]]\n"
          ]
        }
      ]
    },
    {
      "cell_type": "markdown",
      "metadata": {
        "id": "3CxpeiYm4MxZ"
      },
      "source": [
        "##GPR Class definition\n",
        "\n",
        "### Handles the required parameters for each GPR interpolation\n",
        "\n",
        "####Parameters:\n",
        "\n",
        "*   **K (ndarray):** Covariance matrix between AP locations\n",
        "*   **K_star2 (ndarray):** Covariance matrix between VRP locations\n",
        "*   **K_star (ndarray):** Covariance matrix between each AP location and each VRP location\n",
        "*   **m_ap (ndarray):** Mean RTT distance values at AP locations from fitting model\n",
        "*   **m_vrp (ndarray):** Mean RTT distance values at VRP locations from fitting model"
      ]
    },
    {
      "cell_type": "code",
      "metadata": {
        "id": "Jqmk2JKaZghX"
      },
      "source": [
        "class Regressor:\n",
        "    def __init__(self, _K, _K_star2, _K_star, _m_ap, _m_vrp, _m_ap2, _m_vrp2):\n",
        "        self.K = _K\n",
        "        self.K_star2 = _K_star2\n",
        "        self.K_star = _K_star\n",
        "        self.m_ap = _m_ap\n",
        "        self.m_vrp = _m_vrp\n",
        "        self.m_ap2 = _m_ap2\n",
        "        self.m_vrp2 = _m_vrp2"
      ],
      "execution_count": 50,
      "outputs": []
    },
    {
      "cell_type": "markdown",
      "metadata": {
        "id": "PjhEEpLC3lVj"
      },
      "source": [
        "##GPR Structure Computing"
      ]
    },
    {
      "cell_type": "markdown",
      "metadata": {
        "id": "2DQ4hnRV8LGQ"
      },
      "source": [
        "###Compute components of the covariance matrix of the joint distribution\n",
        "Covariance Matrices Notation:\n",
        "\n",
        "* K = K(L_ap, L_ap) \n",
        "* K_star = K(L_vrp, L_ap)\n",
        "* K_star2 = K(L_vrp, L_vrp)"
      ]
    },
    {
      "cell_type": "code",
      "metadata": {
        "id": "vtzBj_sYLzo4"
      },
      "source": [
        "def compute_k_matrix(loc, sigma_f=1, l=1):\n",
        "    \"\"\"\n",
        "    Compute components of the covariance matrix of the joint distribution.\n",
        "    \n",
        "    We follow the notation:\n",
        "        - K = K(L, L)\n",
        "    \"\"\"\n",
        "\n",
        "    K = [kernel_function(i, j, sigma_f=sigma_f, l=l) for (i, j) in itertools.product(loc, loc)]\n",
        "    K = np.array(K).reshape(n_ap, n_ap)\n",
        "\n",
        "    return K"
      ],
      "execution_count": 71,
      "outputs": []
    },
    {
      "cell_type": "code",
      "metadata": {
        "id": "YggLk2YZZghX"
      },
      "source": [
        "def compute_cov_matrices(L_ap, L_vrp, sigma_f=1, l=1):\n",
        "    \"\"\"\n",
        "    Compute components of the covariance matrix of the joint distribution.\n",
        "    \n",
        "    We follow the notation:\n",
        "    \n",
        "        - K = K(L, L) \n",
        "        - K_star = K(L^*, L)\n",
        "        - K_star2 = K(L^*, L^*)\n",
        "    \"\"\"\n",
        "    n = L_ap.shape[0]\n",
        "    n_star = L_vrp.shape[0]\n",
        "\n",
        "    K = [kernel_function(i, j, sigma_f=sigma_f, l=l) for (i, j) in itertools.product(L_ap, L_ap)]\n",
        "\n",
        "    K = np.array(K).reshape(n, n)\n",
        "    \n",
        "    K_star2 = [kernel_function(i, j, sigma_f=sigma_f, l=l) for (i, j) in itertools.product(L_vrp, L_vrp)]\n",
        "\n",
        "    K_star2 = np.array(K_star2).reshape(n_star, n_star)\n",
        "    \n",
        "    K_star = [kernel_function(i, j, sigma_f=sigma_f, l=l) for (i, j) in itertools.product(L_vrp, L_ap)]\n",
        "\n",
        "    K_star = np.array(K_star).reshape(n_star, n)\n",
        "    \n",
        "    return (K, K_star2, K_star)"
      ],
      "execution_count": 60,
      "outputs": []
    },
    {
      "cell_type": "code",
      "metadata": {
        "colab": {
          "base_uri": "https://localhost:8080/"
        },
        "id": "MIT9uvh7HqaP",
        "outputId": "64c27ebf-09f8-4bc2-8486-6e1e85f6189f"
      },
      "source": [
        "k_array = np.array([np.array([compute_k_matrix(L_ap, sigma_f=hyper_params[j,i][1], l=hyper_params[j,i][0])\n",
        "                                  for (i) in np.linspace(0, 100 - 1, 100).astype(int)])\n",
        "                                  for (j) in np.linspace(0, n_ap - 1, n_ap).astype(int)])\n",
        "print(k_array[0,8])\n",
        "print(k_array.shape)\n",
        "#k_array[0] = compute_k_matrix(L_ap, sigma_f=hyper_params[0,0][1], l=hyper_params[0,0][0])\n",
        "\n",
        "\"\"\"\n",
        "for i in np.linspace(0, n_ap - 1, n_ap).astype(int):\n",
        "  for j in np.linspace(0, 100 - 1, 90).astype(int):\n",
        "    a, b, c = compute_cov_matrices(L_ap, L_vrp, sigma_f=hyper_params[0,0][1], l=hyper_params[0,0][0])\n",
        "\"\"\"\n",
        "print(k_array.shape)"
      ],
      "execution_count": 89,
      "outputs": [
        {
          "output_type": "stream",
          "name": "stdout",
          "text": [
            "[[166.47957829 144.2415641   72.89246441  62.92824155]\n",
            " [144.2415641  166.47957829  63.15563258  72.89083137]\n",
            " [ 72.89246441  63.15563258 166.47957829 143.72222423]\n",
            " [ 62.92824155  72.89083137 143.72222423 166.47957829]]\n",
            "(4, 100, 4, 4)\n",
            "(4, 100, 4, 4)\n"
          ]
        }
      ]
    },
    {
      "cell_type": "markdown",
      "metadata": {
        "id": "U3EuRrCyQqfN"
      },
      "source": [
        "##Covariance matrices and regressor objects computing:\n",
        "\n",
        "- Covariance matrices: K, K_star, K_star2\n",
        "- Mean distance values: m_ap, m_vrp\n",
        "\n",
        " "
      ]
    },
    {
      "cell_type": "code",
      "metadata": {
        "id": "ppMwnl6wZghY",
        "colab": {
          "base_uri": "https://localhost:8080/",
          "height": 351
        },
        "outputId": "5414036e-1cdc-4c91-8a9f-fe57cd413a8f"
      },
      "source": [
        "\"\"\"\n",
        "Covariance matrices and regressor objects computing:\n",
        "\n",
        "    - Covariance matrices: K, K_star, K_star2\n",
        "    - Mean distance values: m_ap, m_vrp \n",
        "\"\"\"\n",
        "\n",
        "list = []\n",
        "\n",
        "for i in np.linspace(0, n_ap - 1, n_ap).astype(int):\n",
        "    a, b, c = compute_cov_matrices(L_ap, L_vrp, sigma_f=hyper_params[i][1], l=hyper_params[i][0])\n",
        "    gpr = Regressor(a,b,c,m_ap_1[i],m_vrp_1[i],m_ap_2[i],m_vrp_2[i])\n",
        "    list.append(gpr)"
      ],
      "execution_count": 52,
      "outputs": [
        {
          "output_type": "error",
          "ename": "ValueError",
          "evalue": "ignored",
          "traceback": [
            "\u001b[0;31m---------------------------------------------------------------------------\u001b[0m",
            "\u001b[0;31mValueError\u001b[0m                                Traceback (most recent call last)",
            "\u001b[0;32m<ipython-input-52-c96c971d874c>\u001b[0m in \u001b[0;36m<module>\u001b[0;34m()\u001b[0m\n\u001b[1;32m      9\u001b[0m \u001b[0;34m\u001b[0m\u001b[0m\n\u001b[1;32m     10\u001b[0m \u001b[0;32mfor\u001b[0m \u001b[0mi\u001b[0m \u001b[0;32min\u001b[0m \u001b[0mnp\u001b[0m\u001b[0;34m.\u001b[0m\u001b[0mlinspace\u001b[0m\u001b[0;34m(\u001b[0m\u001b[0;36m0\u001b[0m\u001b[0;34m,\u001b[0m \u001b[0mn_ap\u001b[0m \u001b[0;34m-\u001b[0m \u001b[0;36m1\u001b[0m\u001b[0;34m,\u001b[0m \u001b[0mn_ap\u001b[0m\u001b[0;34m)\u001b[0m\u001b[0;34m.\u001b[0m\u001b[0mastype\u001b[0m\u001b[0;34m(\u001b[0m\u001b[0mint\u001b[0m\u001b[0;34m)\u001b[0m\u001b[0;34m:\u001b[0m\u001b[0;34m\u001b[0m\u001b[0;34m\u001b[0m\u001b[0m\n\u001b[0;32m---> 11\u001b[0;31m     \u001b[0ma\u001b[0m\u001b[0;34m,\u001b[0m \u001b[0mb\u001b[0m\u001b[0;34m,\u001b[0m \u001b[0mc\u001b[0m \u001b[0;34m=\u001b[0m \u001b[0mcompute_cov_matrices\u001b[0m\u001b[0;34m(\u001b[0m\u001b[0mL_ap\u001b[0m\u001b[0;34m,\u001b[0m \u001b[0mL_vrp\u001b[0m\u001b[0;34m,\u001b[0m \u001b[0msigma_f\u001b[0m\u001b[0;34m=\u001b[0m\u001b[0mhyper_params\u001b[0m\u001b[0;34m[\u001b[0m\u001b[0mi\u001b[0m\u001b[0;34m]\u001b[0m\u001b[0;34m[\u001b[0m\u001b[0;36m1\u001b[0m\u001b[0;34m]\u001b[0m\u001b[0;34m,\u001b[0m \u001b[0ml\u001b[0m\u001b[0;34m=\u001b[0m\u001b[0mhyper_params\u001b[0m\u001b[0;34m[\u001b[0m\u001b[0mi\u001b[0m\u001b[0;34m]\u001b[0m\u001b[0;34m[\u001b[0m\u001b[0;36m0\u001b[0m\u001b[0;34m]\u001b[0m\u001b[0;34m)\u001b[0m\u001b[0;34m\u001b[0m\u001b[0;34m\u001b[0m\u001b[0m\n\u001b[0m\u001b[1;32m     12\u001b[0m     \u001b[0mgpr\u001b[0m \u001b[0;34m=\u001b[0m \u001b[0mRegressor\u001b[0m\u001b[0;34m(\u001b[0m\u001b[0ma\u001b[0m\u001b[0;34m,\u001b[0m\u001b[0mb\u001b[0m\u001b[0;34m,\u001b[0m\u001b[0mc\u001b[0m\u001b[0;34m,\u001b[0m\u001b[0mm_ap_1\u001b[0m\u001b[0;34m[\u001b[0m\u001b[0mi\u001b[0m\u001b[0;34m]\u001b[0m\u001b[0;34m,\u001b[0m\u001b[0mm_vrp_1\u001b[0m\u001b[0;34m[\u001b[0m\u001b[0mi\u001b[0m\u001b[0;34m]\u001b[0m\u001b[0;34m,\u001b[0m\u001b[0mm_ap_2\u001b[0m\u001b[0;34m[\u001b[0m\u001b[0mi\u001b[0m\u001b[0;34m]\u001b[0m\u001b[0;34m,\u001b[0m\u001b[0mm_vrp_2\u001b[0m\u001b[0;34m[\u001b[0m\u001b[0mi\u001b[0m\u001b[0;34m]\u001b[0m\u001b[0;34m)\u001b[0m\u001b[0;34m\u001b[0m\u001b[0;34m\u001b[0m\u001b[0m\n\u001b[1;32m     13\u001b[0m     \u001b[0mlist\u001b[0m\u001b[0;34m.\u001b[0m\u001b[0mappend\u001b[0m\u001b[0;34m(\u001b[0m\u001b[0mgpr\u001b[0m\u001b[0;34m)\u001b[0m\u001b[0;34m\u001b[0m\u001b[0;34m\u001b[0m\u001b[0m\n",
            "\u001b[0;32m<ipython-input-51-46258994a40c>\u001b[0m in \u001b[0;36mcompute_cov_matrices\u001b[0;34m(L_ap, L_vrp, sigma_f, l)\u001b[0m\n\u001b[1;32m     14\u001b[0m     \u001b[0mK\u001b[0m \u001b[0;34m=\u001b[0m \u001b[0;34m[\u001b[0m\u001b[0mkernel_function\u001b[0m\u001b[0;34m(\u001b[0m\u001b[0mi\u001b[0m\u001b[0;34m,\u001b[0m \u001b[0mj\u001b[0m\u001b[0;34m,\u001b[0m \u001b[0msigma_f\u001b[0m\u001b[0;34m=\u001b[0m\u001b[0msigma_f\u001b[0m\u001b[0;34m,\u001b[0m \u001b[0ml\u001b[0m\u001b[0;34m=\u001b[0m\u001b[0ml\u001b[0m\u001b[0;34m)\u001b[0m \u001b[0;32mfor\u001b[0m \u001b[0;34m(\u001b[0m\u001b[0mi\u001b[0m\u001b[0;34m,\u001b[0m \u001b[0mj\u001b[0m\u001b[0;34m)\u001b[0m \u001b[0;32min\u001b[0m \u001b[0mitertools\u001b[0m\u001b[0;34m.\u001b[0m\u001b[0mproduct\u001b[0m\u001b[0;34m(\u001b[0m\u001b[0mL_ap\u001b[0m\u001b[0;34m,\u001b[0m \u001b[0mL_ap\u001b[0m\u001b[0;34m)\u001b[0m\u001b[0;34m]\u001b[0m\u001b[0;34m\u001b[0m\u001b[0;34m\u001b[0m\u001b[0m\n\u001b[1;32m     15\u001b[0m \u001b[0;34m\u001b[0m\u001b[0m\n\u001b[0;32m---> 16\u001b[0;31m     \u001b[0mK\u001b[0m \u001b[0;34m=\u001b[0m \u001b[0mnp\u001b[0m\u001b[0;34m.\u001b[0m\u001b[0marray\u001b[0m\u001b[0;34m(\u001b[0m\u001b[0mK\u001b[0m\u001b[0;34m)\u001b[0m\u001b[0;34m.\u001b[0m\u001b[0mreshape\u001b[0m\u001b[0;34m(\u001b[0m\u001b[0mn\u001b[0m\u001b[0;34m,\u001b[0m \u001b[0mn\u001b[0m\u001b[0;34m)\u001b[0m\u001b[0;34m\u001b[0m\u001b[0;34m\u001b[0m\u001b[0m\n\u001b[0m\u001b[1;32m     17\u001b[0m \u001b[0;34m\u001b[0m\u001b[0m\n\u001b[1;32m     18\u001b[0m     \u001b[0mK_star2\u001b[0m \u001b[0;34m=\u001b[0m \u001b[0;34m[\u001b[0m\u001b[0mkernel_function\u001b[0m\u001b[0;34m(\u001b[0m\u001b[0mi\u001b[0m\u001b[0;34m,\u001b[0m \u001b[0mj\u001b[0m\u001b[0;34m,\u001b[0m \u001b[0msigma_f\u001b[0m\u001b[0;34m=\u001b[0m\u001b[0msigma_f\u001b[0m\u001b[0;34m,\u001b[0m \u001b[0ml\u001b[0m\u001b[0;34m=\u001b[0m\u001b[0ml\u001b[0m\u001b[0;34m)\u001b[0m \u001b[0;32mfor\u001b[0m \u001b[0;34m(\u001b[0m\u001b[0mi\u001b[0m\u001b[0;34m,\u001b[0m \u001b[0mj\u001b[0m\u001b[0;34m)\u001b[0m \u001b[0;32min\u001b[0m \u001b[0mitertools\u001b[0m\u001b[0;34m.\u001b[0m\u001b[0mproduct\u001b[0m\u001b[0;34m(\u001b[0m\u001b[0mL_vrp\u001b[0m\u001b[0;34m,\u001b[0m \u001b[0mL_vrp\u001b[0m\u001b[0;34m)\u001b[0m\u001b[0;34m]\u001b[0m\u001b[0;34m\u001b[0m\u001b[0;34m\u001b[0m\u001b[0m\n",
            "\u001b[0;31mValueError\u001b[0m: cannot reshape array of size 32 into shape (4,4)"
          ]
        }
      ]
    },
    {
      "cell_type": "code",
      "metadata": {
        "cellView": "form",
        "id": "b9gYzKuWZghY"
      },
      "source": [
        "#@title ##Multivariate Gaussian Process Dimension Check\n",
        "ap_selected = \"Linksys 1\"  #@param ['Google Blanco', 'Linksys 1', 'Google Azul', 'Linksys 2', 'Google Rojo', 'Linksys 3', 'Google Verde']\n",
        "\n",
        "try:\n",
        "  ap_indexes[ap_selected]\n",
        "except:\n",
        "  ap_selected = ap_labels[0]\n",
        "  \n",
        "\"\"\"\n",
        "Multivariate Joint Distribution Check: G matrix\n",
        "\"\"\"\n",
        "\n",
        "n = L_ap.shape[0]\n",
        "n_star = L_vrp.shape[0]\n",
        "\n",
        "a = np.concatenate((list[int(ap_indexes[ap_selected])].K + (sigma_n**2)*np.eye(n), list[int(ap_indexes[ap_selected])].K_star), axis=0)\n",
        "print(a.shape)\n",
        "b = np.concatenate((list[int(ap_indexes[ap_selected])].K_star.T, list[int(ap_indexes[ap_selected])].K_star2), axis=0)\n",
        "print(b.shape)\n",
        "G = np.concatenate((a, b), axis=1)\n",
        "print(G.shape)\n",
        "G.shape == (n + n_star, n + n_star)"
      ],
      "execution_count": null,
      "outputs": []
    },
    {
      "cell_type": "code",
      "metadata": {
        "cellView": "form",
        "id": "WFdijgl1RSkL"
      },
      "source": [
        "#@title ##Covariance Matrices Plot\n",
        "ap_selected = \"Linksys 1\"  #@param ['Google Blanco', 'Linksys 1', 'Google Azul', 'Linksys 2', 'Google Rojo', 'Linksys 3', 'Google Verde']\n",
        "\n",
        "try:\n",
        "  ap_indexes[ap_selected]\n",
        "except:\n",
        "  ap_selected = ap_labels[0]\n",
        "  \n",
        "\"\"\"\n",
        "Kernel Covariance Matrix K(L,L)\n",
        "\"\"\"\n",
        "fig, ax = plt.subplots(figsize=(10, 8))\n",
        "sns.heatmap(data=list[int(ap_indexes[ap_selected])].K, cmap='Blues', ax=ax)\n",
        "ax.set(title='AP '+ap_selected+' : Components of the Kernel Covariance Matrix K(L,L)')\n",
        "\n",
        "\"\"\"\n",
        "Kernel Covariance Matrix K(L*,L*)\n",
        "\"\"\"\n",
        "fig, ax = plt.subplots(figsize=(10, 8))\n",
        "sns.heatmap(data=list[int(ap_indexes[ap_selected])].K_star2, cmap='Blues', ax=ax)\n",
        "ax.set(title='AP '+ap_selected+' : Components of the Kernel Covariance Matrix K(L*,L*)')\n",
        "\n",
        "\"\"\"\n",
        "Kernel Covariance Matrix K(L*,L)\n",
        "\"\"\"\n",
        "fig, ax = plt.subplots(figsize=(10, 8))\n",
        "sns.heatmap(data=list[int(ap_indexes[ap_selected])].K_star, cmap='Blues', ax=ax)\n",
        "ax.set(title='AP '+ap_selected+' : Components of the Kernel Covariance Matrix K(L*,L)')\n",
        "print(\"\\nCovariance matrices: \\n\\n\")"
      ],
      "execution_count": null,
      "outputs": []
    },
    {
      "cell_type": "markdown",
      "metadata": {
        "id": "UBKyxcdDSlwe"
      },
      "source": [
        "#PSFM GPR Interpolation"
      ]
    },
    {
      "cell_type": "markdown",
      "metadata": {
        "id": "Ge0LR5qPWMVt"
      },
      "source": [
        "##Interpolation Computing"
      ]
    },
    {
      "cell_type": "code",
      "metadata": {
        "id": "c3XAwkGtZghZ"
      },
      "source": [
        "def psfm_gpr_parameters(m, m_star, d, K, K_star2, K_star, sigma_n):\n",
        "    \n",
        "    \"\"\"Compute gaussian regression parameters.\"\"\"\n",
        "\n",
        "    n = K.shape[0]\n",
        "    n_star = K_star.shape[0]\n",
        "    \n",
        "    # Mean.\n",
        "    s_bar_star = (m_star.reshape([n_star, 1]) \n",
        "        + np.dot(K_star, np.dot(np.linalg.inv(K + (sigma_n**2)*np.eye(n)), d.reshape([n, 1]) - m.reshape([n, 1]))))\n",
        "    # Covariance.\n",
        "    cov_s_star = K_star2 - np.dot(K_star, np.dot(np.linalg.inv(K + (sigma_n**2)*np.eye(n)), K_star.T))\n",
        "    \n",
        "    return (s_bar_star.reshape(n_star), cov_s_star)"
      ],
      "execution_count": null,
      "outputs": []
    },
    {
      "cell_type": "code",
      "metadata": {
        "id": "53RpUrnhZgha"
      },
      "source": [
        "def zero_mean_gpr_parameters(d, K, K_star2, K_star, sigma_n):\n",
        "    \n",
        "    \"\"\"Compute gaussian regression parameters.\"\"\"\n",
        "\n",
        "    n = K.shape[0]\n",
        "    n_star = K_star.shape[0]\n",
        "\n",
        "    # Mean.\n",
        "    s_bar_star = np.dot(K_star, np.dot(np.linalg.inv(K + (sigma_n**2)*np.eye(n)), d.reshape([n, 1])))\n",
        "    # Covariance.\n",
        "    cov_s_star = K_star2 - np.dot(K_star, np.dot(np.linalg.inv(K + (sigma_n**2)*np.eye(n)), K_star.T))\n",
        "    \n",
        "    return (s_bar_star.reshape(n_star), cov_s_star)"
      ],
      "execution_count": null,
      "outputs": []
    },
    {
      "cell_type": "code",
      "metadata": {
        "id": "2rF2TDRwZgha"
      },
      "source": [
        "\"\"\"\n",
        "Zero-Mean Gaussian Process interpolations\n",
        "\"\"\"\n",
        "n = L_ap.shape[0]\n",
        "n_star = L_vrp.shape[0]\n",
        "\n",
        "means = np.empty((n, n_star, 1))\n",
        "variances = np.empty((n, n_star, 1))\n",
        "\n",
        "for i in np.linspace(0, n_ap - 1, n_ap).astype(int):\n",
        "\n",
        "    s_bar_star, cov_s_star = zero_mean_gpr_parameters(d_RTT[:,i], list[i].K, list[i].K_star2, list[i].K_star, sigma_n)\n",
        "    var_s_star = np.diag(cov_s_star)\n",
        "\n",
        "    means[i,:,:] = s_bar_star.reshape(n_star,1)\n",
        "    variances[i,:,:] = var_s_star.reshape(n_star,1)"
      ],
      "execution_count": null,
      "outputs": []
    },
    {
      "cell_type": "code",
      "metadata": {
        "id": "_UlR4uNbZgha"
      },
      "source": [
        "\"\"\"\n",
        "Order 1 PSFM Gaussian Process interpolations\n",
        "\"\"\"\n",
        "means_psfm = np.empty((n, n_star, 1))\n",
        "\n",
        "for i in np.linspace(0, n_ap - 1, n_ap).astype(int):\n",
        "  \n",
        "    s_bar_star, cov_s_star = psfm_gpr_parameters(list[i].m_ap,list[i].m_vrp, d_RTT[:,i], list[i].K, list[i].K_star2, list[i].K_star, sigma_n)\n",
        "    means_psfm[i,:,:] = s_bar_star.reshape(n_star,1)"
      ],
      "execution_count": null,
      "outputs": []
    },
    {
      "cell_type": "code",
      "metadata": {
        "id": "7ldsijZxZgha"
      },
      "source": [
        "\"\"\"\n",
        "Order 2 PSFM Gaussian Process interpolations\n",
        "\"\"\"\n",
        "means_psfm2 = np.empty((n, n_star, 1))\n",
        "\n",
        "for i in np.linspace(0, n_ap - 1, n_ap).astype(int):\n",
        "  \n",
        "    s_bar_star, cov_s_star = psfm_gpr_parameters(list[i].m_ap2,list[i].m_vrp2, d_RTT[:,i], list[i].K, list[i].K_star2, list[i].K_star, sigma_n)\n",
        "    means_psfm2[i,:,:] = s_bar_star.reshape(n_star,1)"
      ],
      "execution_count": null,
      "outputs": []
    },
    {
      "cell_type": "markdown",
      "metadata": {
        "id": "--YfNHMQZgha"
      },
      "source": [
        "##Interpolation Plots"
      ]
    },
    {
      "cell_type": "code",
      "metadata": {
        "id": "OZDtEH6HZghb"
      },
      "source": [
        "#@title ##Zero-Mean GPR\n",
        "ap_selected = \"Google Rojo\"  #@param ['Google Blanco', 'Linksys 1', 'Google Azul', 'Linksys 2', 'Google Rojo', 'Linksys 3', 'Google Verde']\n",
        "\n",
        "try:\n",
        "  ap_indexes[ap_selected]\n",
        "except:\n",
        "  ap_selected = ap_labels[0]\n",
        "  \n",
        "\"\"\"\n",
        "Zero Mean Gaussian Process interpolation:\n",
        "    \n",
        "    s_bar_star --> Mean estimated value for each VRP\n",
        "    cov_s_star --> Posterior covariance matrix\n",
        "    var_s_star --> VRP estimation variance\n",
        "\"\"\"\n",
        "\n",
        "plt.figure(figsize=(9,6))\n",
        "\n",
        "plt.scatter(coordinates_ap[:,0], coordinates_ap[:,1], c='b')\n",
        "plt.scatter(coordinates_vrp[:,0], coordinates_vrp[:,1], c='r')\n",
        "\n",
        "plt.legend(labels=['AP','VRP'],loc=\"upper right\",borderaxespad=-8)\n",
        "plt.title('AP '+ap_selected+' : Zero Mean Gaussian Process interpolation',pad=60)\n",
        "plt.axis('off')\n",
        "\n",
        "for x,y,z in zip(coordinates_ap[:,0], coordinates_ap[:,1], d_RTT[:,int(ap_indexes[ap_selected])]):\n",
        "    label = f\"{z.round(3)} m\"\n",
        "\n",
        "    plt.annotate(label, # this is the text\n",
        "                 (x,y), # this is the point to label\n",
        "                 textcoords=\"offset points\", # how to position the text\n",
        "                 xytext=(0,-20), # distance from text to points (x,y)\n",
        "                 ha='center') # horizontal alignment can be left, right or center\n",
        "\n",
        "for x in range(len(means[int(ap_indexes[ap_selected])])):\n",
        "    label = f\"{means[int(ap_indexes[ap_selected])][x,0].round(3)} +- {variances[int(ap_indexes[ap_selected])][x,0].round(3)} m\"\n",
        "\n",
        "    plt.annotate(label, # this is the text\n",
        "                 (coordinates_vrp[x,0],coordinates_vrp[x,1]), # this is the point to label\n",
        "                 textcoords=\"offset points\", # how to position the text\n",
        "                 xytext=(0,-20), # distance from text to points (x,y)\n",
        "                 ha='center') # horizontal alignment can be left, right or center\n",
        "\n",
        "for x,y,z in zip(coordinates_ap[:,0],coordinates_ap[:,1], np.linspace(0, n_ap - 1, n_ap).astype(int)):\n",
        "\n",
        "    label = f\"{ap_labels[z]}\"\n",
        "\n",
        "    plt.annotate(label, # this is the text\n",
        "                 (x,y), # this is the point to label\n",
        "                 textcoords=\"offset points\", # how to position the text\n",
        "                 xytext=(0,30), # distance from text to points (x,y)\n",
        "                 ha='center', # horizontal alignment can be left, right or center\n",
        "                 weight='bold')\n",
        "\n",
        "for x,y,z in zip(coordinates[:,0],coordinates[:,1], np.linspace(0, n_points - 1, n_points).astype(int)):\n",
        "    label = f\"({locations[z,0]},{locations[z,1]})\"\n",
        "\n",
        "    plt.annotate(label, # this is the text\n",
        "                 (x,y), # this is the point to label\n",
        "                 textcoords=\"offset points\", # how to position the text\n",
        "                 xytext=(0,10), # distance from text to points (x,y)\n",
        "                 ha='center',\n",
        "                 weight='bold') # horizontal alignment can be left, right or center"
      ],
      "execution_count": null,
      "outputs": []
    },
    {
      "cell_type": "code",
      "metadata": {
        "cellView": "form",
        "id": "hy3TtsrvZghb"
      },
      "source": [
        "#@title ##First Order PSFM GPR\n",
        "ap_selected = \"Google Azul\"  #@param ['Google Blanco', 'Linksys 1', 'Google Azul', 'Linksys 2', 'Google Rojo', 'Linksys 3', 'Google Verde']\n",
        "\n",
        "try:\n",
        "  ap_indexes[ap_selected]\n",
        "except:\n",
        "  ap_selected = ap_labels[0]\n",
        "\n",
        "\"\"\"\n",
        "First Order PSFM Gaussian Process interpolation:\n",
        "    \n",
        "    s_bar_star --> Mean estimated value for each VRP\n",
        "    cov_s_star --> Posterior covariance matrix\n",
        "    var_s_star --> VRP estimation variance\n",
        "\"\"\"\n",
        "\n",
        "plt.figure(figsize=(9,6))\n",
        "\n",
        "plt.scatter(coordinates_ap[:,0], coordinates_ap[:,1], c='b')\n",
        "plt.scatter(coordinates_vrp[:,0], coordinates_vrp[:,1], c='r')\n",
        "\n",
        "plt.legend(labels=['AP','VRP'],loc=\"upper right\",borderaxespad=-8)\n",
        "plt.title('AP '+ap_selected+' : First Order PSFM Gaussian Process interpolation',pad=60)\n",
        "plt.axis('off')\n",
        "\n",
        "for x,y,z in zip(coordinates_ap[:,0], coordinates_ap[:,1], d_RTT[:,int(ap_indexes[ap_selected])]):\n",
        "    label = f\"{z.round(3)} m\"\n",
        "\n",
        "    plt.annotate(label, # this is the text\n",
        "                 (x,y), # this is the point to label\n",
        "                 textcoords=\"offset points\", # how to position the text\n",
        "                 xytext=(0,-20), # distance from text to points (x,y)\n",
        "                 ha='center') # horizontal alignment can be left, right or center\n",
        "\n",
        "for x in range(len(means_psfm[int(ap_indexes[ap_selected])])):\n",
        "    label = f\"{means_psfm[int(ap_indexes[ap_selected])][x,0].round(3)} +- {variances[int(ap_indexes[ap_selected])][x,0].round(3)} m\"\n",
        "\n",
        "    plt.annotate(label, # this is the text\n",
        "                 (coordinates_vrp[x,0],coordinates_vrp[x,1]), # this is the point to label\n",
        "                 textcoords=\"offset points\", # how to position the text\n",
        "                 xytext=(0,-20), # distance from text to points (x,y)\n",
        "                 ha='center') # horizontal alignment can be left, right or center\n",
        "\n",
        "for x,y,z in zip(coordinates_ap[:,0],coordinates_ap[:,1], np.linspace(0, n_ap - 1, n_ap).astype(int)):\n",
        "\n",
        "    label = f\"{ap_labels[z]}\"\n",
        "\n",
        "    plt.annotate(label, # this is the text\n",
        "                 (x,y), # this is the point to label\n",
        "                 textcoords=\"offset points\", # how to position the text\n",
        "                 xytext=(0,30), # distance from text to points (x,y)\n",
        "                 ha='center', # horizontal alignment can be left, right or center\n",
        "                 weight='bold')\n",
        "\n",
        "for x,y,z in zip(coordinates[:,0],coordinates[:,1], np.linspace(0, n_points - 1, n_points).astype(int)):\n",
        "    label = f\"({locations[z,0]},{locations[z,1]})\"\n",
        "\n",
        "    plt.annotate(label, # this is the text\n",
        "                 (x,y), # this is the point to label\n",
        "                 textcoords=\"offset points\", # how to position the text\n",
        "                 xytext=(0,10), # distance from text to points (x,y)\n",
        "                 ha='center',\n",
        "                 weight='bold') # horizontal alignment can be left, right or center"
      ],
      "execution_count": null,
      "outputs": []
    },
    {
      "cell_type": "code",
      "metadata": {
        "cellView": "form",
        "id": "-r46O6HfZghb"
      },
      "source": [
        "#@title ##Second Order PSFM GPR\n",
        "ap_selected = \"Google Azul\"  #@param ['Google Blanco', 'Linksys 1', 'Google Azul', 'Linksys 2', 'Google Rojo', 'Linksys 3', 'Google Verde']\n",
        "\n",
        "try:\n",
        "  ap_indexes[ap_selected]\n",
        "except:\n",
        "  ap_selected = ap_labels[0]\n",
        "\n",
        "\"\"\"\n",
        "Second Order PSFM Gaussian Process interpolation:\n",
        "    \n",
        "    s_bar_star --> Mean estimated value for each VRP\n",
        "    cov_s_star --> Posterior covariance matrix\n",
        "    var_s_star --> VRP estimation variance\n",
        "\"\"\"\n",
        "\n",
        "plt.figure(figsize=(9,6))\n",
        "\n",
        "plt.scatter(coordinates_ap[:,0], coordinates_ap[:,1], c='b')\n",
        "plt.scatter(coordinates_vrp[:,0], coordinates_vrp[:,1], c='r')\n",
        "\n",
        "plt.legend(labels=['AP','VRP'],loc=\"upper right\",borderaxespad=-8)\n",
        "plt.title('AP '+ap_selected+' : Second Order PSFM Gaussian Process interpolation',pad=60)\n",
        "plt.axis('off')\n",
        "\n",
        "for x,y,z in zip(coordinates_ap[:,0], coordinates_ap[:,1], d_RTT[:,int(ap_indexes[ap_selected])]):\n",
        "    label = f\"{z.round(3)} m\"\n",
        "\n",
        "    plt.annotate(label, # this is the text\n",
        "                 (x,y), # this is the point to label\n",
        "                 textcoords=\"offset points\", # how to position the text\n",
        "                 xytext=(0,-20), # distance from text to points (x,y)\n",
        "                 ha='center') # horizontal alignment can be left, right or center\n",
        "\n",
        "for x in range(len(means_psfm2[int(ap_indexes[ap_selected])])):\n",
        "    label = f\"{means_psfm2[int(ap_indexes[ap_selected])][x,0].round(3)} +- {variances[int(ap_indexes[ap_selected])][x,0].round(3)} m\"\n",
        "\n",
        "    plt.annotate(label, # this is the text\n",
        "                 (coordinates_vrp[x,0],coordinates_vrp[x,1]), # this is the point to label\n",
        "                 textcoords=\"offset points\", # how to position the text\n",
        "                 xytext=(0,-20), # distance from text to points (x,y)\n",
        "                 ha='center') # horizontal alignment can be left, right or center\n",
        "\n",
        "for x,y,z in zip(coordinates_ap[:,0],coordinates_ap[:,1], np.linspace(0, n_ap - 1, n_ap).astype(int)):\n",
        "\n",
        "    label = f\"{ap_labels[z]}\"\n",
        "\n",
        "    plt.annotate(label, # this is the text\n",
        "                 (x,y), # this is the point to label\n",
        "                 textcoords=\"offset points\", # how to position the text\n",
        "                 xytext=(0,30), # distance from text to points (x,y)\n",
        "                 ha='center', # horizontal alignment can be left, right or center\n",
        "                 weight='bold')\n",
        "\n",
        "for x,y,z in zip(coordinates[:,0],coordinates[:,1], np.linspace(0, n_points - 1, n_points).astype(int)):\n",
        "    label = f\"({locations[z,0]},{locations[z,1]})\"\n",
        "\n",
        "    plt.annotate(label, # this is the text\n",
        "                 (x,y), # this is the point to label\n",
        "                 textcoords=\"offset points\", # how to position the text\n",
        "                 xytext=(0,10), # distance from text to points (x,y)\n",
        "                 ha='center',\n",
        "                 weight='bold') # horizontal alignment can be left, right or center"
      ],
      "execution_count": null,
      "outputs": []
    },
    {
      "cell_type": "markdown",
      "metadata": {
        "id": "LGlq_3lrbOqz"
      },
      "source": [
        "#Fingerprinting Database Construction"
      ]
    },
    {
      "cell_type": "code",
      "metadata": {
        "id": "ymx1N8PWZghc",
        "cellView": "form"
      },
      "source": [
        "#@title ##Zero Mean GPR Fingerprinting Database plot\n",
        "\n",
        "plt.figure(figsize=(16,18))\n",
        "\n",
        "plt.scatter(coordinates_ap[:,0], coordinates_ap[:,1], c='b')\n",
        "plt.scatter(coordinates_vrp[:,0], coordinates_vrp[:,1], c='r')\n",
        "\n",
        "plt.legend(labels=['AP','VRP'],loc=\"upper right\",borderaxespad=-8)\n",
        "plt.axis('off')\n",
        "\n",
        "for x in range(len(d_RTT[:,0])):\n",
        "    for y in range(len(d_RTT[:,0])):\n",
        "        label = f\"{ap_labels[y]}: {d_RTT[x,y].round(3)} m\"\n",
        "\n",
        "        plt.annotate(label, # this is the text\n",
        "                    (coordinates_ap[x,0],coordinates_ap[x,1]), # this is the point to label\n",
        "                    textcoords=\"offset points\", # how to position the text\n",
        "                    xytext=(0,-20-y*20), # distance from text to points (x,y)\n",
        "                    ha='center') # horizontal alignment can be left, right or center\n",
        "\n",
        "for x in range(len(means[0])):\n",
        "    for y in range(len(d_RTT[:,0])):\n",
        "        label = f\"{ap_labels[y]}: {means[:,x,:][y,0].round(3)} +- {variances[:,x,:][y,0].round(3)} m\"\n",
        "\n",
        "        plt.annotate(label, # this is the text\n",
        "                    (coordinates_vrp[x,0],coordinates_vrp[x,1]), # this is the point to label\n",
        "                    textcoords=\"offset points\", # how to position the text\n",
        "                    xytext=(0,-20-y*20), # distance from text to points (x,y)\n",
        "                    ha='center') # horizontal alignment can be left, right or center\n",
        "\n",
        "\n",
        "for x,y,z in zip(coordinates_ap[:,0],coordinates_ap[:,1], np.linspace(0, n_ap - 1, n_ap).astype(int)):\n",
        "\n",
        "    label = f\"{ap_labels[z]}\"\n",
        "\n",
        "    plt.annotate(label, # this is the text\n",
        "                 (x,y), # this is the point to label\n",
        "                 textcoords=\"offset points\", # how to position the text\n",
        "                 xytext=(0,30), # distance from text to points (x,y)\n",
        "                 ha='center', # horizontal alignment can be left, right or center\n",
        "                 weight='bold')\n",
        "\n",
        "\n",
        "for x,y,z in zip(coordinates[:,0],coordinates[:,1], np.linspace(0, n_points - 1, n_points).astype(int)):\n",
        "    label = f\"({locations[z,0]},{locations[z,1]})\"\n",
        "\n",
        "    plt.annotate(label, # this is the text\n",
        "                 (x,y), # this is the point to label\n",
        "                 textcoords=\"offset points\", # how to position the text\n",
        "                 xytext=(0,10), # distance from text to points (x,y)\n",
        "                 ha='center',\n",
        "                 weight='bold') # horizontal alignment can be left, right or center"
      ],
      "execution_count": null,
      "outputs": []
    },
    {
      "cell_type": "code",
      "metadata": {
        "cellView": "form",
        "id": "UFnYD3RnZghc"
      },
      "source": [
        "#@title ##First Order PSFM GPR Fingerprinting Database plot\n",
        "\n",
        "plt.figure(figsize=(16,18))\n",
        "\n",
        "plt.scatter(coordinates_ap[:,0], coordinates_ap[:,1], c='b')\n",
        "plt.scatter(coordinates_vrp[:,0], coordinates_vrp[:,1], c='r')\n",
        "\n",
        "plt.legend(labels=['AP','VRP'],loc=\"upper right\",borderaxespad=-8)\n",
        "plt.axis('off')\n",
        "\n",
        "for x in range(len(d_RTT[:,0])):\n",
        "    for y in range(len(d_RTT[:,0])):\n",
        "        label = f\"{ap_labels[y]}: {d_RTT[x,y].round(3)} m\"\n",
        "\n",
        "        plt.annotate(label, # this is the text\n",
        "                    (coordinates_ap[x,0],coordinates_ap[x,1]), # this is the point to label\n",
        "                    textcoords=\"offset points\", # how to position the text\n",
        "                    xytext=(0,-20-y*20), # distance from text to points (x,y)\n",
        "                    ha='center') # horizontal alignment can be left, right or center\n",
        "\n",
        "for x in range(len(means_psfm[0])):\n",
        "    for y in range(len(d_RTT[:,0])):\n",
        "        label = f\"{ap_labels[y]}: {means_psfm[:,x,:][y,0].round(3)} +- {variances[:,x,:][y,0].round(3)} m\"\n",
        "\n",
        "        plt.annotate(label, # this is the text\n",
        "                    (coordinates_vrp[x,0],coordinates_vrp[x,1]), # this is the point to label\n",
        "                    textcoords=\"offset points\", # how to position the text\n",
        "                    xytext=(0,-20-y*20), # distance from text to points (x,y)\n",
        "                    ha='center') # horizontal alignment can be left, right or center\n",
        "\n",
        "for x,y,z in zip(coordinates_ap[:,0],coordinates_ap[:,1], np.linspace(0, n_ap - 1, n_ap).astype(int)):\n",
        "\n",
        "    label = f\"{ap_labels[z]}\"\n",
        "\n",
        "    plt.annotate(label, # this is the text\n",
        "                 (x,y), # this is the point to label\n",
        "                 textcoords=\"offset points\", # how to position the text\n",
        "                 xytext=(0,30), # distance from text to points (x,y)\n",
        "                 ha='center', # horizontal alignment can be left, right or center\n",
        "                 weight='bold')\n",
        "\n",
        "for x,y,z in zip(coordinates[:,0],coordinates[:,1], np.linspace(0, n_points - 1, n_points).astype(int)):\n",
        "    label = f\"({locations[z,0]},{locations[z,1]})\"\n",
        "\n",
        "    plt.annotate(label, # this is the text\n",
        "                 (x,y), # this is the point to label\n",
        "                 textcoords=\"offset points\", # how to position the text\n",
        "                 xytext=(0,10), # distance from text to points (x,y)\n",
        "                 ha='center',\n",
        "                 weight='bold') # horizontal alignment can be left, right or center"
      ],
      "execution_count": null,
      "outputs": []
    },
    {
      "cell_type": "code",
      "metadata": {
        "cellView": "form",
        "id": "TqaW_O_dZghd"
      },
      "source": [
        "#@title ##Second Order PSFM GPR Fingerprinting Database plot\n",
        "\n",
        "plt.figure(figsize=(16,18))\n",
        "\n",
        "plt.scatter(coordinates_ap[:,0], coordinates_ap[:,1], c='b')\n",
        "plt.scatter(coordinates_vrp[:,0], coordinates_vrp[:,1], c='r')\n",
        "\n",
        "plt.legend(labels=['AP','VRP'],loc=\"upper right\",borderaxespad=-8)\n",
        "plt.axis('off')\n",
        "\n",
        "for x in range(len(d_RTT[:,0])):\n",
        "    for y in range(len(d_RTT[:,0])):\n",
        "        label = f\"{ap_labels[y]}: {d_RTT[x,y].round(3)} m\"\n",
        "\n",
        "        plt.annotate(label, # this is the text\n",
        "                    (coordinates_ap[x,0],coordinates_ap[x,1]), # this is the point to label\n",
        "                    textcoords=\"offset points\", # how to position the text\n",
        "                    xytext=(0,-20-y*20), # distance from text to points (x,y)\n",
        "                    ha='center') # horizontal alignment can be left, right or center\n",
        "\n",
        "for x in range(len(means_psfm2[0])):\n",
        "    for y in range(len(d_RTT[:,0])):\n",
        "        label = f\"{ap_labels[y]}: {means_psfm2[:,x,:][y,0].round(3)} +- {variances[:,x,:][y,0].round(3)} m\"\n",
        "\n",
        "        plt.annotate(label, # this is the text\n",
        "                    (coordinates_vrp[x,0],coordinates_vrp[x,1]), # this is the point to label\n",
        "                    textcoords=\"offset points\", # how to position the text\n",
        "                    xytext=(0,-20-y*20), # distance from text to points (x,y)\n",
        "                    ha='center') # horizontal alignment can be left, right or center\n",
        "\n",
        "for x,y,z in zip(coordinates_ap[:,0],coordinates_ap[:,1], np.linspace(0, n_ap - 1, n_ap).astype(int)):\n",
        "\n",
        "    label = f\"{ap_labels[z]}\"\n",
        "\n",
        "    plt.annotate(label, # this is the text\n",
        "                 (x,y), # this is the point to label\n",
        "                 textcoords=\"offset points\", # how to position the text\n",
        "                 xytext=(0,30), # distance from text to points (x,y)\n",
        "                 ha='center', # horizontal alignment can be left, right or center\n",
        "                 weight='bold')\n",
        "\n",
        "for x,y,z in zip(coordinates[:,0],coordinates[:,1], np.linspace(0, n_points - 1, n_points).astype(int)):\n",
        "    label = f\"({locations[z,0]},{locations[z,1]})\"\n",
        "\n",
        "    plt.annotate(label, # this is the text\n",
        "                 (x,y), # this is the point to label\n",
        "                 textcoords=\"offset points\", # how to position the text\n",
        "                 xytext=(0,10), # distance from text to points (x,y)\n",
        "                 ha='center',\n",
        "                 weight='bold') # horizontal alignment can be left, right or center"
      ],
      "execution_count": null,
      "outputs": []
    },
    {
      "cell_type": "markdown",
      "metadata": {
        "id": "geOxHF0qcKd8"
      },
      "source": [
        "#Data validation"
      ]
    },
    {
      "cell_type": "code",
      "metadata": {
        "id": "-Ac9TTECacr2"
      },
      "source": [
        "\"\"\"\n",
        "Dataset Split VRP's\n",
        "\"\"\"\n",
        "vrp_meas = np.empty((n_vrp, n_ap, 100))\n",
        "\n",
        "df.sort_values(ap_mac)\n",
        "for count, row in enumerate(L_vrp):\n",
        "  aux = df.loc[(df['y'] == row[0]) & (df['x'] == row[1]) & (df['model'] == 'Pixel 3a')]\n",
        "  aux = aux[ap_mac].values\n",
        "  aux = aux.T\n",
        "  vrp_meas[count,:,:] = aux"
      ],
      "execution_count": null,
      "outputs": []
    },
    {
      "cell_type": "markdown",
      "metadata": {
        "id": "ZwIj7ifyW8Dq"
      },
      "source": [
        "##Scoring Computing"
      ]
    },
    {
      "cell_type": "markdown",
      "metadata": {
        "id": "18Ux8kXe_M2U"
      },
      "source": [
        "###RTT Distance Estimation Accuracy"
      ]
    },
    {
      "cell_type": "code",
      "metadata": {
        "id": "Of75Ae1VJGzO"
      },
      "source": [
        "\"\"\"\n",
        "Zero-Mean GPR Scoring by AP\n",
        "\"\"\"\n",
        "err = np.empty((n, n_star, 1))\n",
        "std_dev = np.empty((n, n_star, 1))\n",
        "for i in np.linspace(0, n_ap - 1, n_ap).astype(int):\n",
        "  for j, row in enumerate(means[i]):\n",
        "    diff = row - vrp_meas[j,i,:]\n",
        "    err[i,j] = abs(np.nanmean(diff))\n",
        "    std_dev[i,j] = np.nanstd(diff)"
      ],
      "execution_count": null,
      "outputs": []
    },
    {
      "cell_type": "code",
      "metadata": {
        "id": "vOBDljzCTPUX"
      },
      "source": [
        "\"\"\"\n",
        "First Order PSFM GPR Scoring by AP\n",
        "\"\"\"\n",
        "err_psfm = np.empty((n, n_star, 1))\n",
        "for i in np.linspace(0, n_ap - 1, n_ap).astype(int):\n",
        "  for j, row in enumerate(means_psfm[i]):\n",
        "    diff = row - vrp_meas[j,i,:]\n",
        "    err_psfm[i,j] = abs(np.nanmean(diff))"
      ],
      "execution_count": null,
      "outputs": []
    },
    {
      "cell_type": "code",
      "metadata": {
        "id": "7ZccxAlIUQso"
      },
      "source": [
        "\"\"\"\n",
        "Second Order PSFM GPR Scoring by AP\n",
        "\"\"\"\n",
        "err_psfm2 = np.empty((n, n_star, 1))\n",
        "for i in np.linspace(0, n_ap - 1, n_ap).astype(int):\n",
        "  for j, row in enumerate(means_psfm2[i]):\n",
        "    diff = row - vrp_meas[j,i,:]\n",
        "    err_psfm2[i,j] = abs(np.nanmean(row - vrp_meas[j,i,:]))"
      ],
      "execution_count": null,
      "outputs": []
    },
    {
      "cell_type": "markdown",
      "metadata": {
        "id": "eaDaePMYXHKu"
      },
      "source": [
        "##Scoring Plots"
      ]
    },
    {
      "cell_type": "markdown",
      "metadata": {
        "id": "UHqq1zCc_aBN"
      },
      "source": [
        "###RTT Distance Estimation Accuracy"
      ]
    },
    {
      "cell_type": "code",
      "metadata": {
        "cellView": "form",
        "id": "0ThcVxkhXHKy"
      },
      "source": [
        "#@title ##Zero-Mean GPR\n",
        "ap_selected = \"Google Blanco\"  #@param ['Google Blanco', 'Linksys 1', 'Google Azul', 'Linksys 2', 'Google Rojo', 'Linksys 3', 'Google Verde']\n",
        "\n",
        "try:\n",
        "  ap_indexes[ap_selected]\n",
        "except:\n",
        "  ap_selected = ap_labels[0]\n",
        "  \n",
        "\"\"\"\n",
        "Zero Mean Gaussian Process Scoring:\n",
        "    err --> Mean RTT distance error at each VRP\n",
        "\"\"\"\n",
        "\n",
        "plt.figure(figsize=(9,6))\n",
        "\n",
        "plt.scatter(coordinates_ap[:,0], coordinates_ap[:,1], c='b')\n",
        "plt.scatter(coordinates_vrp[:,0], coordinates_vrp[:,1], c='r')\n",
        "\n",
        "plt.legend(labels=['AP','VRP'],loc=\"upper right\",borderaxespad=-8)\n",
        "plt.title('AP '+ap_selected+' : Zero Mean Gaussian Process Scoring',pad=60)\n",
        "plt.axis('off')\n",
        "\n",
        "for x in range(len(err[int(ap_indexes[ap_selected]),:])):\n",
        "    label = f\"Mean: {err[int(ap_indexes[ap_selected]),x][0].round(3)}\"\n",
        "\n",
        "    plt.annotate(label, # this is the text\n",
        "                 (coordinates_vrp[x,0],coordinates_vrp[x,1]), # this is the point to label\n",
        "                 textcoords=\"offset points\", # how to position the text\n",
        "                 xytext=(0,-20), # distance from text to points (x,y)\n",
        "                 ha='center') # horizontal alignment can be left, right or center\n",
        "\n",
        "for x in range(len(std_dev[int(ap_indexes[ap_selected]),:])):\n",
        "    label = f\"Std: {std_dev[int(ap_indexes[ap_selected]),x][0].round(3)}\"\n",
        "\n",
        "    plt.annotate(label, # this is the text\n",
        "                 (coordinates_vrp[x,0],coordinates_vrp[x,1]), # this is the point to label\n",
        "                 textcoords=\"offset points\", # how to position the text\n",
        "                 xytext=(0,-35), # distance from text to points (x,y)\n",
        "                 ha='center') # horizontal alignment can be left, right or center\n",
        "\n",
        "for x,y,z in zip(coordinates_ap[:,0],coordinates_ap[:,1], np.linspace(0, n_ap - 1, n_ap).astype(int)):\n",
        "\n",
        "    label = f\"{ap_labels[z]}\"\n",
        "\n",
        "    plt.annotate(label, # this is the text\n",
        "                 (x,y), # this is the point to label\n",
        "                 textcoords=\"offset points\", # how to position the text\n",
        "                 xytext=(0,-20), # distance from text to points (x,y)\n",
        "                 ha='center', # horizontal alignment can be left, right or center\n",
        "                 weight='bold')\n",
        "\n",
        "for x,y,z in zip(coordinates[:,0],coordinates[:,1], np.linspace(0, n_points - 1, n_points).astype(int)):\n",
        "    label = f\"({locations[z,0]},{locations[z,1]})\"\n",
        "\n",
        "    plt.annotate(label, # this is the text\n",
        "                 (x,y), # this is the point to label\n",
        "                 textcoords=\"offset points\", # how to position the text\n",
        "                 xytext=(0,10), # distance from text to points (x,y)\n",
        "                 ha='center',\n",
        "                 weight='bold') # horizontal alignment can be left, right or center"
      ],
      "execution_count": null,
      "outputs": []
    },
    {
      "cell_type": "code",
      "metadata": {
        "cellView": "form",
        "id": "Cdl_L0_AqROO"
      },
      "source": [
        "#@title ##First Order PSFM GPR\n",
        "ap_selected = \"Google Blanco\"  #@param ['Google Blanco', 'Linksys 1', 'Google Azul', 'Linksys 2', 'Google Rojo', 'Linksys 3', 'Google Verde']\n",
        "\n",
        "try:\n",
        "  ap_indexes[ap_selected]\n",
        "except:\n",
        "  ap_selected = ap_labels[0]\n",
        "  \n",
        "\"\"\"\n",
        "Zero Mean Gaussian Process Scoring:\n",
        "    err --> Mean RTT distance error at each VRP\n",
        "\"\"\"\n",
        "\n",
        "plt.figure(figsize=(9,6))\n",
        "\n",
        "plt.scatter(coordinates_ap[:,0], coordinates_ap[:,1], c='b')\n",
        "plt.scatter(coordinates_vrp[:,0], coordinates_vrp[:,1], c='r')\n",
        "\n",
        "plt.legend(labels=['AP','VRP'],loc=\"upper right\",borderaxespad=-8)\n",
        "plt.title('AP '+ap_selected+' : Zero Mean Gaussian Process Scoring',pad=60)\n",
        "plt.axis('off')\n",
        "\n",
        "for x in range(len(err_psfm[int(ap_indexes[ap_selected]),:])):\n",
        "    label = f\"Mean: {err_psfm[int(ap_indexes[ap_selected]),x][0].round(3)}\"\n",
        "\n",
        "    plt.annotate(label, # this is the text\n",
        "                 (coordinates_vrp[x,0],coordinates_vrp[x,1]), # this is the point to label\n",
        "                 textcoords=\"offset points\", # how to position the text\n",
        "                 xytext=(0,-20), # distance from text to points (x,y)\n",
        "                 ha='center') # horizontal alignment can be left, right or center\n",
        "\n",
        "for x in range(len(std_dev[int(ap_indexes[ap_selected]),:])):\n",
        "    label = f\"Std: {std_dev[int(ap_indexes[ap_selected]),x][0].round(3)}\"\n",
        "\n",
        "    plt.annotate(label, # this is the text\n",
        "                 (coordinates_vrp[x,0],coordinates_vrp[x,1]), # this is the point to label\n",
        "                 textcoords=\"offset points\", # how to position the text\n",
        "                 xytext=(0,-35), # distance from text to points (x,y)\n",
        "                 ha='center') # horizontal alignment can be left, right or center\n",
        "\n",
        "for x,y,z in zip(coordinates_ap[:,0],coordinates_ap[:,1], np.linspace(0, n_ap - 1, n_ap).astype(int)):\n",
        "\n",
        "    label = f\"{ap_labels[z]}\"\n",
        "\n",
        "    plt.annotate(label, # this is the text\n",
        "                 (x,y), # this is the point to label\n",
        "                 textcoords=\"offset points\", # how to position the text\n",
        "                 xytext=(0,-20), # distance from text to points (x,y)\n",
        "                 ha='center', # horizontal alignment can be left, right or center\n",
        "                 weight='bold')\n",
        "\n",
        "for x,y,z in zip(coordinates[:,0],coordinates[:,1], np.linspace(0, n_points - 1, n_points).astype(int)):\n",
        "    label = f\"({locations[z,0]},{locations[z,1]})\"\n",
        "\n",
        "    plt.annotate(label, # this is the text\n",
        "                 (x,y), # this is the point to label\n",
        "                 textcoords=\"offset points\", # how to position the text\n",
        "                 xytext=(0,10), # distance from text to points (x,y)\n",
        "                 ha='center',\n",
        "                 weight='bold') # horizontal alignment can be left, right or center"
      ],
      "execution_count": null,
      "outputs": []
    },
    {
      "cell_type": "code",
      "metadata": {
        "cellView": "form",
        "id": "sjzpZh7-r_pn"
      },
      "source": [
        "#@title ##Second Order PSFM GPR\n",
        "ap_selected = \"Google Blanco\"  #@param ['Google Blanco', 'Linksys 1', 'Google Azul', 'Linksys 2', 'Google Rojo', 'Linksys 3', 'Google Verde']\n",
        "\n",
        "try:\n",
        "  ap_indexes[ap_selected]\n",
        "except:\n",
        "  ap_selected = ap_labels[0]\n",
        "  \n",
        "\"\"\"\n",
        "Zero Mean Gaussian Process Scoring:\n",
        "    err --> Mean RTT distance error at each VRP\n",
        "\"\"\"\n",
        "\n",
        "plt.figure(figsize=(9,6))\n",
        "\n",
        "plt.scatter(coordinates_ap[:,0], coordinates_ap[:,1], c='b')\n",
        "plt.scatter(coordinates_vrp[:,0], coordinates_vrp[:,1], c='r')\n",
        "\n",
        "plt.legend(labels=['AP','VRP'],loc=\"upper right\",borderaxespad=-8)\n",
        "plt.title('AP '+ap_selected+' : Zero Mean Gaussian Process Scoring',pad=60)\n",
        "plt.axis('off')\n",
        "\n",
        "for x in range(len(err_psfm2[int(ap_indexes[ap_selected]),:])):\n",
        "    label = f\"Mean: {err_psfm2[int(ap_indexes[ap_selected]),x][0].round(3)}\"\n",
        "\n",
        "    plt.annotate(label, # this is the text\n",
        "                 (coordinates_vrp[x,0],coordinates_vrp[x,1]), # this is the point to label\n",
        "                 textcoords=\"offset points\", # how to position the text\n",
        "                 xytext=(0,-20), # distance from text to points (x,y)\n",
        "                 ha='center') # horizontal alignment can be left, right or center\n",
        "\n",
        "for x in range(len(std_dev[int(ap_indexes[ap_selected]),:])):\n",
        "    label = f\"Std: {std_dev[int(ap_indexes[ap_selected]),x][0].round(3)}\"\n",
        "\n",
        "    plt.annotate(label, # this is the text\n",
        "                 (coordinates_vrp[x,0],coordinates_vrp[x,1]), # this is the point to label\n",
        "                 textcoords=\"offset points\", # how to position the text\n",
        "                 xytext=(0,-35), # distance from text to points (x,y)\n",
        "                 ha='center') # horizontal alignment can be left, right or center\n",
        "\n",
        "for x,y,z in zip(coordinates_ap[:,0],coordinates_ap[:,1], np.linspace(0, n_ap - 1, n_ap).astype(int)):\n",
        "\n",
        "    label = f\"{ap_labels[z]}\"\n",
        "\n",
        "    plt.annotate(label, # this is the text\n",
        "                 (x,y), # this is the point to label\n",
        "                 textcoords=\"offset points\", # how to position the text\n",
        "                 xytext=(0,-20), # distance from text to points (x,y)\n",
        "                 ha='center', # horizontal alignment can be left, right or center\n",
        "                 weight='bold')\n",
        "\n",
        "for x,y,z in zip(coordinates[:,0],coordinates[:,1], np.linspace(0, n_points - 1, n_points).astype(int)):\n",
        "    label = f\"({locations[z,0]},{locations[z,1]})\"\n",
        "\n",
        "    plt.annotate(label, # this is the text\n",
        "                 (x,y), # this is the point to label\n",
        "                 textcoords=\"offset points\", # how to position the text\n",
        "                 xytext=(0,10), # distance from text to points (x,y)\n",
        "                 ha='center',\n",
        "                 weight='bold') # horizontal alignment can be left, right or center"
      ],
      "execution_count": null,
      "outputs": []
    }
  ]
}