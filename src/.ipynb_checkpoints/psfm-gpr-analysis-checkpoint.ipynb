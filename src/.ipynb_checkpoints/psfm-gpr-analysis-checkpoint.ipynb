{
 "cells": [
  {
   "cell_type": "markdown",
   "metadata": {
    "id": "hf7JEe7Y0ppC"
   },
   "source": [
    "# Library imports"
   ]
  },
  {
   "cell_type": "code",
   "execution_count": null,
   "metadata": {
    "executionInfo": {
     "elapsed": 725,
     "status": "ok",
     "timestamp": 1639578254507,
     "user": {
      "displayName": "Carlo Gattuso Garrido",
      "photoUrl": "https://lh3.googleusercontent.com/a/default-user=s64",
      "userId": "13655340809366528364"
     },
     "user_tz": -60
    },
    "id": "m-I0nmWJZghG"
   },
   "outputs": [],
   "source": [
    "################ Library imports ################\n",
    "import numpy as np\n",
    "import math as math\n",
    "\n",
    "import matplotlib\n",
    "matplotlib.rcParams['mathtext.fontset'] = 'custom'\n",
    "matplotlib.rcParams['mathtext.rm'] = 'Bitstream Vera Sans'\n",
    "matplotlib.rcParams['mathtext.it'] = 'Bitstream Vera Sans:italic'\n",
    "matplotlib.rcParams['mathtext.bf'] = 'Bitstream Vera Sans:bold'\n",
    "\n",
    "import matplotlib.pyplot as plt\n",
    "\n",
    "from pylab import *\n",
    "\n",
    "import scipy.linalg\n",
    "import seaborn as sns\n",
    "import time\n",
    "import glob\n",
    "import pandas as pd\n",
    "\n",
    "import itertools\n",
    "\n",
    "from sklearn.gaussian_process import GaussianProcessRegressor\n",
    "from sklearn.gaussian_process.kernels import RBF, ConstantKernel, WhiteKernel, ExpSineSquared, Matern\n",
    "\n",
    "from sklearn.metrics import mean_squared_error, mean_absolute_error\n",
    " \n",
    "from scipy.optimize import curve_fit\n",
    "\n",
    "from IPython.display import display, Markdown, clear_output\n",
    "import ipywidgets as widgets"
   ]
  },
  {
   "cell_type": "markdown",
   "metadata": {},
   "source": [
    "# Utils"
   ]
  },
  {
   "cell_type": "code",
   "execution_count": null,
   "metadata": {
    "executionInfo": {
     "elapsed": 40,
     "status": "ok",
     "timestamp": 1639578272013,
     "user": {
      "displayName": "Carlo Gattuso Garrido",
      "photoUrl": "https://lh3.googleusercontent.com/a/default-user=s64",
      "userId": "13655340809366528364"
     },
     "user_tz": -60
    },
    "id": "igFmas_NTwz3"
   },
   "outputs": [],
   "source": [
    "def get_location(arr, loc):\n",
    "  return np.where((arr[:,0] == loc[0])&(arr[:,1] == loc[1]))[0][0]"
   ]
  },
  {
   "cell_type": "code",
   "execution_count": null,
   "metadata": {
    "executionInfo": {
     "elapsed": 35,
     "status": "ok",
     "timestamp": 1639578272015,
     "user": {
      "displayName": "Carlo Gattuso Garrido",
      "photoUrl": "https://lh3.googleusercontent.com/a/default-user=s64",
      "userId": "13655340809366528364"
     },
     "user_tz": -60
    },
    "id": "JA0MQatY0A2k"
   },
   "outputs": [],
   "source": [
    "def split_df(row):\n",
    "  '''\n",
    "  Special distances correction\n",
    "  '''\n",
    "  aux = df.loc[(df['x'] == row[0]) & (df['y'] == row[1])]\n",
    "  aux = aux[ap_mac].values\n",
    "  aux = aux.T\n",
    "\n",
    "  return aux"
   ]
  },
  {
   "cell_type": "code",
   "execution_count": null,
   "metadata": {
    "executionInfo": {
     "elapsed": 30,
     "status": "ok",
     "timestamp": 1639578272016,
     "user": {
      "displayName": "Carlo Gattuso Garrido",
      "photoUrl": "https://lh3.googleusercontent.com/a/default-user=s64",
      "userId": "13655340809366528364"
     },
     "user_tz": -60
    },
    "id": "UEXEZ4Ww3XIA"
   },
   "outputs": [],
   "source": [
    "def mean_confidence_interval(data, confidence=0.95):\n",
    "    \"\"\"\n",
    "    Clear nan values\n",
    "    \"\"\"\n",
    "    idx = np.argwhere(np.isnan(data)).T[0]\n",
    "    data = np.delete(data, idx, 0)\n",
    "\n",
    "    a = 1.0 * np.array(data)\n",
    "    n = len(a)\n",
    "    m, se = np.nanmean(a), scipy.stats.sem(a, nan_policy='omit')\n",
    "\n",
    "    \"\"\"\n",
    "    Check nan\n",
    "    \"\"\"\n",
    "    if n > 1:\n",
    "      h = se * scipy.stats.t.ppf((1 + confidence) / 2., n-1)\n",
    "    else:\n",
    "      h = 0\n",
    "      \n",
    "    return m.round(2), (m-h).round(2), (m+h).round(2)"
   ]
  },
  {
   "cell_type": "code",
   "execution_count": null,
   "metadata": {
    "executionInfo": {
     "elapsed": 32,
     "status": "ok",
     "timestamp": 1639578272021,
     "user": {
      "displayName": "Carlo Gattuso Garrido",
      "photoUrl": "https://lh3.googleusercontent.com/a/default-user=s64",
      "userId": "13655340809366528364"
     },
     "user_tz": -60
    },
    "id": "1ZmhrhFM4bfj"
   },
   "outputs": [],
   "source": [
    "def vec_mean(vec, fac):\n",
    "  \"\"\"\n",
    "  Vector length\n",
    "  \"\"\"\n",
    "  l = int(floor(len(vec)/fac))\n",
    "\n",
    "  \"\"\"\n",
    "  Vector reshaping\n",
    "  \"\"\"\n",
    "  vec = vec[:l*fac].reshape(l,fac)\n",
    "\n",
    "  \"\"\"\n",
    "  Mean computing\n",
    "  \"\"\"\n",
    "  return np.nanmean(vec, axis=1)"
   ]
  },
  {
   "cell_type": "code",
   "execution_count": null,
   "metadata": {
    "executionInfo": {
     "elapsed": 355,
     "status": "ok",
     "timestamp": 1639578272347,
     "user": {
      "displayName": "Carlo Gattuso Garrido",
      "photoUrl": "https://lh3.googleusercontent.com/a/default-user=s64",
      "userId": "13655340809366528364"
     },
     "user_tz": -60
    },
    "id": "2LnHO4l-ZghO"
   },
   "outputs": [],
   "source": [
    "def compute_euclidean_distance(array):\n",
    "    n = array.shape[0]\n",
    "\n",
    "    d_mat = [np.linalg.norm(i - j) for (i,j) in itertools.product(array, array)]\n",
    "    d_mat = np.array(d_mat).reshape((n, n), order='F')\n",
    "\n",
    "    return d_mat"
   ]
  },
  {
   "cell_type": "code",
   "execution_count": null,
   "metadata": {
    "executionInfo": {
     "elapsed": 21,
     "status": "ok",
     "timestamp": 1639578272350,
     "user": {
      "displayName": "Carlo Gattuso Garrido",
      "photoUrl": "https://lh3.googleusercontent.com/a/default-user=s64",
      "userId": "13655340809366528364"
     },
     "user_tz": -60
    },
    "id": "0MD-h9PU7UKv"
   },
   "outputs": [],
   "source": [
    "def fits_interval(estimation, measure):\n",
    "  \"\"\"\n",
    "  Check whether estimated value is inside the expected measure\n",
    "  \"\"\"\n",
    "  if(not((estimation[2] < measure[1]) | (measure[2] < estimation[1]))):\n",
    "    return 1\n",
    "  else:\n",
    "    return 0"
   ]
  },
  {
   "cell_type": "code",
   "execution_count": null,
   "metadata": {
    "executionInfo": {
     "elapsed": 25,
     "status": "ok",
     "timestamp": 1639578272357,
     "user": {
      "displayName": "Carlo Gattuso Garrido",
      "photoUrl": "https://lh3.googleusercontent.com/a/default-user=s64",
      "userId": "13655340809366528364"
     },
     "user_tz": -60
    },
    "id": "3HvVQr_w41Kx"
   },
   "outputs": [],
   "source": [
    "def mean_squared_error(arr, ax=0):\n",
    "  return np.sqrt(np.square(arr).mean(ax)).round(2)"
   ]
  },
  {
   "cell_type": "markdown",
   "metadata": {
    "id": "fBgf1HzaTlmg",
    "slideshow": {
     "slide_type": "-"
    }
   },
   "source": [
    "# Dataset Reading"
   ]
  },
  {
   "cell_type": "code",
   "execution_count": null,
   "metadata": {
    "colab": {
     "base_uri": "https://localhost:8080/",
     "height": 0
    },
    "executionInfo": {
     "elapsed": 617,
     "status": "ok",
     "timestamp": 1639578272951,
     "user": {
      "displayName": "Carlo Gattuso Garrido",
      "photoUrl": "https://lh3.googleusercontent.com/a/default-user=s64",
      "userId": "13655340809366528364"
     },
     "user_tz": -60
    },
    "id": "0KNwADj4ZghJ",
    "outputId": "bee808f7-7c9f-4d7e-8b55-71544d2a9833"
   },
   "outputs": [],
   "source": [
    "\"\"\"\n",
    "File reading\n",
    "\"\"\"\n",
    "df = pd.read_csv('../data/dataset_sala_actos_pixel.csv', sep = \",\", index_col=False, encoding='latin-1')\n",
    "df = df.replace(to_replace = -100, value = np.nan)\n",
    "df.head()"
   ]
  },
  {
   "cell_type": "markdown",
   "metadata": {
    "id": "K3NtyLh-pI_n"
   },
   "source": [
    "# Radio-map definition"
   ]
  },
  {
   "cell_type": "code",
   "execution_count": null,
   "metadata": {
    "cellView": "form",
    "colab": {
     "base_uri": "https://localhost:8080/",
     "height": 0
    },
    "executionInfo": {
     "elapsed": 1043,
     "status": "ok",
     "timestamp": 1639578273978,
     "user": {
      "displayName": "Carlo Gattuso Garrido",
      "photoUrl": "https://lh3.googleusercontent.com/a/default-user=s64",
      "userId": "13655340809366528364"
     },
     "user_tz": -60
    },
    "id": "brnLVQPilNlZ",
    "outputId": "7fe3ce14-6a9c-4588-acc9-f59c68fa117d"
   },
   "outputs": [],
   "source": [
    "width =  8\n",
    "height = 19.2\n",
    "\n",
    "#@markdown ##Granularity (meters)\n",
    "\n",
    "granularity_x = 2 #@param [\"2\", \"1\", \"0.5\"] {type:\"raw\"}\n",
    "granularity_y = 4.8 #@param [\"4.8\", \"2.4\", \"1.2\", \"0.6\"] {type:\"raw\"}\n",
    "\n",
    "points_x = int(width/float(granularity_x) +1)\n",
    "points_y = int(height/float(granularity_y) +1)\n",
    "\n",
    "n_points = points_x * points_y\n",
    "\n",
    "\"\"\"\n",
    "Locations grid\n",
    "\"\"\"\n",
    "locations = np.array(np.meshgrid(np.linspace(0, height, points_y).round(2), np.linspace(0, width, points_x).round(2))).T.reshape(-1,2)\n",
    "locations[:, [1, 0]] = locations[:, [0, 1]]\n",
    "\n",
    "\"\"\"\n",
    "Plot coordinates\n",
    "\"\"\"\n",
    "coordinates = np.array(np.meshgrid(np.linspace(0, points_y - 1, points_y), np.linspace(0, points_x - 1, points_x))).T.reshape(-1,2)\n",
    "coordinates[:, [1, 0]] = coordinates[:, [0, 1]]\n",
    "\n",
    "plt.figure(figsize=(points_x*1.5, points_y*1.5))\n",
    "\n",
    "plt.scatter(coordinates[:,0], coordinates[:,1], c='y')\n",
    "\n",
    "plt.title(r'$W_y(\\tau, j=3)$')\n",
    "plt.setp(ax.get_xticklabels(), visible = False)\n",
    "\n",
    "\"\"\"plt.legend(labels=['Location'],loc=\"upper right\",borderaxespad=-5)\n",
    "plt.title('Radio-map',pad=20)\n",
    "plt.axis('off')\n",
    "\n",
    "for x,y,z in zip(coordinates[:,0],coordinates[:,1], np.linspace(0, n_points - 1, n_points).astype(int)):\n",
    "    label = f\"({locations[z,0]},{locations[z,1]})\"\n",
    "\n",
    "    plt.annotate(label, # this is the text\n",
    "                 (x,y), # this is the point to label\n",
    "                 textcoords=\"offset points\", # how to position the text\n",
    "                 xytext=(0,-20), # distance from text to points (x,y)\n",
    "                 ha='center') # horizontal alignment can be left, right or center\n",
    "\n",
    "    label = f\"{z}\"\n",
    "\n",
    "    plt.annotate(label, # this is the text\n",
    "                  (x,y), # this is the point to label\n",
    "                  textcoords=\"offset points\", # how to position the text\n",
    "                  xytext=(0,-40), # distance from text to points (x,y)\n",
    "                  ha='center',\n",
    "                  weight='bold') # horizontal alignment can be left, right or center\"\"\""
   ]
  },
  {
   "cell_type": "markdown",
   "metadata": {
    "id": "DursA-3YnXz6"
   },
   "source": [
    "# AP definition"
   ]
  },
  {
   "cell_type": "markdown",
   "metadata": {
    "id": "2MHmeV47nX0M"
   },
   "source": [
    "## AP class\n",
    "\n",
    "### Handles the required parameters for each AP\n",
    "\n",
    "#### Parameters:\n",
    "\n",
    "*   name (string)\n",
    "*   x (number)\n",
    "*   y (number)\n",
    "*   point (number)\n",
    "*   mac (string)\n"
   ]
  },
  {
   "cell_type": "code",
   "execution_count": null,
   "metadata": {
    "executionInfo": {
     "elapsed": 17,
     "status": "ok",
     "timestamp": 1639578273980,
     "user": {
      "displayName": "Carlo Gattuso Garrido",
      "photoUrl": "https://lh3.googleusercontent.com/a/default-user=s64",
      "userId": "13655340809366528364"
     },
     "user_tz": -60
    },
    "id": "YzktmKxUnX0N"
   },
   "outputs": [],
   "source": [
    "class AP:\n",
    "    '''\n",
    " \n",
    "    '''\n",
    "    def __init__(self, _name, _x, _y, _mac):\n",
    "        self.name = _name\n",
    "        self.x = _x\n",
    "        self.y = _y\n",
    "        self.mac = _mac\n",
    "        self.point = get_location(locations, [_x, _y])"
   ]
  },
  {
   "cell_type": "markdown",
   "metadata": {
    "id": "QYRzUCeBnX0N"
   },
   "source": [
    "##Create APs"
   ]
  },
  {
   "cell_type": "code",
   "execution_count": null,
   "metadata": {
    "executionInfo": {
     "elapsed": 19,
     "status": "ok",
     "timestamp": 1639578273983,
     "user": {
      "displayName": "Carlo Gattuso Garrido",
      "photoUrl": "https://lh3.googleusercontent.com/a/default-user=s64",
      "userId": "13655340809366528364"
     },
     "user_tz": -60
    },
    "id": "vu91iNMwnX0N"
   },
   "outputs": [],
   "source": [
    "\"\"\"\n",
    "Selected APs for the experiment\n",
    "\"\"\"\n",
    "\n",
    "ap_list = []\n",
    "\n",
    "#ap_list.append(AP('Google Blanco', 0, 19.2, '58:cb:52:d7:bb:61#1'))\n",
    "\n",
    "ap_list.append(AP('Google Azul', 0, 0, '58:cb:52:d7:b5:5d#1'))\n",
    "\n",
    "#ap_list.append(AP('Linksys 1', 4, 0, '30:23:03:87:17:9a#1'))\n",
    "\n",
    "ap_list.append(AP('Google Verde', 8, 0, '58:cb:52:d7:b5:31#1'))\n",
    "\n",
    "#ap_list.append(AP('Linksys 2', 0, 9.6, '30:23:03:87:17:81#1'))\n",
    "\n",
    "#ap_list.append(AP('Google Rojo', 8, 19.2, '58:cb:52:d7:b4:d9#1'))\n",
    "\n",
    "ap_list.append(AP('Linksys 3', 4, 19.2, '30:23:03:87:17:99#1'))\n",
    "\n",
    "#ap_list.append(AP('Linksys 4', 8, 9.6, '30:23:03:87:19:6d#1'))"
   ]
  },
  {
   "cell_type": "code",
   "execution_count": null,
   "metadata": {
    "cellView": "form",
    "colab": {
     "base_uri": "https://localhost:8080/",
     "height": 0
    },
    "executionInfo": {
     "elapsed": 315,
     "status": "ok",
     "timestamp": 1639578274280,
     "user": {
      "displayName": "Carlo Gattuso Garrido",
      "photoUrl": "https://lh3.googleusercontent.com/a/default-user=s64",
      "userId": "13655340809366528364"
     },
     "user_tz": -60
    },
    "id": "h2RJT8QbnX0O",
    "outputId": "99d7949b-72c5-446c-8342-9b102ce19ae9"
   },
   "outputs": [],
   "source": [
    "#@title ##AP info\n",
    "ap_labels = {}\n",
    "ap_indexes = {}\n",
    "ap_mac = []\n",
    "\n",
    "ap_info = pd.DataFrame(columns = ['Name', 'X', 'Y', 'Point', 'MAC'])\n",
    "\n",
    "\"\"\"\n",
    "Sorting AP list\n",
    "\"\"\"\n",
    "ap_list.sort(key=lambda x: x.point)\n",
    "\n",
    "points = []\n",
    "for (i) in range(len(ap_list)):\n",
    "\n",
    "  points.append(ap_list[i].point)\n",
    "\n",
    "  ap_labels[i]=ap_list[i].name\n",
    "  ap_indexes[str(ap_list[i].name)]=i\n",
    "  ap_mac.append(ap_list[i].mac)\n",
    "\n",
    "  ap_info = ap_info.append(\n",
    "                  {'Name': ap_list[i].name, \n",
    "                   'X': ap_list[i].x, \n",
    "                   'Y': ap_list[i].y, \n",
    "                   'Point': ap_list[i].point, \n",
    "                   'MAC': ap_list[i].mac}, ignore_index=True)\n",
    "\n",
    "ap_info"
   ]
  },
  {
   "cell_type": "markdown",
   "metadata": {
    "id": "C4K6hzo8pI_0"
   },
   "source": [
    "#Final Scenario "
   ]
  },
  {
   "cell_type": "code",
   "execution_count": null,
   "metadata": {
    "executionInfo": {
     "elapsed": 38,
     "status": "ok",
     "timestamp": 1639578274283,
     "user": {
      "displayName": "Carlo Gattuso Garrido",
      "photoUrl": "https://lh3.googleusercontent.com/a/default-user=s64",
      "userId": "13655340809366528364"
     },
     "user_tz": -60
    },
    "id": "ngh6tCUnpI_0"
   },
   "outputs": [],
   "source": [
    "\"\"\"\n",
    "AP locations\n",
    "\"\"\"\n",
    "L_ap = locations[points,:]\n",
    "\n",
    "\"\"\"\n",
    "VRP locations\n",
    "\"\"\"\n",
    "L_vrp = np.delete(locations, points, 0)\n",
    "\n",
    "n_ap = len(ap_list)\n",
    "n_vrp = n_points - n_ap\n",
    "\n",
    "\"\"\"\n",
    "Locations split\n",
    "\"\"\"\n",
    "coordinates_ap = coordinates[points,:]\n",
    "coordinates_vrp = np.delete(coordinates, points, 0)"
   ]
  },
  {
   "cell_type": "code",
   "execution_count": null,
   "metadata": {
    "cellView": "form",
    "colab": {
     "base_uri": "https://localhost:8080/",
     "height": 0
    },
    "executionInfo": {
     "elapsed": 1532,
     "status": "ok",
     "timestamp": 1639578275778,
     "user": {
      "displayName": "Carlo Gattuso Garrido",
      "photoUrl": "https://lh3.googleusercontent.com/a/default-user=s64",
      "userId": "13655340809366528364"
     },
     "user_tz": -60
    },
    "id": "nGK9-S2bpI_0",
    "outputId": "0209b21b-17a5-4bfc-f488-64fde9e72a5e"
   },
   "outputs": [],
   "source": [
    "#@title ##Scenario Plot\n",
    "plt.figure(figsize=(points_x*1.5, points_y*1.5))\n",
    "\n",
    "plt.scatter(coordinates_ap[:,0], coordinates_ap[:,1], c='b')\n",
    "plt.scatter(coordinates_vrp[:,0], coordinates_vrp[:,1], c='r')\n",
    "\n",
    "plt.legend(labels=['AP','VRP'],loc=\"upper right\",borderaxespad=-5)\n",
    "plt.title('Radio-Map',pad=20)\n",
    "plt.axis('off')\n",
    "\n",
    "for x,y,z in zip(coordinates[:,0],coordinates[:,1], np.linspace(0, n_points - 1, n_points).astype(int)):\n",
    "    label = f\"({locations[z,0]},{locations[z,1]})\"\n",
    "\n",
    "    plt.annotate(label, # this is the text\n",
    "                 (x,y), # this is the point to label\n",
    "                 textcoords=\"offset points\", # how to position the text\n",
    "                 xytext=(0,-20), # distance from text to points (x,y)\n",
    "                 ha='center') # horizontal alignment can be left, right or center\n",
    "\n",
    "    label = f\"{z}\"\n",
    "\n",
    "    plt.annotate(label, # this is the text\n",
    "                  (x,y), # this is the point to label\n",
    "                  textcoords=\"offset points\", # how to position the text\n",
    "                  xytext=(0,-40), # distance from text to points (x,y)\n",
    "                  ha='center',\n",
    "                  weight='bold') # horizontal alignment can be left, right or center\n",
    "\n",
    "for x,y,z in zip(coordinates_ap[:,0],coordinates_ap[:,1], np.linspace(0, n_ap - 1, n_ap).astype(int)):\n",
    "    label = f\"{ap_labels[z]}\"\n",
    "\n",
    "    plt.annotate(label, # this is the text\n",
    "                 (x,y), # this is the point to label\n",
    "                 textcoords=\"offset points\", # how to position the text\n",
    "                 xytext=(0,10), # distance from text to points (x,y)\n",
    "                 ha='center', # horizontal alignment can be left, right or center\n",
    "                 weight='bold')"
   ]
  },
  {
   "cell_type": "markdown",
   "metadata": {
    "id": "SPwShUwEj5Nf"
   },
   "source": [
    "#Dataset Processing"
   ]
  },
  {
   "cell_type": "code",
   "execution_count": null,
   "metadata": {
    "executionInfo": {
     "elapsed": 17,
     "status": "ok",
     "timestamp": 1639578275779,
     "user": {
      "displayName": "Carlo Gattuso Garrido",
      "photoUrl": "https://lh3.googleusercontent.com/a/default-user=s64",
      "userId": "13655340809366528364"
     },
     "user_tz": -60
    },
    "id": "O3au2qfETNjH"
   },
   "outputs": [],
   "source": [
    "\"\"\"\n",
    "Dataset split\n",
    "\n",
    "    - L_ap --> Training locations\n",
    "    - ap_obs --> RTT Distance Observations between APs\n",
    "    - L_test --> Test locations\n",
    "    - vrp_test --> VRP distance measurements\n",
    "\n",
    "We are getting data from dataset, splitting AP and VRP samples\n",
    "\n",
    "ap_tr(target AP, reference AP, sample)\n",
    "vrp_test(target VRP, reference AP, sample)\n",
    "\"\"\"\n",
    "\n",
    "\"\"\"\n",
    "Full dataset\n",
    "\"\"\"\n",
    "dataset = np.array([split_df(locations[i]) for (i) in np.linspace(0, n_points - 1, n_points).astype(int)]).round(2)\n",
    "\n",
    "\"\"\"\n",
    "Training data\n",
    "\"\"\"\n",
    "ap_tr = np.array([split_df(L_ap[i]) for (i) in np.linspace(0, n_ap - 1, n_ap).astype(int)]).round(2)\n",
    "n_tr = ap_tr.shape[2]\n",
    "\n",
    "\"\"\"\n",
    "Locations of test data\n",
    "\"\"\"\n",
    "locations_test = np.array(np.meshgrid(np.linspace(0, height, 5).round(2), np.linspace(0, width, 5).round(2))).T.reshape(-1,2)\n",
    "locations_test[:, [1, 0]] = locations_test[:, [0, 1]]\n",
    "\n",
    "\"\"\"\n",
    "Coordinates corresponding to test VRPs\n",
    "\"\"\"\n",
    "coordinates_test = np.array(np.meshgrid(np.linspace(0, 4, 5), np.linspace(0, 4, 5))).T.reshape(-1,2)\n",
    "coordinates_test[:, [1, 0]] = coordinates_test[:, [0, 1]]\n",
    "\n",
    "points_test = []\n",
    "for i in range(len(ap_list)):\n",
    "  points_test.append(get_location(locations_test, [ap_list[i].x, ap_list[i].y]))\n",
    "\n",
    "coordinates_test_ap = coordinates_test[points_test,:]\n",
    "coordinates_test_vrp = np.delete(coordinates_test, points_test, 0)\n",
    "\n",
    "\"\"\"\n",
    "Test locations corresponding to APs\n",
    "\"\"\"\n",
    "L_test = np.delete(locations_test, points_test, 0)\n",
    "n_test = L_test.shape[0]\n",
    "\n",
    "\"\"\"\n",
    "Test data\n",
    "\"\"\"\n",
    "vrp_test = np.array([split_df(L_test[i]) for (i) in range(L_test.shape[0])]).round(2)\n",
    "n_samples_test = vrp_test.shape[2]"
   ]
  },
  {
   "cell_type": "code",
   "execution_count": null,
   "metadata": {
    "colab": {
     "base_uri": "https://localhost:8080/",
     "height": 0
    },
    "executionInfo": {
     "elapsed": 16,
     "status": "ok",
     "timestamp": 1639578275781,
     "user": {
      "displayName": "Carlo Gattuso Garrido",
      "photoUrl": "https://lh3.googleusercontent.com/a/default-user=s64",
      "userId": "13655340809366528364"
     },
     "user_tz": -60
    },
    "id": "U9KEOL3NWdqu",
    "outputId": "28052284-5f30-4ff9-9998-f6519073908e"
   },
   "outputs": [],
   "source": [
    "'''\n",
    "Simulating nan values only for test\n",
    "\n",
    "ap_tr[0,1,8] = math.nan\n",
    "ap_tr[2,1,9] = math.nan\n",
    "ap_tr[2,2,15] = math.nan\n",
    "ap_tr[1,0,9] = math.nan\n",
    "#ap_tr[1,0,0] = math.nan\n",
    "#ap_tr[1,0,1] = math.nan\n",
    "'''"
   ]
  },
  {
   "cell_type": "code",
   "execution_count": null,
   "metadata": {
    "cellView": "form",
    "colab": {
     "base_uri": "https://localhost:8080/",
     "height": 0
    },
    "executionInfo": {
     "elapsed": 635,
     "status": "ok",
     "timestamp": 1639578276943,
     "user": {
      "displayName": "Carlo Gattuso Garrido",
      "photoUrl": "https://lh3.googleusercontent.com/a/default-user=s64",
      "userId": "13655340809366528364"
     },
     "user_tz": -60
    },
    "id": "3TCgfGdEiU2V",
    "outputId": "e0916ba2-6a13-4450-d0ee-d5b01b1352b6"
   },
   "outputs": [],
   "source": [
    "#@title ##Data Plot\n",
    "ap_selected = \"Google Azul\"  #@param ['Google Blanco', 'Linksys 1', 'Google Azul', 'Linksys 2', 'Google Rojo', 'Linksys 3', 'Google Verde']\n",
    "sample = 0 #@param {type:\"slider\", min:0, max:100, step:1}\n",
    "\n",
    "try:\n",
    "  ap_indexes[ap_selected]\n",
    "except:\n",
    "  ap_selected = ap_labels[0]\n",
    "  \n",
    "plt.figure(figsize=(10, 8))\n",
    "\n",
    "plt.scatter(coordinates_test_ap[:,0], coordinates_test_ap[:,1], c='b')\n",
    "plt.scatter(coordinates_test_vrp[:,0], coordinates_test_vrp[:,1], c='r')\n",
    "\n",
    "plt.legend(labels=['Training','Test'],loc=\"upper right\",borderaxespad=-7)\n",
    "plt.title('Measured data between target AP '+ap_selected+' and each VRP',pad=30)\n",
    "plt.axis('off')\n",
    "\n",
    "for x,y,z in zip(coordinates_test_ap[:,0], coordinates_test_ap[:,1], ap_tr[:,int(ap_indexes[ap_selected]),sample]):\n",
    "    label = f\"{z.round(2)} m\"\n",
    "\n",
    "    plt.annotate(label, # this is the text\n",
    "                 (x,y), # this is the point to label\n",
    "                 textcoords=\"offset points\", # how to position the text\n",
    "                 xytext=(0,-20), # distance from text to points (x,y)\n",
    "                 ha='center') # horizontal alignment can be left, right or center\n",
    "\n",
    "for x,y,z in zip(coordinates_test_ap[:,0],coordinates_test_ap[:,1], np.linspace(0, n_ap - 1, n_ap).astype(int)):\n",
    "\n",
    "    label = f\"{ap_labels[z]}\"\n",
    "\n",
    "    plt.annotate(label, # this is the text\n",
    "                 (x,y), # this is the point to label\n",
    "                 textcoords=\"offset points\", # how to position the text\n",
    "                 xytext=(0,10), # distance from text to points (x,y)\n",
    "                 ha='center', # horizontal alignment can be left, right or center\n",
    "                 weight='bold')\n",
    "\n",
    "for x,y,z in zip(coordinates_test_ap[:,0],coordinates_test_ap[:,1], np.linspace(0, n_ap - 1, n_ap).astype(int)):\n",
    "    label = f\"({L_ap[z,0]},{L_ap[z,1]})\"\n",
    "\n",
    "    plt.annotate(label, # this is the text\n",
    "                 (x,y), # this is the point to label\n",
    "                 textcoords=\"offset points\", # how to position the text\n",
    "                 xytext=(0,-40), # distance from text to points (x,y)\n",
    "                 ha='center',\n",
    "                 weight='bold') # horizontal alignment can be left, right or center\n",
    "\n",
    "for x,y,z in zip(coordinates_test_vrp[:,0], coordinates_test_vrp[:,1], vrp_test[:,int(ap_indexes[ap_selected]),sample]):\n",
    "    label = f\"{z.round(2)} m\"\n",
    "\n",
    "    plt.annotate(label, # this is the text\n",
    "                 (x,y), # this is the point to label\n",
    "                 textcoords=\"offset points\", # how to position the text\n",
    "                 xytext=(0,-20), # distance from text to points (x,y)\n",
    "                 ha='center') # horizontal alignment can be left, right or center\n",
    "\n",
    "for x,y,z in zip(coordinates_test_vrp[:,0],coordinates_test_vrp[:,1], np.linspace(0, 24, 25).astype(int)):\n",
    "    label = f\"({L_test[z,0]},{L_test[z,1]})\"\n",
    "\n",
    "    plt.annotate(label, # this is the text\n",
    "                 (x,y), # this is the point to label\n",
    "                 textcoords=\"offset points\", # how to position the text\n",
    "                 xytext=(0,-40), # distance from text to points (x,y)\n",
    "                 ha='center',\n",
    "                 weight='bold') # horizontal alignment can be left, right or center"
   ]
  },
  {
   "cell_type": "markdown",
   "metadata": {
    "id": "VtTlhYvnDoej"
   },
   "source": [
    "#Dataset Validation"
   ]
  },
  {
   "cell_type": "code",
   "execution_count": null,
   "metadata": {
    "executionInfo": {
     "elapsed": 15,
     "status": "ok",
     "timestamp": 1639578276946,
     "user": {
      "displayName": "Carlo Gattuso Garrido",
      "photoUrl": "https://lh3.googleusercontent.com/a/default-user=s64",
      "userId": "13655340809366528364"
     },
     "user_tz": -60
    },
    "id": "1L1TPgcKDoer"
   },
   "outputs": [],
   "source": [
    "\"\"\"\n",
    "Training check\n",
    "\"\"\"\n",
    "tr_check = np.array([np.array([vec_mean(ap_tr[j,i,:], n_tr)\n",
    "                            for (i) in np.linspace(0, n_ap - 1, n_ap).astype(int)])\n",
    "                            for (j) in np.linspace(0, n_ap - 1, n_ap).astype(int)])\n",
    "\n",
    "test_check = np.array([np.array([vec_mean(vrp_test[j,i,:], n_tr)\n",
    "                            for (i) in np.linspace(0, n_ap - 1, n_ap).astype(int)])\n",
    "                            for (j) in np.linspace(0, n_test - 1, n_test).astype(int)])\n",
    "\"\"\"\n",
    "Euclidean distance computing\n",
    "\"\"\"\n",
    "d_euc = compute_euclidean_distance(locations_test)\n",
    "\n",
    "d_euc_ap = d_euc[points_test,:]\n",
    "d_euc_vrp = np.delete(d_euc, points_test, 0)"
   ]
  },
  {
   "cell_type": "code",
   "execution_count": null,
   "metadata": {
    "cellView": "form",
    "colab": {
     "base_uri": "https://localhost:8080/",
     "height": 0
    },
    "executionInfo": {
     "elapsed": 901,
     "status": "ok",
     "timestamp": 1639578277833,
     "user": {
      "displayName": "Carlo Gattuso Garrido",
      "photoUrl": "https://lh3.googleusercontent.com/a/default-user=s64",
      "userId": "13655340809366528364"
     },
     "user_tz": -60
    },
    "id": "6_Ljd-ErDoes",
    "outputId": "9efd4b40-c9c5-4c06-9be1-22129ddf9cdf"
   },
   "outputs": [],
   "source": [
    "#@title ##Validation plot\n",
    "ap_selected = \"Google Verde\"  #@param ['Google Blanco', 'Linksys 1', 'Google Azul', 'Linksys 2', 'Google Rojo', 'Linksys 3', 'Google Verde']\n",
    "\n",
    "try:\n",
    "  ap_indexes[ap_selected]\n",
    "except:\n",
    "  ap_selected = ap_labels[0]\n",
    "  \n",
    "plt.figure(figsize=(10, 8))\n",
    "\n",
    "plt.scatter(coordinates_test_ap[:,0], coordinates_test_ap[:,1], c='b')\n",
    "plt.scatter(coordinates_test_vrp[:,0], coordinates_test_vrp[:,1], c='b')\n",
    "\n",
    "plt.legend(labels=['Measured - Euclidean'],loc=\"upper right\",borderaxespad=-7)\n",
    "plt.title('Measured data between target AP '+ap_selected+' and each VRP',pad=30)\n",
    "plt.axis('off')\n",
    "\n",
    "for x,y,z in zip(coordinates_test_ap[:,0], coordinates_test_ap[:,1], tr_check[:,int(ap_indexes[ap_selected])]):\n",
    "    label = f\"{z[0].round(2)} m\"\n",
    "\n",
    "    plt.annotate(label, # this is the text\n",
    "                 (x,y), # this is the point to label\n",
    "                 textcoords=\"offset points\", # how to position the text\n",
    "                 xytext=(0,-20), # distance from text to points (x,y)\n",
    "                 ha='center') # horizontal alignment can be left, right or center\n",
    "\n",
    "for x,y,z in zip(coordinates_test_ap[:,0],coordinates_test_ap[:,1], np.linspace(0, n_ap - 1, n_ap).astype(int)):\n",
    "    label = f\"({L_ap[z,0]},{L_ap[z,1]})\"\n",
    "\n",
    "    plt.annotate(label, # this is the text\n",
    "                 (x,y), # this is the point to label\n",
    "                 textcoords=\"offset points\", # how to position the text\n",
    "                 xytext=(0,-60), # distance from text to points (x,y)\n",
    "                 ha='center',\n",
    "                 weight='bold') # horizontal alignment can be left, right or center\n",
    "\n",
    "for x,y,z in zip(coordinates_test_vrp[:,0], coordinates_test_vrp[:,1], test_check[:,int(ap_indexes[ap_selected])]):\n",
    "    label = f\"{z[0].round(2)} m\"\n",
    "\n",
    "    plt.annotate(label, # this is the text\n",
    "                 (x,y), # this is the point to label\n",
    "                 textcoords=\"offset points\", # how to position the text\n",
    "                 xytext=(0,-20), # distance from text to points (x,y)\n",
    "                 ha='center') # horizontal alignment can be left, right or center\n",
    "\n",
    "for x,y,z in zip(coordinates_test_vrp[:,0],coordinates_test_vrp[:,1], np.linspace(0, n_test - 1, n_test).astype(int)):\n",
    "    label = f\"({L_test[z,0]},{L_test[z,1]})\"\n",
    "\n",
    "    plt.annotate(label, # this is the text\n",
    "                 (x,y), # this is the point to label\n",
    "                 textcoords=\"offset points\", # how to position the text\n",
    "                 xytext=(0,-60), # distance from text to points (x,y)\n",
    "                 ha='center',\n",
    "                 weight='bold') # horizontal alignment can be left, right or center\n",
    "\n",
    "for x,y,z in zip(coordinates_test[:,0], coordinates_test[:,1], d_euc_ap[int(ap_indexes[ap_selected]),:]):\n",
    "    label = f\"{z.round(2)} m\"\n",
    "\n",
    "    plt.annotate(label, # this is the text\n",
    "                 (x,y), # this is the point to label\n",
    "                 textcoords=\"offset points\", # how to position the text\n",
    "                 xytext=(0,-40), # distance from text to points (x,y)\n",
    "                 ha='center') # horizontal alignment can be left, right or center\n",
    "\n",
    "for x,y,z in zip(coordinates_test_ap[:,0],coordinates_test_ap[:,1], np.linspace(0, n_ap - 1, n_ap).astype(int)):\n",
    "\n",
    "    label = f\"{ap_labels[z]}\"\n",
    "\n",
    "    plt.annotate(label, # this is the text\n",
    "                 (x,y), # this is the point to label\n",
    "                 textcoords=\"offset points\", # how to position the text\n",
    "                 xytext=(0,10), # distance from text to points (x,y)\n",
    "                 ha='center', # horizontal alignment can be left, right or center\n",
    "                 weight='bold')\n"
   ]
  },
  {
   "cell_type": "markdown",
   "metadata": {
    "id": "6QdinQbe2res"
   },
   "source": [
    "#Training Data Processing"
   ]
  },
  {
   "cell_type": "code",
   "execution_count": null,
   "metadata": {
    "cellView": "form",
    "colab": {
     "base_uri": "https://localhost:8080/"
    },
    "executionInfo": {
     "elapsed": 9,
     "status": "ok",
     "timestamp": 1639578277834,
     "user": {
      "displayName": "Carlo Gattuso Garrido",
      "photoUrl": "https://lh3.googleusercontent.com/a/default-user=s64",
      "userId": "13655340809366528364"
     },
     "user_tz": -60
    },
    "id": "om-tFq51xzkd",
    "outputId": "55ec8923-0b7a-4abc-c742-776a574498d4"
   },
   "outputs": [],
   "source": [
    "#@title ##Input smoothing\n",
    "factor = \"1\" #@param [\"1\", \"2\", \"5\", \"10\", \"25\", \"50\"]\n",
    "\n",
    "ap_obs = np.array([np.array([vec_mean(ap_tr[j,i,:], int(factor))\n",
    "                            for (i) in np.linspace(0, n_ap - 1, n_ap).astype(int)])\n",
    "                            for (j) in np.linspace(0, n_ap - 1, n_ap).astype(int)])\n",
    "\n",
    "n_samples = ap_obs.shape[2]"
   ]
  },
  {
   "cell_type": "code",
   "execution_count": null,
   "metadata": {
    "cellView": "form",
    "colab": {
     "base_uri": "https://localhost:8080/",
     "height": 0
    },
    "executionInfo": {
     "elapsed": 458,
     "status": "ok",
     "timestamp": 1639578278286,
     "user": {
      "displayName": "Carlo Gattuso Garrido",
      "photoUrl": "https://lh3.googleusercontent.com/a/default-user=s64",
      "userId": "13655340809366528364"
     },
     "user_tz": -60
    },
    "id": "f75LwLFy0hmG",
    "outputId": "cd83f8bf-edc3-427d-b686-59f1cd6b03da"
   },
   "outputs": [],
   "source": [
    "#@title ##Data plot\n",
    "ap_selected = \"Google Azul\"  #@param ['Google Blanco', 'Linksys 1', 'Google Azul', 'Linksys 2', 'Google Rojo', 'Linksys 3', 'Google Verde','Linksys 4']\n",
    "sample = 0 #@param {type:\"slider\", min:0, max:100, step:1}\n",
    "\n",
    "try:\n",
    "  ap_indexes[ap_selected]\n",
    "except:\n",
    "  ap_selected = ap_labels[0]\n",
    "  \n",
    "plt.figure(figsize=(10, 8))\n",
    "\n",
    "plt.scatter(coordinates_test_ap[:,0], coordinates_test_ap[:,1], c='b')\n",
    "\n",
    "plt.legend(labels=['Training','Test'],loc=\"upper right\",borderaxespad=-7)\n",
    "plt.title('Measured data between target AP '+ap_selected+' and the rest of APs',pad=30)\n",
    "plt.axis('off')\n",
    "\n",
    "for x,y,z in zip(coordinates_test_ap[:,0], coordinates_test_ap[:,1], ap_obs[:,int(ap_indexes[ap_selected]),sample]):\n",
    "    label = f\"{z.round(2)} m\"\n",
    "\n",
    "    plt.annotate(label, # this is the text\n",
    "                 (x,y), # this is the point to label\n",
    "                 textcoords=\"offset points\", # how to position the text\n",
    "                 xytext=(0,-20), # distance from text to points (x,y)\n",
    "                 ha='center') # horizontal alignment can be left, right or center\n",
    "\n",
    "for x,y,z in zip(coordinates_test_ap[:,0],coordinates_test_ap[:,1], np.linspace(0, n_ap - 1, n_ap).astype(int)):\n",
    "\n",
    "    label = f\"{ap_labels[z]}\"\n",
    "\n",
    "    plt.annotate(label, # this is the text\n",
    "                 (x,y), # this is the point to label\n",
    "                 textcoords=\"offset points\", # how to position the text\n",
    "                 xytext=(0,10), # distance from text to points (x,y)\n",
    "                 ha='center', # horizontal alignment can be left, right or center\n",
    "                 weight='bold')\n",
    "\n",
    "for x,y,z in zip(coordinates_test_ap[:,0],coordinates_test_ap[:,1], np.linspace(0, n_ap - 1, n_ap).astype(int)):\n",
    "    label = f\"({L_ap[z,0]},{L_ap[z,1]})\"\n",
    "\n",
    "    plt.annotate(label, # this is the text\n",
    "                 (x,y), # this is the point to label\n",
    "                 textcoords=\"offset points\", # how to position the text\n",
    "                 xytext=(0,-40), # distance from text to points (x,y)\n",
    "                 ha='center',\n",
    "                 weight='bold') # horizontal alignment can be left, right or center"
   ]
  },
  {
   "cell_type": "markdown",
   "metadata": {
    "id": "SQvSbCAJwpZ4"
   },
   "source": [
    "#Polynomial Surface Fitting"
   ]
  },
  {
   "cell_type": "code",
   "execution_count": null,
   "metadata": {
    "executionInfo": {
     "elapsed": 32,
     "status": "ok",
     "timestamp": 1639578278288,
     "user": {
      "displayName": "Carlo Gattuso Garrido",
      "photoUrl": "https://lh3.googleusercontent.com/a/default-user=s64",
      "userId": "13655340809366528364"
     },
     "user_tz": -60
    },
    "id": "594fW_VvZghT"
   },
   "outputs": [],
   "source": [
    "\"\"\"\n",
    "Polynomial Surface model fitting\n",
    "    \n",
    "    loc --> X,Y tuple array of AP locations\n",
    "    d --> AP RTT distance observations\n",
    "    order --> Polinomial order\n",
    "\"\"\"\n",
    "def surface_fit(loc, d, order=1):\n",
    "    '''\n",
    "    Clear nan values\n",
    "    '''\n",
    "    idx = np.argwhere(np.isnan(d)).T[0]\n",
    "    loc = np.delete(loc, idx, 0)\n",
    "    d = np.delete(d, idx)\n",
    "\n",
    "    '''\n",
    "    Computing polynomial surface coefficients\n",
    "    '''\n",
    "    if order == 1:\n",
    "        A = np.c_[loc[:,0], loc[:,1], np.ones(loc.shape[0])]\n",
    "        C,_,_,_ = scipy.linalg.lstsq(A, d)\n",
    "    else:\n",
    "        A = np.c_[np.ones(loc.shape[0]), loc[:,:2], np.prod(loc[:,:2], axis=1), loc[:,:2]**2]\n",
    "        C,_,_,_ = scipy.linalg.lstsq(A, d)\n",
    "    return C"
   ]
  },
  {
   "cell_type": "code",
   "execution_count": null,
   "metadata": {
    "executionInfo": {
     "elapsed": 32,
     "status": "ok",
     "timestamp": 1639578278293,
     "user": {
      "displayName": "Carlo Gattuso Garrido",
      "photoUrl": "https://lh3.googleusercontent.com/a/default-user=s64",
      "userId": "13655340809366528364"
     },
     "user_tz": -60
    },
    "id": "3g9D2342ZghT"
   },
   "outputs": [],
   "source": [
    "\"\"\"\n",
    "Mean RTT distance estimation\n",
    "    \n",
    "    x --> AP's x locations\n",
    "    y --> AP's y locations\n",
    "    C --> Model coefficients\n",
    "\"\"\"\n",
    "def sample_distance(x, y, C):\n",
    "    XX = x.flatten()\n",
    "    YY = y.flatten()\n",
    "    \n",
    "    if C.shape[0] == 3:\n",
    "        fit = np.dot(np.c_[XX, YY, np.ones(XX.shape)], C).reshape(x.shape)\n",
    "    else:\n",
    "        fit = np.dot(np.c_[np.ones(XX.shape), XX, YY, XX*YY, XX**2, YY**2], C).reshape(x.shape)\n",
    "    return fit"
   ]
  },
  {
   "cell_type": "code",
   "execution_count": null,
   "metadata": {
    "executionInfo": {
     "elapsed": 279,
     "status": "ok",
     "timestamp": 1639578278544,
     "user": {
      "displayName": "Carlo Gattuso Garrido",
      "photoUrl": "https://lh3.googleusercontent.com/a/default-user=s64",
      "userId": "13655340809366528364"
     },
     "user_tz": -60
    },
    "id": "DWosLZ1gZghT"
   },
   "outputs": [],
   "source": [
    "\"\"\"\n",
    "Surface fitting models\n",
    "\"\"\"\n",
    "\n",
    "\"\"\"\n",
    "Plot domain\n",
    "\"\"\"\n",
    "X,Y = np.meshgrid(np.linspace(0, width, points_x).round(2), np.linspace(0, height, points_y).round(2))\n",
    "\n",
    "\"\"\"\n",
    "Models fitting and surface estimation\n",
    "\"\"\"\n",
    "models_1 = np.array([np.array([surface_fit(L_ap, ap_obs[:,j,i]) \n",
    "                      for (i) in np.linspace(0, n_samples - 1, n_samples).astype(int)]) \n",
    "                      for (j) in np.linspace(0, n_ap - 1, n_ap).astype(int)]) \n",
    "\n",
    "models_2 = np.array([np.array([surface_fit(L_ap, ap_obs[:,j,i],2) \n",
    "                      for (i) in np.linspace(0, n_samples - 1, n_samples).astype(int)]) \n",
    "                      for (j) in np.linspace(0, n_ap - 1, n_ap).astype(int)])\n",
    "\n",
    "Z_1 = np.array([np.array([sample_distance(X, Y, models_1[j,i,:]) \n",
    "                      for (i) in np.linspace(0, n_samples - 1, n_samples).astype(int)]) \n",
    "                      for (j) in np.linspace(0, n_ap - 1, n_ap).astype(int)])\n",
    "\n",
    "Z_2 = np.array([np.array([sample_distance(X, Y, models_2[j,i,:]) \n",
    "                      for (i) in np.linspace(0, n_samples - 1, n_samples).astype(int)]) \n",
    "                      for (j) in np.linspace(0, n_ap - 1, n_ap).astype(int)])"
   ]
  },
  {
   "cell_type": "code",
   "execution_count": null,
   "metadata": {
    "cellView": "form",
    "colab": {
     "base_uri": "https://localhost:8080/",
     "height": 0
    },
    "executionInfo": {
     "elapsed": 1126,
     "status": "ok",
     "timestamp": 1639578279659,
     "user": {
      "displayName": "Carlo Gattuso Garrido",
      "photoUrl": "https://lh3.googleusercontent.com/a/default-user=s64",
      "userId": "13655340809366528364"
     },
     "user_tz": -60
    },
    "id": "gBqbE-LSTATw",
    "outputId": "1e2bbea9-cdac-41ce-89de-7ae760187e51"
   },
   "outputs": [],
   "source": [
    "#@title ##Surface Fitting Models Plot\n",
    "ap_selected = \"Google Azul\"  #@param ['Google Blanco', 'Linksys 1', 'Google Azul', 'Linksys 2', 'Google Rojo', 'Linksys 3', 'Google Verde']\n",
    "sample = 0 #@param {type:\"slider\", min:0, max:100, step:1}\n",
    "\n",
    "try:\n",
    "  ap_indexes[ap_selected]\n",
    "except:\n",
    "  ap_selected = ap_labels[0]\n",
    "\n",
    "fig = plt.figure(figsize=(12,8))\n",
    "\n",
    "ax = fig.gca(projection='3d')\n",
    "\n",
    "l1 = ax.plot_surface(X, Y, Z_1[int(ap_indexes[ap_selected]),sample], rstride=1, cstride=1, alpha=0.5, label='linear', color='g')\n",
    "l2 = ax.plot_surface(X, Y, Z_2[int(ap_indexes[ap_selected]),sample], rstride=1, cstride=1, alpha=0.5, label='quadratic', color='b')\n",
    "\n",
    "ax.scatter(L_ap[:,0], L_ap[:,1], ap_obs[:,int(ap_indexes[ap_selected]),sample], c='r', s=50)\n",
    "\n",
    "plt.xlabel('X')\n",
    "plt.ylabel('Y')\n",
    "ax.set_zlabel('m')\n",
    "ax.axis('auto')\n",
    "\n",
    "plt.title('AP '' RTT distance models', pad=40)\n",
    "plt.show()"
   ]
  },
  {
   "cell_type": "markdown",
   "metadata": {
    "id": "7TxsAYnNWoEL"
   },
   "source": [
    "##Mean RTT Distance vectors"
   ]
  },
  {
   "cell_type": "code",
   "execution_count": null,
   "metadata": {
    "executionInfo": {
     "elapsed": 11,
     "status": "ok",
     "timestamp": 1639578279660,
     "user": {
      "displayName": "Carlo Gattuso Garrido",
      "photoUrl": "https://lh3.googleusercontent.com/a/default-user=s64",
      "userId": "13655340809366528364"
     },
     "user_tz": -60
    },
    "id": "21ZADkuHZghV"
   },
   "outputs": [],
   "source": [
    "\"\"\"\n",
    "Mean RTT distance values at VRPs\n",
    "    _1 --> Order 1 surface fit\n",
    "    _2 --> Order 2 surface fit\n",
    "\"\"\"\n",
    "\n",
    "fit_1 = np.reshape(Z_1, (n_ap, n_samples, n_points, 1))\n",
    "fit_2 = np.reshape(Z_2, (n_ap, n_samples, n_points, 1))\n",
    "\n",
    "\"\"\"\n",
    "Mean RTT observations between target AP and the rest\n",
    "\"\"\"\n",
    "m_ap_1 = np.array([fit_1[:, i, points, :] for (i) in np.linspace(0, n_samples - 1, n_samples).astype(int)])\n",
    "m_ap_2 = np.array([fit_2[:, i, points, :] for (i) in np.linspace(0, n_samples - 1, n_samples).astype(int)])\n",
    "\n",
    "\"\"\"\n",
    "Reference points vector\n",
    "\"\"\"\n",
    "vrp_pts = np.delete(np.linspace(0, n_points - 1, n_points).astype(int), points, 0)\n",
    "\n",
    "\"\"\"\n",
    "Mean RTT observations between target AP and VRPs\n",
    "\"\"\"\n",
    "m_vrp_1 = np.array([fit_1[:, i, vrp_pts, :] for (i) in np.linspace(0, n_samples - 1, n_samples).astype(int)])\n",
    "m_vrp_2 = np.array([fit_2[:, i, vrp_pts, :] for (i) in np.linspace(0, n_samples - 1, n_samples).astype(int)])"
   ]
  },
  {
   "cell_type": "code",
   "execution_count": null,
   "metadata": {
    "cellView": "form",
    "colab": {
     "base_uri": "https://localhost:8080/",
     "height": 0
    },
    "executionInfo": {
     "elapsed": 552,
     "status": "ok",
     "timestamp": 1639578280203,
     "user": {
      "displayName": "Carlo Gattuso Garrido",
      "photoUrl": "https://lh3.googleusercontent.com/a/default-user=s64",
      "userId": "13655340809366528364"
     },
     "user_tz": -60
    },
    "id": "PDmt0S7KXAuf",
    "outputId": "1d61b080-af1f-4e63-c91c-f871bbbee48f"
   },
   "outputs": [],
   "source": [
    "#@title ##Order 1 PSFM Mean RTT Distance Plot\n",
    "ap_selected = \"Google Azul\"  #@param ['Google Blanco', 'Linksys 1', 'Google Azul', 'Linksys 2', 'Google Rojo', 'Linksys 3', 'Google Verde']\n",
    "sample = 0 #@param {type:\"slider\", min:0, max:100, step:1}\n",
    "\n",
    "try:\n",
    "  ap_indexes[ap_selected]\n",
    "except:\n",
    "  ap_selected = ap_labels[0]\n",
    "\n",
    "plt.figure(figsize=(points_x*1.5, points_y*1.8))\n",
    "\n",
    "plt.scatter(coordinates_ap[:,0], coordinates_ap[:,1], c='b')\n",
    "plt.scatter(coordinates_vrp[:,0], coordinates_vrp[:,1], c='r')\n",
    "\n",
    "plt.legend(labels=['AP','VRP'],loc=\"upper right\",borderaxespad=-8)\n",
    "plt.title('AP '+ap_selected+': Order 1 PSFM Mean RTT Distance values',pad=60)\n",
    "plt.axis('off')\n",
    "\n",
    "for x,y,z in zip(coordinates[:,0], coordinates[:,1], np.linspace(0, n_points - 1, n_points).astype(int)):\n",
    "    label = f\"{fit_1[int(ap_indexes[ap_selected]),sample,z][0].round(2)} m\"\n",
    "\n",
    "    plt.annotate(label, # this is the text\n",
    "                 (x,y), # this is the point to label\n",
    "                 textcoords=\"offset points\", # how to position the text\n",
    "                 xytext=(0,-20), # distance from text to points (x,y)\n",
    "                 ha='center') # horizontal alignment can be left, right or center\n",
    "\n",
    "for x,y,z in zip(coordinates[:,0],coordinates[:,1], np.linspace(0, n_points - 1, n_points).astype(int)):\n",
    "    label = f\"({locations[z,0]},{locations[z,1]})\"\n",
    "\n",
    "    plt.annotate(label, # this is the text\n",
    "                 (x,y), # this is the point to label\n",
    "                 textcoords=\"offset points\", # how to position the text\n",
    "                 xytext=(0,10), # distance from text to points (x,y)\n",
    "                 ha='center',\n",
    "                 weight='bold') # horizontal alignment can be left, right or center\n",
    "\n",
    "    label = f\"{z}\"\n",
    "\n",
    "    plt.annotate(label, # this is the text\n",
    "                  (x,y), # this is the point to label\n",
    "                  textcoords=\"offset points\", # how to position the text\n",
    "                  xytext=(0,-40), # distance from text to points (x,y)\n",
    "                  ha='center',\n",
    "                  weight='bold') # horizontal alignment can be left, right or center\n",
    "\n",
    "for x,y,z in zip(coordinates_ap[:,0],coordinates_ap[:,1], np.linspace(0, n_ap - 1, n_ap).astype(int)):\n",
    "\n",
    "    label = f\"{ap_labels[z]}\"\n",
    "\n",
    "    plt.annotate(label, # this is the text\n",
    "                 (x,y), # this is the point to label\n",
    "                 textcoords=\"offset points\", # how to position the text\n",
    "                 xytext=(0,30), # distance from text to points (x,y)\n",
    "                 ha='center', # horizontal alignment can be left, right or center\n",
    "                 weight='bold')"
   ]
  },
  {
   "cell_type": "code",
   "execution_count": null,
   "metadata": {
    "cellView": "form",
    "colab": {
     "base_uri": "https://localhost:8080/",
     "height": 0
    },
    "executionInfo": {
     "elapsed": 1083,
     "status": "ok",
     "timestamp": 1639578281280,
     "user": {
      "displayName": "Carlo Gattuso Garrido",
      "photoUrl": "https://lh3.googleusercontent.com/a/default-user=s64",
      "userId": "13655340809366528364"
     },
     "user_tz": -60
    },
    "id": "rKAbuIt0ZghW",
    "outputId": "3b7b4592-2793-452c-da32-95491528a4db"
   },
   "outputs": [],
   "source": [
    "#@title ##Order 2 PSFM Mean RTT Distance Plot\n",
    "ap_selected = \"Google Rojo\"  #@param ['Google Blanco', 'Linksys 1', 'Google Azul', 'Linksys 2', 'Google Rojo', 'Linksys 3', 'Google Verde']\n",
    "sample = 0 #@param {type:\"slider\", min:0, max:100, step:1}\n",
    "\n",
    "try:\n",
    "  ap_indexes[ap_selected]\n",
    "except:\n",
    "  ap_selected = ap_labels[0]\n",
    "\n",
    "plt.figure(figsize=(points_x*1.5, points_y*1.8))\n",
    "\n",
    "plt.scatter(coordinates_ap[:,0], coordinates_ap[:,1], c='b')\n",
    "plt.scatter(coordinates_vrp[:,0], coordinates_vrp[:,1], c='r')\n",
    "\n",
    "plt.legend(labels=['AP','VRP'],loc=\"upper right\",borderaxespad=-8)\n",
    "plt.title('AP '+ap_selected+': Order 2 PSFM Mean RTT Distance values',pad=60)\n",
    "plt.axis('off')\n",
    "\n",
    "for x,y,z in zip(coordinates[:,0], coordinates[:,1], np.linspace(0, n_points - 1, n_points).astype(int)):\n",
    "    label = f\"{fit_2[int(ap_indexes[ap_selected]),sample,z][0].round(2)} m\"\n",
    "\n",
    "    plt.annotate(label, # this is the text\n",
    "                 (x,y), # this is the point to label\n",
    "                 textcoords=\"offset points\", # how to position the text\n",
    "                 xytext=(0,-20), # distance from text to points (x,y)\n",
    "                 ha='center') # horizontal alignment can be left, right or center\n",
    "\n",
    "for x,y,z in zip(coordinates[:,0],coordinates[:,1], np.linspace(0, n_points - 1, n_points).astype(int)):\n",
    "    label = f\"({locations[z,0]},{locations[z,1]})\"\n",
    "\n",
    "    plt.annotate(label, # this is the text\n",
    "                 (x,y), # this is the point to label\n",
    "                 textcoords=\"offset points\", # how to position the text\n",
    "                 xytext=(0,10), # distance from text to points (x,y)\n",
    "                 ha='center',\n",
    "                 weight='bold') # horizontal alignment can be left, right or center\n",
    "\n",
    "    label = f\"{z}\"\n",
    "\n",
    "    plt.annotate(label, # this is the text\n",
    "                  (x,y), # this is the point to label\n",
    "                  textcoords=\"offset points\", # how to position the text\n",
    "                  xytext=(0,-40), # distance from text to points (x,y)\n",
    "                  ha='center',\n",
    "                  weight='bold') # horizontal alignment can be left, right or center\n",
    "\n",
    "for x,y,z in zip(coordinates_ap[:,0],coordinates_ap[:,1], np.linspace(0, n_ap - 1, n_ap).astype(int)):\n",
    "\n",
    "    label = f\"{ap_labels[z]}\"\n",
    "\n",
    "    plt.annotate(label, # this is the text\n",
    "                 (x,y), # this is the point to label\n",
    "                 textcoords=\"offset points\", # how to position the text\n",
    "                 xytext=(0,30), # distance from text to points (x,y)\n",
    "                 ha='center', # horizontal alignment can be left, right or center\n",
    "                 weight='bold')"
   ]
  },
  {
   "cell_type": "markdown",
   "metadata": {
    "id": "LEXo59pJbLaQ"
   },
   "source": [
    "#Gaussian Process Regression"
   ]
  },
  {
   "cell_type": "markdown",
   "metadata": {
    "id": "41XzYLgh3Y0b"
   },
   "source": [
    "##Kernel definition"
   ]
  },
  {
   "cell_type": "code",
   "execution_count": null,
   "metadata": {
    "executionInfo": {
     "elapsed": 10,
     "status": "ok",
     "timestamp": 1639578281282,
     "user": {
      "displayName": "Carlo Gattuso Garrido",
      "photoUrl": "https://lh3.googleusercontent.com/a/default-user=s64",
      "userId": "13655340809366528364"
     },
     "user_tz": -60
    },
    "id": "QXhFUU39ZghW"
   },
   "outputs": [],
   "source": [
    "\"\"\"\n",
    "Gaussian Process Kernel definition\n",
    "\n",
    "Kernel parameters:\n",
    "    - L --> Length Scale\n",
    "    - sigma_f --> Constant Kernel Amplitude\n",
    "\"\"\"\n",
    "\n",
    "def kernel_function(x, y, sigma_f=1, l=1):\n",
    "\n",
    "    \"\"\" Squared Exponential kernel function \"\"\"\n",
    "    kernel = sigma_f * np.exp(- (np.linalg.norm(x - y)**2) / (2 * l**2))\n",
    "    return kernel"
   ]
  },
  {
   "cell_type": "markdown",
   "metadata": {
    "id": "DTBndfBs3bpx"
   },
   "source": [
    "##Hyperparameter optimization"
   ]
  },
  {
   "cell_type": "code",
   "execution_count": null,
   "metadata": {
    "executionInfo": {
     "elapsed": 10,
     "status": "ok",
     "timestamp": 1639578281284,
     "user": {
      "displayName": "Carlo Gattuso Garrido",
      "photoUrl": "https://lh3.googleusercontent.com/a/default-user=s64",
      "userId": "13655340809366528364"
     },
     "user_tz": -60
    },
    "id": "NfFnbKL6ZghW"
   },
   "outputs": [],
   "source": [
    "\"\"\"\n",
    "Hyperparameter optimization of sigma_f and length-scale\n",
    "\n",
    "    loc --> AP locations\n",
    "    mean --> RTT distance observations between APs\n",
    "\"\"\"\n",
    "def gp_fit(loc, mean):\n",
    "    '''\n",
    "    Clear nan values\n",
    "    '''\n",
    "    idx = np.argwhere(np.isnan(mean)).T[0]\n",
    "    loc = np.delete(loc, idx, 0)\n",
    "    mean = np.delete(mean, idx)\n",
    "\n",
    "    gp.fit(loc, mean)\n",
    "    \n",
    "    l = gp.kernel_.get_params().get('k2__length_scale')\n",
    "    sigma_f = gp.kernel_.get_params().get('k1__constant_value')\n",
    "    return l, sigma_f"
   ]
  },
  {
   "cell_type": "code",
   "execution_count": null,
   "metadata": {
    "colab": {
     "base_uri": "https://localhost:8080/"
    },
    "executionInfo": {
     "elapsed": 33428,
     "status": "ok",
     "timestamp": 1639578314703,
     "user": {
      "displayName": "Carlo Gattuso Garrido",
      "photoUrl": "https://lh3.googleusercontent.com/a/default-user=s64",
      "userId": "13655340809366528364"
     },
     "user_tz": -60
    },
    "id": "4hyARn-3ZghX",
    "outputId": "821d2eea-f963-4b2b-89c2-332a5cf7db58"
   },
   "outputs": [],
   "source": [
    "\"\"\"\n",
    "Gaussian Process Fit using scikit-learn GPR\n",
    "\"\"\"\n",
    "sigma_n = 0.5\n",
    "\n",
    "kernel = ConstantKernel(constant_value=100.0,constant_value_bounds=(1e-3, 1e3)) \\\n",
    "            * RBF(length_scale=10.0, length_scale_bounds=(1e-3, 1e3))\n",
    "\n",
    "gp = GaussianProcessRegressor(kernel=kernel, alpha=sigma_n**2, n_restarts_optimizer=10)\n",
    "\n",
    "hyper_params = np.array([np.array([gp_fit(L_ap, ap_obs[:,j,i]) \n",
    "                      for (i) in np.linspace(0, n_samples - 1, n_samples).astype(int)]) \n",
    "                      for (j) in np.linspace(0, n_ap - 1, n_ap).astype(int)])"
   ]
  },
  {
   "cell_type": "markdown",
   "metadata": {
    "id": "U3EuRrCyQqfN"
   },
   "source": [
    "##Covariance matrices\n",
    "\n",
    " "
   ]
  },
  {
   "cell_type": "markdown",
   "metadata": {
    "id": "eVeAfSPScLV-"
   },
   "source": [
    "###Covariance matrix computing"
   ]
  },
  {
   "cell_type": "code",
   "execution_count": null,
   "metadata": {
    "executionInfo": {
     "elapsed": 12,
     "status": "ok",
     "timestamp": 1639578314704,
     "user": {
      "displayName": "Carlo Gattuso Garrido",
      "photoUrl": "https://lh3.googleusercontent.com/a/default-user=s64",
      "userId": "13655340809366528364"
     },
     "user_tz": -60
    },
    "id": "vtzBj_sYLzo4"
   },
   "outputs": [],
   "source": [
    "def compute_k_matrix(loc, obs, sigma_f=1, l=1):\n",
    "    '''\n",
    "    Clear nan values\n",
    "    '''\n",
    "    idx = np.argwhere(np.isnan(obs)).T[0]\n",
    "    loc = np.delete(loc, idx, 0)\n",
    "\n",
    "    \"\"\"\n",
    "    Compute components of the covariance matrix of the joint distribution.\n",
    "    \n",
    "    We follow the notation:\n",
    "        - K = K(L, L)\n",
    "    \"\"\"\n",
    "    \n",
    "    K = [kernel_function(i, j, sigma_f=sigma_f, l=l) for (i, j) in itertools.product(loc, loc)]\n",
    "    K = np.array(K).reshape(loc.shape[0], loc.shape[0])\n",
    "\n",
    "    return K"
   ]
  },
  {
   "cell_type": "code",
   "execution_count": null,
   "metadata": {
    "executionInfo": {
     "elapsed": 11,
     "status": "ok",
     "timestamp": 1639578314705,
     "user": {
      "displayName": "Carlo Gattuso Garrido",
      "photoUrl": "https://lh3.googleusercontent.com/a/default-user=s64",
      "userId": "13655340809366528364"
     },
     "user_tz": -60
    },
    "id": "shcgqa6-OPV6"
   },
   "outputs": [],
   "source": [
    "def compute_k_star_matrix(loc, ref, obs, sigma_f=1, l=1):\n",
    "    '''\n",
    "    Clear nan values\n",
    "    '''\n",
    "    idx = np.argwhere(np.isnan(obs)).T[0]\n",
    "    loc = np.delete(loc, idx, 0)\n",
    "\n",
    "    \"\"\"\n",
    "    Compute components of the covariance matrix of the joint distribution.\n",
    "    \n",
    "    We follow the notation:\n",
    "        - K_star = K(L^*, L)\n",
    "    \"\"\"\n",
    "    K_star = [kernel_function(i, j, sigma_f=sigma_f, l=l) for (i, j) in itertools.product(ref, loc)]\n",
    "    K_star = np.array(K_star).reshape(ref.shape[0], loc.shape[0])\n",
    "\n",
    "    return K_star"
   ]
  },
  {
   "cell_type": "code",
   "execution_count": null,
   "metadata": {
    "executionInfo": {
     "elapsed": 386,
     "status": "ok",
     "timestamp": 1639578315084,
     "user": {
      "displayName": "Carlo Gattuso Garrido",
      "photoUrl": "https://lh3.googleusercontent.com/a/default-user=s64",
      "userId": "13655340809366528364"
     },
     "user_tz": -60
    },
    "id": "mwvTn7M5PN9v"
   },
   "outputs": [],
   "source": [
    "def compute_k_star2_matrix(ref, sigma_f=1, l=1):\n",
    "    \"\"\"\n",
    "    Compute components of the covariance matrix of the joint distribution.\n",
    "    \n",
    "    We follow the notation:\n",
    "        - K_star2 = K(L^*, L^*)\n",
    "    \"\"\"\n",
    "\n",
    "    K_star2 = [kernel_function(i, j, sigma_f=sigma_f, l=l) for (i, j) in itertools.product(ref, ref)]\n",
    "    K_star2 = np.array(K_star2).reshape(ref.shape[0], ref.shape[0])\n",
    "    \n",
    "    return K_star2"
   ]
  },
  {
   "cell_type": "code",
   "execution_count": null,
   "metadata": {
    "executionInfo": {
     "elapsed": 1674,
     "status": "ok",
     "timestamp": 1639578316751,
     "user": {
      "displayName": "Carlo Gattuso Garrido",
      "photoUrl": "https://lh3.googleusercontent.com/a/default-user=s64",
      "userId": "13655340809366528364"
     },
     "user_tz": -60
    },
    "id": "MIT9uvh7HqaP"
   },
   "outputs": [],
   "source": [
    "\"\"\"\n",
    "Covariance matrices and regressor objects computing:\n",
    "\n",
    "    - Covariance matrices: K, K_star, K_star2\n",
    "\"\"\"\n",
    "\n",
    "k_array = np.empty(n_samples, dtype=object)\n",
    "for (i) in np.linspace(0, n_samples - 1, n_samples).astype(int):\n",
    "  aux = np.array([compute_k_matrix(L_ap, \n",
    "                                   ap_obs[:,j,i],\n",
    "                                   sigma_f=hyper_params[j,i][1], \n",
    "                                   l=hyper_params[j,i][0]) \n",
    "                  for (j) in np.linspace(0, n_ap - 1, n_ap).astype(int)], dtype=object)\n",
    "  k_array[i] = aux\n",
    "\n",
    "k_star2_array = np.empty(n_samples, dtype=object)\n",
    "for (i) in np.linspace(0, n_samples - 1, n_samples).astype(int):\n",
    "  aux = np.array([compute_k_star2_matrix(L_vrp,\n",
    "                                         sigma_f=hyper_params[j,i][1], \n",
    "                                        l=hyper_params[j,i][0]) \n",
    "                  for (j) in np.linspace(0, n_ap - 1, n_ap).astype(int)], dtype=object)\n",
    "  k_star2_array[i] = aux\n",
    "\n",
    "k_star_array = np.empty(n_samples, dtype=object)\n",
    "for (i) in np.linspace(0, n_samples - 1, n_samples).astype(int):\n",
    "  aux_array = np.empty(n_ap, dtype=object)\n",
    "  for (j) in np.linspace(0, n_ap - 1, n_ap).astype(int):\n",
    "    aux = compute_k_star_matrix(L_ap,\n",
    "                                L_vrp,\n",
    "                                ap_obs[:,j,i],\n",
    "                                sigma_f=hyper_params[j,i][1], \n",
    "                                l=hyper_params[j,i][0])\n",
    "    aux_array[j] = aux\n",
    "  k_star_array[i] = aux_array"
   ]
  },
  {
   "cell_type": "code",
   "execution_count": null,
   "metadata": {
    "cellView": "form",
    "colab": {
     "base_uri": "https://localhost:8080/"
    },
    "executionInfo": {
     "elapsed": 19,
     "status": "ok",
     "timestamp": 1639578316752,
     "user": {
      "displayName": "Carlo Gattuso Garrido",
      "photoUrl": "https://lh3.googleusercontent.com/a/default-user=s64",
      "userId": "13655340809366528364"
     },
     "user_tz": -60
    },
    "id": "b9gYzKuWZghY",
    "outputId": "d6dda719-35f9-4d84-d81e-eafcff8b17ce"
   },
   "outputs": [],
   "source": [
    "#@title ###Multivariate Gaussian Process Dimension Check\n",
    "ap_selected = \"Google Blanco\"  #@param ['Google Blanco', 'Linksys 1', 'Google Azul', 'Linksys 2', 'Google Rojo', 'Linksys 3', 'Google Verde']\n",
    "sample = 0 #@param {type:\"slider\", min:0, max:100, step:1}\n",
    "\n",
    "try:\n",
    "  ap_indexes[ap_selected]\n",
    "except:\n",
    "  ap_selected = ap_labels[0]\n",
    "  \n",
    "\"\"\"\n",
    "Multivariate Joint Distribution Check: G matrix\n",
    "\"\"\"\n",
    "k_array_len = k_array[sample][int(ap_indexes[ap_selected])].shape[0]\n",
    "k_star2_array_len = k_star2_array[sample][int(ap_indexes[ap_selected])].shape[0]\n",
    "\n",
    "a = np.concatenate((k_array[sample][int(ap_indexes[ap_selected])] \n",
    "                    + (sigma_n**2)*np.eye(k_array_len), \n",
    "                    k_star_array[sample][int(ap_indexes[ap_selected])]), axis=0)\n",
    "print(a.shape)\n",
    "b = np.concatenate((k_star_array[sample][int(ap_indexes[ap_selected])].T, k_star2_array[sample][int(ap_indexes[ap_selected])]), axis=0)\n",
    "print(b.shape)\n",
    "G = np.concatenate((a, b), axis=1)\n",
    "print(G.shape)\n",
    "G.shape == (k_array_len + k_star2_array_len, k_array_len + k_star2_array_len)"
   ]
  },
  {
   "cell_type": "markdown",
   "metadata": {
    "id": "LmWd4ez2codE"
   },
   "source": [
    "###Covariance matrices plot"
   ]
  },
  {
   "cell_type": "code",
   "execution_count": null,
   "metadata": {
    "cellView": "form",
    "colab": {
     "base_uri": "https://localhost:8080/",
     "height": 0
    },
    "executionInfo": {
     "elapsed": 9,
     "status": "ok",
     "timestamp": 1639578317227,
     "user": {
      "displayName": "Carlo Gattuso Garrido",
      "photoUrl": "https://lh3.googleusercontent.com/a/default-user=s64",
      "userId": "13655340809366528364"
     },
     "user_tz": -60
    },
    "id": "WFdijgl1RSkL",
    "outputId": "5658830c-65c5-4e20-dd3b-9a5713eb88b3"
   },
   "outputs": [],
   "source": [
    "#@title ###K Matrix Plot\n",
    "ap_selected = \"Google Azul\"  #@param ['Google Blanco', 'Linksys 1', 'Google Azul', 'Linksys 2', 'Google Rojo', 'Linksys 3', 'Google Verde']\n",
    "sample = 0 #@param {type:\"slider\", min:0, max:100, step:1}\n",
    "\n",
    "try:\n",
    "  ap_indexes[ap_selected]\n",
    "except:\n",
    "  ap_selected = ap_labels[0]\n",
    "\n",
    "\"\"\"\n",
    "Kernel Covariance Matrix K(L,L)\n",
    "\"\"\"\n",
    "fig, ax = plt.subplots(figsize=(12, 8))\n",
    "sns.heatmap(data=k_array[sample][int(ap_indexes[ap_selected])].astype(np.float), cmap='Blues', ax=ax)\n",
    "ax.set(title='AP '+ap_selected+' : Components of the Kernel Covariance Matrix K(L,L)')\n",
    "print(\"\\nCovariance matrix: \\n\\n\")"
   ]
  },
  {
   "cell_type": "code",
   "execution_count": null,
   "metadata": {
    "cellView": "form",
    "colab": {
     "base_uri": "https://localhost:8080/",
     "height": 0
    },
    "executionInfo": {
     "elapsed": 601,
     "status": "ok",
     "timestamp": 1639578317822,
     "user": {
      "displayName": "Carlo Gattuso Garrido",
      "photoUrl": "https://lh3.googleusercontent.com/a/default-user=s64",
      "userId": "13655340809366528364"
     },
     "user_tz": -60
    },
    "id": "ARPTCzUzc2F9",
    "outputId": "ba7a4cef-e84f-4dcf-edd6-595237ebfd1f"
   },
   "outputs": [],
   "source": [
    "#@title ###K Star Squared Matrix\n",
    "ap_selected = \"Google Blanco\"  #@param ['Google Blanco', 'Linksys 1', 'Google Azul', 'Linksys 2', 'Google Rojo', 'Linksys 3', 'Google Verde']\n",
    "sample = 0 #@param {type:\"slider\", min:0, max:100, step:1}\n",
    "\n",
    "try:\n",
    "  ap_indexes[ap_selected]\n",
    "except:\n",
    "  ap_selected = ap_labels[0]\n",
    "\n",
    "\"\"\"\n",
    "Kernel Covariance Matrix K(L*,L*)\n",
    "\"\"\"\n",
    "fig, ax = plt.subplots(figsize=(12, 8))\n",
    "sns.heatmap(data=k_star2_array[sample][int(ap_indexes[ap_selected])].astype(np.float), cmap='Blues', ax=ax)\n",
    "ax.set(title='AP '+ap_selected+' : Components of the Kernel Covariance Matrix K(L*,L*)')\n",
    "print(\"\\nCovariance matrices: \\n\\n\")"
   ]
  },
  {
   "cell_type": "code",
   "execution_count": null,
   "metadata": {
    "cellView": "form",
    "colab": {
     "base_uri": "https://localhost:8080/",
     "height": 0
    },
    "executionInfo": {
     "elapsed": 393,
     "status": "ok",
     "timestamp": 1639578318200,
     "user": {
      "displayName": "Carlo Gattuso Garrido",
      "photoUrl": "https://lh3.googleusercontent.com/a/default-user=s64",
      "userId": "13655340809366528364"
     },
     "user_tz": -60
    },
    "id": "JCY_c0d8eND5",
    "outputId": "a8ced6c5-1216-4db6-b6f3-6c9f2b0810e2"
   },
   "outputs": [],
   "source": [
    "#@title ###K Star Matrix\n",
    "ap_selected = \"Google Blanco\"  #@param ['Google Blanco', 'Linksys 1', 'Google Azul', 'Linksys 2', 'Google Rojo', 'Linksys 3', 'Google Verde']\n",
    "sample = 0 #@param {type:\"slider\", min:0, max:100, step:1}\n",
    "\n",
    "try:\n",
    "  ap_indexes[ap_selected]\n",
    "except:\n",
    "  ap_selected = ap_labels[0]\n",
    "\n",
    "\"\"\"\n",
    "Kernel Covariance Matrix K(L*,L)\n",
    "\"\"\"\n",
    "fig, ax = plt.subplots(figsize=(12, 8))\n",
    "sns.heatmap(data=k_star_array[sample][int(ap_indexes[ap_selected])].astype(np.float), cmap='Blues', ax=ax)\n",
    "ax.set(title='AP '+ap_selected+' : Components of the Kernel Covariance Matrix K(L*,L*)')\n",
    "print(\"\\nCovariance matrices: \\n\\n\")"
   ]
  },
  {
   "cell_type": "markdown",
   "metadata": {
    "id": "UBKyxcdDSlwe"
   },
   "source": [
    "#PSFM GPR Interpolation"
   ]
  },
  {
   "cell_type": "markdown",
   "metadata": {
    "id": "Ge0LR5qPWMVt"
   },
   "source": [
    "##Interpolation Computing"
   ]
  },
  {
   "cell_type": "code",
   "execution_count": null,
   "metadata": {
    "executionInfo": {
     "elapsed": 22,
     "status": "ok",
     "timestamp": 1639578318203,
     "user": {
      "displayName": "Carlo Gattuso Garrido",
      "photoUrl": "https://lh3.googleusercontent.com/a/default-user=s64",
      "userId": "13655340809366528364"
     },
     "user_tz": -60
    },
    "id": "VI9KlyLuYrMz"
   },
   "outputs": [],
   "source": [
    "def psfm_gpr_mean(m, m_star, d, K, K_star, sigma_n):\n",
    "    '''\n",
    "    Clear nan values\n",
    "    '''\n",
    "    idx = np.argwhere(np.isnan(d)).T[0]\n",
    "    m = np.delete(m, idx)\n",
    "    d = np.delete(d, idx)\n",
    "\n",
    "    \"\"\"Compute gaussian regression parameters.\"\"\"\n",
    "    s_bar_star = (m_star.reshape([m_star.shape[0], 1]) \n",
    "        + np.dot(K_star, np.dot(np.linalg.inv(K + (sigma_n**2)*np.eye(K.shape[0])), d.reshape([d.shape[0], 1]) - m.reshape([m.shape[0], 1]))))\n",
    "    \n",
    "    return s_bar_star.reshape(n_vrp)"
   ]
  },
  {
   "cell_type": "code",
   "execution_count": null,
   "metadata": {
    "executionInfo": {
     "elapsed": 25,
     "status": "ok",
     "timestamp": 1639578318208,
     "user": {
      "displayName": "Carlo Gattuso Garrido",
      "photoUrl": "https://lh3.googleusercontent.com/a/default-user=s64",
      "userId": "13655340809366528364"
     },
     "user_tz": -60
    },
    "id": "LnYubJuRZ9U2"
   },
   "outputs": [],
   "source": [
    "def zero_mean_gpr_mean(d, K, K_star, sigma_n):\n",
    "    '''\n",
    "    Clear nan values\n",
    "    '''\n",
    "    idx = np.argwhere(np.isnan(d)).T[0]\n",
    "    d = np.delete(d, idx)\n",
    "\n",
    "    \"\"\"Compute gaussian regression parameters.\"\"\"\n",
    "    s_bar_star = np.dot(K_star, np.dot(np.linalg.inv(K + (sigma_n**2)*np.eye(K.shape[0])), d.reshape([d.shape[0], 1])))\n",
    "    \n",
    "    return s_bar_star.reshape(n_vrp)"
   ]
  },
  {
   "cell_type": "code",
   "execution_count": null,
   "metadata": {
    "executionInfo": {
     "elapsed": 27,
     "status": "ok",
     "timestamp": 1639578318211,
     "user": {
      "displayName": "Carlo Gattuso Garrido",
      "photoUrl": "https://lh3.googleusercontent.com/a/default-user=s64",
      "userId": "13655340809366528364"
     },
     "user_tz": -60
    },
    "id": "e0Ik2sWQaMLD"
   },
   "outputs": [],
   "source": [
    "def zero_mean_gpr_cov(K, K_star2, K_star, sigma_n):\n",
    "\n",
    "    \"\"\"Compute gaussian regression parameters.\"\"\"\n",
    "    cov_s_star = K_star2 - np.dot(K_star, np.dot(np.linalg.inv(K + (sigma_n**2)*np.eye(K.shape[0])), K_star.T))\n",
    "    \n",
    "    return cov_s_star"
   ]
  },
  {
   "cell_type": "code",
   "execution_count": null,
   "metadata": {
    "executionInfo": {
     "elapsed": 1253,
     "status": "ok",
     "timestamp": 1639578319439,
     "user": {
      "displayName": "Carlo Gattuso Garrido",
      "photoUrl": "https://lh3.googleusercontent.com/a/default-user=s64",
      "userId": "13655340809366528364"
     },
     "user_tz": -60
    },
    "id": "2rF2TDRwZgha"
   },
   "outputs": [],
   "source": [
    "\"\"\"\n",
    "Zero-Mean Gaussian Process interpolations\n",
    "\"\"\"\n",
    "mean_array = np.array([np.array([zero_mean_gpr_mean(ap_obs[:,j,i], \n",
    "                                                    k_array[i][j].astype(np.float), \n",
    "                                                    k_star_array[i][j].astype(np.float), \n",
    "                                                    sigma_n).reshape(n_vrp,1)\n",
    "                                for (i) in np.linspace(0, n_samples - 1, n_samples).astype(int)])\n",
    "                                for (j) in np.linspace(0, n_ap - 1, n_ap).astype(int)])\n",
    "                                  \n",
    "\n",
    "var_array = np.array([np.array([np.diag(zero_mean_gpr_cov(k_array[i][j].astype(np.float), \n",
    "                                                          k_star2_array[i][j].astype(np.float), \n",
    "                                                          k_star_array[i][j].astype(np.float), \n",
    "                                                          sigma_n)).reshape(n_vrp,1)\n",
    "                                  for (i) in np.linspace(0, n_samples - 1, n_samples).astype(int)])\n",
    "                                  for (j) in np.linspace(0, n_ap - 1, n_ap).astype(int)])\n",
    "\n",
    "\"\"\"\n",
    "Order 1 PSFM Gaussian Process interpolations\n",
    "\"\"\"\n",
    "mean_psfm_array = np.array([np.array([psfm_gpr_mean(m_ap_1[i,j], \n",
    "                                                    m_vrp_1[i,j], \n",
    "                                                    ap_obs[:,j,i], \n",
    "                                                    k_array[i][j].astype(np.float), \n",
    "                                                    k_star_array[i][j].astype(np.float), \n",
    "                                                    sigma_n).reshape(n_vrp,1)\n",
    "                                      for (i) in np.linspace(0, n_samples - 1, n_samples).astype(int)])\n",
    "                                      for (j) in np.linspace(0, n_ap - 1, n_ap).astype(int)])\n",
    "\n",
    "\"\"\"\n",
    "Order 2 PSFM Gaussian Process interpolations\n",
    "\"\"\"\n",
    "mean_psfm2_array = np.array([np.array([psfm_gpr_mean(m_ap_2[i,j], \n",
    "                                                    m_vrp_2[i,j], \n",
    "                                                    ap_obs[:,j,i], \n",
    "                                                    k_array[i][j].astype(np.float), \n",
    "                                                    k_star_array[i][j].astype(np.float), \n",
    "                                                    sigma_n).reshape(n_vrp,1)\n",
    "                                      for (i) in np.linspace(0, n_samples - 1, n_samples).astype(int)])\n",
    "                                      for (j) in np.linspace(0, n_ap - 1, n_ap).astype(int)])"
   ]
  },
  {
   "cell_type": "markdown",
   "metadata": {
    "id": "--YfNHMQZgha"
   },
   "source": [
    "##Interpolation Plots"
   ]
  },
  {
   "cell_type": "code",
   "execution_count": null,
   "metadata": {
    "cellView": "form",
    "colab": {
     "base_uri": "https://localhost:8080/",
     "height": 0
    },
    "executionInfo": {
     "elapsed": 532,
     "status": "ok",
     "timestamp": 1639578319967,
     "user": {
      "displayName": "Carlo Gattuso Garrido",
      "photoUrl": "https://lh3.googleusercontent.com/a/default-user=s64",
      "userId": "13655340809366528364"
     },
     "user_tz": -60
    },
    "id": "OZDtEH6HZghb",
    "outputId": "e2968e7e-c3e4-431a-e7b1-f035cf91abec"
   },
   "outputs": [],
   "source": [
    "#@title ##Zero-Mean GPR\n",
    "ap_selected = \"Google Azul\"  #@param ['Google Blanco', 'Linksys 1', 'Google Azul', 'Linksys 2', 'Google Rojo', 'Linksys 3', 'Google Verde', 'Linksys 4']\n",
    "sample = 0 #@param {type:\"slider\", min:0, max:100, step:1}\n",
    "\n",
    "try:\n",
    "  ap_indexes[ap_selected]\n",
    "except:\n",
    "  ap_selected = ap_labels[0]\n",
    "  \n",
    "\"\"\"\n",
    "Zero Mean Gaussian Process interpolation:\n",
    "    \n",
    "    s_bar_star --> Mean estimated value for each VRP\n",
    "    cov_s_star --> Posterior covariance matrix\n",
    "    var_s_star --> VRP estimation variance\n",
    "\"\"\"\n",
    "\n",
    "plt.figure(figsize=(points_x*2, points_y*1.8))\n",
    "\n",
    "plt.scatter(coordinates_ap[:,0], coordinates_ap[:,1], c='b')\n",
    "plt.scatter(coordinates_vrp[:,0], coordinates_vrp[:,1], c='r')\n",
    "\n",
    "plt.legend(labels=['AP','VRP'],loc=\"upper right\",borderaxespad=-8)\n",
    "plt.title('AP '+ap_selected+' : Zero Mean Gaussian Process interpolation',pad=60)\n",
    "plt.axis('off')\n",
    "\n",
    "for x,y,z in zip(coordinates_ap[:,0], coordinates_ap[:,1], ap_obs[:,int(ap_indexes[ap_selected]),sample]):\n",
    "    label = f\"{z.round(2)} m\"\n",
    "\n",
    "    plt.annotate(label, # this is the text\n",
    "                 (x,y), # this is the point to label\n",
    "                 textcoords=\"offset points\", # how to position the text\n",
    "                 xytext=(0,-20), # distance from text to points (x,y)\n",
    "                 ha='center') # horizontal alignment can be left, right or center\n",
    "\n",
    "for x in range(len(mean_array[int(ap_indexes[ap_selected]),sample])):\n",
    "    label = f\"{mean_array[int(ap_indexes[ap_selected]),sample][x,0].round(2)} +- {var_array[int(ap_indexes[ap_selected]),sample][x,0].round(2)} m\"\n",
    "\n",
    "    plt.annotate(label, # this is the text\n",
    "                 (coordinates_vrp[x,0],coordinates_vrp[x,1]), # this is the point to label\n",
    "                 textcoords=\"offset points\", # how to position the text\n",
    "                 xytext=(0,-20), # distance from text to points (x,y)\n",
    "                 ha='center') # horizontal alignment can be left, right or center\n",
    "\n",
    "for x,y,z in zip(coordinates_ap[:,0],coordinates_ap[:,1], np.linspace(0, n_ap - 1, n_ap).astype(int)):\n",
    "\n",
    "    label = f\"{ap_labels[z]}\"\n",
    "\n",
    "    plt.annotate(label, # this is the text\n",
    "                 (x,y), # this is the point to label\n",
    "                 textcoords=\"offset points\", # how to position the text\n",
    "                 xytext=(0,30), # distance from text to points (x,y)\n",
    "                 ha='center', # horizontal alignment can be left, right or center\n",
    "                 weight='bold')\n",
    "\n",
    "for x,y,z in zip(coordinates[:,0],coordinates[:,1], np.linspace(0, n_points - 1, n_points).astype(int)):\n",
    "    label = f\"({locations[z,0]},{locations[z,1]})\"\n",
    "\n",
    "    plt.annotate(label, # this is the text\n",
    "                 (x,y), # this is the point to label\n",
    "                 textcoords=\"offset points\", # how to position the text\n",
    "                 xytext=(0,10), # distance from text to points (x,y)\n",
    "                 ha='center',\n",
    "                 weight='bold') # horizontal alignment can be left, right or center"
   ]
  },
  {
   "cell_type": "code",
   "execution_count": null,
   "metadata": {
    "cellView": "form",
    "colab": {
     "base_uri": "https://localhost:8080/",
     "height": 0
    },
    "executionInfo": {
     "elapsed": 12,
     "status": "ok",
     "timestamp": 1639578319969,
     "user": {
      "displayName": "Carlo Gattuso Garrido",
      "photoUrl": "https://lh3.googleusercontent.com/a/default-user=s64",
      "userId": "13655340809366528364"
     },
     "user_tz": -60
    },
    "id": "hy3TtsrvZghb",
    "outputId": "2ca617e8-87ae-455d-b351-5389d3f52134"
   },
   "outputs": [],
   "source": [
    "#@title ##First Order PSFM GPR\n",
    "ap_selected = \"Google Azul\"  #@param ['Google Blanco', 'Linksys 1', 'Google Azul', 'Linksys 2', 'Google Rojo', 'Linksys 3', 'Google Verde']\n",
    "sample = 1 #@param {type:\"slider\", min:0, max:100, step:1}\n",
    "\n",
    "try:\n",
    "  ap_indexes[ap_selected]\n",
    "except:\n",
    "  ap_selected = ap_labels[0]\n",
    "\n",
    "\"\"\"\n",
    "First Order PSFM Gaussian Process interpolation:\n",
    "    \n",
    "    s_bar_star --> Mean estimated value for each VRP\n",
    "    cov_s_star --> Posterior covariance matrix\n",
    "    var_s_star --> VRP estimation variance\n",
    "\"\"\"\n",
    "\n",
    "plt.figure(figsize=(points_x*2, points_y*1.8))\n",
    "\n",
    "plt.scatter(coordinates_ap[:,0], coordinates_ap[:,1], c='b')\n",
    "plt.scatter(coordinates_vrp[:,0], coordinates_vrp[:,1], c='r')\n",
    "\n",
    "plt.legend(labels=['AP','VRP'],loc=\"upper right\",borderaxespad=-8)\n",
    "plt.title('AP '+ap_selected+' : First Order PSFM Gaussian Process interpolation',pad=60)\n",
    "plt.axis('off')\n",
    "\n",
    "for x,y,z in zip(coordinates_ap[:,0], coordinates_ap[:,1], ap_obs[:,int(ap_indexes[ap_selected]),sample]):\n",
    "    label = f\"{z.round(2)} m\"\n",
    "\n",
    "    plt.annotate(label, # this is the text\n",
    "                 (x,y), # this is the point to label\n",
    "                 textcoords=\"offset points\", # how to position the text\n",
    "                 xytext=(0,-20), # distance from text to points (x,y)\n",
    "                 ha='center') # horizontal alignment can be left, right or center\n",
    "\n",
    "for x in range(len(mean_array[int(ap_indexes[ap_selected]),sample])):\n",
    "    label = f\"{mean_psfm_array[int(ap_indexes[ap_selected]),sample][x,0].round(2)} +- {var_array[int(ap_indexes[ap_selected]),sample][x,0].round(2)} m\"\n",
    "\n",
    "    plt.annotate(label, # this is the text\n",
    "                 (coordinates_vrp[x,0],coordinates_vrp[x,1]), # this is the point to label\n",
    "                 textcoords=\"offset points\", # how to position the text\n",
    "                 xytext=(0,-20), # distance from text to points (x,y)\n",
    "                 ha='center') # horizontal alignment can be left, right or center\n",
    "\n",
    "for x,y,z in zip(coordinates_ap[:,0],coordinates_ap[:,1], np.linspace(0, n_ap - 1, n_ap).astype(int)):\n",
    "\n",
    "    label = f\"{ap_labels[z]}\"\n",
    "\n",
    "    plt.annotate(label, # this is the text\n",
    "                 (x,y), # this is the point to label\n",
    "                 textcoords=\"offset points\", # how to position the text\n",
    "                 xytext=(0,30), # distance from text to points (x,y)\n",
    "                 ha='center', # horizontal alignment can be left, right or center\n",
    "                 weight='bold')\n",
    "\n",
    "for x,y,z in zip(coordinates[:,0],coordinates[:,1], np.linspace(0, n_points - 1, n_points).astype(int)):\n",
    "    label = f\"({locations[z,0]},{locations[z,1]})\"\n",
    "\n",
    "    plt.annotate(label, # this is the text\n",
    "                 (x,y), # this is the point to label\n",
    "                 textcoords=\"offset points\", # how to position the text\n",
    "                 xytext=(0,10), # distance from text to points (x,y)\n",
    "                 ha='center',\n",
    "                 weight='bold') # horizontal alignment can be left, right or center"
   ]
  },
  {
   "cell_type": "code",
   "execution_count": null,
   "metadata": {
    "cellView": "form",
    "colab": {
     "base_uri": "https://localhost:8080/",
     "height": 0
    },
    "executionInfo": {
     "elapsed": 627,
     "status": "ok",
     "timestamp": 1639578320587,
     "user": {
      "displayName": "Carlo Gattuso Garrido",
      "photoUrl": "https://lh3.googleusercontent.com/a/default-user=s64",
      "userId": "13655340809366528364"
     },
     "user_tz": -60
    },
    "id": "-r46O6HfZghb",
    "outputId": "eb6fc7b5-094a-4d37-8013-0eb29698e384"
   },
   "outputs": [],
   "source": [
    "#@title ##Second Order PSFM GPR\n",
    "ap_selected = \"Google Azul\"  #@param ['Google Blanco', 'Linksys 1', 'Google Azul', 'Linksys 2', 'Google Rojo', 'Linksys 3', 'Google Verde', 'Linksys 4']\n",
    "sample = 1 #@param {type:\"slider\", min:0, max:100, step:1}\n",
    "\n",
    "try:\n",
    "  ap_indexes[ap_selected]\n",
    "except:\n",
    "  ap_selected = ap_labels[0]\n",
    "\n",
    "\"\"\"\n",
    "Second Order PSFM Gaussian Process interpolation:\n",
    "    \n",
    "    s_bar_star --> Mean estimated value for each VRP\n",
    "    cov_s_star --> Posterior covariance matrix\n",
    "    var_s_star --> VRP estimation variance\n",
    "\"\"\"\n",
    "\n",
    "plt.figure(figsize=(points_x*2, points_y*1.8))\n",
    "\n",
    "plt.scatter(coordinates_ap[:,0], coordinates_ap[:,1], c='b')\n",
    "plt.scatter(coordinates_vrp[:,0], coordinates_vrp[:,1], c='r')\n",
    "\n",
    "plt.legend(labels=['AP','VRP'],loc=\"upper right\",borderaxespad=-8)\n",
    "plt.title('AP '+ap_selected+' : Second Order PSFM Gaussian Process interpolation',pad=60)\n",
    "plt.axis('off')\n",
    "\n",
    "for x,y,z in zip(coordinates_ap[:,0], coordinates_ap[:,1], ap_obs[:,int(ap_indexes[ap_selected]),sample]):\n",
    "    label = f\"{z.round(2)} m\"\n",
    "\n",
    "    plt.annotate(label, # this is the text\n",
    "                 (x,y), # this is the point to label\n",
    "                 textcoords=\"offset points\", # how to position the text\n",
    "                 xytext=(0,-20), # distance from text to points (x,y)\n",
    "                 ha='center') # horizontal alignment can be left, right or center\n",
    "\n",
    "for x in range(len(mean_psfm2_array[int(ap_indexes[ap_selected]),sample])):\n",
    "    label = f\"{mean_psfm2_array[int(ap_indexes[ap_selected]),sample][x,0].round(2)} +- {var_array[int(ap_indexes[ap_selected]),sample][x,0].round(2)} m\"\n",
    "\n",
    "    plt.annotate(label, # this is the text\n",
    "                 (coordinates_vrp[x,0],coordinates_vrp[x,1]), # this is the point to label\n",
    "                 textcoords=\"offset points\", # how to position the text\n",
    "                 xytext=(0,-20), # distance from text to points (x,y)\n",
    "                 ha='center') # horizontal alignment can be left, right or center\n",
    "\n",
    "for x,y,z in zip(coordinates_ap[:,0],coordinates_ap[:,1], np.linspace(0, n_ap - 1, n_ap).astype(int)):\n",
    "\n",
    "    label = f\"{ap_labels[z]}\"\n",
    "\n",
    "    plt.annotate(label, # this is the text\n",
    "                 (x,y), # this is the point to label\n",
    "                 textcoords=\"offset points\", # how to position the text\n",
    "                 xytext=(0,30), # distance from text to points (x,y)\n",
    "                 ha='center', # horizontal alignment can be left, right or center\n",
    "                 weight='bold')\n",
    "\n",
    "for x,y,z in zip(coordinates[:,0],coordinates[:,1], np.linspace(0, n_points - 1, n_points).astype(int)):\n",
    "    label = f\"({locations[z,0]},{locations[z,1]})\"\n",
    "\n",
    "    plt.annotate(label, # this is the text\n",
    "                 (x,y), # this is the point to label\n",
    "                 textcoords=\"offset points\", # how to position the text\n",
    "                 xytext=(0,10), # distance from text to points (x,y)\n",
    "                 ha='center',\n",
    "                 weight='bold') # horizontal alignment can be left, right or center"
   ]
  },
  {
   "cell_type": "markdown",
   "metadata": {
    "id": "LGlq_3lrbOqz"
   },
   "source": [
    "#Fingerprinting Database Construction"
   ]
  },
  {
   "cell_type": "code",
   "execution_count": null,
   "metadata": {
    "cellView": "form",
    "colab": {
     "base_uri": "https://localhost:8080/",
     "height": 0
    },
    "executionInfo": {
     "elapsed": 1115,
     "status": "ok",
     "timestamp": 1639578321693,
     "user": {
      "displayName": "Carlo Gattuso Garrido",
      "photoUrl": "https://lh3.googleusercontent.com/a/default-user=s64",
      "userId": "13655340809366528364"
     },
     "user_tz": -60
    },
    "id": "ymx1N8PWZghc",
    "outputId": "511688a6-240d-4664-b2b4-50de01ac8e8e"
   },
   "outputs": [],
   "source": [
    "#@title ##Zero Mean GPR Fingerprinting Database plot\n",
    "sample = 1 #@param {type:\"slider\", min:0, max:100, step:1}\n",
    "\n",
    "plt.figure(figsize=(points_x*4, 5*n_ap))\n",
    "\n",
    "plt.scatter(coordinates_ap[:,0], coordinates_ap[:,1], c='b')\n",
    "plt.scatter(coordinates_vrp[:,0], coordinates_vrp[:,1], c='r')\n",
    "\n",
    "plt.legend(labels=['AP','VRP'],loc=\"upper right\",borderaxespad=-8)\n",
    "plt.axis('off')\n",
    "\n",
    "for x,y,z in zip(coordinates_ap[:,0],coordinates_ap[:,1], np.linspace(0, n_ap - 1, n_ap).astype(int)):\n",
    "\n",
    "    label = f\"{ap_labels[z]}\"\n",
    "\n",
    "    plt.annotate(label, # this is the text\n",
    "                 (x,y), # this is the point to label\n",
    "                 textcoords=\"offset points\", # how to position the text\n",
    "                 xytext=(0,30), # distance from text to points (x,y)\n",
    "                 ha='center', # horizontal alignment can be left, right or center\n",
    "                 weight='bold')\n",
    "\n",
    "\n",
    "for x,y,z in zip(coordinates[:,0],coordinates[:,1], np.linspace(0, n_points - 1, n_points).astype(int)):\n",
    "    label = f\"({locations[z,0]},{locations[z,1]})\"\n",
    "\n",
    "    plt.annotate(label, # this is the text\n",
    "                 (x,y), # this is the point to label\n",
    "                 textcoords=\"offset points\", # how to position the text\n",
    "                 xytext=(0,10), # distance from text to points (x,y)\n",
    "                 ha='center',\n",
    "                 weight='bold') # horizontal alignment can be left, right or center\n",
    "                 \n",
    "for x in range(ap_obs.shape[0]):\n",
    "    for y in range(ap_obs.shape[0]):\n",
    "        label = f\"{ap_labels[y]}: {ap_obs[x,y,sample].round(2)} m\"\n",
    "\n",
    "        plt.annotate(label, # this is the text\n",
    "                    (coordinates_ap[x,0],coordinates_ap[x,1]), # this is the point to label\n",
    "                    textcoords=\"offset points\", # how to position the text\n",
    "                    xytext=(0,-30-y*20), # distance from text to points (x,y)\n",
    "                    ha='center') # horizontal alignment can be left, right or center\n",
    "\n",
    "for x in range(mean_array.shape[2]):\n",
    "    for y in range(ap_obs.shape[0]):\n",
    "        label = f\"{ap_labels[y]}: {mean_array[y,sample,x,0].round(2)} +- {var_array[y,sample,x,0].round(2)} m\"\n",
    "\n",
    "        plt.annotate(label, # this is the text\n",
    "                    (coordinates_vrp[x,0],coordinates_vrp[x,1]), # this is the point to label\n",
    "                    textcoords=\"offset points\", # how to position the text\n",
    "                    xytext=(0,-30-y*20), # distance from text to points (x,y)\n",
    "                    ha='center') # horizontal alignment can be left, right or center"
   ]
  },
  {
   "cell_type": "code",
   "execution_count": null,
   "metadata": {
    "cellView": "form",
    "colab": {
     "base_uri": "https://localhost:8080/",
     "height": 0
    },
    "executionInfo": {
     "elapsed": 1905,
     "status": "ok",
     "timestamp": 1639578323590,
     "user": {
      "displayName": "Carlo Gattuso Garrido",
      "photoUrl": "https://lh3.googleusercontent.com/a/default-user=s64",
      "userId": "13655340809366528364"
     },
     "user_tz": -60
    },
    "id": "bRN8YMCuSqP9",
    "outputId": "767e9ff2-d0bd-4caa-bca5-19011ed90ff7"
   },
   "outputs": [],
   "source": [
    "#@title ##First Order PSFM GPR Fingerprinting Database plot\n",
    "sample = 1 #@param {type:\"slider\", min:0, max:100, step:1}\n",
    "\n",
    "plt.figure(figsize=(points_x*4, 5*n_ap))\n",
    "\n",
    "plt.scatter(coordinates_ap[:,0], coordinates_ap[:,1], c='b')\n",
    "plt.scatter(coordinates_vrp[:,0], coordinates_vrp[:,1], c='r')\n",
    "\n",
    "plt.legend(labels=['AP','VRP'],loc=\"upper right\",borderaxespad=-8)\n",
    "plt.axis('off')\n",
    "\n",
    "for x,y,z in zip(coordinates_ap[:,0],coordinates_ap[:,1], np.linspace(0, n_ap - 1, n_ap).astype(int)):\n",
    "\n",
    "    label = f\"{ap_labels[z]}\"\n",
    "\n",
    "    plt.annotate(label, # this is the text\n",
    "                 (x,y), # this is the point to label\n",
    "                 textcoords=\"offset points\", # how to position the text\n",
    "                 xytext=(0,30), # distance from text to points (x,y)\n",
    "                 ha='center', # horizontal alignment can be left, right or center\n",
    "                 weight='bold')\n",
    "\n",
    "\n",
    "for x,y,z in zip(coordinates[:,0],coordinates[:,1], np.linspace(0, n_points - 1, n_points).astype(int)):\n",
    "    label = f\"({locations[z,0]},{locations[z,1]})\"\n",
    "\n",
    "    plt.annotate(label, # this is the text\n",
    "                 (x,y), # this is the point to label\n",
    "                 textcoords=\"offset points\", # how to position the text\n",
    "                 xytext=(0,10), # distance from text to points (x,y)\n",
    "                 ha='center',\n",
    "                 weight='bold') # horizontal alignment can be left, right or center\n",
    "                 \n",
    "for x in range(ap_obs.shape[0]):\n",
    "    for y in range(ap_obs.shape[0]):\n",
    "        label = f\"{ap_labels[y]}: {ap_obs[x,y,sample].round(2)} m\"\n",
    "\n",
    "        plt.annotate(label, # this is the text\n",
    "                    (coordinates_ap[x,0],coordinates_ap[x,1]), # this is the point to label\n",
    "                    textcoords=\"offset points\", # how to position the text\n",
    "                    xytext=(0,-30-y*20), # distance from text to points (x,y)\n",
    "                    ha='center') # horizontal alignment can be left, right or center\n",
    "\n",
    "for x in range(mean_psfm_array.shape[2]):\n",
    "    for y in range(ap_obs.shape[0]):\n",
    "        label = f\"{ap_labels[y]}: {mean_psfm_array[y,sample,x,0].round(2)} +- {var_array[y,sample,x,0].round(2)} m\"\n",
    "\n",
    "        plt.annotate(label, # this is the text\n",
    "                    (coordinates_vrp[x,0],coordinates_vrp[x,1]), # this is the point to label\n",
    "                    textcoords=\"offset points\", # how to position the text\n",
    "                    xytext=(0,-30-y*20), # distance from text to points (x,y)\n",
    "                    ha='center') # horizontal alignment can be left, right or center"
   ]
  },
  {
   "cell_type": "code",
   "execution_count": null,
   "metadata": {
    "cellView": "form",
    "colab": {
     "base_uri": "https://localhost:8080/",
     "height": 0
    },
    "executionInfo": {
     "elapsed": 10,
     "status": "ok",
     "timestamp": 1639578323591,
     "user": {
      "displayName": "Carlo Gattuso Garrido",
      "photoUrl": "https://lh3.googleusercontent.com/a/default-user=s64",
      "userId": "13655340809366528364"
     },
     "user_tz": -60
    },
    "id": "zW0UVJBAU6kK",
    "outputId": "67e31e82-1ffe-4205-9024-8ae205d58ecc"
   },
   "outputs": [],
   "source": [
    "#@title ##Second Order PSFM GPR Fingerprinting Database plot\n",
    "sample = 0 #@param {type:\"slider\", min:0, max:100, step:1}\n",
    "\n",
    "plt.figure(figsize=(points_x*4, 5*n_ap))\n",
    "\n",
    "plt.scatter(coordinates_ap[:,0], coordinates_ap[:,1], c='b')\n",
    "plt.scatter(coordinates_vrp[:,0], coordinates_vrp[:,1], c='r')\n",
    "\n",
    "plt.legend(labels=['AP','VRP'],loc=\"upper right\",borderaxespad=-8)\n",
    "plt.axis('off')\n",
    "\n",
    "for x,y,z in zip(coordinates_ap[:,0],coordinates_ap[:,1], np.linspace(0, n_ap - 1, n_ap).astype(int)):\n",
    "\n",
    "    label = f\"{ap_labels[z]}\"\n",
    "\n",
    "    plt.annotate(label, # this is the text\n",
    "                 (x,y), # this is the point to label\n",
    "                 textcoords=\"offset points\", # how to position the text\n",
    "                 xytext=(0,30), # distance from text to points (x,y)\n",
    "                 ha='center', # horizontal alignment can be left, right or center\n",
    "                 weight='bold')\n",
    "\n",
    "\n",
    "for x,y,z in zip(coordinates[:,0],coordinates[:,1], np.linspace(0, n_points - 1, n_points).astype(int)):\n",
    "    label = f\"({locations[z,0]},{locations[z,1]})\"\n",
    "\n",
    "    plt.annotate(label, # this is the text\n",
    "                 (x,y), # this is the point to label\n",
    "                 textcoords=\"offset points\", # how to position the text\n",
    "                 xytext=(0,10), # distance from text to points (x,y)\n",
    "                 ha='center',\n",
    "                 weight='bold') # horizontal alignment can be left, right or center\n",
    "                 \n",
    "for x in range(ap_obs.shape[0]):\n",
    "    for y in range(ap_obs.shape[0]):\n",
    "        label = f\"{ap_labels[y]}: {ap_obs[x,y,sample].round(2)} m\"\n",
    "\n",
    "        plt.annotate(label, # this is the text\n",
    "                    (coordinates_ap[x,0],coordinates_ap[x,1]), # this is the point to label\n",
    "                    textcoords=\"offset points\", # how to position the text\n",
    "                    xytext=(0,-30-y*20), # distance from text to points (x,y)\n",
    "                    ha='center') # horizontal alignment can be left, right or center\n",
    "\n",
    "for x in range(mean_psfm2_array.shape[2]):\n",
    "    for y in range(ap_obs.shape[0]):\n",
    "        label = f\"{ap_labels[y]}: {mean_psfm2_array[y,sample,x,0].round(2)} +- {var_array[y,sample,x,0].round(2)} m\"\n",
    "\n",
    "        plt.annotate(label, # this is the text\n",
    "                    (coordinates_vrp[x,0],coordinates_vrp[x,1]), # this is the point to label\n",
    "                    textcoords=\"offset points\", # how to position the text\n",
    "                    xytext=(0,-30-y*20), # distance from text to points (x,y)\n",
    "                    ha='center') # horizontal alignment can be left, right or center"
   ]
  },
  {
   "cell_type": "markdown",
   "metadata": {
    "id": "zawUoZFu2oGW"
   },
   "source": [
    "#Confidence Interval"
   ]
  },
  {
   "cell_type": "code",
   "execution_count": null,
   "metadata": {
    "executionInfo": {
     "elapsed": 383,
     "status": "ok",
     "timestamp": 1639578323967,
     "user": {
      "displayName": "Carlo Gattuso Garrido",
      "photoUrl": "https://lh3.googleusercontent.com/a/default-user=s64",
      "userId": "13655340809366528364"
     },
     "user_tz": -60
    },
    "id": "684-T--c7YaL"
   },
   "outputs": [],
   "source": [
    "\"\"\"\n",
    "Complete dataset\n",
    "\"\"\"\n",
    "dataset_interval = np.array([np.array([mean_confidence_interval(dataset[i,j,:])\n",
    "                               for (i) in np.linspace(0, n_points - 1, n_points).astype(int)])\n",
    "                               for (j) in np.linspace(0, n_ap - 1, n_ap).astype(int)])\n",
    "\"\"\"\n",
    "Observations between AP's\n",
    "\"\"\"\n",
    "ap_obs_interval = np.array([np.array([mean_confidence_interval(ap_obs[i,j,:])\n",
    "                               for (i) in np.linspace(0, n_ap - 1, n_ap).astype(int)])\n",
    "                               for (j) in np.linspace(0, n_ap - 1, n_ap).astype(int)])\n",
    "\"\"\"\n",
    "Measured data at each VRP\n",
    "\"\"\"\n",
    "vrp_test_interval = np.array([np.array([mean_confidence_interval(vrp_test[i,j,:])\n",
    "                               for (i) in np.linspace(0, n_test - 1, n_test).astype(int)])\n",
    "                               for (j) in np.linspace(0, n_ap - 1, n_ap).astype(int)])\n",
    "\"\"\"\n",
    "Zero-Mean GPR Estimations\n",
    "\"\"\"\n",
    "zero_mean_interval = np.array([np.array([mean_confidence_interval(mean_array[j,:,i].reshape(n_samples)) \n",
    "                               for (i) in np.linspace(0, n_vrp - 1, n_vrp).astype(int)])\n",
    "                               for (j) in np.linspace(0, n_ap - 1, n_ap).astype(int)])\n",
    "\"\"\"\n",
    "First Order PSFM GPR Estimations\n",
    "\"\"\"\n",
    "psfm_interval = np.array([np.array([mean_confidence_interval(mean_psfm_array[j,:,i].reshape(n_samples)) \n",
    "                               for (i) in np.linspace(0, n_vrp - 1, n_vrp).astype(int)])\n",
    "                               for (j) in np.linspace(0, n_ap - 1, n_ap).astype(int)])\n",
    "\"\"\"\n",
    "Second Order PSFM GPR Estimations\n",
    "\"\"\"\n",
    "psfm2_interval = np.array([np.array([mean_confidence_interval(mean_psfm2_array[j,:,i].reshape(n_samples)) \n",
    "                               for (i) in np.linspace(0, n_vrp - 1, n_vrp).astype(int)])\n",
    "                               for (j) in np.linspace(0, n_ap - 1, n_ap).astype(int)])"
   ]
  },
  {
   "cell_type": "code",
   "execution_count": null,
   "metadata": {
    "cellView": "form",
    "colab": {
     "base_uri": "https://localhost:8080/",
     "height": 0
    },
    "executionInfo": {
     "elapsed": 882,
     "status": "ok",
     "timestamp": 1639578324840,
     "user": {
      "displayName": "Carlo Gattuso Garrido",
      "photoUrl": "https://lh3.googleusercontent.com/a/default-user=s64",
      "userId": "13655340809366528364"
     },
     "user_tz": -60
    },
    "id": "O8B2656ivtxn",
    "outputId": "1e2f1809-6196-4bac-89cf-344d72c4788e"
   },
   "outputs": [],
   "source": [
    "#@title ##Zero-Mean GPR Interval Plot\n",
    "ap_selected = \"Google Verde\"  #@param ['Google Blanco', 'Linksys 1', 'Google Azul', 'Linksys 2', 'Google Rojo', 'Linksys 3', 'Google Verde', 'Linksys 4']\n",
    "\n",
    "try:\n",
    "  ap_indexes[ap_selected]\n",
    "except:\n",
    "  ap_selected = ap_labels[0]\n",
    "  \n",
    "\"\"\"\n",
    "Zero Mean Gaussian Process interpolation:\n",
    "    \n",
    "    s_bar_star --> Mean estimated value for each VRP\n",
    "    cov_s_star --> Posterior covariance matrix\n",
    "    var_s_star --> VRP estimation variance\n",
    "\"\"\"\n",
    "\n",
    "plt.figure(figsize=(points_x*3, points_y*1.5))\n",
    "\n",
    "plt.scatter(coordinates_ap[:,0], coordinates_ap[:,1], c='b')\n",
    "plt.scatter(coordinates_vrp[:,0], coordinates_vrp[:,1], c='r')\n",
    "\n",
    "plt.legend(labels=['AP','VRP'],loc=\"upper right\",borderaxespad=-8)\n",
    "plt.title('AP '+ap_selected+' : Zero-Mean GPR Interval Plot',pad=60)\n",
    "plt.axis('off')\n",
    "\n",
    "for x,y,z in zip(coordinates_ap[:,0], coordinates_ap[:,1], ap_obs_interval[int(ap_indexes[ap_selected]),:]):\n",
    "    label = f\"Observation: [{z[1].round(2)}, {z[2].round(2)}] m\"\n",
    "\n",
    "    plt.annotate(label, # this is the text\n",
    "                 (x,y), # this is the point to label\n",
    "                 textcoords=\"offset points\", # how to position the text\n",
    "                 xytext=(0,-20), # distance from text to points (x,y)\n",
    "                 ha='center') # horizontal alignment can be left, right or center\n",
    "\n",
    "for x,y,z in zip(coordinates_vrp[:,0], coordinates_vrp[:,1], zero_mean_interval[int(ap_indexes[ap_selected]),:]):\n",
    "    label = f\"Estimated: [{z[1].round(2)}, {z[2].round(2)}] m\"\n",
    "\n",
    "    plt.annotate(label, # this is the text\n",
    "                 (x,y), # this is the point to label\n",
    "                 textcoords=\"offset points\", # how to position the text\n",
    "                 xytext=(0,-20), # distance from text to points (x,y)\n",
    "                 ha='center') # horizontal alignment can be left, right or center\n",
    "\n",
    "for x,y,z in zip(coordinates_vrp[:,0], coordinates_vrp[:,1], np.linspace(0, n_vrp - 1, n_vrp).astype(int)):\n",
    "    \n",
    "    try:\n",
    "      loc = get_location(L_test, L_vrp[z])\n",
    "    except:\n",
    "      loc = math.nan\n",
    "    \n",
    "    if not(isnan(loc)):\n",
    "      meas = vrp_test_interval[int(ap_indexes[ap_selected]),loc]\n",
    "      label = f\"Measured: [{meas[1].round(2)}, {meas[2].round(2)}] m\"\n",
    "\n",
    "      plt.annotate(label, # this is the text\n",
    "                  (x,y), # this is the point to label\n",
    "                  textcoords=\"offset points\", # how to position the text\n",
    "                  xytext=(0,-35), # distance from text to points (x,y)\n",
    "                  ha='center') # horizontal alignment can be left, right or center\n",
    "\n",
    "for x,y,z in zip(coordinates_ap[:,0],coordinates_ap[:,1], np.linspace(0, n_ap - 1, n_ap).astype(int)):\n",
    "\n",
    "    label = f\"{ap_labels[z]}\"\n",
    "\n",
    "    plt.annotate(label, # this is the text\n",
    "                 (x,y), # this is the point to label\n",
    "                 textcoords=\"offset points\", # how to position the text\n",
    "                 xytext=(0,30), # distance from text to points (x,y)\n",
    "                 ha='center', # horizontal alignment can be left, right or center\n",
    "                 weight='bold')\n",
    "\n",
    "for x,y,z in zip(coordinates[:,0],coordinates[:,1], np.linspace(0, n_points - 1, n_points).astype(int)):\n",
    "    label = f\"({locations[z,0]},{locations[z,1]})\"\n",
    "\n",
    "    plt.annotate(label, # this is the text\n",
    "                 (x,y), # this is the point to label\n",
    "                 textcoords=\"offset points\", # how to position the text\n",
    "                 xytext=(0,10), # distance from text to points (x,y)\n",
    "                 ha='center',\n",
    "                 weight='bold') # horizontal alignment can be left, right or center"
   ]
  },
  {
   "cell_type": "code",
   "execution_count": null,
   "metadata": {
    "cellView": "form",
    "colab": {
     "base_uri": "https://localhost:8080/",
     "height": 0
    },
    "executionInfo": {
     "elapsed": 661,
     "status": "ok",
     "timestamp": 1639578325493,
     "user": {
      "displayName": "Carlo Gattuso Garrido",
      "photoUrl": "https://lh3.googleusercontent.com/a/default-user=s64",
      "userId": "13655340809366528364"
     },
     "user_tz": -60
    },
    "id": "3XSpWYvHrFXz",
    "outputId": "d0a41baf-0de7-4fbb-d9da-9c236a837918"
   },
   "outputs": [],
   "source": [
    "#@title ##First Order PSFM GPR Interval Plot\n",
    "ap_selected = \"Linksys 3\"  #@param ['Google Blanco', 'Linksys 1', 'Google Azul', 'Linksys 2', 'Google Rojo', 'Linksys 3', 'Google Verde', 'Linksys 4']\n",
    "\n",
    "try:\n",
    "  ap_indexes[ap_selected]\n",
    "except:\n",
    "  ap_selected = ap_labels[0]\n",
    "  \n",
    "\"\"\"\n",
    "Zero Mean Gaussian Process interpolation:\n",
    "    \n",
    "    s_bar_star --> Mean estimated value for each VRP\n",
    "    cov_s_star --> Posterior covariance matrix\n",
    "    var_s_star --> VRP estimation variance\n",
    "\"\"\"\n",
    "\n",
    "plt.figure(figsize=(points_x*3, points_y*1.5))\n",
    "\n",
    "plt.scatter(coordinates_ap[:,0], coordinates_ap[:,1], c='b')\n",
    "plt.scatter(coordinates_vrp[:,0], coordinates_vrp[:,1], c='r')\n",
    "\n",
    "plt.legend(labels=['AP','VRP'],loc=\"upper right\",borderaxespad=-8)\n",
    "plt.title('AP '+ap_selected+' : First Order PSFM GPR Interval Plot',pad=60)\n",
    "plt.axis('off')\n",
    "\n",
    "for x,y,z in zip(coordinates_ap[:,0], coordinates_ap[:,1], ap_obs_interval[int(ap_indexes[ap_selected]),:]):\n",
    "    label = f\"Observation: [{z[1].round(2)}, {z[2].round(2)}] m\"\n",
    "\n",
    "    plt.annotate(label, # this is the text\n",
    "                 (x,y), # this is the point to label\n",
    "                 textcoords=\"offset points\", # how to position the text\n",
    "                 xytext=(0,-20), # distance from text to points (x,y)\n",
    "                 ha='center') # horizontal alignment can be left, right or center\n",
    "\n",
    "for x,y,z in zip(coordinates_vrp[:,0], coordinates_vrp[:,1], psfm_interval[int(ap_indexes[ap_selected]),:]):\n",
    "    label = f\"Estimated: [{z[1].round(2)}, {z[2].round(2)}] m\"\n",
    "\n",
    "    plt.annotate(label, # this is the text\n",
    "                 (x,y), # this is the point to label\n",
    "                 textcoords=\"offset points\", # how to position the text\n",
    "                 xytext=(0,-20), # distance from text to points (x,y)\n",
    "                 ha='center') # horizontal alignment can be left, right or center\n",
    "\n",
    "for x,y,z in zip(coordinates_vrp[:,0], coordinates_vrp[:,1], np.linspace(0, n_vrp - 1, n_vrp).astype(int)):\n",
    "    \n",
    "    try:\n",
    "      loc = get_location(L_test, L_vrp[z])\n",
    "    except:\n",
    "      loc = math.nan\n",
    "    \n",
    "    if not(isnan(loc)):\n",
    "      meas = vrp_test_interval[int(ap_indexes[ap_selected]),loc]\n",
    "      label = f\"Measured: [{meas[1].round(2)}, {meas[2].round(2)}] m\"\n",
    "\n",
    "      plt.annotate(label, # this is the text\n",
    "                  (x,y), # this is the point to label\n",
    "                  textcoords=\"offset points\", # how to position the text\n",
    "                  xytext=(0,-35), # distance from text to points (x,y)\n",
    "                  ha='center') # horizontal alignment can be left, right or center\n",
    "\n",
    "for x,y,z in zip(coordinates_ap[:,0],coordinates_ap[:,1], np.linspace(0, n_ap - 1, n_ap).astype(int)):\n",
    "\n",
    "    label = f\"{ap_labels[z]}\"\n",
    "\n",
    "    plt.annotate(label, # this is the text\n",
    "                 (x,y), # this is the point to label\n",
    "                 textcoords=\"offset points\", # how to position the text\n",
    "                 xytext=(0,30), # distance from text to points (x,y)\n",
    "                 ha='center', # horizontal alignment can be left, right or center\n",
    "                 weight='bold')\n",
    "\n",
    "for x,y,z in zip(coordinates[:,0],coordinates[:,1], np.linspace(0, n_points - 1, n_points).astype(int)):\n",
    "    label = f\"({locations[z,0]},{locations[z,1]})\"\n",
    "\n",
    "    plt.annotate(label, # this is the text\n",
    "                 (x,y), # this is the point to label\n",
    "                 textcoords=\"offset points\", # how to position the text\n",
    "                 xytext=(0,10), # distance from text to points (x,y)\n",
    "                 ha='center',\n",
    "                 weight='bold') # horizontal alignment can be left, right or center"
   ]
  },
  {
   "cell_type": "code",
   "execution_count": null,
   "metadata": {
    "cellView": "form",
    "colab": {
     "base_uri": "https://localhost:8080/",
     "height": 0
    },
    "executionInfo": {
     "elapsed": 805,
     "status": "ok",
     "timestamp": 1639578326290,
     "user": {
      "displayName": "Carlo Gattuso Garrido",
      "photoUrl": "https://lh3.googleusercontent.com/a/default-user=s64",
      "userId": "13655340809366528364"
     },
     "user_tz": -60
    },
    "id": "iXht8IMxsy4C",
    "outputId": "4044d814-98a8-4efd-9c0d-43febb60d618"
   },
   "outputs": [],
   "source": [
    "#@title ##Second Order PSFM GPR Interval Plot\n",
    "ap_selected = \"Google Azul\"  #@param ['Google Blanco', 'Linksys 1', 'Google Azul', 'Linksys 2', 'Google Rojo', 'Linksys 3', 'Google Verde', 'Linksys 4']\n",
    "\n",
    "try:\n",
    "  ap_indexes[ap_selected]\n",
    "except:\n",
    "  ap_selected = ap_labels[0]\n",
    "  \n",
    "\"\"\"\n",
    "Zero Mean Gaussian Process interpolation:\n",
    "    \n",
    "    s_bar_star --> Mean estimated value for each VRP\n",
    "    cov_s_star --> Posterior covariance matrix\n",
    "    var_s_star --> VRP estimation variance\n",
    "\"\"\"\n",
    "\n",
    "plt.figure(figsize=(points_x*3, points_y*1.5))\n",
    "\n",
    "plt.scatter(coordinates_ap[:,0], coordinates_ap[:,1], c='b')\n",
    "plt.scatter(coordinates_vrp[:,0], coordinates_vrp[:,1], c='r')\n",
    "\n",
    "plt.legend(labels=['AP','VRP'],loc=\"upper right\",borderaxespad=-8)\n",
    "plt.title('AP '+ap_selected+' : Second Order PSFM GPR Interval Plot',pad=60)\n",
    "plt.axis('off')\n",
    "\n",
    "for x,y,z in zip(coordinates_ap[:,0], coordinates_ap[:,1], ap_obs_interval[int(ap_indexes[ap_selected]),:]):\n",
    "    label = f\"Observation: [{z[1].round(2)}, {z[2].round(2)}] m\"\n",
    "\n",
    "    plt.annotate(label, # this is the text\n",
    "                 (x,y), # this is the point to label\n",
    "                 textcoords=\"offset points\", # how to position the text\n",
    "                 xytext=(0,-20), # distance from text to points (x,y)\n",
    "                 ha='center') # horizontal alignment can be left, right or center\n",
    "\n",
    "for x,y,z in zip(coordinates_vrp[:,0], coordinates_vrp[:,1], psfm2_interval[int(ap_indexes[ap_selected]),:]):\n",
    "    label = f\"Estimated: [{z[1].round(2)}, {z[2].round(2)}] m\"\n",
    "\n",
    "    plt.annotate(label, # this is the text\n",
    "                 (x,y), # this is the point to label\n",
    "                 textcoords=\"offset points\", # how to position the text\n",
    "                 xytext=(0,-20), # distance from text to points (x,y)\n",
    "                 ha='center') # horizontal alignment can be left, right or center\n",
    "\n",
    "for x,y,z in zip(coordinates_vrp[:,0], coordinates_vrp[:,1], np.linspace(0, n_vrp - 1, n_vrp).astype(int)):\n",
    "    \n",
    "    try:\n",
    "      loc = get_location(L_test, L_vrp[z])\n",
    "    except:\n",
    "      loc = math.nan\n",
    "    \n",
    "    if not(isnan(loc)):\n",
    "      meas = vrp_test_interval[int(ap_indexes[ap_selected]),loc]\n",
    "      label = f\"Measured: [{meas[1].round(2)}, {meas[2].round(2)}] m\"\n",
    "\n",
    "      plt.annotate(label, # this is the text\n",
    "                  (x,y), # this is the point to label\n",
    "                  textcoords=\"offset points\", # how to position the text\n",
    "                  xytext=(0,-35), # distance from text to points (x,y)\n",
    "                  ha='center') # horizontal alignment can be left, right or center\n",
    "\n",
    "for x,y,z in zip(coordinates_ap[:,0],coordinates_ap[:,1], np.linspace(0, n_ap - 1, n_ap).astype(int)):\n",
    "\n",
    "    label = f\"{ap_labels[z]}\"\n",
    "\n",
    "    plt.annotate(label, # this is the text\n",
    "                 (x,y), # this is the point to label\n",
    "                 textcoords=\"offset points\", # how to position the text\n",
    "                 xytext=(0,30), # distance from text to points (x,y)\n",
    "                 ha='center', # horizontal alignment can be left, right or center\n",
    "                 weight='bold')\n",
    "\n",
    "for x,y,z in zip(coordinates[:,0],coordinates[:,1], np.linspace(0, n_points - 1, n_points).astype(int)):\n",
    "    label = f\"({locations[z,0]},{locations[z,1]})\"\n",
    "\n",
    "    plt.annotate(label, # this is the text\n",
    "                 (x,y), # this is the point to label\n",
    "                 textcoords=\"offset points\", # how to position the text\n",
    "                 xytext=(0,10), # distance from text to points (x,y)\n",
    "                 ha='center',\n",
    "                 weight='bold') # horizontal alignment can be left, right or center"
   ]
  },
  {
   "cell_type": "markdown",
   "metadata": {
    "id": "gTUMBjQQN-A0"
   },
   "source": [
    "#Confidence Interval Overlap"
   ]
  },
  {
   "cell_type": "code",
   "execution_count": null,
   "metadata": {
    "executionInfo": {
     "elapsed": 18,
     "status": "ok",
     "timestamp": 1639578326292,
     "user": {
      "displayName": "Carlo Gattuso Garrido",
      "photoUrl": "https://lh3.googleusercontent.com/a/default-user=s64",
      "userId": "13655340809366528364"
     },
     "user_tz": -60
    },
    "id": "Tas4mfkJKHJV"
   },
   "outputs": [],
   "source": [
    "\"\"\"\n",
    "Integer value if estimation and measure ranges overlap\n",
    "\n",
    "- 1: Ranges overlap\n",
    "- 0: Ranges not overlap\n",
    "\n",
    "\"\"\"\n",
    "\n",
    "\"\"\"\n",
    "Zero-Mean GPR Estimation\n",
    "\"\"\"\n",
    "zero_mean_interval_overlap = np.array([np.array([fits_interval(zero_mean_interval[i,j], vrp_test_interval[i,j])\n",
    "                               for (j) in np.linspace(0, n_vrp - 1, n_vrp).astype(int)])\n",
    "                               for (i) in np.linspace(0, n_ap - 1, n_ap).astype(int)])\n",
    "\n",
    "\"\"\"\n",
    "First Order PSFM GPR Estimation\n",
    "\"\"\"\n",
    "psfm_interval_overlap = np.array([np.array([fits_interval(psfm_interval[i,j], vrp_test_interval[i,j])\n",
    "                               for (j) in np.linspace(0, n_vrp - 1, n_vrp).astype(int)])\n",
    "                               for (i) in np.linspace(0, n_ap - 1, n_ap).astype(int)])\n",
    "\n",
    "\"\"\"\n",
    "Second Order PSFM GPR Estimation\n",
    "\"\"\"\n",
    "psfm2_interval_overlap = np.array([np.array([fits_interval(psfm2_interval[i,j], vrp_test_interval[i,j])\n",
    "                               for (j) in np.linspace(0, n_vrp - 1, n_vrp).astype(int)])\n",
    "                               for (i) in np.linspace(0, n_ap - 1, n_ap).astype(int)])"
   ]
  },
  {
   "cell_type": "markdown",
   "metadata": {
    "id": "SntZM-c37Xyc"
   },
   "source": [
    "##Location Heatmap"
   ]
  },
  {
   "cell_type": "code",
   "execution_count": null,
   "metadata": {
    "cellView": "form",
    "colab": {
     "base_uri": "https://localhost:8080/",
     "height": 404
    },
    "executionInfo": {
     "elapsed": 1185,
     "status": "ok",
     "timestamp": 1639578327463,
     "user": {
      "displayName": "Carlo Gattuso Garrido",
      "photoUrl": "https://lh3.googleusercontent.com/a/default-user=s64",
      "userId": "13655340809366528364"
     },
     "user_tz": -60
    },
    "id": "0PrNAd_A7jnr",
    "outputId": "2aaffc37-77b6-45a5-c02d-538e87357456"
   },
   "outputs": [],
   "source": [
    "#@markdown ##Simple\n",
    "ap_selected = \"Google Verde\"  #@param ['Google Blanco', 'Linksys 1', 'Google Azul', 'Linksys 2', 'Google Rojo', 'Linksys 3', 'Google Verde', 'Linksys 4']\n",
    "\n",
    "try:\n",
    "  ap_indexes[ap_selected]\n",
    "except:\n",
    "  ap_selected = ap_labels[0]\n",
    "\n",
    "fig, (ax1, ax2, ax3) = plt.subplots(1, 3, figsize=(26,6))\n",
    "\n",
    "ax1.set_title(\"Zero-Mean GPR\", pad=20)\n",
    "ax2.set_title(\"First Order PSFM GPR\", pad=20)\n",
    "ax3.set_title(\"Second Order PSFM GPR\", pad=20)\n",
    "\n",
    "aux = np.empty(n_points)\n",
    "if(zero_mean_interval_overlap[int(ap_indexes[ap_selected])].shape[0] == (n_points - n_ap)):\n",
    "  for i in range(n_vrp):\n",
    "    aux[get_location(locations, L_vrp[i])] = zero_mean_interval_overlap[int(ap_indexes[ap_selected])][i]\n",
    "  for p in points:\n",
    "    aux[p] = -1\n",
    "    \n",
    "aux = aux.astype(float)\n",
    "aux[aux < 0] = np.nan\n",
    "sns.heatmap(data=np.flip(aux.reshape(5,5), 0), cmap='Blues', \n",
    "            ax=ax1, annot=True, xticklabels = np.linspace(0, width, points_x).round(2),\n",
    "            yticklabels = ['19.2','14.4','9.6','4.8','0.0'], center=0)\n",
    "\n",
    "if(psfm_interval_overlap[int(ap_indexes[ap_selected])].shape[0] == (n_points - n_ap)):\n",
    "  for i in range(n_vrp):\n",
    "    aux[get_location(locations, L_vrp[i])] = psfm_interval_overlap[int(ap_indexes[ap_selected])][i]\n",
    "  for p in points:\n",
    "    aux[p] = -1\n",
    "\n",
    "aux = aux.astype(float)\n",
    "aux[aux < 0] = np.nan\n",
    "sns.heatmap(data=np.flip(aux.reshape(5,5), 0), cmap='Greens', \n",
    "            ax=ax2, annot=True, xticklabels = np.linspace(0, width, points_x).round(2),\n",
    "            yticklabels = ['19.2','14.4','9.6','4.8','0.0'], center=0)\n",
    "\n",
    "if(psfm2_interval_overlap[int(ap_indexes[ap_selected])].shape[0] == (n_points - n_ap)):\n",
    "  for i in range(n_vrp):\n",
    "    aux[get_location(locations, L_vrp[i])] = psfm2_interval_overlap[int(ap_indexes[ap_selected])][i]\n",
    "  for p in points:\n",
    "    aux[p] = -1\n",
    "\n",
    "aux = aux.astype(float)\n",
    "aux[aux < 0] = np.nan\n",
    "sns.heatmap(data=np.flip(aux.reshape(5,5), 0), cmap='Reds', \n",
    "            ax=ax3, annot=True, xticklabels = np.linspace(0, width, points_x).round(2),\n",
    "            yticklabels = ['19.2','14.4','9.6','4.8','0.0'], center=0)\n",
    "\n",
    "plt.show()"
   ]
  },
  {
   "cell_type": "code",
   "execution_count": null,
   "metadata": {
    "cellView": "form",
    "colab": {
     "base_uri": "https://localhost:8080/",
     "height": 404
    },
    "executionInfo": {
     "elapsed": 1095,
     "status": "ok",
     "timestamp": 1639578328548,
     "user": {
      "displayName": "Carlo Gattuso Garrido",
      "photoUrl": "https://lh3.googleusercontent.com/a/default-user=s64",
      "userId": "13655340809366528364"
     },
     "user_tz": -60
    },
    "id": "Zq7qTpjLSRz1",
    "outputId": "cc496924-f43d-439a-ef1a-6b154066a237"
   },
   "outputs": [],
   "source": [
    "#@markdown ##Agreggated\n",
    "fig, (ax1, ax2, ax3) = plt.subplots(1, 3, figsize=(26,6))\n",
    "\n",
    "ax1.set_title(\"Zero-Mean GPR\", pad=20)\n",
    "ax2.set_title(\"First Order PSFM GPR\", pad=20)\n",
    "ax3.set_title(\"Second Order PSFM GPR\", pad=20)\n",
    "\n",
    "aux = np.empty((n_ap, n_points))\n",
    "if(zero_mean_interval_overlap.shape[1] == (n_points - n_ap)):\n",
    "  for i in range(n_vrp):\n",
    "    aux[:,get_location(locations, L_vrp[i])] = zero_mean_interval_overlap[:,i]\n",
    "  for p in points:\n",
    "    aux[:,p] = -1\n",
    "\n",
    "aux = aux.astype(float)\n",
    "aux[aux < 0] = np.nan\n",
    "sns.heatmap(data=np.flip(np.sum(aux, axis=0).reshape(5,5), 0), cmap='Blues', \n",
    "            ax=ax1, annot=True, xticklabels = np.linspace(0, width, points_x).round(2),\n",
    "            yticklabels = ['19.2','14.4','9.6','4.8','0.0'], center=0)\n",
    "\n",
    "if(psfm_interval_overlap.shape[1] == (n_points - n_ap)):\n",
    "  for i in range(n_vrp):\n",
    "    aux[:,get_location(locations, L_vrp[i])] = psfm_interval_overlap[:,i]\n",
    "  for p in points:\n",
    "    aux[:,p] = -1\n",
    "\n",
    "aux = aux.astype(float)\n",
    "aux[aux < 0] = np.nan\n",
    "sns.heatmap(data=np.flip(np.sum(aux, axis=0).reshape(5,5), 0), cmap='Greens', \n",
    "            ax=ax2, annot=True, xticklabels = np.linspace(0, width, points_x).round(2),\n",
    "            yticklabels = ['19.2','14.4','9.6','4.8','0.0'], center=0)\n",
    "\n",
    "if(psfm2_interval_overlap.shape[1] == (n_points - n_ap)):\n",
    "  for i in range(n_vrp):\n",
    "    aux[:,get_location(locations, L_vrp[i])] = psfm2_interval_overlap[:,i]\n",
    "  for p in points:\n",
    "    aux[:,p] = -1\n",
    "  \n",
    "aux = aux.astype(float)\n",
    "aux[aux < 0] = np.nan\n",
    "sns.heatmap(data=np.flip(np.sum(aux, axis=0).reshape(5,5), 0), cmap='Reds', \n",
    "            ax=ax3, annot=True, xticklabels = np.linspace(0, width, points_x).round(2),\n",
    "            yticklabels = ['19.2','14.4','9.6','4.8','0.0'], center=0)\n",
    "\n",
    "plt.show()"
   ]
  },
  {
   "cell_type": "markdown",
   "metadata": {
    "id": "f4gUq1z8Pz12"
   },
   "source": [
    "##Bar Plot"
   ]
  },
  {
   "cell_type": "code",
   "execution_count": null,
   "metadata": {
    "cellView": "form",
    "colab": {
     "base_uri": "https://localhost:8080/",
     "height": 235
    },
    "executionInfo": {
     "elapsed": 355,
     "status": "error",
     "timestamp": 1639596983136,
     "user": {
      "displayName": "Carlo Gattuso Garrido",
      "photoUrl": "https://lh3.googleusercontent.com/a/default-user=s64",
      "userId": "13655340809366528364"
     },
     "user_tz": -60
    },
    "id": "e0ZJS0EWFLqn",
    "outputId": "62e24191-7f03-43db-ff67-36d2ff3f01f0"
   },
   "outputs": [],
   "source": [
    "#@markdown ##Simple/Aggregated\n",
    "fig, (ax1, ax2) = plt.subplots(1, 2, figsize = (20, 8))\n",
    "bar_width = 0.2\n",
    "\n",
    "ax1.bar(np.arange(n_ap) - bar_width, (np.sum(zero_mean_interval_overlap, axis=1)/n_vrp)*100, color = 'b',\n",
    "        width = bar_width, edgecolor = 'black',\n",
    "        label='Zero-Mean GPR')\n",
    "ax1.bar(np.arange(n_ap), (np.sum(psfm_interval_overlap, axis=1)/n_vrp)*100, color = 'g',\n",
    "        width = bar_width, edgecolor = 'black',\n",
    "        label='First Order PSFM GPR')\n",
    "ax1.bar(np.arange(n_ap) + bar_width, (np.sum(psfm2_interval_overlap, axis=1)/n_vrp)*100, color = 'r',\n",
    "        width = bar_width, edgecolor = 'black',\n",
    "        label='Second Order PSFM GPR')\n",
    "  \n",
    "ax1.set_xlabel(\"AP\")\n",
    "ax1.set_ylabel(\"% of overlap\")\n",
    "\n",
    "ax1.set_xticks(np.arange(n_ap))\n",
    "ax1.set_xticklabels(ap_labels.values())\n",
    "ax1.legend()\n",
    "\n",
    "bar_width = 0.3\n",
    "\n",
    "ax2.bar(0, (np.sum(zero_mean_interval_overlap)/(n_vrp * n_ap))*100, color = 'b',\n",
    "        width = bar_width, edgecolor = 'black',\n",
    "        label='Zero-Mean GPR')\n",
    "ax2.bar(1, (np.sum(psfm_interval_overlap)/(n_vrp * n_ap))*100, color = 'g',\n",
    "        width = bar_width, edgecolor = 'black',\n",
    "        label='First Order PSFM GPR')\n",
    "ax2.bar(2, (np.sum(psfm2_interval_overlap)/(n_vrp * n_ap))*100, color = 'r',\n",
    "        width = bar_width, edgecolor = 'black',\n",
    "        label='Second Order PSFM GPR')\n",
    "\n",
    "ax2.set_xlabel(\"Algorithm\")\n",
    "ax2.set_ylabel(\"% of overlap\")\n",
    "\n",
    "ax2.set_xticks(np.arange(3))\n",
    "ax2.set_xticklabels(['ZM-GPR', 'PSFM-GPR', 'PSFM-2-GPR'])\n",
    "ax2.legend()\n",
    "  \n",
    "plt.show()"
   ]
  },
  {
   "cell_type": "markdown",
   "metadata": {
    "id": "iKUbXYdUSaQY"
   },
   "source": [
    "#Linear Error"
   ]
  },
  {
   "cell_type": "code",
   "execution_count": null,
   "metadata": {
    "executionInfo": {
     "elapsed": 17,
     "status": "ok",
     "timestamp": 1639578329056,
     "user": {
      "displayName": "Carlo Gattuso Garrido",
      "photoUrl": "https://lh3.googleusercontent.com/a/default-user=s64",
      "userId": "13655340809366528364"
     },
     "user_tz": -60
    },
    "id": "wV-s11R1wnh-"
   },
   "outputs": [],
   "source": [
    "\"\"\"\n",
    "Euclidean vs Measure:\n",
    "\n",
    "- Confidence Interval Mean Measure\n",
    "- Real Distance\n",
    "\n",
    "\"\"\"\n",
    "err_meas = np.subtract(d_euc_ap, dataset_interval[:,:,0]).round(2)\n",
    "\n",
    "\"\"\"\n",
    "Zero-Mean GPR vs Measure:\n",
    "\n",
    "- Confidence Interval Mean Zero-Mean GRP Interpolation\n",
    "- Confidence Interval Mean Measure\n",
    "\n",
    "\"\"\"\n",
    "err_zero_mean = np.subtract(zero_mean_interval[:,:,0], vrp_test_interval[:,:,0]).round(2)\n",
    "\n",
    "\"\"\"\n",
    "First Order PSFM GPR vs Measure:\n",
    "\n",
    "- Confidence Interval Mean First Order PSFM GPR Interpolation\n",
    "- Real Measure\n",
    "\n",
    "\"\"\"\n",
    "err_psfm = np.subtract(psfm_interval[:,:,0], vrp_test_interval[:,:,0]).round(2)\n",
    "\n",
    "\"\"\"\n",
    "Second Order PSFM GPR vs Measure:\n",
    "\n",
    "- Confidence Interval Mean Second Order PSFM GPR Interpolation\n",
    "- Real Measure\n",
    "\n",
    "\"\"\"\n",
    "err_psfm2 = np.subtract(psfm2_interval[:,:,0], vrp_test_interval[:,:,0]).round(2)"
   ]
  },
  {
   "cell_type": "code",
   "execution_count": null,
   "metadata": {
    "cellView": "form",
    "colab": {
     "base_uri": "https://localhost:8080/",
     "height": 839
    },
    "executionInfo": {
     "elapsed": 1820,
     "status": "ok",
     "timestamp": 1639578330860,
     "user": {
      "displayName": "Carlo Gattuso Garrido",
      "photoUrl": "https://lh3.googleusercontent.com/a/default-user=s64",
      "userId": "13655340809366528364"
     },
     "user_tz": -60
    },
    "id": "hmjhrVQESc-K",
    "outputId": "0445d0f9-038e-4ee2-d68f-da23696e55ae"
   },
   "outputs": [],
   "source": [
    "#@markdown ##Simple\n",
    "ap_selected = \"Google Verde\"  #@param ['Google Blanco', 'Linksys 1', 'Google Azul', 'Linksys 2', 'Google Rojo', 'Linksys 3', 'Google Verde', 'Linksys 4']\n",
    "\n",
    "try:\n",
    "  ap_indexes[ap_selected]\n",
    "except:\n",
    "  ap_selected = ap_labels[0]\n",
    "\n",
    "fig, ([ax1, ax2], [ax3, ax4]) = plt.subplots(2, 2, figsize=(18,14))\n",
    "\n",
    "ax1.set_title(\"Euclidean\", pad=20)\n",
    "ax2.set_title(\"Zero-Mean GPR\", pad=20)\n",
    "ax3.set_title(\"First Order PSFM GPR\", pad=20)\n",
    "ax4.set_title(\"Second Order PSFM GPR\", pad=20)\n",
    "\n",
    "sns.heatmap(data=np.flip(abs(err_meas[int(ap_indexes[ap_selected])]).reshape(5,5), 0), cmap='Oranges', \n",
    "            ax=ax1, annot=True, xticklabels = np.linspace(0, width, points_x).round(2),\n",
    "            yticklabels = ['19.2','14.4','9.6','4.8','0.0'], center=0)\n",
    "\n",
    "aux = np.empty(n_points)\n",
    "if(err_zero_mean[int(ap_indexes[ap_selected])].shape[0] == (n_points - n_ap)):\n",
    "  for i in range(n_vrp):\n",
    "    aux[get_location(locations, L_vrp[i])] = abs(err_zero_mean[int(ap_indexes[ap_selected]),i])\n",
    "  for p in points:\n",
    "    aux[p] = np.nan\n",
    "    \n",
    "aux = aux.astype(float)\n",
    "sns.heatmap(data=np.flip(aux.reshape(5,5), 0), cmap='Blues', \n",
    "            ax=ax2, annot=True, xticklabels = np.linspace(0, width, points_x).round(2),\n",
    "            yticklabels = ['19.2','14.4','9.6','4.8','0.0'], center=0)\n",
    "\n",
    "if(err_psfm[int(ap_indexes[ap_selected])].shape[0] == (n_points - n_ap)):\n",
    "  for i in range(n_vrp):\n",
    "    aux[get_location(locations, L_vrp[i])] = abs(err_psfm[int(ap_indexes[ap_selected]),i])\n",
    "  for p in points:\n",
    "    aux[p] = np.nan\n",
    "    \n",
    "aux = aux.astype(float)\n",
    "sns.heatmap(data=np.flip(aux.reshape(5,5), 0), cmap='Greens', \n",
    "            ax=ax3, annot=True, xticklabels = np.linspace(0, width, points_x).round(2),\n",
    "            yticklabels = ['19.2','14.4','9.6','4.8','0.0'], center=0)\n",
    "\n",
    "if(err_psfm2[int(ap_indexes[ap_selected])].shape[0] == (n_points - n_ap)):\n",
    "  for i in range(n_vrp):\n",
    "    aux[get_location(locations, L_vrp[i])] = abs(err_psfm2[int(ap_indexes[ap_selected]),i])\n",
    "  for p in points:\n",
    "    aux[p] = np.nan\n",
    "    \n",
    "aux = aux.astype(float)\n",
    "sns.heatmap(data=np.flip(aux.reshape(5,5), 0), cmap='Reds', \n",
    "            ax=ax4, annot=True, xticklabels = np.linspace(0, width, points_x).round(2),\n",
    "            yticklabels = ['19.2','14.4','9.6','4.8','0.0'], center=0)\n",
    "\n",
    "plt.show()"
   ]
  },
  {
   "cell_type": "markdown",
   "metadata": {
    "id": "gkOOmmrtLiVJ"
   },
   "source": [
    "#Root Mean Squared Error"
   ]
  },
  {
   "cell_type": "markdown",
   "metadata": {
    "id": "ZPrOVuLVQgtc"
   },
   "source": [
    "##Location Heatmap"
   ]
  },
  {
   "cell_type": "code",
   "execution_count": null,
   "metadata": {
    "cellView": "form",
    "colab": {
     "base_uri": "https://localhost:8080/",
     "height": 839
    },
    "executionInfo": {
     "elapsed": 1803,
     "status": "ok",
     "timestamp": 1639578332649,
     "user": {
      "displayName": "Carlo Gattuso Garrido",
      "photoUrl": "https://lh3.googleusercontent.com/a/default-user=s64",
      "userId": "13655340809366528364"
     },
     "user_tz": -60
    },
    "id": "zfDFO6PY_ESB",
    "outputId": "4e0394d1-58fc-4888-ecac-419d9d547741"
   },
   "outputs": [],
   "source": [
    "#@markdown ##Aggregated\n",
    "\n",
    "fig, ([ax1, ax2], [ax3, ax4]) = plt.subplots(2, 2, figsize=(18,14))\n",
    "\n",
    "ax1.set_title(\"Euclidean\", pad=20)\n",
    "ax2.set_title(\"Zero-Mean GPR\", pad=20)\n",
    "ax3.set_title(\"First Order PSFM GPR\", pad=20)\n",
    "ax4.set_title(\"Second Order PSFM GPR\", pad=20)\n",
    "\n",
    "sns.heatmap(data=np.flip(mean_squared_error(err_meas).reshape(5,5), 0), cmap='Oranges', \n",
    "            ax=ax1, annot=True, xticklabels = np.linspace(0, width, points_x).round(2),\n",
    "            yticklabels = ['19.2','14.4','9.6','4.8','0.0'], center=0)\n",
    "\n",
    "aux = np.empty(n_points)\n",
    "if(err_zero_mean[int(ap_indexes[ap_selected])].shape[0] == (n_points - n_ap)):\n",
    "  for i in range(n_vrp):\n",
    "    aux[get_location(locations, L_vrp[i])] = mean_squared_error(err_zero_mean[:,i])\n",
    "  for p in points:\n",
    "    aux[p] = np.nan\n",
    "    \n",
    "aux = aux.astype(float)\n",
    "sns.heatmap(data=np.flip(aux.reshape(5,5), 0), cmap='Blues', \n",
    "            ax=ax2, annot=True, xticklabels = np.linspace(0, width, points_x).round(2),\n",
    "            yticklabels = ['19.2','14.4','9.6','4.8','0.0'], center=0)\n",
    "\n",
    "if(err_psfm[int(ap_indexes[ap_selected])].shape[0] == (n_points - n_ap)):\n",
    "  for i in range(n_vrp):\n",
    "    aux[get_location(locations, L_vrp[i])] = mean_squared_error(err_psfm[:,i])\n",
    "  for p in points:\n",
    "    aux[p] = np.nan\n",
    "    \n",
    "aux = aux.astype(float)\n",
    "sns.heatmap(data=np.flip(aux.reshape(5,5), 0), cmap='Greens', \n",
    "            ax=ax3, annot=True, xticklabels = np.linspace(0, width, points_x).round(2),\n",
    "            yticklabels = ['19.2','14.4','9.6','4.8','0.0'], center=0)\n",
    "\n",
    "if(err_psfm2[int(ap_indexes[ap_selected])].shape[0] == (n_points - n_ap)):\n",
    "  for i in range(n_vrp):\n",
    "    aux[get_location(locations, L_vrp[i])] = mean_squared_error(err_psfm2[:,i])\n",
    "  for p in points:\n",
    "    aux[p] = np.nan\n",
    "    \n",
    "aux = aux.astype(float)\n",
    "sns.heatmap(data=np.flip(aux.reshape(5,5), 0), cmap='Reds', \n",
    "            ax=ax4, annot=True, xticklabels = np.linspace(0, width, points_x).round(2),\n",
    "            yticklabels = ['19.2','14.4','9.6','4.8','0.0'], center=0)\n",
    "\n",
    "plt.show()"
   ]
  },
  {
   "cell_type": "markdown",
   "metadata": {
    "id": "-hQlaIDp-YG3"
   },
   "source": [
    "##Bar Plot"
   ]
  },
  {
   "cell_type": "code",
   "execution_count": null,
   "metadata": {
    "cellView": "form",
    "colab": {
     "base_uri": "https://localhost:8080/",
     "height": 497
    },
    "executionInfo": {
     "elapsed": 28,
     "status": "ok",
     "timestamp": 1639578332652,
     "user": {
      "displayName": "Carlo Gattuso Garrido",
      "photoUrl": "https://lh3.googleusercontent.com/a/default-user=s64",
      "userId": "13655340809366528364"
     },
     "user_tz": -60
    },
    "id": "4wMFm8D6ysz6",
    "outputId": "877bc513-5189-4893-9653-4a4a711940b2"
   },
   "outputs": [],
   "source": [
    "#@markdown ##Simple/Aggregated\n",
    "fig, (ax1, ax2) = plt.subplots(1, 2, figsize = (20, 8))\n",
    "bar_width = 0.15\n",
    "\n",
    "ax1.bar(np.arange(n_ap) - bar_width, mean_squared_error(err_meas, 1), color = 'orange',\n",
    "        width = bar_width, edgecolor = 'black',\n",
    "        label='Euclidean')\n",
    "ax1.bar(np.arange(n_ap), mean_squared_error(err_zero_mean, 1), color = 'b',\n",
    "        width = bar_width, edgecolor = 'black',\n",
    "        label='Zero-Mean GPR')\n",
    "ax1.bar(np.arange(n_ap) + bar_width, mean_squared_error(err_psfm, 1), color = 'g',\n",
    "        width = bar_width, edgecolor = 'black',\n",
    "        label='First Order PSFM GPR')\n",
    "ax1.bar(np.arange(n_ap) + 2*bar_width, mean_squared_error(err_psfm2, 1), color = 'r',\n",
    "        width = bar_width, edgecolor = 'black',\n",
    "        label='Second Order PSFM GPR')\n",
    "  \n",
    "ax1.set_xlabel(\"AP\")\n",
    "ax1.set_ylabel(\"RMSE (meters)\")\n",
    "\n",
    "ax1.set_xticks(np.arange(n_ap)+bar_width/2)\n",
    "ax1.set_xticklabels(ap_labels.values())\n",
    "ax1.legend()\n",
    "\n",
    "bar_width = 0.3\n",
    "\n",
    "ax2.bar(0, mean_squared_error(err_meas).mean(), color = 'orange',\n",
    "        width = bar_width, edgecolor = 'black',\n",
    "        label='Zero-Mean GPR')\n",
    "ax2.bar(1, mean_squared_error(err_zero_mean).mean(), color = 'b',\n",
    "        width = bar_width, edgecolor = 'black',\n",
    "        label='First Order PSFM GPR')\n",
    "ax2.bar(2, mean_squared_error(err_psfm).mean(), color = 'g',\n",
    "        width = bar_width, edgecolor = 'black',\n",
    "        label='Second Order PSFM GPR')\n",
    "ax2.bar(3, mean_squared_error(err_psfm2).mean(), color = 'r',\n",
    "        width = bar_width, edgecolor = 'black',\n",
    "        label='Second Order PSFM GPR')\n",
    "\n",
    "ax2.set_xlabel(\"Algorithm\")\n",
    "ax2.set_ylabel(\"RMSE (meters)\")\n",
    "\n",
    "ax2.set_xticks(np.arange(4))\n",
    "ax2.set_xticklabels(['Euclidean','ZM-GPR', 'PSFM-GPR', 'PSFM-2-GPR'])\n",
    "ax2.legend()\n",
    "  \n",
    "plt.show()"
   ]
  }
 ],
 "metadata": {
  "colab": {
   "collapsed_sections": [
    "fBgf1HzaTlmg",
    "K3NtyLh-pI_n",
    "DursA-3YnXz6",
    "2MHmeV47nX0M",
    "QYRzUCeBnX0N",
    "C4K6hzo8pI_0",
    "SPwShUwEj5Nf",
    "VtTlhYvnDoej",
    "6QdinQbe2res",
    "SQvSbCAJwpZ4",
    "LEXo59pJbLaQ",
    "41XzYLgh3Y0b",
    "DTBndfBs3bpx",
    "U3EuRrCyQqfN",
    "UBKyxcdDSlwe",
    "Ge0LR5qPWMVt",
    "--YfNHMQZgha",
    "LGlq_3lrbOqz",
    "zawUoZFu2oGW",
    "p0N61eNph7FS",
    "TR5CeIfuka5-"
   ],
   "name": "ap_obs_1.0.2.ipynb",
   "provenance": []
  },
  "kernelspec": {
   "display_name": "Python 3 (ipykernel)",
   "language": "python",
   "name": "python3"
  },
  "language_info": {
   "codemirror_mode": {
    "name": "ipython",
    "version": 3
   },
   "file_extension": ".py",
   "mimetype": "text/x-python",
   "name": "python",
   "nbconvert_exporter": "python",
   "pygments_lexer": "ipython3",
   "version": "3.9.7"
  }
 },
 "nbformat": 4,
 "nbformat_minor": 1
}
