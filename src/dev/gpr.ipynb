{
 "metadata": {
  "language_info": {
   "codemirror_mode": {
    "name": "ipython",
    "version": 3
   },
   "file_extension": ".py",
   "mimetype": "text/x-python",
   "name": "python",
   "nbconvert_exporter": "python",
   "pygments_lexer": "ipython3",
   "version": "3.8.5"
  },
  "orig_nbformat": 2,
  "kernelspec": {
   "name": "python385jvsc74a57bd0f98536cc3956597c064b43c1952e16cffec84e1e93d3fbaf24310225b0d26010",
   "display_name": "Python 3.8.5 64-bit ('base': conda)"
  }
 },
 "nbformat": 4,
 "nbformat_minor": 2,
 "cells": [
  {
   "cell_type": "code",
   "execution_count": 1,
   "metadata": {},
   "outputs": [],
   "source": [
    "################ Library imports ################\n",
    "import numpy as np\n",
    "import math as math\n",
    "import matplotlib.pyplot as plt\n",
    "\n",
    "from sklearn.gaussian_process import GaussianProcessRegressor\n",
    "from sklearn.gaussian_process.kernels import RBF, ConstantKernel, WhiteKernel\n",
    "\n",
    "from sklearn.metrics import mean_squared_error, mean_absolute_error"
   ]
  },
  {
   "cell_type": "code",
   "execution_count": 2,
   "metadata": {},
   "outputs": [],
   "source": [
    "# ----------------------------------------------------------------------\n",
    "#  AP locations\n",
    "L_ap = np.array([[0, 0], [0, 2], [2, 0], [2, 2]])\n",
    "\n",
    "# ----------------------------------------------------------------------\n",
    "#  VRP locations\n",
    "L_vrp = np.array([[1, 0], [0, 1], [1, 1], [1, 2], [2, 1]])\n",
    "\n",
    "# ----------------------------------------------------------------------\n",
    "#  RTT distance observations\n",
    "d_RTT = np.array([0, 2, 2, math.sqrt(8)])"
   ]
  },
  {
   "cell_type": "code",
   "execution_count": 3,
   "metadata": {},
   "outputs": [],
   "source": [
    "\"\"\"\n",
    "Gaussian Process Kernel definition\n",
    "\n",
    "Kernel parameters:\n",
    "    - L --> Length Scale\n",
    "    - sigma_f --> Constant Kernel Amplitude\n",
    "\"\"\"\n",
    "\n",
    "l = 2.47\n",
    "sigma_f = 4\n",
    "\n",
    "kernel = ConstantKernel(constant_value=sigma_f,constant_value_bounds=(1e-3, 1e3)) \\\n",
    "            * RBF(length_scale=l, length_scale_bounds=(1e-3, 1e3))  "
   ]
  },
  {
   "cell_type": "code",
   "execution_count": 4,
   "metadata": {},
   "outputs": [],
   "source": [
    "\"\"\"\n",
    "Gaussian Process Regressor definition\n",
    "\n",
    "- sigma_n --> Training Noise Variance\n",
    "\"\"\"\n",
    "\n",
    "# Error standard deviation. \n",
    "sigma_n = 0.2\n",
    "\n",
    "gp = GaussianProcessRegressor(kernel=kernel, alpha=sigma_n**2, n_restarts_optimizer=0)"
   ]
  },
  {
   "cell_type": "code",
   "execution_count": 5,
   "metadata": {},
   "outputs": [
    {
     "output_type": "execute_result",
     "data": {
      "text/plain": [
       "GaussianProcessRegressor(alpha=0.04000000000000001,\n",
       "                         kernel=2**2 * RBF(length_scale=2.47))"
      ]
     },
     "metadata": {},
     "execution_count": 5
    }
   ],
   "source": [
    "\"\"\"\n",
    "Model Fitting with AP location and RTT distance observations\n",
    "using Maximum Likelihood Estimation of the parameters.\n",
    "\"\"\"\n",
    "\n",
    "gp.fit(L_ap, d_RTT)"
   ]
  },
  {
   "cell_type": "code",
   "execution_count": 6,
   "metadata": {},
   "outputs": [
    {
     "output_type": "stream",
     "name": "stdout",
     "text": [
      "[1.08011434 1.08011434 1.950846   2.56356667 2.56356667]\n[[0.07550319 0.01142779 0.06093393 0.0383058  0.01142779]\n [0.01142779 0.07550319 0.06093393 0.01142779 0.0383058 ]\n [0.06093393 0.06093393 0.11809173 0.06093393 0.06093393]\n [0.0383058  0.01142779 0.06093393 0.07550319 0.01142779]\n [0.01142779 0.0383058  0.06093393 0.01142779 0.07550319]]\n"
     ]
    }
   ],
   "source": [
    "\"\"\"\n",
    "Prediction of the VRPs around the scenario\n",
    "\"\"\"\n",
    "d_RTT_pred, d_RTT_err = gp.predict(L_vrp, return_cov=True)\n",
    "\n",
    "print(d_RTT_pred)\n",
    "print(d_RTT_err)"
   ]
  },
  {
   "cell_type": "code",
   "execution_count": 7,
   "metadata": {},
   "outputs": [
    {
     "output_type": "execute_result",
     "data": {
      "text/plain": [
       "{'k1': 2**2,\n",
       " 'k2': RBF(length_scale=2.47),\n",
       " 'k1__constant_value': 4.001438373410803,\n",
       " 'k1__constant_value_bounds': (0.001, 1000.0),\n",
       " 'k2__length_scale': 2.4737043968015033,\n",
       " 'k2__length_scale_bounds': (0.001, 1000.0)}"
      ]
     },
     "metadata": {},
     "execution_count": 7
    }
   ],
   "source": [
    "\"\"\"\n",
    "Optimized parameters of the Kernel\n",
    "\"\"\"\n",
    "gp.kernel_.get_params()"
   ]
  },
  {
   "cell_type": "code",
   "execution_count": 8,
   "metadata": {},
   "outputs": [
    {
     "output_type": "execute_result",
     "data": {
      "text/plain": [
       "-7.062481224144337"
      ]
     },
     "metadata": {},
     "execution_count": 8
    }
   ],
   "source": [
    "\"\"\"\n",
    "Log Marginal Likelihood of the obtained parameters\n",
    "\"\"\"\n",
    "gp.log_marginal_likelihood()"
   ]
  },
  {
   "cell_type": "code",
   "execution_count": 9,
   "metadata": {},
   "outputs": [
    {
     "output_type": "stream",
     "name": "stdout",
     "text": [
      "MSE:  0.10306435508421416\nME:  0.27037170221778745\nSTD:  0.17309967569025148\n"
     ]
    }
   ],
   "source": [
    "\"\"\"\n",
    "Mean squared error and variance of the prediction\n",
    "\"\"\"\n",
    "d_RTT_true = np.array([1, 1, math.sqrt(2), math.sqrt(5), math.sqrt(5)])\n",
    "print(\"MSE: \", mean_squared_error(d_RTT_true, d_RTT_pred))\n",
    "print(\"ME: \" , mean_absolute_error(d_RTT_true, d_RTT_pred))\n",
    "print(\"STD: \" , np.std(d_RTT_true-d_RTT_pred))"
   ]
  }
 ]
}