{
 "metadata": {
  "language_info": {
   "codemirror_mode": {
    "name": "ipython",
    "version": 3
   },
   "file_extension": ".py",
   "mimetype": "text/x-python",
   "name": "python",
   "nbconvert_exporter": "python",
   "pygments_lexer": "ipython3",
   "version": "3.8.5"
  },
  "orig_nbformat": 2,
  "kernelspec": {
   "name": "python385jvsc74a57bd0f98536cc3956597c064b43c1952e16cffec84e1e93d3fbaf24310225b0d26010",
   "display_name": "Python 3.8.5 64-bit ('base': conda)"
  }
 },
 "nbformat": 4,
 "nbformat_minor": 2,
 "cells": [
  {
   "cell_type": "code",
   "execution_count": 1,
   "metadata": {},
   "outputs": [],
   "source": [
    "################ Library imports ################\n",
    "import numpy as np\n",
    "import math as math\n",
    "from mpl_toolkits.mplot3d import Axes3D\n",
    "import matplotlib.pyplot as plt\n",
    "import scipy.linalg\n",
    "import seaborn as sns\n",
    "\n",
    "import itertools\n",
    "\n",
    "from sklearn.gaussian_process import GaussianProcessRegressor\n",
    "from sklearn.gaussian_process.kernels import RBF, ConstantKernel, WhiteKernel\n",
    "\n",
    "from sklearn.metrics import mean_squared_error, mean_absolute_error\n",
    "\n",
    "from scipy.optimize import curve_fit"
   ]
  },
  {
   "cell_type": "code",
   "execution_count": 2,
   "metadata": {},
   "outputs": [],
   "source": [
    "locations = np.array(np.meshgrid(np.linspace(0, 8, 9), np.linspace(0, 8, 9))).T.reshape(-1, 2)\n",
    "\n",
    "# ----------------------------------------------------------------------\n",
    "#  AP locations\n",
    "L_ap = locations[[0,4,8,36,40,44,72,76,80], :]\n",
    "\n",
    "# ----------------------------------------------------------------------\n",
    "#  VRP locations\n",
    "L_vrp = np.delete(locations, [0,4,8,36,40,44,72,76,80], 0)"
   ]
  },
  {
   "cell_type": "code",
   "execution_count": 12,
   "metadata": {},
   "outputs": [],
   "source": [
    "def compute_euclidean_distance(target, array):\n",
    "    n = target.shape[0]\n",
    "    n_star = array.shape[0]\n",
    "\n",
    "    d_mat = [np.linalg.norm(i - j) for (i,j) in itertools.product(target, array)]\n",
    "    d_mat = np.array(d_mat).reshape(n, n_star)\n",
    "\n",
    "    return d_mat"
   ]
  },
  {
   "cell_type": "code",
   "execution_count": 15,
   "metadata": {},
   "outputs": [],
   "source": [
    "\"\"\"\n",
    "Polynomial Surface model fitting\n",
    "    \n",
    "    loc --> X,Y tuple array of AP locations\n",
    "    d --> AP RTT distance observations\n",
    "    order --> Polinomial order\n",
    "\"\"\"\n",
    "def surface_fit(loc, d, order=1):\n",
    "    if order == 1:\n",
    "        A = np.c_[loc[:,0], loc[:,1], np.ones(loc.shape[0])]\n",
    "        C,_,_,_ = scipy.linalg.lstsq(A, d)\n",
    "    else:\n",
    "        A = np.c_[np.ones(loc.shape[0]), loc[:,:2], np.prod(loc[:,:2], axis=1), loc[:,:2]**2]\n",
    "        C,_,_,_ = scipy.linalg.lstsq(A, d)\n",
    "    return C"
   ]
  },
  {
   "cell_type": "code",
   "execution_count": 18,
   "metadata": {},
   "outputs": [],
   "source": [
    "\"\"\"\n",
    "Let's assume an euclidean distance as RTT distance observations between APs\n",
    "\"\"\" \n",
    "d_RTT = compute_euclidean_distance(L_ap, L_ap)"
   ]
  },
  {
   "cell_type": "code",
   "execution_count": 16,
   "metadata": {},
   "outputs": [],
   "source": [
    "#Model fitting and surface estimation\n",
    "\n",
    "# Plot domain\n",
    "X,Y = np.meshgrid(np.arange(0.0, 9.0, 1), np.arange(0.0, 9.0, 1))\n",
    "\n",
    "model_1 = surface_fit(L_ap, d_RTT)\n",
    "\n",
    "Z_1 = sample_distance_matrix(X, Y, model_1)"
   ]
  },
  {
   "cell_type": "code",
   "execution_count": 17,
   "metadata": {},
   "outputs": [],
   "source": [
    "\"\"\"\n",
    "Mean RTT distance values at VRPs\n",
    "    _1 --> Order 1 surface fit\n",
    "    _2 --> Order 2 surface fit\n",
    "\"\"\"\n",
    "\n",
    "fit_1 = np.reshape(Z_1, (81,1))\n",
    "\n",
    "# ----------------------------------------------------------------------\n",
    "#  Mean RTT observations between target AP and the rest\n",
    "m_ap_1 = fit_1[[0,4,8,36,40,44,72,76,80], :]\n",
    "\n",
    "# ----------------------------------------------------------------------\n",
    "#  Mean RTT observations between target AP and VRPs\n",
    "m_vrp_1 = np.delete(fit_1, [0,4,8,36,40,44,72,76,80], 0)"
   ]
  },
  {
   "cell_type": "code",
   "execution_count": 18,
   "metadata": {},
   "outputs": [],
   "source": [
    "\"\"\"\n",
    "Gaussian Process Kernel definition\n",
    "\n",
    "Kernel parameters:\n",
    "    - L --> Length Scale\n",
    "    - sigma_f --> Constant Kernel Amplitude\n",
    "\"\"\"\n",
    "\n",
    "def kernel_function(x, y, sigma_f=1, l=1):\n",
    "\n",
    "    \"\"\" Squared Exponential kernel function \"\"\"\n",
    "    kernel = sigma_f * np.exp(- (np.linalg.norm(x - y)**2) / (2 * l**2))\n",
    "    return kernel"
   ]
  },
  {
   "cell_type": "code",
   "execution_count": 19,
   "metadata": {},
   "outputs": [
    {
     "output_type": "stream",
     "name": "stdout",
     "text": [
      "Optimal lengthscale:  7.825126295410917 \tOptimum sigma_f:  55.8048685667878\n"
     ]
    }
   ],
   "source": [
    "\"\"\"\n",
    "Gaussian Process Fit using scikit-learn GPR\n",
    "\n",
    "Hyperparameter optimization of sigma_f and length-scale\n",
    "\"\"\"\n",
    "sigma_n = 0.0\n",
    "\n",
    "kernel = ConstantKernel(constant_value=1.0,constant_value_bounds=(1e-3, 1e3)) \\\n",
    "            * RBF(length_scale=1.0, length_scale_bounds=(1e-3, 1e3))\n",
    "\n",
    "gp = GaussianProcessRegressor(kernel=kernel, alpha=sigma_n**2, n_restarts_optimizer=10)\n",
    "\n",
    "gp.fit(L_ap, d_RTT)\n",
    "\n",
    "\"\"\"\n",
    "Optimized hyperparameters\n",
    "\"\"\"\n",
    "l = gp.kernel_.get_params().get('k2__length_scale')\n",
    "sigma_f = gp.kernel_.get_params().get('k1__constant_value')\n",
    "print('Optimal lengthscale: ',l,'\\tOptimum sigma_f: ',sigma_f)"
   ]
  },
  {
   "cell_type": "code",
   "execution_count": 20,
   "metadata": {},
   "outputs": [],
   "source": [
    "def compute_cov_matrices(L_ap, L_vrp, sigma_f=1, l=1):\n",
    "    \"\"\"\n",
    "    Compute components of the covariance matrix of the joint distribution.\n",
    "    \n",
    "    We follow the notation:\n",
    "    \n",
    "        - K = K(L, L) \n",
    "        - K_star = K(L^*, L)\n",
    "        - K_star2 = K(L^*, L^*)\n",
    "    \"\"\"\n",
    "    n = L_ap.shape[0]\n",
    "    n_star = L_vrp.shape[0]\n",
    "\n",
    "    K = [kernel_function(i, j, sigma_f=sigma_f, l=l) for (i, j) in itertools.product(L_ap, L_ap)]\n",
    "\n",
    "    K = np.array(K).reshape(n, n)\n",
    "    \n",
    "    K_star2 = [kernel_function(i, j, sigma_f=sigma_f, l=l) for (i, j) in itertools.product(L_vrp, L_vrp)]\n",
    "\n",
    "    K_star2 = np.array(K_star2).reshape(n_star, n_star)\n",
    "    \n",
    "    K_star = [kernel_function(i, j, sigma_f=sigma_f, l=l) for (i, j) in itertools.product(L_vrp, L_ap)]\n",
    "\n",
    "    K_star = np.array(K_star).reshape(n_star, n)\n",
    "    \n",
    "    return (K, K_star2, K_star)"
   ]
  },
  {
   "cell_type": "code",
   "execution_count": 21,
   "metadata": {},
   "outputs": [],
   "source": [
    "\"\"\"\n",
    "Computing covariance matrices\n",
    "\"\"\"\n",
    "K, K_star2, K_star = compute_cov_matrices(L_ap, L_vrp, sigma_f=sigma_f, l=l)"
   ]
  },
  {
   "cell_type": "code",
   "execution_count": 22,
   "metadata": {},
   "outputs": [
    {
     "output_type": "stream",
     "name": "stdout",
     "text": [
      "(81, 9)\n(81, 72)\n(81, 81)\n"
     ]
    },
    {
     "output_type": "execute_result",
     "data": {
      "text/plain": [
       "True"
      ]
     },
     "metadata": {},
     "execution_count": 22
    }
   ],
   "source": [
    "\"\"\"\n",
    "Gaussian Process Regressor definition\n",
    "\n",
    "- sigma_n --> Training Noise Variance\n",
    "\n",
    "Multivariate Joint Distribution: G matrix\n",
    "\"\"\"\n",
    "\n",
    "n = L_ap.shape[0]\n",
    "n_star = L_vrp.shape[0]\n",
    "\n",
    "a = np.concatenate((K + (sigma_n**2)*np.eye(n), K_star), axis=0)\n",
    "print(a.shape)\n",
    "b = np.concatenate((K_star.T, K_star2), axis=0)\n",
    "print(b.shape)\n",
    "G = np.concatenate((a, b), axis=1)\n",
    "print(G.shape)\n",
    "G.shape == (n + n_star, n + n_star)"
   ]
  },
  {
   "cell_type": "code",
   "execution_count": 23,
   "metadata": {},
   "outputs": [],
   "source": [
    "def pfsm_gpr_parameters(m, m_star, d, K, K_star2, K_star, sigma_n):\n",
    "    \n",
    "    \"\"\"Compute gaussian regression parameters.\"\"\"\n",
    "\n",
    "    n = K.shape[0]\n",
    "    n_star = K_star.shape[0]\n",
    "\n",
    "    # Mean.\n",
    "    s_bar_star = (m.reshape([n_star, 1]) \n",
    "        + np.dot(K_star, np.dot(np.linalg.inv(K + (sigma_n**2)*np.eye(n)), d.reshape([n, 1]) - m_star.reshape([n, 1]))))\n",
    "    # Covariance.\n",
    "    cov_s_star = K_star2 - np.dot(K_star, np.dot(np.linalg.inv(K + (sigma_n**2)*np.eye(n)), K_star.T))\n",
    "    \n",
    "    return (s_bar_star.reshape(n_star), cov_s_star)"
   ]
  },
  {
   "cell_type": "code",
   "execution_count": 24,
   "metadata": {},
   "outputs": [],
   "source": [
    "\"\"\"\n",
    "First Order PSFM Gaussian Process interpolation:\n",
    "    \n",
    "    s_bar_star --> Mean estimated value for each VRP\n",
    "    cov_s_star --> Posterior covariance matrix\n",
    "    var_s_star --> VRP estimation variance\n",
    "\"\"\"\n",
    "\n",
    "s_bar_star, cov_s_star = pfsm_gpr_parameters(m_vrp_1, m_ap_1, d_RTT, K, K_star2, K_star, sigma_n)\n",
    "var_s_star = np.diag(cov_s_star)"
   ]
  },
  {
   "cell_type": "code",
   "execution_count": 25,
   "metadata": {},
   "outputs": [],
   "source": [
    "def compute_euclidean_distance_matrix(target, array):\n",
    "    n = target.shape[0]\n",
    "    n_star = array.shape[0]\n",
    "\n",
    "    d_mat = [np.linalg.norm(i - j) for (i,j) in itertools.product(target, array)]\n",
    "    d_mat = np.array(d_mat).reshape(n, n_star)\n",
    "\n",
    "    return d_mat"
   ]
  },
  {
   "cell_type": "code",
   "execution_count": 26,
   "metadata": {},
   "outputs": [],
   "source": [
    "def sample_distance_matrix(x, y, C):\n",
    "    \n",
    "    XX = x.flatten()\n",
    "    YY = y.flatten()\n",
    "    \n",
    "    if C.shape[0] == 3:\n",
    "        fit = np.dot(np.c_[XX, YY, np.ones(XX.shape)], C).reshape(x.shape)\n",
    "    else:\n",
    "        fit = np.dot(np.c_[np.ones(XX.shape), XX, YY, XX*YY, XX**2, YY**2], C).reshape(x.shape)\n",
    "    return fit"
   ]
  },
  {
   "cell_type": "code",
   "execution_count": 27,
   "metadata": {},
   "outputs": [],
   "source": [
    "def surface_fit_matrix(loc, d, order=1):\n",
    "    if order == 1:\n",
    "        A = np.c_[loc[:,0], loc[:,1], np.ones(loc.shape[0])]\n",
    "        C,_,_,_ = scipy.linalg.lstsq(A, d)\n",
    "    else:\n",
    "        A = np.c_[np.ones(loc.shape[0]), loc[:,:2], np.prod(loc[:,:2], axis=1), loc[:,:2]**2]\n",
    "        C,_,_,_ = scipy.linalg.lstsq(A, d)\n",
    "    return C"
   ]
  },
  {
   "cell_type": "code",
   "execution_count": 28,
   "metadata": {},
   "outputs": [],
   "source": [
    "\"\"\"\n",
    "RTT distance estimation\n",
    "    \n",
    "    x --> AP's x locations\n",
    "    y --> AP's y locations\n",
    "    C --> Model coefficients\n",
    "\"\"\"\n",
    "def sample_distance_matrix(x, y, C):\n",
    "    \n",
    "    XX = x.flatten()\n",
    "    YY = y.flatten()\n",
    "    \n",
    "    if C.shape[0] == 3:\n",
    "        fit = np.dot(np.c_[XX, YY, np.ones(XX.shape)], C).reshape(x.shape)\n",
    "    else:\n",
    "        fit = np.dot(np.c_[np.ones(XX.shape), XX, YY, XX*YY, XX**2, YY**2], C).reshape(x.shape)\n",
    "    return fit"
   ]
  },
  {
   "cell_type": "code",
   "execution_count": 31,
   "metadata": {},
   "outputs": [],
   "source": [
    "test = compute_euclidean_distance_matrix(L_vrp, L_vrp)"
   ]
  },
  {
   "cell_type": "code",
   "execution_count": null,
   "metadata": {},
   "outputs": [],
   "source": []
  }
 ]
}