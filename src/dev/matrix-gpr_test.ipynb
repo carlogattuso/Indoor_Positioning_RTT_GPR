{
 "metadata": {
  "language_info": {
   "codemirror_mode": {
    "name": "ipython",
    "version": 3
   },
   "file_extension": ".py",
   "mimetype": "text/x-python",
   "name": "python",
   "nbconvert_exporter": "python",
   "pygments_lexer": "ipython3",
   "version": "3.8.5"
  },
  "orig_nbformat": 2,
  "kernelspec": {
   "name": "python385jvsc74a57bd0f98536cc3956597c064b43c1952e16cffec84e1e93d3fbaf24310225b0d26010",
   "display_name": "Python 3.8.5 64-bit ('base': conda)"
  }
 },
 "nbformat": 4,
 "nbformat_minor": 2,
 "cells": [
  {
   "source": [
    "#Matrix Gaussian Process Estimation"
   ],
   "cell_type": "markdown",
   "metadata": {}
  }
 ]
}