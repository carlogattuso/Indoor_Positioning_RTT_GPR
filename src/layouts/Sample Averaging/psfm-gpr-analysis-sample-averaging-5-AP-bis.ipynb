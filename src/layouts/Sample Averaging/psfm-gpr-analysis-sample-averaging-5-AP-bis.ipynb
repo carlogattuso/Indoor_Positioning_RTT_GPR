{
 "cells": [
  {
   "cell_type": "markdown",
   "id": "97d4e55d",
   "metadata": {
    "id": "hf7JEe7Y0ppC"
   },
   "source": [
    "# Library imports"
   ]
  },
  {
   "cell_type": "code",
   "execution_count": 21,
   "id": "eb6350d4",
   "metadata": {
    "executionInfo": {
     "elapsed": 469,
     "status": "ok",
     "timestamp": 1639595109991,
     "user": {
      "displayName": "Carlo Gattuso Garrido",
      "photoUrl": "https://lh3.googleusercontent.com/a/default-user=s64",
      "userId": "13655340809366528364"
     },
     "user_tz": -60
    },
    "id": "m-I0nmWJZghG"
   },
   "outputs": [],
   "source": [
    "import numpy as np\n",
    "import math as math\n",
    "from mpl_toolkits.mplot3d import Axes3D\n",
    "import matplotlib\n",
    "import matplotlib.pyplot as plt\n",
    "from pylab import *\n",
    "import scipy.linalg\n",
    "import seaborn as sns\n",
    "import time\n",
    "import glob\n",
    "import pandas as pd\n",
    "import scipy.stats as st\n",
    "\n",
    "import itertools\n",
    "\n",
    "from sklearn.gaussian_process import GaussianProcessRegressor\n",
    "from sklearn.gaussian_process.kernels import RBF, ConstantKernel, WhiteKernel\n",
    "\n",
    "from sklearn.metrics import mean_squared_error, mean_absolute_error\n",
    " \n",
    "from scipy.optimize import curve_fit\n",
    "\n",
    "from IPython.display import display, Markdown, clear_output\n",
    "import ipywidgets as widgets"
   ]
  },
  {
   "cell_type": "markdown",
   "id": "d8e5d0b9",
   "metadata": {
    "id": "AZxM4JECTvHd"
   },
   "source": [
    "# Utils"
   ]
  },
  {
   "cell_type": "code",
   "execution_count": 22,
   "id": "88368079",
   "metadata": {
    "executionInfo": {
     "elapsed": 28,
     "status": "ok",
     "timestamp": 1639595128929,
     "user": {
      "displayName": "Carlo Gattuso Garrido",
      "photoUrl": "https://lh3.googleusercontent.com/a/default-user=s64",
      "userId": "13655340809366528364"
     },
     "user_tz": -60
    },
    "id": "igFmas_NTwz3"
   },
   "outputs": [],
   "source": [
    "def get_location(arr, loc):\n",
    "    return np.where((arr[:,0] == loc[0])&(arr[:,1] == loc[1]))[0][0]"
   ]
  },
  {
   "cell_type": "code",
   "execution_count": 23,
   "id": "dd3a4bc6",
   "metadata": {
    "executionInfo": {
     "elapsed": 25,
     "status": "ok",
     "timestamp": 1639595128930,
     "user": {
      "displayName": "Carlo Gattuso Garrido",
      "photoUrl": "https://lh3.googleusercontent.com/a/default-user=s64",
      "userId": "13655340809366528364"
     },
     "user_tz": -60
    },
    "id": "JA0MQatY0A2k"
   },
   "outputs": [],
   "source": [
    "def split_df(row):\n",
    "    '''\n",
    "    Special distances correction\n",
    "      '''\n",
    "    aux = df.loc[(df['x'] == row[0]) & (df['y'] == row[1])]\n",
    "    aux = aux[ap_mac].values\n",
    "    aux = aux.T\n",
    "\n",
    "    return aux"
   ]
  },
  {
   "cell_type": "code",
   "execution_count": 24,
   "id": "c6ac6094",
   "metadata": {
    "executionInfo": {
     "elapsed": 23,
     "status": "ok",
     "timestamp": 1639595128931,
     "user": {
      "displayName": "Carlo Gattuso Garrido",
      "photoUrl": "https://lh3.googleusercontent.com/a/default-user=s64",
      "userId": "13655340809366528364"
     },
     "user_tz": -60
    },
    "id": "UEXEZ4Ww3XIA"
   },
   "outputs": [],
   "source": [
    "def mean_confidence_interval(data, confidence=0.95):\n",
    "    \n",
    "    \"\"\"\n",
    "    Clear nan values\n",
    "    \"\"\"\n",
    "    idx = np.argwhere(np.isnan(data)).T[0]\n",
    "    data = np.delete(data, idx, 0)\n",
    "\n",
    "    a = 1.0 * np.array(data)\n",
    "    n = len(a)\n",
    "    m, se = np.nanmean(a), scipy.stats.sem(a, nan_policy='omit')\n",
    "\n",
    "    \"\"\"\n",
    "    Check nan\n",
    "    \"\"\"\n",
    "    if n > 1:\n",
    "        h = se * scipy.stats.t.ppf((1 + confidence) / 2., n-1)\n",
    "    else:\n",
    "        h = 0\n",
    "        \n",
    "    return m, (m-h), (m+h)"
   ]
  },
  {
   "cell_type": "code",
   "execution_count": 25,
   "id": "d9f82865",
   "metadata": {
    "executionInfo": {
     "elapsed": 21,
     "status": "ok",
     "timestamp": 1639595128931,
     "user": {
      "displayName": "Carlo Gattuso Garrido",
      "photoUrl": "https://lh3.googleusercontent.com/a/default-user=s64",
      "userId": "13655340809366528364"
     },
     "user_tz": -60
    },
    "id": "1ZmhrhFM4bfj"
   },
   "outputs": [],
   "source": [
    "def vec_mean(vec, fac):\n",
    "             \n",
    "    \"\"\"\n",
    "    Vector length\n",
    "    \"\"\"\n",
    "    l = int(floor(len(vec)/fac))\n",
    "\n",
    "    \"\"\"\n",
    "    Vector reshaping\n",
    "    \"\"\"\n",
    "    vec = vec[:l*fac].reshape(l,fac)\n",
    "\n",
    "    return np.nanmean(vec, axis=1)"
   ]
  },
  {
   "cell_type": "code",
   "execution_count": 26,
   "id": "30f80c83",
   "metadata": {
    "executionInfo": {
     "elapsed": 20,
     "status": "ok",
     "timestamp": 1639595128932,
     "user": {
      "displayName": "Carlo Gattuso Garrido",
      "photoUrl": "https://lh3.googleusercontent.com/a/default-user=s64",
      "userId": "13655340809366528364"
     },
     "user_tz": -60
    },
    "id": "2LnHO4l-ZghO"
   },
   "outputs": [],
   "source": [
    "def compute_euclidean_distance(array):\n",
    "    \n",
    "    n = array.shape[0]\n",
    "\n",
    "    d_mat = [np.linalg.norm(i - j) for (i,j) in itertools.product(array, array)]\n",
    "    d_mat = np.array(d_mat).reshape((n, n), order='F')\n",
    "\n",
    "    return d_mat"
   ]
  },
  {
   "cell_type": "code",
   "execution_count": 27,
   "id": "21d709b4",
   "metadata": {
    "executionInfo": {
     "elapsed": 18,
     "status": "ok",
     "timestamp": 1639595128933,
     "user": {
      "displayName": "Carlo Gattuso Garrido",
      "photoUrl": "https://lh3.googleusercontent.com/a/default-user=s64",
      "userId": "13655340809366528364"
     },
     "user_tz": -60
    },
    "id": "RgAPIgZNVhsI"
   },
   "outputs": [],
   "source": [
    "def mean_squared_error(arr, ax=0):\n",
    "    return np.sqrt(np.nanmean(np.square(arr), ax))"
   ]
  },
  {
   "cell_type": "code",
   "execution_count": 28,
   "id": "af9fde5c",
   "metadata": {
    "executionInfo": {
     "elapsed": 16,
     "status": "ok",
     "timestamp": 1639595128933,
     "user": {
      "displayName": "Carlo Gattuso Garrido",
      "photoUrl": "https://lh3.googleusercontent.com/a/default-user=s64",
      "userId": "13655340809366528364"
     },
     "user_tz": -60
    },
    "id": "2Uqw4tAWGv2o"
   },
   "outputs": [],
   "source": [
    "def get_window_mean(obs, n):\n",
    "    \n",
    "    \"\"\"\n",
    "    Length of the observation vector\n",
    "    \"\"\"\n",
    "    l = len(obs)\n",
    "\n",
    "    \"\"\"\n",
    "    Circular saving\n",
    "    \"\"\"\n",
    "    aux = np.insert(obs, 0, obs)\n",
    "\n",
    "    return pd.DataFrame(aux)[0].rolling(n, min_periods=1).mean()[l:]"
   ]
  },
  {
   "cell_type": "code",
   "execution_count": 29,
   "id": "46e87bfb",
   "metadata": {},
   "outputs": [],
   "source": [
    "\"\"\"\n",
    "Random Averaging Window\n",
    "\n",
    "obs: input vector\n",
    "s: size of the output vector\n",
    "n: size of averaging samples\n",
    "\"\"\"\n",
    "def get_rand_avg_vec(obs,s,n):\n",
    "    return np.array([np.nanmean(np.random.choice(obs, size=n)) for i in range(s)])"
   ]
  },
  {
   "cell_type": "markdown",
   "id": "07c9db7a",
   "metadata": {
    "id": "fBgf1HzaTlmg"
   },
   "source": [
    "# Dataset Reading"
   ]
  },
  {
   "cell_type": "code",
   "execution_count": 30,
   "id": "4fa747ad",
   "metadata": {
    "colab": {
     "base_uri": "https://localhost:8080/",
     "height": 0
    },
    "executionInfo": {
     "elapsed": 835,
     "status": "ok",
     "timestamp": 1639595129753,
     "user": {
      "displayName": "Carlo Gattuso Garrido",
      "photoUrl": "https://lh3.googleusercontent.com/a/default-user=s64",
      "userId": "13655340809366528364"
     },
     "user_tz": -60
    },
    "id": "0KNwADj4ZghJ",
    "outputId": "08ef29ca-a137-44e2-d994-5dc05321709f"
   },
   "outputs": [
    {
     "data": {
      "text/html": [
       "<div>\n",
       "<style scoped>\n",
       "    .dataframe tbody tr th:only-of-type {\n",
       "        vertical-align: middle;\n",
       "    }\n",
       "\n",
       "    .dataframe tbody tr th {\n",
       "        vertical-align: top;\n",
       "    }\n",
       "\n",
       "    .dataframe thead th {\n",
       "        text-align: right;\n",
       "    }\n",
       "</style>\n",
       "<table border=\"1\" class=\"dataframe\">\n",
       "  <thead>\n",
       "    <tr style=\"text-align: right;\">\n",
       "      <th></th>\n",
       "      <th>batch</th>\n",
       "      <th>x</th>\n",
       "      <th>y</th>\n",
       "      <th>z</th>\n",
       "      <th>brand</th>\n",
       "      <th>model</th>\n",
       "      <th>angle</th>\n",
       "      <th>sampleNumber</th>\n",
       "      <th>30:23:03:87:17:80#1</th>\n",
       "      <th>30:23:03:87:17:81#1</th>\n",
       "      <th>...</th>\n",
       "      <th>30:23:03:87:19:6c#1</th>\n",
       "      <th>30:23:03:87:19:6d#1</th>\n",
       "      <th>30:23:03:87:19:6e#1</th>\n",
       "      <th>36:23:03:87:17:80#1</th>\n",
       "      <th>36:23:03:87:17:98#1</th>\n",
       "      <th>36:23:03:87:19:6c#1</th>\n",
       "      <th>58:cb:52:d7:b4:d9#1</th>\n",
       "      <th>58:cb:52:d7:b5:31#1</th>\n",
       "      <th>58:cb:52:d7:b5:5d#1</th>\n",
       "      <th>58:cb:52:d7:bb:61#1</th>\n",
       "    </tr>\n",
       "  </thead>\n",
       "  <tbody>\n",
       "    <tr>\n",
       "      <th>0</th>\n",
       "      <td>00ecbbfc674d9acb63628124675dca47</td>\n",
       "      <td>2.0</td>\n",
       "      <td>0.0</td>\n",
       "      <td>0.0</td>\n",
       "      <td>google</td>\n",
       "      <td>Pixel 3a</td>\n",
       "      <td>0.0</td>\n",
       "      <td>0</td>\n",
       "      <td>20.932</td>\n",
       "      <td>7.352</td>\n",
       "      <td>...</td>\n",
       "      <td>25.707</td>\n",
       "      <td>9.154</td>\n",
       "      <td>8.529</td>\n",
       "      <td>NaN</td>\n",
       "      <td>33.241</td>\n",
       "      <td>NaN</td>\n",
       "      <td>17.664</td>\n",
       "      <td>4.720</td>\n",
       "      <td>-0.504</td>\n",
       "      <td>16.417</td>\n",
       "    </tr>\n",
       "    <tr>\n",
       "      <th>1</th>\n",
       "      <td>00ecbbfc674d9acb63628124675dca47</td>\n",
       "      <td>2.0</td>\n",
       "      <td>0.0</td>\n",
       "      <td>0.0</td>\n",
       "      <td>google</td>\n",
       "      <td>Pixel 3a</td>\n",
       "      <td>0.0</td>\n",
       "      <td>1</td>\n",
       "      <td>19.757</td>\n",
       "      <td>7.469</td>\n",
       "      <td>...</td>\n",
       "      <td>25.620</td>\n",
       "      <td>8.669</td>\n",
       "      <td>8.602</td>\n",
       "      <td>NaN</td>\n",
       "      <td>NaN</td>\n",
       "      <td>NaN</td>\n",
       "      <td>17.976</td>\n",
       "      <td>4.183</td>\n",
       "      <td>-0.348</td>\n",
       "      <td>16.614</td>\n",
       "    </tr>\n",
       "    <tr>\n",
       "      <th>2</th>\n",
       "      <td>00ecbbfc674d9acb63628124675dca47</td>\n",
       "      <td>2.0</td>\n",
       "      <td>0.0</td>\n",
       "      <td>0.0</td>\n",
       "      <td>google</td>\n",
       "      <td>Pixel 3a</td>\n",
       "      <td>0.0</td>\n",
       "      <td>2</td>\n",
       "      <td>18.669</td>\n",
       "      <td>7.041</td>\n",
       "      <td>...</td>\n",
       "      <td>25.232</td>\n",
       "      <td>8.913</td>\n",
       "      <td>8.734</td>\n",
       "      <td>NaN</td>\n",
       "      <td>NaN</td>\n",
       "      <td>NaN</td>\n",
       "      <td>18.248</td>\n",
       "      <td>3.533</td>\n",
       "      <td>-0.110</td>\n",
       "      <td>16.854</td>\n",
       "    </tr>\n",
       "    <tr>\n",
       "      <th>3</th>\n",
       "      <td>00ecbbfc674d9acb63628124675dca47</td>\n",
       "      <td>2.0</td>\n",
       "      <td>0.0</td>\n",
       "      <td>0.0</td>\n",
       "      <td>google</td>\n",
       "      <td>Pixel 3a</td>\n",
       "      <td>0.0</td>\n",
       "      <td>3</td>\n",
       "      <td>19.770</td>\n",
       "      <td>6.913</td>\n",
       "      <td>...</td>\n",
       "      <td>NaN</td>\n",
       "      <td>9.026</td>\n",
       "      <td>8.705</td>\n",
       "      <td>NaN</td>\n",
       "      <td>NaN</td>\n",
       "      <td>NaN</td>\n",
       "      <td>17.664</td>\n",
       "      <td>3.421</td>\n",
       "      <td>-0.123</td>\n",
       "      <td>16.651</td>\n",
       "    </tr>\n",
       "    <tr>\n",
       "      <th>4</th>\n",
       "      <td>00ecbbfc674d9acb63628124675dca47</td>\n",
       "      <td>2.0</td>\n",
       "      <td>0.0</td>\n",
       "      <td>0.0</td>\n",
       "      <td>google</td>\n",
       "      <td>Pixel 3a</td>\n",
       "      <td>0.0</td>\n",
       "      <td>4</td>\n",
       "      <td>20.232</td>\n",
       "      <td>7.273</td>\n",
       "      <td>...</td>\n",
       "      <td>26.088</td>\n",
       "      <td>8.829</td>\n",
       "      <td>8.646</td>\n",
       "      <td>NaN</td>\n",
       "      <td>NaN</td>\n",
       "      <td>NaN</td>\n",
       "      <td>18.086</td>\n",
       "      <td>3.390</td>\n",
       "      <td>-0.191</td>\n",
       "      <td>16.692</td>\n",
       "    </tr>\n",
       "  </tbody>\n",
       "</table>\n",
       "<p>5 rows × 24 columns</p>\n",
       "</div>"
      ],
      "text/plain": [
       "                              batch    x    y    z   brand     model  angle  \\\n",
       "0  00ecbbfc674d9acb63628124675dca47  2.0  0.0  0.0  google  Pixel 3a    0.0   \n",
       "1  00ecbbfc674d9acb63628124675dca47  2.0  0.0  0.0  google  Pixel 3a    0.0   \n",
       "2  00ecbbfc674d9acb63628124675dca47  2.0  0.0  0.0  google  Pixel 3a    0.0   \n",
       "3  00ecbbfc674d9acb63628124675dca47  2.0  0.0  0.0  google  Pixel 3a    0.0   \n",
       "4  00ecbbfc674d9acb63628124675dca47  2.0  0.0  0.0  google  Pixel 3a    0.0   \n",
       "\n",
       "   sampleNumber  30:23:03:87:17:80#1  30:23:03:87:17:81#1  ...  \\\n",
       "0             0               20.932                7.352  ...   \n",
       "1             1               19.757                7.469  ...   \n",
       "2             2               18.669                7.041  ...   \n",
       "3             3               19.770                6.913  ...   \n",
       "4             4               20.232                7.273  ...   \n",
       "\n",
       "   30:23:03:87:19:6c#1  30:23:03:87:19:6d#1  30:23:03:87:19:6e#1  \\\n",
       "0               25.707                9.154                8.529   \n",
       "1               25.620                8.669                8.602   \n",
       "2               25.232                8.913                8.734   \n",
       "3                  NaN                9.026                8.705   \n",
       "4               26.088                8.829                8.646   \n",
       "\n",
       "   36:23:03:87:17:80#1  36:23:03:87:17:98#1  36:23:03:87:19:6c#1  \\\n",
       "0                  NaN               33.241                  NaN   \n",
       "1                  NaN                  NaN                  NaN   \n",
       "2                  NaN                  NaN                  NaN   \n",
       "3                  NaN                  NaN                  NaN   \n",
       "4                  NaN                  NaN                  NaN   \n",
       "\n",
       "   58:cb:52:d7:b4:d9#1  58:cb:52:d7:b5:31#1  58:cb:52:d7:b5:5d#1  \\\n",
       "0               17.664                4.720               -0.504   \n",
       "1               17.976                4.183               -0.348   \n",
       "2               18.248                3.533               -0.110   \n",
       "3               17.664                3.421               -0.123   \n",
       "4               18.086                3.390               -0.191   \n",
       "\n",
       "   58:cb:52:d7:bb:61#1  \n",
       "0               16.417  \n",
       "1               16.614  \n",
       "2               16.854  \n",
       "3               16.651  \n",
       "4               16.692  \n",
       "\n",
       "[5 rows x 24 columns]"
      ]
     },
     "execution_count": 30,
     "metadata": {},
     "output_type": "execute_result"
    }
   ],
   "source": [
    "\"\"\"\n",
    "File reading\n",
    "\"\"\"\n",
    "df = pd.read_csv('../../../data/dataset_sala_actos_pixel.csv', sep = \",\", index_col=False, encoding='latin-1')\n",
    "df = df.replace(to_replace = -100, value = np.nan)\n",
    "df.head()"
   ]
  },
  {
   "cell_type": "markdown",
   "id": "aa09ec87",
   "metadata": {
    "id": "K3NtyLh-pI_n"
   },
   "source": [
    "# Radio-map definition"
   ]
  },
  {
   "cell_type": "code",
   "execution_count": 31,
   "id": "43d826b1",
   "metadata": {
    "cellView": "form",
    "colab": {
     "base_uri": "https://localhost:8080/",
     "height": 0
    },
    "executionInfo": {
     "elapsed": 1749,
     "status": "ok",
     "timestamp": 1639595131485,
     "user": {
      "displayName": "Carlo Gattuso Garrido",
      "photoUrl": "https://lh3.googleusercontent.com/a/default-user=s64",
      "userId": "13655340809366528364"
     },
     "user_tz": -60
    },
    "id": "brnLVQPilNlZ",
    "outputId": "ec470421-14ab-431d-b4a5-e3347c62dbf8"
   },
   "outputs": [
    {
     "data": {
      "image/png": "[encoded data removed]",
      "text/plain": [
       "<Figure size 540x540 with 1 Axes>"
      ]
     },
     "metadata": {
      "needs_background": "light"
     },
     "output_type": "display_data"
    }
   ],
   "source": [
    "width =  8\n",
    "height = 19.2\n",
    "\n",
    "granularity_x = 2\n",
    "granularity_y = 4.8\n",
    "\n",
    "points_x = int(width/float(granularity_x) +1)\n",
    "points_y = int(height/float(granularity_y) +1)\n",
    "\n",
    "n_points = points_x * points_y\n",
    "\n",
    "\"\"\"\n",
    "Locations grid\n",
    "\"\"\"\n",
    "locations = np.array(np.meshgrid(np.linspace(0, height, points_y).round(2), np.linspace(0, width, points_x).round(2))).T.reshape(-1,2)\n",
    "locations[:, [1, 0]] = locations[:, [0, 1]]\n",
    "\n",
    "\"\"\"\n",
    "Plot coordinates\n",
    "\"\"\"\n",
    "coordinates = np.array(np.meshgrid(np.linspace(0, points_y - 1, points_y), np.linspace(0, points_x - 1, points_x))).T.reshape(-1,2)\n",
    "coordinates[:, [1, 0]] = coordinates[:, [0, 1]]\n",
    "\n",
    "plt.figure(figsize=(points_x*1.5, points_y*1.5))\n",
    "\n",
    "plt.scatter(coordinates[:,0], coordinates[:,1], c='y')\n",
    "\n",
    "plt.legend(labels=['Location'],loc=\"upper right\",borderaxespad=-5)\n",
    "plt.title('Radio-map',pad=20)\n",
    "plt.axis('off')\n",
    "\n",
    "for x,y,z in zip(coordinates[:,0],coordinates[:,1], np.linspace(0, n_points - 1, n_points).astype(int)):\n",
    "    label = f\"({locations[z,0]},{locations[z,1]})\"\n",
    "\n",
    "    plt.annotate(label, # this is the text\n",
    "                 (x,y), # this is the point to label\n",
    "                 textcoords=\"offset points\", # how to position the text\n",
    "                 xytext=(0,-20), # distance from text to points (x,y)\n",
    "                 ha='center') # horizontal alignment can be left, right or center\n",
    "\n",
    "    label = f\"{z}\"\n",
    "\n",
    "    plt.annotate(label, # this is the text\n",
    "                  (x,y), # this is the point to label\n",
    "                  textcoords=\"offset points\", # how to position the text\n",
    "                  xytext=(0,-40), # distance from text to points (x,y)\n",
    "                  ha='center',\n",
    "                  weight='bold') # horizontal alignment can be left, right or center"
   ]
  },
  {
   "cell_type": "markdown",
   "id": "ffa01ef7",
   "metadata": {
    "id": "BgLql95AvARj"
   },
   "source": [
    "# AP definition"
   ]
  },
  {
   "cell_type": "markdown",
   "id": "f99d8627",
   "metadata": {
    "id": "dDQp4i1CpI_z"
   },
   "source": [
    "## AP class\n",
    "\n",
    "### Handles the required parameters for each AP\n",
    "\n",
    "#### Parameters:\n",
    "\n",
    "*   name (string)\n",
    "*   x (number)\n",
    "*   y (number)\n",
    "*   point (number)\n",
    "*   mac (string)"
   ]
  },
  {
   "cell_type": "code",
   "execution_count": 32,
   "id": "e403e081",
   "metadata": {
    "executionInfo": {
     "elapsed": 20,
     "status": "ok",
     "timestamp": 1639595131486,
     "user": {
      "displayName": "Carlo Gattuso Garrido",
      "photoUrl": "https://lh3.googleusercontent.com/a/default-user=s64",
      "userId": "13655340809366528364"
     },
     "user_tz": -60
    },
    "id": "gFAZXEVQpI_z"
   },
   "outputs": [],
   "source": [
    "class AP:\n",
    "    '''\n",
    " \n",
    "    '''\n",
    "    def __init__(self, _name, _x, _y, _mac):\n",
    "        self.name = _name\n",
    "        self.x = _x\n",
    "        self.y = _y\n",
    "        self.mac = _mac\n",
    "        self.point = get_location(locations, [_x, _y])"
   ]
  },
  {
   "cell_type": "markdown",
   "id": "049ff110",
   "metadata": {
    "id": "a8SH_0K8pI_0"
   },
   "source": [
    "## Create APs"
   ]
  },
  {
   "cell_type": "code",
   "execution_count": 33,
   "id": "02f981da",
   "metadata": {
    "executionInfo": {
     "elapsed": 18,
     "status": "ok",
     "timestamp": 1639595131488,
     "user": {
      "displayName": "Carlo Gattuso Garrido",
      "photoUrl": "https://lh3.googleusercontent.com/a/default-user=s64",
      "userId": "13655340809366528364"
     },
     "user_tz": -60
    },
    "id": "eFeMrEo3pI_0"
   },
   "outputs": [],
   "source": [
    "\"\"\"\n",
    "Selected APs for the experiment\n",
    "\"\"\"\n",
    "\n",
    "ap_list = []\n",
    "\n",
    "ap_list.append(AP('Google White', 0, 19.2, '58:cb:52:d7:bb:61#1'))\n",
    "\n",
    "ap_list.append(AP('Google Blue', 0, 0, '58:cb:52:d7:b5:5d#1'))\n",
    "\n",
    "ap_list.append(AP('Google Green', 8, 0, '58:cb:52:d7:b5:31#1'))\n",
    "\n",
    "ap_list.append(AP('Linksys 2', 0, 9.6, '30:23:03:87:17:81#1'))\n",
    "\n",
    "ap_list.append(AP('Google Red', 8, 19.2, '58:cb:52:d7:b4:d9#1'))\n",
    "\n",
    "#ap_list.append(AP('Linksys 3', 4, 19.2, '30:23:03:87:17:99#1'))\n",
    "\n",
    "#ap_list.append(AP('Linksys 4', 8, 9.6, '30:23:03:87:19:6d#1'))"
   ]
  },
  {
   "cell_type": "markdown",
   "id": "aae3328b",
   "metadata": {},
   "source": [
    "## AP info"
   ]
  },
  {
   "cell_type": "code",
   "execution_count": 34,
   "id": "130d9b4c",
   "metadata": {
    "cellView": "form",
    "colab": {
     "base_uri": "https://localhost:8080/",
     "height": 0
    },
    "executionInfo": {
     "elapsed": 18,
     "status": "ok",
     "timestamp": 1639595131489,
     "user": {
      "displayName": "Carlo Gattuso Garrido",
      "photoUrl": "https://lh3.googleusercontent.com/a/default-user=s64",
      "userId": "13655340809366528364"
     },
     "user_tz": -60
    },
    "id": "76keG6UzpI_0",
    "outputId": "eb9347e7-86d2-4343-de97-e8743c1caa69"
   },
   "outputs": [
    {
     "data": {
      "text/html": [
       "<div>\n",
       "<style scoped>\n",
       "    .dataframe tbody tr th:only-of-type {\n",
       "        vertical-align: middle;\n",
       "    }\n",
       "\n",
       "    .dataframe tbody tr th {\n",
       "        vertical-align: top;\n",
       "    }\n",
       "\n",
       "    .dataframe thead th {\n",
       "        text-align: right;\n",
       "    }\n",
       "</style>\n",
       "<table border=\"1\" class=\"dataframe\">\n",
       "  <thead>\n",
       "    <tr style=\"text-align: right;\">\n",
       "      <th></th>\n",
       "      <th>Name</th>\n",
       "      <th>X</th>\n",
       "      <th>Y</th>\n",
       "      <th>Point</th>\n",
       "      <th>MAC</th>\n",
       "    </tr>\n",
       "  </thead>\n",
       "  <tbody>\n",
       "    <tr>\n",
       "      <th>0</th>\n",
       "      <td>Google Blue</td>\n",
       "      <td>0</td>\n",
       "      <td>0</td>\n",
       "      <td>0</td>\n",
       "      <td>58:cb:52:d7:b5:5d#1</td>\n",
       "    </tr>\n",
       "    <tr>\n",
       "      <th>1</th>\n",
       "      <td>Google Green</td>\n",
       "      <td>8</td>\n",
       "      <td>0</td>\n",
       "      <td>4</td>\n",
       "      <td>58:cb:52:d7:b5:31#1</td>\n",
       "    </tr>\n",
       "    <tr>\n",
       "      <th>2</th>\n",
       "      <td>Linksys 2</td>\n",
       "      <td>0</td>\n",
       "      <td>9.6</td>\n",
       "      <td>10</td>\n",
       "      <td>30:23:03:87:17:81#1</td>\n",
       "    </tr>\n",
       "    <tr>\n",
       "      <th>3</th>\n",
       "      <td>Google White</td>\n",
       "      <td>0</td>\n",
       "      <td>19.2</td>\n",
       "      <td>20</td>\n",
       "      <td>58:cb:52:d7:bb:61#1</td>\n",
       "    </tr>\n",
       "    <tr>\n",
       "      <th>4</th>\n",
       "      <td>Google Red</td>\n",
       "      <td>8</td>\n",
       "      <td>19.2</td>\n",
       "      <td>24</td>\n",
       "      <td>58:cb:52:d7:b4:d9#1</td>\n",
       "    </tr>\n",
       "  </tbody>\n",
       "</table>\n",
       "</div>"
      ],
      "text/plain": [
       "           Name  X     Y Point                  MAC\n",
       "0   Google Blue  0     0     0  58:cb:52:d7:b5:5d#1\n",
       "1  Google Green  8     0     4  58:cb:52:d7:b5:31#1\n",
       "2     Linksys 2  0   9.6    10  30:23:03:87:17:81#1\n",
       "3  Google White  0  19.2    20  58:cb:52:d7:bb:61#1\n",
       "4    Google Red  8  19.2    24  58:cb:52:d7:b4:d9#1"
      ]
     },
     "execution_count": 34,
     "metadata": {},
     "output_type": "execute_result"
    }
   ],
   "source": [
    "ap_labels = {}\n",
    "ap_indexes = {}\n",
    "ap_mac = []\n",
    "\n",
    "ap_info = pd.DataFrame(columns = ['Name', 'X', 'Y', 'Point', 'MAC'])\n",
    "\n",
    "\"\"\"\n",
    "Sorting AP list\n",
    "\"\"\"\n",
    "ap_list.sort(key=lambda x: x.point)\n",
    "\n",
    "points = []\n",
    "for (i) in range(len(ap_list)):\n",
    "\n",
    "  points.append(ap_list[i].point)\n",
    "\n",
    "  ap_labels[i]=ap_list[i].name\n",
    "  ap_indexes[str(ap_list[i].name)]=i\n",
    "  ap_mac.append(ap_list[i].mac)\n",
    "\n",
    "  ap_info = ap_info.append(\n",
    "                  {'Name': ap_list[i].name, \n",
    "                   'X': ap_list[i].x, \n",
    "                   'Y': ap_list[i].y, \n",
    "                   'Point': ap_list[i].point, \n",
    "                   'MAC': ap_list[i].mac}, ignore_index=True)\n",
    "\n",
    "ap_info"
   ]
  },
  {
   "cell_type": "markdown",
   "id": "c5e1f4d9",
   "metadata": {
    "id": "C4K6hzo8pI_0"
   },
   "source": [
    "# Final Scenario "
   ]
  },
  {
   "cell_type": "code",
   "execution_count": 35,
   "id": "ad001da7",
   "metadata": {
    "executionInfo": {
     "elapsed": 18,
     "status": "ok",
     "timestamp": 1639595131491,
     "user": {
      "displayName": "Carlo Gattuso Garrido",
      "photoUrl": "https://lh3.googleusercontent.com/a/default-user=s64",
      "userId": "13655340809366528364"
     },
     "user_tz": -60
    },
    "id": "ngh6tCUnpI_0"
   },
   "outputs": [],
   "source": [
    "\"\"\"\n",
    "AP locations\n",
    "\"\"\"\n",
    "L_ap = locations[points,:]\n",
    "\n",
    "\"\"\"\n",
    "VRP locations\n",
    "\"\"\"\n",
    "L_vrp = np.delete(locations, points, 0)\n",
    "\n",
    "n_ap = len(ap_list)\n",
    "n_vrp = n_points - n_ap\n",
    "\n",
    "\"\"\"\n",
    "Locations split\n",
    "\"\"\"\n",
    "coordinates_ap = coordinates[points,:]\n",
    "coordinates_vrp = np.delete(coordinates, points, 0)"
   ]
  },
  {
   "cell_type": "markdown",
   "id": "acb836b9",
   "metadata": {},
   "source": [
    "## Scenario Plot"
   ]
  },
  {
   "cell_type": "code",
   "execution_count": 36,
   "id": "06a9aebe",
   "metadata": {
    "cellView": "form",
    "colab": {
     "base_uri": "https://localhost:8080/",
     "height": 0
    },
    "executionInfo": {
     "elapsed": 461,
     "status": "ok",
     "timestamp": 1639595131936,
     "user": {
      "displayName": "Carlo Gattuso Garrido",
      "photoUrl": "https://lh3.googleusercontent.com/a/default-user=s64",
      "userId": "13655340809366528364"
     },
     "user_tz": -60
    },
    "id": "nGK9-S2bpI_0",
    "outputId": "7091a0b3-21b2-4f89-c183-7938b9b9924d"
   },
   "outputs": [
    {
     "data": {
      "image/png": "[encoded data removed]",
      "text/plain": [
       "<Figure size 540x540 with 1 Axes>"
      ]
     },
     "metadata": {
      "needs_background": "light"
     },
     "output_type": "display_data"
    }
   ],
   "source": [
    "plt.figure(figsize=(points_x*1.5, points_y*1.5))\n",
    "\n",
    "plt.scatter(coordinates_ap[:,0], coordinates_ap[:,1], c='b')\n",
    "plt.scatter(coordinates_vrp[:,0], coordinates_vrp[:,1], c='r')\n",
    "\n",
    "plt.legend(labels=['AP','VRP'],loc=\"upper right\",borderaxespad=-5)\n",
    "plt.title('Radio-Map',pad=20)\n",
    "plt.axis('off')\n",
    "\n",
    "for x,y,z in zip(coordinates[:,0],coordinates[:,1], np.linspace(0, n_points - 1, n_points).astype(int)):\n",
    "    label = f\"({locations[z,0]},{locations[z,1]})\"\n",
    "\n",
    "    plt.annotate(label, # this is the text\n",
    "                 (x,y), # this is the point to label\n",
    "                 textcoords=\"offset points\", # how to position the text\n",
    "                 xytext=(0,-20), # distance from text to points (x,y)\n",
    "                 ha='center') # horizontal alignment can be left, right or center\n",
    "\n",
    "    label = f\"{z}\"\n",
    "\n",
    "    plt.annotate(label, # this is the text\n",
    "                  (x,y), # this is the point to label\n",
    "                  textcoords=\"offset points\", # how to position the text\n",
    "                  xytext=(0,-40), # distance from text to points (x,y)\n",
    "                  ha='center',\n",
    "                  weight='bold') # horizontal alignment can be left, right or center\n",
    "\n",
    "for x,y,z in zip(coordinates_ap[:,0],coordinates_ap[:,1], np.linspace(0, n_ap - 1, n_ap).astype(int)):\n",
    "    label = f\"{ap_labels[z]}\"\n",
    "\n",
    "    plt.annotate(label, # this is the text\n",
    "                 (x,y), # this is the point to label\n",
    "                 textcoords=\"offset points\", # how to position the text\n",
    "                 xytext=(0,10), # distance from text to points (x,y)\n",
    "                 ha='center', # horizontal alignment can be left, right or center\n",
    "                 weight='bold')"
   ]
  },
  {
   "cell_type": "markdown",
   "id": "022bb6bb",
   "metadata": {
    "id": "SPwShUwEj5Nf"
   },
   "source": [
    "# Dataset Processing"
   ]
  },
  {
   "cell_type": "code",
   "execution_count": 37,
   "id": "34416d3f",
   "metadata": {
    "executionInfo": {
     "elapsed": 368,
     "status": "ok",
     "timestamp": 1639595782666,
     "user": {
      "displayName": "Carlo Gattuso Garrido",
      "photoUrl": "https://lh3.googleusercontent.com/a/default-user=s64",
      "userId": "13655340809366528364"
     },
     "user_tz": -60
    },
    "id": "O3au2qfETNjH"
   },
   "outputs": [],
   "source": [
    "\"\"\"\n",
    "Dataset split\n",
    "\n",
    "    - L_ap --> Training locations\n",
    "    - ap_obs --> RTT Distance Observations between APs\n",
    "    - L_test --> Test locations\n",
    "    - vrp_test --> VRP distance measurements\n",
    "\n",
    "We are getting data from dataset, splitting AP and VRP samples\n",
    "\n",
    "ap_tr(target AP, reference AP, sample)\n",
    "vrp_test(target VRP, reference AP, sample)\n",
    "\"\"\"\n",
    "\n",
    "\"\"\"\n",
    "Full dataset\n",
    "\"\"\"\n",
    "dataset = np.array([split_df(locations[i]) for (i) in np.linspace(0, n_points - 1, n_points).astype(int)]).round(2)\n",
    "\n",
    "\"\"\"\n",
    "Training data\n",
    "\"\"\"\n",
    "ap_tr = np.array([split_df(L_ap[i]) for (i) in np.linspace(0, n_ap - 1, n_ap).astype(int)]).round(2)\n",
    "n_tr = ap_tr.shape[2]\n",
    "\n",
    "\"\"\"\n",
    "Locations of test data\n",
    "\"\"\"\n",
    "locations_test = np.array(np.meshgrid(np.linspace(0, height, 5).round(2), np.linspace(0, width, 5).round(2))).T.reshape(-1,2)\n",
    "locations_test[:, [1, 0]] = locations_test[:, [0, 1]]\n",
    "\n",
    "\"\"\"\n",
    "Coordinates corresponding to test VRPs\n",
    "\"\"\"\n",
    "coordinates_test = np.array(np.meshgrid(np.linspace(0, 4, 5), np.linspace(0, 4, 5))).T.reshape(-1,2)\n",
    "coordinates_test[:, [1, 0]] = coordinates_test[:, [0, 1]]\n",
    "\n",
    "points_test = []\n",
    "for i in range(len(ap_list)):\n",
    "  points_test.append(get_location(locations_test, [ap_list[i].x, ap_list[i].y]))\n",
    "\n",
    "coordinates_test_ap = coordinates_test[points_test,:]\n",
    "coordinates_test_vrp = np.delete(coordinates_test, points_test, 0)\n",
    "\n",
    "\"\"\"\n",
    "Test locations corresponding to APs\n",
    "\"\"\"\n",
    "L_test = np.delete(locations_test, points_test, 0)\n",
    "n_test = L_test.shape[0]\n",
    "\n",
    "\"\"\"\n",
    "Test data\n",
    "\"\"\"\n",
    "vrp_test = np.array([split_df(L_test[i]) for (i) in range(L_test.shape[0])]).round(2)\n",
    "n_samples_test = vrp_test.shape[2]\n",
    "\n",
    "\"\"\"\n",
    "Euclidean distance computing\n",
    "\"\"\"\n",
    "d_euc = compute_euclidean_distance(locations_test)\n",
    "d_euc_ap = d_euc[points_test,:]"
   ]
  },
  {
   "cell_type": "markdown",
   "id": "d5bf4646",
   "metadata": {
    "id": "6QdinQbe2res"
   },
   "source": [
    "# Training Data Processing"
   ]
  },
  {
   "cell_type": "markdown",
   "id": "ffbca187",
   "metadata": {},
   "source": [
    "## Averaging of the training data"
   ]
  },
  {
   "cell_type": "markdown",
   "id": "88fc8821",
   "metadata": {},
   "source": [
    "### Data plot"
   ]
  },
  {
   "cell_type": "code",
   "execution_count": 38,
   "id": "5b66b841",
   "metadata": {
    "executionInfo": {
     "elapsed": 539,
     "status": "ok",
     "timestamp": 1639595785473,
     "user": {
      "displayName": "Carlo Gattuso Garrido",
      "photoUrl": "https://lh3.googleusercontent.com/a/default-user=s64",
      "userId": "13655340809366528364"
     },
     "user_tz": -60
    },
    "id": "om-tFq51xzkd",
    "scrolled": true
   },
   "outputs": [
    {
     "name": "stderr",
     "output_type": "stream",
     "text": [
      "/tmp/ipykernel_528361/658129243.py:9: RuntimeWarning: Mean of empty slice\n",
      "  return np.array([np.nanmean(np.random.choice(obs, size=n)) for i in range(s)])\n"
     ]
    }
   ],
   "source": [
    "\"\"\"\n",
    "Average random vector of observations\n",
    "\n",
    " - Observations vector: Training Data (ap_tr)\n",
    " - Window size: from 0 to n_factor\n",
    " - Experiment Iterations: size of the vector of ranging measurements\n",
    "\"\"\"\n",
    "\n",
    "n_factor = 50\n",
    "\n",
    "ap_obs = np.array([np.array([np.array([np.array([get_rand_avg_vec(ap_tr[j,i,:],n_tr,l)\n",
    "                                    for (i) in np.linspace(0, n_ap - 1, n_ap).astype(int)])\n",
    "                                    for (j) in np.linspace(0, n_ap - 1, n_ap).astype(int)])\n",
    "                                    for (k) in np.arange(1,n_tr+1).astype(int)])\n",
    "                                    for (l) in np.arange(1,n_factor+1).astype(int)])\n",
    "\n",
    "n_samples = ap_obs.shape[1]"
   ]
  },
  {
   "cell_type": "markdown",
   "id": "89c69bf6",
   "metadata": {
    "id": "SQvSbCAJwpZ4"
   },
   "source": [
    "# Polynomial Surface Fitting"
   ]
  },
  {
   "cell_type": "code",
   "execution_count": 39,
   "id": "455a8f81",
   "metadata": {
    "executionInfo": {
     "elapsed": 11,
     "status": "ok",
     "timestamp": 1639595785475,
     "user": {
      "displayName": "Carlo Gattuso Garrido",
      "photoUrl": "https://lh3.googleusercontent.com/a/default-user=s64",
      "userId": "13655340809366528364"
     },
     "user_tz": -60
    },
    "id": "594fW_VvZghT"
   },
   "outputs": [],
   "source": [
    "\"\"\"\n",
    "Polynomial Surface model fitting\n",
    "    \n",
    "    loc --> X,Y tuple array of AP locations\n",
    "    d --> AP RTT distance observations\n",
    "    order --> Polinomial order\n",
    "\"\"\"\n",
    "def surface_fit(loc, d, order=1):\n",
    "    '''\n",
    "    Clear nan values\n",
    "    '''\n",
    "    idx = np.argwhere(np.isnan(d)).T[0]\n",
    "    loc = np.delete(loc, idx, 0)\n",
    "    d = np.delete(d, idx)\n",
    "\n",
    "    '''\n",
    "    Computing polynomial surface coefficients\n",
    "    '''\n",
    "    if order == 1:\n",
    "        A = np.c_[loc[:,0], loc[:,1], np.ones(loc.shape[0])]\n",
    "        C,_,_,_ = scipy.linalg.lstsq(A, d)\n",
    "    else:\n",
    "        A = np.c_[np.ones(loc.shape[0]), loc[:,:2], np.prod(loc[:,:2], axis=1), loc[:,:2]**2]\n",
    "        C,_,_,_ = scipy.linalg.lstsq(A, d)\n",
    "    return C"
   ]
  },
  {
   "cell_type": "code",
   "execution_count": 40,
   "id": "0d28dd72",
   "metadata": {
    "executionInfo": {
     "elapsed": 13,
     "status": "ok",
     "timestamp": 1639595785477,
     "user": {
      "displayName": "Carlo Gattuso Garrido",
      "photoUrl": "https://lh3.googleusercontent.com/a/default-user=s64",
      "userId": "13655340809366528364"
     },
     "user_tz": -60
    },
    "id": "3g9D2342ZghT"
   },
   "outputs": [],
   "source": [
    "\"\"\"\n",
    "Mean RTT distance estimation\n",
    "    \n",
    "    x --> AP's x locations\n",
    "    y --> AP's y locations\n",
    "    C --> Model coefficients\n",
    "\"\"\"\n",
    "def sample_distance(x, y, C):\n",
    "    XX = x.flatten()\n",
    "    YY = y.flatten()\n",
    "    \n",
    "    if C.shape[0] == 3:\n",
    "        fit = np.dot(np.c_[XX, YY, np.ones(XX.shape)], C).reshape(x.shape)\n",
    "    else:\n",
    "        fit = np.dot(np.c_[np.ones(XX.shape), XX, YY, XX*YY, XX**2, YY**2], C).reshape(x.shape)\n",
    "    return fit"
   ]
  },
  {
   "cell_type": "markdown",
   "id": "c5c9df04",
   "metadata": {},
   "source": [
    "## Surface Fitting Models"
   ]
  },
  {
   "cell_type": "code",
   "execution_count": 41,
   "id": "a901368a",
   "metadata": {
    "executionInfo": {
     "elapsed": 2256,
     "status": "ok",
     "timestamp": 1639596507297,
     "user": {
      "displayName": "Carlo Gattuso Garrido",
      "photoUrl": "https://lh3.googleusercontent.com/a/default-user=s64",
      "userId": "13655340809366528364"
     },
     "user_tz": -60
    },
    "id": "DWosLZ1gZghT"
   },
   "outputs": [],
   "source": [
    "\"\"\"\n",
    "Plot domain\n",
    "\"\"\"\n",
    "X,Y = np.meshgrid(np.linspace(0, width, points_x).round(2), np.linspace(0, height, points_y).round(2))\n",
    "\n",
    "\"\"\"\n",
    "Models fitting and surface estimation\n",
    "\"\"\"\n",
    "\n",
    "models_1 = np.empty(n_factor, dtype=object)\n",
    "for k, obs in enumerate(ap_obs):\n",
    "  sp = obs.shape[3]\n",
    "  aux = np.array([np.array([np.array([surface_fit(L_ap, obs[k,:,j,i])\n",
    "                      for (i) in np.linspace(0, sp - 1, sp).astype(int)]) \n",
    "                      for (j) in np.linspace(0, n_ap - 1, n_ap).astype(int)])\n",
    "                      for (k) in np.linspace(0, n_samples -1, n_samples).astype(int)])\n",
    "  models_1[k] = aux\n",
    "\n",
    "models_2 = np.empty(n_factor, dtype=object)\n",
    "for k, obs in enumerate(ap_obs):\n",
    "  sp = obs.shape[3]\n",
    "  aux = np.array([np.array([np.array([surface_fit(L_ap, obs[k,:,j,i], 2)\n",
    "                      for (i) in np.linspace(0, sp - 1, sp).astype(int)]) \n",
    "                      for (j) in np.linspace(0, n_ap - 1, n_ap).astype(int)])\n",
    "                      for (k) in np.linspace(0, n_samples -1, n_samples).astype(int)])\n",
    "  models_2[k] = aux\n",
    "\n",
    "Z_1 = np.empty(n_factor, dtype=object)\n",
    "for k, coeff in enumerate(models_1):\n",
    "  sp = coeff.shape[2]\n",
    "  aux = np.array([np.array([np.array([sample_distance(X, Y, coeff[k,j,i,:]) \n",
    "                      for (i) in np.linspace(0, sp - 1, sp).astype(int)]) \n",
    "                      for (j) in np.linspace(0, n_ap - 1, n_ap).astype(int)])\n",
    "                      for (k) in np.linspace(0, n_samples -1, n_samples).astype(int)])\n",
    "  Z_1[k] = aux\n",
    "\n",
    "Z_2 = np.empty(n_factor, dtype=object)\n",
    "for k, coeff in enumerate(models_2):\n",
    "  sp = coeff.shape[2]\n",
    "  aux = np.array([np.array([np.array([sample_distance(X, Y, coeff[k,j,i,:]) \n",
    "                      for (i) in np.linspace(0, sp - 1, sp).astype(int)]) \n",
    "                      for (j) in np.linspace(0, n_ap - 1, n_ap).astype(int)])\n",
    "                      for (k) in np.linspace(0, n_samples -1, n_samples).astype(int)])\n",
    "  Z_2[k] = aux"
   ]
  },
  {
   "cell_type": "markdown",
   "id": "79e40534",
   "metadata": {
    "id": "7TxsAYnNWoEL"
   },
   "source": [
    "## Mean RTT Distance vectors"
   ]
  },
  {
   "cell_type": "code",
   "execution_count": 42,
   "id": "a47b19df",
   "metadata": {
    "executionInfo": {
     "elapsed": 13,
     "status": "ok",
     "timestamp": 1639595787659,
     "user": {
      "displayName": "Carlo Gattuso Garrido",
      "photoUrl": "https://lh3.googleusercontent.com/a/default-user=s64",
      "userId": "13655340809366528364"
     },
     "user_tz": -60
    },
    "id": "21ZADkuHZghV"
   },
   "outputs": [],
   "source": [
    "\"\"\"\n",
    "Mean RTT distance values at VRPs\n",
    "    _1 --> Order 1 surface fit\n",
    "    _2 --> Order 2 surface fit\n",
    "\"\"\"\n",
    "\n",
    "fit_1 = np.empty(n_factor, dtype=object)\n",
    "for k, estimation in enumerate(Z_1):\n",
    "  sp = estimation.shape[2]\n",
    "  aux = np.array([np.reshape(estimation[i], (n_ap, sp, n_points, 1)) \n",
    "                  for (i) in np.linspace(0, n_samples - 1, n_samples).astype(int)])\n",
    "  fit_1[k] = aux\n",
    "\n",
    "fit_2 = np.empty(n_factor, dtype=object)\n",
    "for k, estimation in enumerate(Z_2):\n",
    "  sp = estimation.shape[2]\n",
    "  aux = np.array([np.reshape(estimation[i], (n_ap, sp, n_points, 1))\n",
    "                  for (i) in np.linspace(0, n_samples - 1, n_samples).astype(int)])\n",
    "  fit_2[k] = aux\n",
    "\n",
    "\"\"\"\n",
    "Mean RTT observations between target AP and the rest\n",
    "\"\"\"\n",
    "\n",
    "m_ap_1 = np.empty(n_factor, dtype=object)\n",
    "for k, fit in enumerate(fit_1):\n",
    "  sp = fit.shape[2]\n",
    "  aux = np.array([np.array([fit[j][:, i, points, :] for (i) in np.linspace(0, sp - 1, sp).astype(int)])\n",
    "                                      for (j) in np.linspace(0, n_samples - 1, n_samples).astype(int)])\n",
    "  m_ap_1[k] = aux\n",
    "\n",
    "m_ap_2 = np.empty(n_factor, dtype=object)\n",
    "for k, fit in enumerate(fit_2):\n",
    "  sp = fit.shape[2]\n",
    "  aux = np.array([np.array([fit[j][:, i, points, :] for (i) in np.linspace(0, sp - 1, sp).astype(int)])\n",
    "                                      for (j) in np.linspace(0, n_samples - 1, n_samples).astype(int)])\n",
    "  m_ap_2[k] = aux\n",
    "\n",
    "\"\"\"\n",
    "Reference points vector\n",
    "\"\"\"\n",
    "vrp_pts = np.delete(np.linspace(0, n_points - 1, n_points).astype(int), points, 0)\n",
    "\n",
    "\"\"\"\n",
    "Mean RTT observations between target AP and VRPs\n",
    "\"\"\"\n",
    "\n",
    "m_vrp_1 = np.empty(n_factor, dtype=object)\n",
    "for k, fit in enumerate(fit_1):\n",
    "  sp = fit.shape[2]\n",
    "  aux = np.array([np.array([fit[j][:, i, vrp_pts, :] for (i) in np.linspace(0, sp - 1, sp).astype(int)])\n",
    "                                       for (j) in np.linspace(0, n_samples - 1, n_samples).astype(int)])\n",
    "  m_vrp_1[k] = aux\n",
    "\n",
    "m_vrp_2 = np.empty(n_factor, dtype=object)\n",
    "for k, fit in enumerate(fit_2):\n",
    "  sp = fit.shape[2]\n",
    "  aux = np.array([np.array([fit[j][:, i, vrp_pts, :] for (i) in np.linspace(0, sp - 1, sp).astype(int)])\n",
    "                                       for (j) in np.linspace(0, n_samples - 1, n_samples).astype(int)])\n",
    "  m_vrp_2[k] = aux"
   ]
  },
  {
   "cell_type": "markdown",
   "id": "1c327161",
   "metadata": {
    "id": "LEXo59pJbLaQ"
   },
   "source": [
    "# Gaussian Process Regression"
   ]
  },
  {
   "cell_type": "markdown",
   "id": "5dde7ecc",
   "metadata": {
    "id": "41XzYLgh3Y0b"
   },
   "source": [
    "## Kernel definition"
   ]
  },
  {
   "cell_type": "code",
   "execution_count": 43,
   "id": "de928d6f",
   "metadata": {
    "executionInfo": {
     "elapsed": 17,
     "status": "ok",
     "timestamp": 1639595790553,
     "user": {
      "displayName": "Carlo Gattuso Garrido",
      "photoUrl": "https://lh3.googleusercontent.com/a/default-user=s64",
      "userId": "13655340809366528364"
     },
     "user_tz": -60
    },
    "id": "QXhFUU39ZghW"
   },
   "outputs": [],
   "source": [
    "\"\"\"\n",
    "Gaussian Process Kernel definition\n",
    "\n",
    "Kernel parameters:\n",
    "    - L --> Length Scale\n",
    "    - sigma_f --> Constant Kernel Amplitude\n",
    "\"\"\"\n",
    "\n",
    "def kernel_function(x, y, sigma_f=1, l=1):\n",
    "\n",
    "    \"\"\" Squared Exponential kernel function \"\"\"\n",
    "    kernel = sigma_f * np.exp(- (np.linalg.norm(x - y)**2) / (2 * l**2))\n",
    "    return kernel"
   ]
  },
  {
   "cell_type": "markdown",
   "id": "cd2a6bd2",
   "metadata": {
    "id": "DTBndfBs3bpx"
   },
   "source": [
    "## Hyperparameter optimization"
   ]
  },
  {
   "cell_type": "code",
   "execution_count": 44,
   "id": "a96d6cdd",
   "metadata": {
    "executionInfo": {
     "elapsed": 20,
     "status": "ok",
     "timestamp": 1639595790558,
     "user": {
      "displayName": "Carlo Gattuso Garrido",
      "photoUrl": "https://lh3.googleusercontent.com/a/default-user=s64",
      "userId": "13655340809366528364"
     },
     "user_tz": -60
    },
    "id": "NfFnbKL6ZghW"
   },
   "outputs": [],
   "source": [
    "\"\"\"\n",
    "Hyperparameter optimization of sigma_f and length-scale\n",
    "\n",
    "    loc --> AP locations\n",
    "    mean --> RTT distance observations between APs\n",
    "\"\"\"\n",
    "def gp_fit(loc, mean):\n",
    "    '''\n",
    "    Clear nan values\n",
    "    '''\n",
    "    idx = np.argwhere(np.isnan(mean)).T[0]\n",
    "    loc = np.delete(loc, idx, 0)\n",
    "    mean = np.delete(mean, idx)\n",
    "\n",
    "    gp.fit(loc, mean)\n",
    "\n",
    "    l = gp.kernel_.get_params().get('k2__length_scale')\n",
    "    sigma_f = gp.kernel_.get_params().get('k1__constant_value')\n",
    "    return l, sigma_f"
   ]
  },
  {
   "cell_type": "code",
   "execution_count": 45,
   "id": "c814423a",
   "metadata": {
    "executionInfo": {
     "elapsed": 172301,
     "status": "ok",
     "timestamp": 1639595962841,
     "user": {
      "displayName": "Carlo Gattuso Garrido",
      "photoUrl": "https://lh3.googleusercontent.com/a/default-user=s64",
      "userId": "13655340809366528364"
     },
     "user_tz": -60
    },
    "id": "4hyARn-3ZghX"
   },
   "outputs": [
    {
     "name": "stderr",
     "output_type": "stream",
     "text": [
      "/home/carlo.gattuso/anaconda3/lib/python3.9/site-packages/sklearn/gaussian_process/kernels.py:420: ConvergenceWarning: The optimal value found for dimension 0 of parameter k2__length_scale is close to the specified lower bound 0.001. Decreasing the bound and calling fit again may find a better value.\n",
      "  warnings.warn(\n"
     ]
    }
   ],
   "source": [
    "\"\"\"\n",
    "Gaussian Process Fit using scikit-learn GPR\n",
    "\"\"\"\n",
    "sigma_n = 0.5\n",
    "\n",
    "kernel = ConstantKernel(constant_value=100.0,constant_value_bounds=(1e-3, 1e3)) \\\n",
    "            * RBF(length_scale=10.0, length_scale_bounds=(1e-3, 1e3))\n",
    "\n",
    "gp = GaussianProcessRegressor(kernel=kernel, alpha=sigma_n**2, n_restarts_optimizer=10)\n",
    "\n",
    "hyper_params = np.empty(n_factor, dtype=object)\n",
    "for k, obs in enumerate(ap_obs):\n",
    "  sp = obs.shape[3]\n",
    "  aux = np.array([np.array([np.array([gp_fit(L_ap, obs[k,:,j,i]) \n",
    "                        for (i) in np.linspace(0, sp - 1, sp).astype(int)]) \n",
    "                        for (j) in np.linspace(0, n_ap - 1, n_ap).astype(int)])\n",
    "                        for (k) in np.linspace(0, n_samples - 1, n_samples).astype(int)])\n",
    "  hyper_params[k] = aux"
   ]
  },
  {
   "cell_type": "markdown",
   "id": "78dd47ed",
   "metadata": {
    "id": "U3EuRrCyQqfN"
   },
   "source": [
    "## Covariance matrices"
   ]
  },
  {
   "cell_type": "markdown",
   "id": "848f48e9",
   "metadata": {
    "id": "eVeAfSPScLV-"
   },
   "source": [
    "### Covariance matrix computing"
   ]
  },
  {
   "cell_type": "code",
   "execution_count": 46,
   "id": "21321451",
   "metadata": {
    "executionInfo": {
     "elapsed": 43,
     "status": "ok",
     "timestamp": 1639595962842,
     "user": {
      "displayName": "Carlo Gattuso Garrido",
      "photoUrl": "https://lh3.googleusercontent.com/a/default-user=s64",
      "userId": "13655340809366528364"
     },
     "user_tz": -60
    },
    "id": "vtzBj_sYLzo4"
   },
   "outputs": [],
   "source": [
    "def compute_k_matrix(loc, obs, sigma_f=1, l=1):\n",
    "    '''\n",
    "    Clear nan values\n",
    "    '''\n",
    "    idx = np.argwhere(np.isnan(obs)).T[0]\n",
    "    loc = np.delete(loc, idx, 0)\n",
    "\n",
    "    \"\"\"\n",
    "    Compute components of the covariance matrix of the joint distribution.\n",
    "    \n",
    "    We follow the notation:\n",
    "        - K = K(L, L)\n",
    "    \"\"\"\n",
    "    \n",
    "    K = [kernel_function(i, j, sigma_f=sigma_f, l=l) for (i, j) in itertools.product(loc, loc)]\n",
    "    K = np.array(K).reshape(loc.shape[0], loc.shape[0])\n",
    "\n",
    "    return K"
   ]
  },
  {
   "cell_type": "code",
   "execution_count": 47,
   "id": "79389e86",
   "metadata": {
    "executionInfo": {
     "elapsed": 41,
     "status": "ok",
     "timestamp": 1639595962843,
     "user": {
      "displayName": "Carlo Gattuso Garrido",
      "photoUrl": "https://lh3.googleusercontent.com/a/default-user=s64",
      "userId": "13655340809366528364"
     },
     "user_tz": -60
    },
    "id": "shcgqa6-OPV6"
   },
   "outputs": [],
   "source": [
    "def compute_k_star_matrix(loc, ref, obs, sigma_f=1, l=1):\n",
    "    '''\n",
    "    Clear nan values\n",
    "    '''\n",
    "    idx = np.argwhere(np.isnan(obs)).T[0]\n",
    "    loc = np.delete(loc, idx, 0)\n",
    "\n",
    "    \"\"\"\n",
    "    Compute components of the covariance matrix of the joint distribution.\n",
    "    \n",
    "    We follow the notation:\n",
    "        - K_star = K(L^*, L)\n",
    "    \"\"\"\n",
    "    K_star = [kernel_function(i, j, sigma_f=sigma_f, l=l) for (i, j) in itertools.product(ref, loc)]\n",
    "    K_star = np.array(K_star).reshape(ref.shape[0], loc.shape[0])\n",
    "\n",
    "    return K_star"
   ]
  },
  {
   "cell_type": "code",
   "execution_count": 48,
   "id": "5f872597",
   "metadata": {
    "executionInfo": {
     "elapsed": 39,
     "status": "ok",
     "timestamp": 1639595962844,
     "user": {
      "displayName": "Carlo Gattuso Garrido",
      "photoUrl": "https://lh3.googleusercontent.com/a/default-user=s64",
      "userId": "13655340809366528364"
     },
     "user_tz": -60
    },
    "id": "mwvTn7M5PN9v"
   },
   "outputs": [],
   "source": [
    "def compute_k_star2_matrix(ref, sigma_f=1, l=1):\n",
    "    \"\"\"\n",
    "    Compute components of the covariance matrix of the joint distribution.\n",
    "    \n",
    "    We follow the notation:\n",
    "        - K_star2 = K(L^*, L^*)\n",
    "    \"\"\"\n",
    "\n",
    "    K_star2 = [kernel_function(i, j, sigma_f=sigma_f, l=l) for (i, j) in itertools.product(ref, ref)]\n",
    "    K_star2 = np.array(K_star2).reshape(ref.shape[0], ref.shape[0])\n",
    "    \n",
    "    return K_star2"
   ]
  },
  {
   "cell_type": "code",
   "execution_count": 49,
   "id": "25a40209",
   "metadata": {
    "executionInfo": {
     "elapsed": 11336,
     "status": "ok",
     "timestamp": 1639595974143,
     "user": {
      "displayName": "Carlo Gattuso Garrido",
      "photoUrl": "https://lh3.googleusercontent.com/a/default-user=s64",
      "userId": "13655340809366528364"
     },
     "user_tz": -60
    },
    "id": "MIT9uvh7HqaP"
   },
   "outputs": [],
   "source": [
    "\"\"\"\n",
    "Covariance matrices and regressor objects computing:\n",
    "\n",
    "    - Covariance matrices: K, K_star, K_star2\n",
    "\"\"\"\n",
    "\n",
    "k_array = np.empty(n_factor, dtype=object)\n",
    "for l, obs in enumerate(ap_obs):\n",
    "    aux3 = np.empty(n_samples, dtype=object)\n",
    "    for (k) in np.linspace(0, n_samples - 1, n_samples).astype(int):\n",
    "        sp = obs.shape[3]\n",
    "        aux2 = np.empty(sp, dtype=object)\n",
    "        for (i) in np.linspace(0, sp - 1, sp).astype(int):\n",
    "            aux = np.array([compute_k_matrix(L_ap, \n",
    "                                        obs[k,:,j,i],\n",
    "                                        sigma_f=hyper_params[l][k][j,i][1], \n",
    "                                        l=hyper_params[l][k][j,i][0]) \n",
    "                            for (j) in np.linspace(0, n_ap - 1, n_ap).astype(int)], dtype=object)\n",
    "            aux2[i] = aux\n",
    "        aux3[k] = aux2\n",
    "    k_array[l] = aux3\n",
    "\n",
    "k_star2_array = np.empty(n_factor, dtype=object)\n",
    "for l, obs in enumerate(ap_obs):\n",
    "    aux3 = np.empty(n_samples, dtype=object)\n",
    "    for (k) in np.linspace(0, n_samples - 1, n_samples).astype(int):\n",
    "        sp = obs.shape[3]\n",
    "        aux2 = np.empty(sp, dtype=object)\n",
    "        for (i) in np.linspace(0, sp - 1, sp).astype(int):\n",
    "            aux = np.array([compute_k_star2_matrix(L_vrp,\n",
    "                                           sigma_f=hyper_params[l][k][j,i][1], \n",
    "                                           l=hyper_params[l][k][j,i][0]) \n",
    "                    for (j) in np.linspace(0, n_ap - 1, n_ap).astype(int)], dtype=object)\n",
    "            aux2[i] = aux\n",
    "        aux3[k] = aux2\n",
    "    k_star2_array[l] = aux3\n",
    "\n",
    "k_star_array = np.empty(n_factor, dtype=object)\n",
    "for l, obs in enumerate(ap_obs):\n",
    "    aux4 = np.empty(n_samples, dtype=object)\n",
    "    for (k) in np.linspace(0, n_samples - 1, n_samples).astype(int):\n",
    "        sp = obs.shape[3]\n",
    "        aux3 = np.empty(sp, dtype=object)\n",
    "        for (i) in np.linspace(0, sp - 1, sp).astype(int):\n",
    "            aux2 = np.empty(n_ap, dtype=object)\n",
    "            for (j) in np.linspace(0, n_ap - 1, n_ap).astype(int):\n",
    "                aux = compute_k_star_matrix(L_ap,\n",
    "                                            L_vrp,\n",
    "                                            obs[k,:,j,i],\n",
    "                                            sigma_f=hyper_params[l][k][j,i][1], \n",
    "                                            l=hyper_params[l][k][j,i][0])\n",
    "                aux2[j] = aux\n",
    "            aux3[i] = aux2\n",
    "        aux4[k] = aux3\n",
    "    k_star_array[l] = aux4"
   ]
  },
  {
   "cell_type": "markdown",
   "id": "076736e9",
   "metadata": {
    "id": "UBKyxcdDSlwe"
   },
   "source": [
    "# PSFM GPR Interpolation"
   ]
  },
  {
   "cell_type": "markdown",
   "id": "a8cd1166",
   "metadata": {
    "id": "Ge0LR5qPWMVt"
   },
   "source": [
    "## Interpolation Computing"
   ]
  },
  {
   "cell_type": "code",
   "execution_count": 50,
   "id": "b703e74c",
   "metadata": {
    "executionInfo": {
     "elapsed": 20,
     "status": "ok",
     "timestamp": 1639595975682,
     "user": {
      "displayName": "Carlo Gattuso Garrido",
      "photoUrl": "https://lh3.googleusercontent.com/a/default-user=s64",
      "userId": "13655340809366528364"
     },
     "user_tz": -60
    },
    "id": "VI9KlyLuYrMz"
   },
   "outputs": [],
   "source": [
    "def psfm_gpr_mean(m, m_star, d, K, K_star, sigma_n):\n",
    "    '''\n",
    "    Clear nan values\n",
    "    '''\n",
    "    idx = np.argwhere(np.isnan(d)).T[0]\n",
    "    m = np.delete(m, idx)\n",
    "    d = np.delete(d, idx)\n",
    "\n",
    "    \"\"\"Compute gaussian regression parameters.\"\"\"\n",
    "    s_bar_star = (m_star.reshape([m_star.shape[0], 1]) \n",
    "        + np.dot(K_star, np.dot(np.linalg.inv(K + (sigma_n**2)*np.eye(K.shape[0])), d.reshape([d.shape[0], 1]) - m.reshape([m.shape[0], 1]))))\n",
    "    \n",
    "    return s_bar_star.reshape(n_vrp)"
   ]
  },
  {
   "cell_type": "code",
   "execution_count": 51,
   "id": "936b5eff",
   "metadata": {
    "executionInfo": {
     "elapsed": 19,
     "status": "ok",
     "timestamp": 1639595975684,
     "user": {
      "displayName": "Carlo Gattuso Garrido",
      "photoUrl": "https://lh3.googleusercontent.com/a/default-user=s64",
      "userId": "13655340809366528364"
     },
     "user_tz": -60
    },
    "id": "LnYubJuRZ9U2"
   },
   "outputs": [],
   "source": [
    "def zero_mean_gpr_mean(d, K, K_star, sigma_n):\n",
    "    '''\n",
    "    Clear nan values\n",
    "    '''\n",
    "    idx = np.argwhere(np.isnan(d)).T[0]\n",
    "    d = np.delete(d, idx)\n",
    "\n",
    "    \"\"\"Compute gaussian regression parameters.\"\"\"\n",
    "    s_bar_star = np.dot(K_star, np.dot(np.linalg.inv(K + (sigma_n**2)*np.eye(K.shape[0])), d.reshape([d.shape[0], 1])))\n",
    "    \n",
    "    return s_bar_star.reshape(n_vrp)"
   ]
  },
  {
   "cell_type": "code",
   "execution_count": 52,
   "id": "a0cccd2d",
   "metadata": {
    "executionInfo": {
     "elapsed": 22,
     "status": "ok",
     "timestamp": 1639595975689,
     "user": {
      "displayName": "Carlo Gattuso Garrido",
      "photoUrl": "https://lh3.googleusercontent.com/a/default-user=s64",
      "userId": "13655340809366528364"
     },
     "user_tz": -60
    },
    "id": "e0Ik2sWQaMLD"
   },
   "outputs": [],
   "source": [
    "def zero_mean_gpr_cov(K, K_star2, K_star, sigma_n):\n",
    "\n",
    "    \"\"\"Compute gaussian regression parameters.\"\"\"\n",
    "    cov_s_star = K_star2 - np.dot(K_star, np.dot(np.linalg.inv(K + (sigma_n**2)*np.eye(K.shape[0])), K_star.T))\n",
    "    \n",
    "    return cov_s_star"
   ]
  },
  {
   "cell_type": "code",
   "execution_count": 53,
   "id": "8fb55b88",
   "metadata": {
    "executionInfo": {
     "elapsed": 694,
     "status": "ok",
     "timestamp": 1639595976363,
     "user": {
      "displayName": "Carlo Gattuso Garrido",
      "photoUrl": "https://lh3.googleusercontent.com/a/default-user=s64",
      "userId": "13655340809366528364"
     },
     "user_tz": -60
    },
    "id": "2rF2TDRwZgha"
   },
   "outputs": [],
   "source": [
    "\"\"\"\n",
    "Zero-Mean Gaussian Process interpolations\n",
    "\"\"\"\n",
    "mean_array = np.empty(n_factor, dtype=object)\n",
    "for l, obs in enumerate(ap_obs):\n",
    "    aux2 = np.empty(n_samples, dtype=object)\n",
    "    for (k) in np.linspace(0, n_samples - 1, n_samples).astype(int):\n",
    "        sp = obs.shape[3]\n",
    "        aux = np.array([np.array([zero_mean_gpr_mean(obs[k,:,j,i], \n",
    "                                                     k_array[l][k][i][j].astype(float), \n",
    "                                                     k_star_array[l][k][i][j].astype(float), \n",
    "                                                     sigma_n).reshape(n_vrp,1)\n",
    "                                       for (i) in np.linspace(0, sp - 1, sp).astype(int)])\n",
    "                                       for (j) in np.linspace(0, n_ap - 1, n_ap).astype(int)])\n",
    "        aux2[k] = aux\n",
    "    mean_array[l] = aux2\n",
    "\n",
    "var_array = np.empty(n_factor, dtype=object)\n",
    "for l, obs in enumerate(ap_obs):\n",
    "    aux2 = np.empty(n_samples, dtype=object)\n",
    "    for (k) in np.linspace(0, n_samples - 1, n_samples).astype(int):\n",
    "        sp = obs.shape[3]\n",
    "        aux = np.array([np.array([np.diag(zero_mean_gpr_cov(k_array[l][k][i][j].astype(float), \n",
    "                                                            k_star2_array[l][k][i][j].astype(float), \n",
    "                                                            k_star_array[l][k][i][j].astype(float), \n",
    "                                                            sigma_n)).reshape(n_vrp,1)\n",
    "                                        for (i) in np.linspace(0, sp - 1, sp).astype(int)])\n",
    "                                        for (j) in np.linspace(0, n_ap - 1, n_ap).astype(int)])\n",
    "        aux2[k] = aux\n",
    "    var_array[l] = aux2\n",
    "\n",
    "\"\"\"\n",
    "Order 1 PSFM Gaussian Process interpolations\n",
    "\"\"\"\n",
    "mean_psfm_array = np.empty(n_factor, dtype=object)\n",
    "for l, obs in enumerate(ap_obs):\n",
    "    aux2 = np.empty(n_samples, dtype=object)\n",
    "    for (k) in np.linspace(0, n_samples - 1, n_samples).astype(int):\n",
    "        sp = obs.shape[3]\n",
    "        aux = np.array([np.array([psfm_gpr_mean(m_ap_1[l][k][i,j], \n",
    "                                                m_vrp_1[l][k][i,j], \n",
    "                                                obs[k,:,j,i], \n",
    "                                                k_array[l][k][i][j].astype(float), \n",
    "                                                k_star_array[l][k][i][j].astype(float), \n",
    "                                                sigma_n).reshape(n_vrp,1)\n",
    "                                         for (i) in np.linspace(0, sp - 1, sp).astype(int)])\n",
    "                                         for (j) in np.linspace(0, n_ap - 1, n_ap).astype(int)])\n",
    "        aux2[k] = aux\n",
    "    mean_psfm_array[l] = aux2\n",
    "\n",
    "\"\"\"\n",
    "Order 2 PSFM Gaussian Process interpolations\n",
    "\"\"\"\n",
    "mean_psfm2_array = np.empty(n_factor, dtype=object)\n",
    "for l, obs in enumerate(ap_obs):\n",
    "    aux2 = np.empty(n_samples, dtype=object)\n",
    "    for (k) in np.linspace(0, n_samples - 1, n_samples).astype(int):\n",
    "        sp = obs.shape[3]\n",
    "        aux = np.array([np.array([psfm_gpr_mean(m_ap_2[l][k][i,j], \n",
    "                                                m_vrp_2[l][k][i,j], \n",
    "                                                obs[k,:,j,i], \n",
    "                                                k_array[l][k][i][j].astype(float), \n",
    "                                                k_star_array[l][k][i][j].astype(float), \n",
    "                                                sigma_n).reshape(n_vrp,1)\n",
    "                                         for (i) in np.linspace(0, sp - 1, sp).astype(int)])\n",
    "                                         for (j) in np.linspace(0, n_ap - 1, n_ap).astype(int)])\n",
    "        aux2[k]=aux\n",
    "    mean_psfm2_array[l] = aux2"
   ]
  },
  {
   "cell_type": "markdown",
   "id": "94ffec39",
   "metadata": {},
   "source": [
    "# GPR Estimation Error"
   ]
  },
  {
   "cell_type": "code",
   "execution_count": 54,
   "id": "5cb604d6",
   "metadata": {},
   "outputs": [],
   "source": [
    "\"\"\"\n",
    "Zero-Mean GPR vs Validation Measurements:\n",
    "\n",
    "- Ranging System Reported RTT Distance\n",
    "- Zero-Mean GPR Estimated RTT Distance\n",
    "\n",
    "\"\"\"\n",
    "\n",
    "zm_error_vrp = np.empty(n_factor, dtype=object)\n",
    "for l, val in enumerate(mean_array):\n",
    "    aux2 = np.empty(n_samples, dtype=object)\n",
    "    for (k) in np.linspace(0, n_samples - 1, n_samples).astype(int):\n",
    "        aux = np.array([np.array([np.subtract(val[k][i,:,j].flatten(),vrp_test[j,i,:])\n",
    "                    for i in np.linspace(0, n_ap - 1, n_ap).astype(int)])\n",
    "                    for j in np.linspace(0, n_vrp - 1, n_vrp).astype(int)])\n",
    "        aux2[k] = aux\n",
    "    zm_error_vrp[l] = aux2\n",
    "\n",
    "zm_error_ap = np.empty(n_factor, dtype=object)\n",
    "for l, val in enumerate(mean_array):\n",
    "    aux2 = np.empty(n_samples, dtype=object)\n",
    "    for (k) in np.linspace(0, n_samples - 1, n_samples).astype(int):\n",
    "        aux = np.array([np.array([np.subtract(val[k][i,:,j].flatten(),vrp_test[j,i,:])\n",
    "                    for j in np.linspace(0, n_vrp - 1, n_vrp).astype(int)])\n",
    "                    for i in np.linspace(0, n_ap - 1, n_ap).astype(int)])\n",
    "        aux2[k] = aux\n",
    "    zm_error_ap[l] = aux2\n",
    "\n",
    "\"\"\"\n",
    "First Order PSFM-GPR vs Validation Measurements:\n",
    "\n",
    "- Ranging System Reported RTT Distance\n",
    "- First Order PSFM-GPR Estimated RTT Distance\n",
    "\n",
    "\"\"\"\n",
    "\n",
    "psfm_error_vrp = np.empty(n_factor, dtype=object)\n",
    "for l, val in enumerate(mean_psfm_array):\n",
    "    aux2 = np.empty(n_samples, dtype=object)\n",
    "    for (k) in np.linspace(0, n_samples - 1, n_samples).astype(int):\n",
    "        aux = np.array([np.array([np.subtract(val[k][i,:,j].flatten(),vrp_test[j,i,:])\n",
    "                    for i in np.linspace(0, n_ap - 1, n_ap).astype(int)])\n",
    "                    for j in np.linspace(0, n_vrp - 1, n_vrp).astype(int)])\n",
    "        aux2[k] = aux\n",
    "    psfm_error_vrp[l] = aux2\n",
    "\n",
    "psfm_error_ap = np.empty(n_factor, dtype=object)\n",
    "for l, val in enumerate(mean_psfm_array):\n",
    "    aux2 = np.empty(n_samples, dtype=object)\n",
    "    for (k) in np.linspace(0, n_samples - 1, n_samples).astype(int):\n",
    "        aux = np.array([np.array([np.subtract(val[k][i,:,j].flatten(),vrp_test[j,i,:])\n",
    "                    for j in np.linspace(0, n_vrp - 1, n_vrp).astype(int)])\n",
    "                    for i in np.linspace(0, n_ap - 1, n_ap).astype(int)])\n",
    "        aux2[k] = aux\n",
    "    psfm_error_ap[l] = aux2\n",
    "\n",
    "\"\"\"\n",
    "Second Order PSFM-GPR vs Validation Measurements:\n",
    "\n",
    "- Ranging System Reported RTT Distance\n",
    "- Second Order PSFM-GPR Estimated RTT Distance\n",
    "\n",
    "\"\"\"\n",
    "\n",
    "psfm2_error_vrp = np.empty(n_factor, dtype=object)\n",
    "for l, val in enumerate(mean_psfm2_array):\n",
    "    aux2 = np.empty(n_samples, dtype=object)\n",
    "    for (k) in np.linspace(0, n_samples - 1, n_samples).astype(int):\n",
    "        aux = np.array([np.array([np.subtract(val[k][i,:,j].flatten(),vrp_test[j,i,:])\n",
    "                    for i in np.linspace(0, n_ap - 1, n_ap).astype(int)])\n",
    "                    for j in np.linspace(0, n_vrp - 1, n_vrp).astype(int)])\n",
    "        aux2[k] = aux\n",
    "    psfm2_error_vrp[l] = aux2\n",
    "\n",
    "psfm2_error_ap = np.empty(n_factor, dtype=object)\n",
    "for l, val in enumerate(mean_psfm2_array):\n",
    "    aux2 = np.empty(n_samples, dtype=object)\n",
    "    for (k) in np.linspace(0, n_samples - 1, n_samples).astype(int):\n",
    "        aux = np.array([np.array([np.subtract(val[k][i,:,j].flatten(),vrp_test[j,i,:])\n",
    "                    for j in np.linspace(0, n_vrp - 1, n_vrp).astype(int)])\n",
    "                    for i in np.linspace(0, n_ap - 1, n_ap).astype(int)])\n",
    "        aux2[k] = aux\n",
    "    psfm2_error_ap[l] = aux2"
   ]
  },
  {
   "cell_type": "markdown",
   "id": "16a46c4a",
   "metadata": {},
   "source": [
    "# GPR Estimation RMSE Evolution"
   ]
  },
  {
   "cell_type": "markdown",
   "id": "9a57b584",
   "metadata": {},
   "source": [
    "## Zero-Mean GPR"
   ]
  },
  {
   "cell_type": "code",
   "execution_count": 55,
   "id": "a56e2dba",
   "metadata": {},
   "outputs": [],
   "source": [
    "\"\"\"\n",
    "RMSE Evolution\n",
    "\"\"\"\n",
    "rmse_evolution_zm = np.empty(n_factor,dtype=object)\n",
    "for l, exp in enumerate(zm_error_ap):\n",
    "    aux2 = np.empty([n_samples,n_ap])\n",
    "    for k, val in enumerate(exp):\n",
    "        aux = mean_squared_error(val.reshape(n_ap,n_samples*n_vrp), 1)\n",
    "        aux2[k] = aux\n",
    "    rmse_evolution_zm[l] = aux2\n",
    "\n",
    "\"\"\"\n",
    "Evolution Confidence Interval\n",
    "\"\"\"\n",
    "rmse_evo_zm_interval_ap = np.array([np.array([mean_confidence_interval(rmse_evolution_zm[j].T[i]) \n",
    "                                 for i in np.linspace(0, n_ap - 1, n_ap).astype(int)])\n",
    "                                 for j in np.linspace(0, n_factor - 1, n_factor).astype(int)])\n",
    "\n",
    "rmse_evo_zm_interval = np.array([mean_confidence_interval(np.nanmean(rmse_evolution_zm[i],1))\n",
    "                                 for i in np.linspace(0, n_factor - 1, n_factor).astype(int)])"
   ]
  },
  {
   "cell_type": "code",
   "execution_count": 56,
   "id": "03d8cda6",
   "metadata": {},
   "outputs": [
    {
     "data": {
      "image/png": "[encoded data removed]",
      "text/plain": [
       "<Figure size 1440x576 with 2 Axes>"
      ]
     },
     "metadata": {
      "needs_background": "light"
     },
     "output_type": "display_data"
    }
   ],
   "source": [
    "fig, (ax1,ax2) = plt.subplots(1, 2, figsize = (20, 8))\n",
    "\n",
    "ax1.set_ylabel(\"RMSE (meters)\")\n",
    "ax1.set_title(\"Average RMSE by AP\", pad=20)\n",
    "\n",
    "ax1.plot(np.arange(n_factor)+1,rmse_evo_zm_interval_ap.T[0,0], '-.',color='b',linewidth=3,label=\"Google Blue\")\n",
    "\n",
    "ax1.plot(np.arange(n_factor)+1,rmse_evo_zm_interval_ap.T[0,1], '-.',color='g',linewidth=3,label=\"Google Green\")\n",
    "\n",
    "ax1.plot(np.arange(n_factor)+1,rmse_evo_zm_interval_ap.T[0,2], '-.',color='c',linewidth=3,label=\"Linksys 2\")\n",
    "\n",
    "ax1.plot(np.arange(n_factor)+1,rmse_evo_zm_interval_ap.T[0,3], '-.',color='k',linewidth=3,label=\"Google White\")\n",
    "\n",
    "ax1.plot(np.arange(n_factor)+1,rmse_evo_zm_interval_ap.T[0,4], '-.',color='r',linewidth=3,label=\"Google Red\")\n",
    "\n",
    "ax1.set_xlabel(\"Window Size\")\n",
    "\n",
    "ax1.legend(loc='lower right',prop={'size':16})\n",
    "\n",
    "ax2.set_ylabel(\"RMSE (meters)\")\n",
    "ax2.set_title(\"Average RMSE Evolution\", pad=20)\n",
    "\n",
    "ax2.plot(np.arange(n_factor)+1,rmse_evo_zm_interval.T[0],color='orange',linewidth=5,label=\"Average\")\n",
    "\n",
    "ax2.fill_between(\n",
    "    np.arange(n_factor)+1,\n",
    "    rmse_evo_zm_interval.T[1],\n",
    "    rmse_evo_zm_interval.T[2],\n",
    "    alpha=0.3,\n",
    "    label=r\"95% CI\",\n",
    "    color='orange'\n",
    ")\n",
    "\n",
    "ax2.xaxis.set_major_locator(matplotlib.ticker.FixedLocator(np.arange(0,n_factor,7)+1))\n",
    "ax2.legend(loc='upper right',prop={'size':16})\n",
    "\n",
    "plt.show()"
   ]
  },
  {
   "cell_type": "markdown",
   "id": "3c5ae1c6",
   "metadata": {},
   "source": [
    "## First Order PSFM-GPR"
   ]
  },
  {
   "cell_type": "code",
   "execution_count": 57,
   "id": "98dbc861",
   "metadata": {},
   "outputs": [],
   "source": [
    "\"\"\"\n",
    "RMSE Evolution\n",
    "\"\"\"\n",
    "rmse_evolution_psfm = np.empty(n_factor,dtype=object)\n",
    "for l, exp in enumerate(psfm_error_ap):\n",
    "    aux2 = np.empty([n_samples,n_ap])\n",
    "    for k, val in enumerate(exp):\n",
    "        aux = mean_squared_error(val.reshape(n_ap,n_samples*n_vrp), 1)\n",
    "        aux2[k] = aux\n",
    "    rmse_evolution_psfm[l] = aux2\n",
    "\n",
    "\"\"\"\n",
    "Evolution Confidence Interval\n",
    "\"\"\"\n",
    "rmse_evo_psfm_interval_ap = np.array([np.array([mean_confidence_interval(rmse_evolution_psfm[j].T[i],0.99) \n",
    "                                 for i in np.linspace(0, n_ap - 1, n_ap).astype(int)])\n",
    "                                 for j in np.linspace(0, n_factor - 1, n_factor).astype(int)])\n",
    "\n",
    "rmse_evo_psfm_interval = np.array([mean_confidence_interval(np.nanmean(rmse_evolution_psfm[i],1),0.99)\n",
    "                                 for i in np.linspace(0, n_factor - 1, n_factor).astype(int)])"
   ]
  },
  {
   "cell_type": "code",
   "execution_count": 58,
   "id": "82ba7e3a",
   "metadata": {},
   "outputs": [
    {
     "data": {
      "image/png": "[encoded data removed]",
      "text/plain": [
       "<Figure size 1440x576 with 2 Axes>"
      ]
     },
     "metadata": {
      "needs_background": "light"
     },
     "output_type": "display_data"
    }
   ],
   "source": [
    "fig, (ax1,ax2) = plt.subplots(1, 2, figsize = (20, 8))\n",
    "\n",
    "ax1.set_ylabel(\"RMSE (meters)\")\n",
    "ax1.set_title(\"Average RMSE by AP\", pad=20)\n",
    "\n",
    "ax1.plot(np.arange(n_factor)+1,rmse_evo_psfm_interval_ap.T[0,0], '-.',color='b',linewidth=3,label=\"Google Blue\")\n",
    "\n",
    "ax1.plot(np.arange(n_factor)+1,rmse_evo_psfm_interval_ap.T[0,1], '-.',color='g',linewidth=3,label=\"Google Green\")\n",
    "\n",
    "ax1.plot(np.arange(n_factor)+1,rmse_evo_psfm_interval_ap.T[0,2], '-.',color='c',linewidth=3,label=\"Linksys 2\")\n",
    "\n",
    "ax1.plot(np.arange(n_factor)+1,rmse_evo_psfm_interval_ap.T[0,3], '-.',color='k',linewidth=3,label=\"Google White\")\n",
    "\n",
    "ax1.plot(np.arange(n_factor)+1,rmse_evo_psfm_interval_ap.T[0,4], '-.',color='r',linewidth=3,label=\"Google Red\")\n",
    "\n",
    "ax1.set_xlabel(\"Window Size\")\n",
    "\n",
    "ax1.legend(loc='lower right',prop={'size':16})\n",
    "\n",
    "ax2.set_ylabel(\"RMSE (meters)\")\n",
    "ax2.set_title(\"Average RMSE Evolution\", pad=20)\n",
    "\n",
    "ax2.plot(np.arange(50)+1,rmse_evo_psfm_interval.T[0],color='orange',linewidth=5,label=\"Average\")\n",
    "\n",
    "ax2.fill_between(\n",
    "    np.arange(50)+1,\n",
    "    rmse_evo_psfm_interval.T[1].round(3),\n",
    "    rmse_evo_psfm_interval.T[2].round(3),\n",
    "    alpha=0.3,\n",
    "    label=r\"95% CI\",\n",
    "    color='orange'\n",
    ")\n",
    "\n",
    "ax2.xaxis.set_major_locator(matplotlib.ticker.FixedLocator(np.arange(0,n_factor,7)+1))\n",
    "ax2.legend(loc='upper right',prop={'size':16})\n",
    "\n",
    "plt.show()"
   ]
  },
  {
   "cell_type": "code",
   "execution_count": 59,
   "id": "05468d10",
   "metadata": {},
   "outputs": [
    {
     "data": {
      "text/html": [
       "<div>\n",
       "<style scoped>\n",
       "    .dataframe tbody tr th:only-of-type {\n",
       "        vertical-align: middle;\n",
       "    }\n",
       "\n",
       "    .dataframe tbody tr th {\n",
       "        vertical-align: top;\n",
       "    }\n",
       "\n",
       "    .dataframe thead th {\n",
       "        text-align: right;\n",
       "    }\n",
       "</style>\n",
       "<table border=\"1\" class=\"dataframe\">\n",
       "  <thead>\n",
       "    <tr style=\"text-align: right;\">\n",
       "      <th></th>\n",
       "      <th>Google Blue</th>\n",
       "      <th>Google Green</th>\n",
       "      <th>Linksys 2</th>\n",
       "      <th>Google White</th>\n",
       "      <th>Google Red</th>\n",
       "    </tr>\n",
       "  </thead>\n",
       "  <tbody>\n",
       "    <tr>\n",
       "      <th>0</th>\n",
       "      <td>1.326300</td>\n",
       "      <td>1.708085</td>\n",
       "      <td>1.290789</td>\n",
       "      <td>1.553306</td>\n",
       "      <td>0.921025</td>\n",
       "    </tr>\n",
       "    <tr>\n",
       "      <th>1</th>\n",
       "      <td>1.225066</td>\n",
       "      <td>1.573159</td>\n",
       "      <td>1.224681</td>\n",
       "      <td>1.531730</td>\n",
       "      <td>0.840371</td>\n",
       "    </tr>\n",
       "    <tr>\n",
       "      <th>2</th>\n",
       "      <td>1.198661</td>\n",
       "      <td>1.532821</td>\n",
       "      <td>1.211253</td>\n",
       "      <td>1.523649</td>\n",
       "      <td>0.830198</td>\n",
       "    </tr>\n",
       "    <tr>\n",
       "      <th>3</th>\n",
       "      <td>1.188352</td>\n",
       "      <td>1.512154</td>\n",
       "      <td>1.208221</td>\n",
       "      <td>1.514132</td>\n",
       "      <td>0.825354</td>\n",
       "    </tr>\n",
       "    <tr>\n",
       "      <th>4</th>\n",
       "      <td>1.179608</td>\n",
       "      <td>1.497605</td>\n",
       "      <td>1.205611</td>\n",
       "      <td>1.516109</td>\n",
       "      <td>0.822030</td>\n",
       "    </tr>\n",
       "  </tbody>\n",
       "</table>\n",
       "</div>"
      ],
      "text/plain": [
       "   Google Blue  Google Green  Linksys 2  Google White  Google Red\n",
       "0     1.326300      1.708085   1.290789      1.553306    0.921025\n",
       "1     1.225066      1.573159   1.224681      1.531730    0.840371\n",
       "2     1.198661      1.532821   1.211253      1.523649    0.830198\n",
       "3     1.188352      1.512154   1.208221      1.514132    0.825354\n",
       "4     1.179608      1.497605   1.205611      1.516109    0.822030"
      ]
     },
     "execution_count": 59,
     "metadata": {},
     "output_type": "execute_result"
    }
   ],
   "source": [
    "\"\"\"\n",
    "Export results to CSV\n",
    "\"\"\"\n",
    "\n",
    "\"\"\"\n",
    "Average RMSE by AP\n",
    "\"\"\"\n",
    "\n",
    "d = {\n",
    "    'Google Blue': rmse_evo_psfm_interval_ap.T[0,0],\n",
    "    'Google Green': rmse_evo_psfm_interval_ap.T[0,1],\n",
    "    'Linksys 2': rmse_evo_psfm_interval_ap.T[0,2],\n",
    "    'Google White': rmse_evo_psfm_interval_ap.T[0,3],\n",
    "    'Google Red': rmse_evo_psfm_interval_ap.T[0,4]\n",
    "}\n",
    "\n",
    "data = pd.DataFrame(d)\n",
    "data.to_csv(\"average_rmse_by_ap.csv\", index=False, header=False)\n",
    "data.head()"
   ]
  },
  {
   "cell_type": "code",
   "execution_count": 60,
   "id": "587252be",
   "metadata": {},
   "outputs": [
    {
     "data": {
      "text/html": [
       "<div>\n",
       "<style scoped>\n",
       "    .dataframe tbody tr th:only-of-type {\n",
       "        vertical-align: middle;\n",
       "    }\n",
       "\n",
       "    .dataframe tbody tr th {\n",
       "        vertical-align: top;\n",
       "    }\n",
       "\n",
       "    .dataframe thead th {\n",
       "        text-align: right;\n",
       "    }\n",
       "</style>\n",
       "<table border=\"1\" class=\"dataframe\">\n",
       "  <thead>\n",
       "    <tr style=\"text-align: right;\">\n",
       "      <th></th>\n",
       "      <th>Min</th>\n",
       "      <th>Avg</th>\n",
       "      <th>Max</th>\n",
       "    </tr>\n",
       "  </thead>\n",
       "  <tbody>\n",
       "    <tr>\n",
       "      <th>0</th>\n",
       "      <td>1.355332</td>\n",
       "      <td>1.359901</td>\n",
       "      <td>1.364469</td>\n",
       "    </tr>\n",
       "    <tr>\n",
       "      <th>1</th>\n",
       "      <td>1.277110</td>\n",
       "      <td>1.279001</td>\n",
       "      <td>1.280893</td>\n",
       "    </tr>\n",
       "    <tr>\n",
       "      <th>2</th>\n",
       "      <td>1.257475</td>\n",
       "      <td>1.259317</td>\n",
       "      <td>1.261158</td>\n",
       "    </tr>\n",
       "    <tr>\n",
       "      <th>3</th>\n",
       "      <td>1.248257</td>\n",
       "      <td>1.249643</td>\n",
       "      <td>1.251028</td>\n",
       "    </tr>\n",
       "    <tr>\n",
       "      <th>4</th>\n",
       "      <td>1.242924</td>\n",
       "      <td>1.244193</td>\n",
       "      <td>1.245461</td>\n",
       "    </tr>\n",
       "  </tbody>\n",
       "</table>\n",
       "</div>"
      ],
      "text/plain": [
       "        Min       Avg       Max\n",
       "0  1.355332  1.359901  1.364469\n",
       "1  1.277110  1.279001  1.280893\n",
       "2  1.257475  1.259317  1.261158\n",
       "3  1.248257  1.249643  1.251028\n",
       "4  1.242924  1.244193  1.245461"
      ]
     },
     "execution_count": 60,
     "metadata": {},
     "output_type": "execute_result"
    }
   ],
   "source": [
    "\"\"\"\n",
    "Export results to CSV\n",
    "\"\"\"\n",
    "\n",
    "\"\"\"\n",
    "RMSE Evolution\n",
    "\"\"\"\n",
    "\n",
    "d = {\n",
    "    'Min': rmse_evo_psfm_interval.T[1],\n",
    "    'Avg': rmse_evo_psfm_interval.T[0],\n",
    "    'Max': rmse_evo_psfm_interval.T[2]\n",
    "}\n",
    "\n",
    "data = pd.DataFrame(d)\n",
    "data.to_csv(\"average_rmse_evolution.csv\", index=False, header=False)\n",
    "data.head()"
   ]
  },
  {
   "cell_type": "markdown",
   "id": "f0966be1",
   "metadata": {},
   "source": [
    "## Second Order PSFM-GPR RMSE Evolution"
   ]
  },
  {
   "cell_type": "code",
   "execution_count": 61,
   "id": "71853304",
   "metadata": {},
   "outputs": [],
   "source": [
    "\"\"\"\n",
    "RMSE Evolution\n",
    "\"\"\"\n",
    "rmse_evolution_psfm2 = np.empty(n_factor,dtype=object)\n",
    "for l, exp in enumerate(psfm2_error_ap):\n",
    "    aux2 = np.empty([n_samples,n_ap])\n",
    "    for k, val in enumerate(exp):\n",
    "        aux = mean_squared_error(val.reshape(n_ap,n_samples*n_vrp), 1)\n",
    "        aux2[k] = aux\n",
    "    rmse_evolution_psfm2[l] = aux2\n",
    "\n",
    "\"\"\"\n",
    "Evolution Confidence Interval\n",
    "\"\"\"\n",
    "rmse_evo_psfm2_interval_ap = np.array([np.array([mean_confidence_interval(rmse_evolution_psfm2[j].T[i]) \n",
    "                                 for i in np.linspace(0, n_ap - 1, n_ap).astype(int)])\n",
    "                                 for j in np.linspace(0, n_factor - 1, n_factor).astype(int)])\n",
    "\n",
    "rmse_evo_psfm2_interval = np.array([mean_confidence_interval(np.nanmean(rmse_evolution_psfm2[i],1))\n",
    "                                 for i in np.linspace(0, n_factor - 1, n_factor).astype(int)])"
   ]
  },
  {
   "cell_type": "code",
   "execution_count": 62,
   "id": "4106d8ae",
   "metadata": {},
   "outputs": [
    {
     "data": {
      "image/png": "[encoded data removed]",
      "text/plain": [
       "<Figure size 1440x576 with 2 Axes>"
      ]
     },
     "metadata": {
      "needs_background": "light"
     },
     "output_type": "display_data"
    }
   ],
   "source": [
    "fig, (ax1,ax2) = plt.subplots(1, 2, figsize = (20, 8))\n",
    "\n",
    "ax1.set_ylabel(\"RMSE (meters)\")\n",
    "ax1.set_title(\"Average RMSE by AP\", pad=20)\n",
    "\n",
    "ax1.plot(np.arange(n_factor)+1,rmse_evo_psfm2_interval_ap.T[0,0], '-.',color='b',linewidth=3,label=\"Google Blue\")\n",
    "\n",
    "ax1.plot(np.arange(n_factor)+1,rmse_evo_psfm2_interval_ap.T[0,1], '-.',color='g',linewidth=3,label=\"Google Green\")\n",
    "\n",
    "ax1.plot(np.arange(n_factor)+1,rmse_evo_psfm2_interval_ap.T[0,2], '-.',color='c',linewidth=3,label=\"Linksys 2\")\n",
    "\n",
    "ax1.plot(np.arange(n_factor)+1,rmse_evo_psfm2_interval_ap.T[0,3], '-.',color='k',linewidth=3,label=\"Google White\")\n",
    "\n",
    "ax1.plot(np.arange(n_factor)+1,rmse_evo_psfm2_interval_ap.T[0,4], '-.',color='r',linewidth=3,label=\"Google Red\")\n",
    "\n",
    "ax1.set_xlabel(\"Window Size\")\n",
    "\n",
    "ax1.legend(loc='lower right',prop={'size':16})\n",
    "\n",
    "ax2.set_ylabel(\"RMSE (meters)\")\n",
    "ax2.set_title(\"Average RMSE Evolution\", pad=20)\n",
    "\n",
    "ax2.plot(np.arange(n_factor)+1,rmse_evo_psfm2_interval.T[0],color='orange',linewidth=5,label=\"Average\")\n",
    "\n",
    "ax2.fill_between(\n",
    "    np.arange(n_factor)+1,\n",
    "    rmse_evo_psfm2_interval.T[1],\n",
    "    rmse_evo_psfm2_interval.T[2],\n",
    "    alpha=0.3,\n",
    "    label=r\"95% CI\",\n",
    "    color='orange'\n",
    ")\n",
    "\n",
    "ax2.xaxis.set_major_locator(matplotlib.ticker.FixedLocator(np.arange(0,n_factor,7)+1))\n",
    "ax2.legend(loc='upper right',prop={'size':16})\n",
    "\n",
    "plt.show()"
   ]
  }
 ],
 "metadata": {
  "kernelspec": {
   "display_name": "Python 3 (ipykernel)",
   "language": "python",
   "name": "python3"
  },
  "language_info": {
   "codemirror_mode": {
    "name": "ipython",
    "version": 3
   },
   "file_extension": ".py",
   "mimetype": "text/x-python",
   "name": "python",
   "nbconvert_exporter": "python",
   "pygments_lexer": "ipython3",
   "version": "3.9.7"
  }
 },
 "nbformat": 4,
 "nbformat_minor": 5
}
