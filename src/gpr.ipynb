{
 "metadata": {
  "language_info": {
   "codemirror_mode": {
    "name": "ipython",
    "version": 3
   },
   "file_extension": ".py",
   "mimetype": "text/x-python",
   "name": "python",
   "nbconvert_exporter": "python",
   "pygments_lexer": "ipython3",
   "version": "3.8.5"
  },
  "orig_nbformat": 2,
  "kernelspec": {
   "name": "python3",
   "display_name": "Python 3",
   "language": "python"
  }
 },
 "nbformat": 4,
 "nbformat_minor": 2,
 "cells": [
  {
   "cell_type": "code",
   "execution_count": 2,
   "metadata": {},
   "outputs": [],
   "source": [
    "################ Library imports ################\n",
    "import numpy as np\n",
    "import math as math\n",
    "\n",
    "from matplotlib import pyplot as plt\n",
    "\n",
    "from sklearn.gaussian_process import GaussianProcessRegressor\n",
    "from sklearn.gaussian_process.kernels import RBF, ConstantKernel, WhiteKernel"
   ]
  },
  {
   "cell_type": "code",
   "execution_count": 3,
   "metadata": {},
   "outputs": [],
   "source": [
    "# ----------------------------------------------------------------------\n",
    "#  AP locations\n",
    "L_ap = np.array([[0, 0], [0, 2], [2, 0], [2, 2]])\n",
    "\n",
    "# ----------------------------------------------------------------------\n",
    "#  VRP locations\n",
    "L_vrp = np.array([[1, 0], [0, 1], [1, 1], [1, 2], [2, 1]])\n",
    "\n",
    "# ----------------------------------------------------------------------\n",
    "#  RTT distance observations\n",
    "d_RTT = np.array([0, 2, 2, math.sqrt(8)])"
   ]
  },
  {
   "cell_type": "code",
   "execution_count": 4,
   "metadata": {},
   "outputs": [],
   "source": [
    "\"\"\"\n",
    "Gaussian Process Kernel definition\n",
    "\n",
    "Kernel parameters:\n",
    "    - L --> Length Scale\n",
    "    - sigma_f --> Constant Kernel Amplitude\n",
    "\"\"\"\n",
    "\n",
    "l = 0.1\n",
    "sigma_f = 2\n",
    "\n",
    "kernel = ConstantKernel(constant_value=sigma_f,constant_value_bounds=(1e-3, 1e3)) \\\n",
    "            * RBF(length_scale=l, length_scale_bounds=(1e-3, 1e3))  "
   ]
  },
  {
   "cell_type": "code",
   "execution_count": 5,
   "metadata": {},
   "outputs": [],
   "source": [
    "\"\"\"\n",
    "Gaussian Process Regressor definition\n",
    "\n",
    "- sigma_n --> Training Noise Variance\n",
    "\"\"\"\n",
    "\n",
    "# Error standard deviation. \n",
    "sigma_n = 0.4\n",
    "\n",
    "gp = GaussianProcessRegressor(kernel=kernel, alpha=sigma_n**2, n_restarts_optimizer=10)"
   ]
  },
  {
   "cell_type": "code",
   "execution_count": 6,
   "metadata": {},
   "outputs": [
    {
     "output_type": "execute_result",
     "data": {
      "text/plain": [
       "GaussianProcessRegressor(alpha=0.16000000000000003,\n",
       "                         kernel=1.41**2 * RBF(length_scale=0.1),\n",
       "                         n_restarts_optimizer=10)"
      ]
     },
     "metadata": {},
     "execution_count": 6
    }
   ],
   "source": [
    "\"\"\"\n",
    "Model Fitting with AP location and RTT distance observations\n",
    "using Maximum Likelihood Estimation of the parameters.\n",
    "\"\"\"\n",
    "\n",
    "gp.fit(L_ap, d_RTT)"
   ]
  },
  {
   "cell_type": "code",
   "execution_count": 9,
   "metadata": {},
   "outputs": [],
   "source": [
    "\"\"\"\n",
    "Prediction of the VRPs around the scenario\n",
    "\"\"\"\n",
    "d_RTT_pred, d_RTT_err = gp.predict(L_vrp, return_std=True)"
   ]
  }
 ]
}