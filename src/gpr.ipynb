{
 "metadata": {
  "language_info": {
   "codemirror_mode": {
    "name": "ipython",
    "version": 3
   },
   "file_extension": ".py",
   "mimetype": "text/x-python",
   "name": "python",
   "nbconvert_exporter": "python",
   "pygments_lexer": "ipython3",
   "version": "3.8.5"
  },
  "orig_nbformat": 2,
  "kernelspec": {
   "name": "python385jvsc74a57bd0f98536cc3956597c064b43c1952e16cffec84e1e93d3fbaf24310225b0d26010",
   "display_name": "Python 3.8.5 64-bit ('base': conda)"
  }
 },
 "nbformat": 4,
 "nbformat_minor": 2,
 "cells": [
  {
   "cell_type": "code",
   "execution_count": 19,
   "metadata": {},
   "outputs": [],
   "source": [
    "################ Library imports ################\n",
    "import numpy as np\n",
    "import math as math\n",
    "import matplotlib.pyplot as plt\n",
    "import pandas as pd\n",
    "import glob\n",
    "\n",
    "from matplotlib import pyplot as plt\n",
    "\n",
    "from sklearn.gaussian_process import GaussianProcessRegressor\n",
    "from sklearn.gaussian_process.kernels import RBF, ConstantKernel, WhiteKernel\n",
    "\n",
    "from sklearn.metrics import mean_squared_error, mean_absolute_error\n",
    "\n",
    "from scipy.optimize import curve_fit"
   ]
  },
  {
   "cell_type": "code",
   "execution_count": 20,
   "metadata": {},
   "outputs": [],
   "source": [
    "\"\"\"\n",
    "File reading\n",
    "\"\"\"\n",
    "path = '/Users/carlogattuso/Desktop/TFG/Google - Orientacion vertical' # use your path\n",
    "all_files = glob.glob(path + \"/*.csv\")\n",
    "\n",
    "li = []\n",
    "\n",
    "for filename in all_files:\n",
    "    df = pd.read_csv(filename, index_col = None, sep = \",\", header = None)\n",
    "    li.append(df)\n",
    "\n",
    "frame = pd.concat(li, axis=0, ignore_index=True)"
   ]
  },
  {
   "cell_type": "code",
   "execution_count": 21,
   "metadata": {},
   "outputs": [],
   "source": [
    "# ----------------------------------------------------------------------\n",
    "#  AP locations\n",
    "L_ap = np.array([[0, 0], [0, 2], [2, 0], [2, 2]])\n",
    "\n",
    "# ----------------------------------------------------------------------\n",
    "#  VRP locations\n",
    "L_vrp = np.array([[1, 0], [0, 1], [1, 1], [1, 2], [2, 1]])\n",
    "\n",
    "# ----------------------------------------------------------------------\n",
    "#  RTT distance observations\n",
    "d_RTT = np.array([0, 2, 2, math.sqrt(8)])"
   ]
  },
  {
   "cell_type": "code",
   "execution_count": 22,
   "metadata": {},
   "outputs": [],
   "source": [
    "\"\"\"\n",
    "Two states model: Least Squares\n",
    "m1 --> first slope\n",
    "n1 --> first ordinate\n",
    "m2 --> second slope\n",
    "n2 --> second ordinate\n",
    "x --> data\n",
    "\"\"\"\n",
    "def two_lin(x, m1, n1, m2, n2):\n",
    "    return np.min([m1 * x + n1, m2 * x + n2], axis = 0)"
   ]
  },
  {
   "cell_type": "code",
   "execution_count": 23,
   "metadata": {},
   "outputs": [],
   "source": [
    "\"\"\"\n",
    "Array definition and curve fitting\n",
    "\"\"\"\n",
    "real_distance = np.array(frame.loc[:, 1])\n",
    "estimated_distance = np.array(frame.loc[:, 2])\n",
    "#x = np.array([0, 1, 2,  3,  4,  5,  6,  7,  8,  9,  10])\n",
    "#y = np.array([2, 4, 8, 12, 14, 18, 20, 21, 22, 23,  24])\n",
    "\n",
    "\"\"\"\n",
    "Initial values\n",
    "\"\"\"\n",
    "start_values = [3, 0, 0, 10]\n",
    "fit_param, pcov = curve_fit(two_lin, real_distance, estimated_distance, p0 = start_values)"
   ]
  },
  {
   "cell_type": "code",
   "execution_count": 24,
   "metadata": {},
   "outputs": [
    {
     "output_type": "stream",
     "name": "stdout",
     "text": [
      "Values:  1.6260619505325347 -3.0670180013313364 0.9789604129755792 -0.33674919534231956\n"
     ]
    }
   ],
   "source": [
    "\"\"\"\n",
    "Output values for slopes/ordinates\n",
    "\"\"\"\n",
    "m1, n1, m2, n2 = fit_param\n",
    "print(\"Values: \", m1, n1, m2, n2)"
   ]
  },
  {
   "cell_type": "code",
   "execution_count": 25,
   "metadata": {},
   "outputs": [],
   "source": [
    "\"\"\"\n",
    "Gaussian Process Kernel definition\n",
    "\n",
    "Kernel parameters:\n",
    "    - L --> Length Scale\n",
    "    - sigma_f --> Constant Kernel Amplitude\n",
    "\"\"\"\n",
    "\n",
    "l = 2.47\n",
    "sigma_f = 4\n",
    "\n",
    "kernel = ConstantKernel(constant_value=sigma_f,constant_value_bounds=(1e-3, 1e3)) \\\n",
    "            * RBF(length_scale=l, length_scale_bounds=(1e-3, 1e3))  "
   ]
  },
  {
   "cell_type": "code",
   "execution_count": 26,
   "metadata": {},
   "outputs": [],
   "source": [
    "\"\"\"\n",
    "Gaussian Process Regressor definition\n",
    "\n",
    "- sigma_n --> Training Noise Variance\n",
    "\"\"\"\n",
    "\n",
    "# Error standard deviation. \n",
    "sigma_n = 0.2\n",
    "\n",
    "gp = GaussianProcessRegressor(kernel=kernel, alpha=sigma_n**2, n_restarts_optimizer=0)"
   ]
  },
  {
   "cell_type": "code",
   "execution_count": 27,
   "metadata": {},
   "outputs": [
    {
     "output_type": "execute_result",
     "data": {
      "text/plain": [
       "GaussianProcessRegressor(alpha=0.04000000000000001,\n",
       "                         kernel=2**2 * RBF(length_scale=2.47))"
      ]
     },
     "metadata": {},
     "execution_count": 27
    }
   ],
   "source": [
    "\"\"\"\n",
    "Model Fitting with AP location and RTT distance observations\n",
    "using Maximum Likelihood Estimation of the parameters.\n",
    "\"\"\"\n",
    "\n",
    "gp.fit(L_ap, d_RTT)"
   ]
  },
  {
   "cell_type": "code",
   "execution_count": 28,
   "metadata": {},
   "outputs": [
    {
     "output_type": "stream",
     "name": "stdout",
     "text": [
      "[1.08011434 1.08011434 1.950846   2.56356667 2.56356667]\n[0.27477844 0.27477844 0.34364477 0.27477844 0.27477844]\n"
     ]
    }
   ],
   "source": [
    "\"\"\"\n",
    "Prediction of the VRPs around the scenario\n",
    "\"\"\"\n",
    "d_RTT_pred, d_RTT_err = gp.predict(L_vrp, return_std=True)\n",
    "\n",
    "print(d_RTT_pred)\n",
    "print(d_RTT_err)"
   ]
  },
  {
   "cell_type": "code",
   "execution_count": 29,
   "metadata": {},
   "outputs": [
    {
     "output_type": "execute_result",
     "data": {
      "text/plain": [
       "{'k1': 2**2,\n",
       " 'k2': RBF(length_scale=2.47),\n",
       " 'k1__constant_value': 4.001438373410803,\n",
       " 'k1__constant_value_bounds': (0.001, 1000.0),\n",
       " 'k2__length_scale': 2.4737043968015033,\n",
       " 'k2__length_scale_bounds': (0.001, 1000.0)}"
      ]
     },
     "metadata": {},
     "execution_count": 29
    }
   ],
   "source": [
    "\"\"\"\n",
    "Optimized parameters of the Kernel\n",
    "\"\"\"\n",
    "gp.kernel_.get_params()"
   ]
  },
  {
   "cell_type": "code",
   "execution_count": 30,
   "metadata": {},
   "outputs": [
    {
     "output_type": "execute_result",
     "data": {
      "text/plain": [
       "-7.062481224144337"
      ]
     },
     "metadata": {},
     "execution_count": 30
    }
   ],
   "source": [
    "\"\"\"\n",
    "Log Marginal Likelihood of the obtained parameters\n",
    "\"\"\"\n",
    "gp.log_marginal_likelihood()"
   ]
  },
  {
   "cell_type": "code",
   "execution_count": 31,
   "metadata": {},
   "outputs": [
    {
     "output_type": "stream",
     "name": "stdout",
     "text": [
      "MSE:  0.10306435508421416\nME:  0.27037170221778745\nSTD:  0.17309967569025148\n"
     ]
    }
   ],
   "source": [
    "\"\"\"\n",
    "Mean squared error and variance of the prediction\n",
    "\"\"\"\n",
    "d_RTT_true = np.array([1, 1, math.sqrt(2), math.sqrt(5), math.sqrt(5)])\n",
    "print(\"MSE: \", mean_squared_error(d_RTT_true, d_RTT_pred))\n",
    "print(\"ME: \" , mean_absolute_error(d_RTT_true, d_RTT_pred))\n",
    "print(\"STD: \" , np.std(d_RTT_true-d_RTT_pred))"
   ]
  }
 ]
}